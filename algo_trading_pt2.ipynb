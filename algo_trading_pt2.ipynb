{
 "cells": [
  {
   "cell_type": "code",
   "execution_count": 1,
   "metadata": {},
   "outputs": [],
   "source": [
    "companies = ['GE', 'F', 'AMD', 'FIT', 'GPRO', 'SNAP', 'CRON', 'CHK', 'SIRI', 'XXII', 'ZNGA', 'S', 'GRPN', 'RAD',\n",
    "             'PLUG', 'HMNY', 'NVAX', 'INSY', 'UAA', 'APRN', 'GLUU', 'TRXC', 'AUY', 'BOTZ', 'GERN', 'BILI', 'JCP',\n",
    "            'CARA', 'VSLR', 'P', 'TEVA', 'RUN', 'UA', 'NOK', 'SPWR', 'CY']"
   ]
  },
  {
   "cell_type": "code",
   "execution_count": 8,
   "metadata": {},
   "outputs": [],
   "source": [
    "from __future__ import (absolute_import, division, print_function,\n",
    "                        unicode_literals)\n",
    "\n",
    "# Import the backtrader platform\n",
    "import backtrader as bt\n",
    "\n",
    "import pandas as pd\n",
    "from pandas_datareader import data, wb\n",
    "import datetime as dt\n",
    "from fbprophet import Prophet\n",
    "import matplotlib.dates as mdates\n",
    "import matplotlib.pyplot as plt"
   ]
  },
  {
   "cell_type": "code",
   "execution_count": 131,
   "metadata": {},
   "outputs": [],
   "source": [
    "class TestStrategy(bt.Strategy):\n",
    "    params = (\n",
    "        ('maperiod', 15),\n",
    "    )\n",
    "\n",
    "    def log(self, txt, dt=None):\n",
    "        ''' Logging function fot this strategy'''\n",
    "        dt = dt or self.datas[0].datetime.date(0)\n",
    "        print('%s, %s' % (dt.isoformat(), txt))\n",
    "\n",
    "    def __init__(self):\n",
    "        # keep array of dates and closes\n",
    "        self.date_array = []\n",
    "        self.close_array = []\n",
    "\n",
    "        # To keep track of pending orders and buy price/commission\n",
    "        self.order = None\n",
    "        self.buyprice = None\n",
    "        self.buycomm = None\n",
    "\n",
    "        # Add a MovingAverageSimple indicator\n",
    "        #self.sma = bt.indicators.SimpleMovingAverage(\n",
    "        #    self.datas[0], period=self.params.maperiod)\n",
    "\n",
    "    def notify_order(self, order):\n",
    "        if order.status in [order.Submitted, order.Accepted]:\n",
    "            # Buy/Sell order submitted/accepted to/by broker - Nothing to do\n",
    "            return\n",
    "\n",
    "        # Check if an order has been completed\n",
    "        # Attention: broker could reject order if not enough cash\n",
    "        if order.status in [order.Completed]:\n",
    "            if order.isbuy():\n",
    "                self.log(\n",
    "                    'BUY EXECUTED, Price: %.2f, Cost: %.2f, Comm %.2f' %\n",
    "                    (order.executed.price,\n",
    "                     order.executed.value,\n",
    "                     order.executed.comm))\n",
    "\n",
    "                self.buyprice = order.executed.price\n",
    "                self.buycomm = order.executed.comm\n",
    "            else:  # Sell\n",
    "                self.log('SELL EXECUTED, Price: %.2f, Cost: %.2f, Comm %.2f' %\n",
    "                         (order.executed.price,\n",
    "                          order.executed.value,\n",
    "                          order.executed.comm))\n",
    "\n",
    "            self.bar_executed = len(self)\n",
    "\n",
    "        elif order.status in [order.Canceled, order.Margin, order.Rejected]:\n",
    "            self.log('Order Canceled/Margin/Rejected')\n",
    "\n",
    "        self.order = None\n",
    "\n",
    "    def notify_trade(self, trade):\n",
    "        if not trade.isclosed:\n",
    "            return\n",
    "\n",
    "        self.log('OPERATION PROFIT, GROSS %.2f, NET %.2f' %\n",
    "                 (trade.pnl, trade.pnlcomm))\n",
    "\n",
    "    def next(self):\n",
    "        # Simply log the closing price of the series from the reference\n",
    "        self.log('Close, %.2f' % self.datas[0].close[0])\n",
    "        \n",
    "        # append date and close to arrays\n",
    "        self.date_array.append(self.datas[0].datetime.date(0))\n",
    "        self.close_array.append(self.datas[0].close[0])\n",
    "        \n",
    "        # Check if an order is pending ... if yes, we cannot send a 2nd one\n",
    "        if self.order:\n",
    "            return\n",
    "        \n",
    "        # make sure we have a decent amount of data\n",
    "        if len(self.date_array) < 90:\n",
    "            return\n",
    "        \n",
    "        # only invest once a week\n",
    "        if len(self.date_array) % 5 != 0:\n",
    "            return\n",
    "        \n",
    "        # get predictions\n",
    "        max_move, expected_move, min_move = self.get_prophet_moves(7, False)\n",
    "        \n",
    "        if max_move > 0 and abs(max_move) > abs(min_move): # buy\n",
    "            # BUY, BUY, BUY!!! (with default parameters)\n",
    "            self.log('BUY CREATE, %.2f' % self.datas[0].close[0])\n",
    "\n",
    "            # Keep track of the created order to avoid a 2nd order\n",
    "            self.order = self.buy()\n",
    "        elif min_move < 0 and abs(min_move) > abs(max_move): # sell\n",
    "            if self.position:\n",
    "                # SELL, SELL, SELL!!! (with all possible default parameters)\n",
    "                self.log('SELL CREATE, %.2f' % self.datas[0].close[0])\n",
    "\n",
    "                # Keep track of the created order to avoid a 2nd order\n",
    "                self.order = self.sell()\n",
    "                \n",
    "    def get_prophet_moves(self, daysOut=7, showCharts=False):\n",
    "        # create stock dataframe for prophet\n",
    "        stock_df = pd.DataFrame({\n",
    "            'ds': self.date_array,\n",
    "            'y': self.close_array\n",
    "        })\n",
    "\n",
    "        # fit data using prophet model\n",
    "        m = Prophet()\n",
    "        m.fit(stock_df)\n",
    "\n",
    "        # create future dates\n",
    "        future_prices = m.make_future_dataframe(periods=365)\n",
    "\n",
    "        # predict prices\n",
    "        forecast = m.predict(future_prices)\n",
    "\n",
    "        # view results\n",
    "        if showCharts:\n",
    "            fig = m.plot(forecast)\n",
    "            ax1 = fig.add_subplot(111)\n",
    "            ax1.set_title(\"Stock Price Forecast\", fontsize=16)\n",
    "            ax1.set_xlabel(\"Date\", fontsize=12)\n",
    "            ax1.set_ylabel(\"Close Price\", fontsize=12)\n",
    "\n",
    "            fig2 = m.plot_components(forecast)\n",
    "            plt.show()\n",
    "\n",
    "        # calculate predicted returns\n",
    "        end_of_period = self.datas[0].datetime.date(0) + dt.timedelta(days=daysOut)\n",
    "\n",
    "        future_close_max = forecast.loc[forecast.ds > end_of_period].iloc[0].yhat_upper\n",
    "        future_close_expected = forecast.loc[forecast.ds > end_of_period].iloc[0].yhat\n",
    "        future_close_min = forecast.loc[forecast.ds > end_of_period].iloc[0].yhat_lower\n",
    "\n",
    "        # calculate percent changes based on predictions\n",
    "        max_move = (future_close_max - self.datas[0].close[0])/self.datas[0].close[0]\n",
    "        expected_move = (future_close_expected - self.datas[0].close[0])/self.datas[0].close[0]\n",
    "        min_move = (future_close_min - self.datas[0].close[0])/self.datas[0].close[0]\n",
    "\n",
    "        return (max_move, expected_move, min_move)"
   ]
  },
  {
   "cell_type": "code",
   "execution_count": 132,
   "metadata": {},
   "outputs": [
    {
     "name": "stdout",
     "output_type": "stream",
     "text": [
      "Starting Portfolio Value: 10000.00\n"
     ]
    },
    {
     "name": "stderr",
     "output_type": "stream",
     "text": [
      "INFO:fbprophet.forecaster:Disabling yearly seasonality. Run prophet with yearly_seasonality=True to override this.\n",
      "INFO:fbprophet.forecaster:Disabling daily seasonality. Run prophet with daily_seasonality=True to override this.\n"
     ]
    },
    {
     "name": "stdout",
     "output_type": "stream",
     "text": [
      "2000-01-03, Close, 27.64\n",
      "2000-01-04, Close, 26.53\n",
      "2000-01-05, Close, 26.49\n",
      "2000-01-06, Close, 26.84\n",
      "2000-01-07, Close, 27.88\n",
      "2000-01-10, Close, 27.87\n",
      "2000-01-11, Close, 27.92\n",
      "2000-01-12, Close, 28.01\n",
      "2000-01-13, Close, 28.33\n",
      "2000-01-14, Close, 27.82\n",
      "2000-01-18, Close, 27.27\n",
      "2000-01-19, Close, 27.40\n",
      "2000-01-20, Close, 26.89\n",
      "2000-01-21, Close, 26.56\n",
      "2000-01-24, Close, 25.45\n",
      "2000-01-25, Close, 25.52\n",
      "2000-01-26, Close, 26.06\n",
      "2000-01-27, Close, 26.12\n",
      "2000-01-28, Close, 24.69\n",
      "2000-01-31, Close, 24.69\n",
      "2000-02-01, Close, 25.06\n",
      "2000-02-02, Close, 24.70\n",
      "2000-02-03, Close, 25.66\n",
      "2000-02-04, Close, 26.08\n",
      "2000-02-07, Close, 25.15\n",
      "2000-02-08, Close, 25.26\n",
      "2000-02-09, Close, 24.70\n",
      "2000-02-10, Close, 24.96\n",
      "2000-02-11, Close, 24.65\n",
      "2000-02-14, Close, 24.76\n",
      "2000-02-15, Close, 25.34\n",
      "2000-02-16, Close, 25.00\n",
      "2000-02-17, Close, 24.14\n",
      "2000-02-18, Close, 23.06\n",
      "2000-02-22, Close, 23.89\n",
      "2000-02-23, Close, 24.05\n",
      "2000-02-24, Close, 24.14\n",
      "2000-02-25, Close, 23.24\n",
      "2000-02-28, Close, 23.85\n",
      "2000-02-29, Close, 24.39\n",
      "2000-03-01, Close, 24.21\n",
      "2000-03-02, Close, 24.92\n",
      "2000-03-03, Close, 25.68\n",
      "2000-03-06, Close, 25.55\n",
      "2000-03-07, Close, 24.16\n",
      "2000-03-08, Close, 24.23\n",
      "2000-03-09, Close, 23.98\n",
      "2000-03-10, Close, 24.48\n",
      "2000-03-13, Close, 24.06\n",
      "2000-03-14, Close, 23.61\n",
      "2000-03-15, Close, 24.83\n",
      "2000-03-16, Close, 25.84\n",
      "2000-03-17, Close, 26.00\n",
      "2000-03-20, Close, 26.20\n",
      "2000-03-21, Close, 27.98\n",
      "2000-03-22, Close, 28.05\n",
      "2000-03-23, Close, 29.74\n",
      "2000-03-24, Close, 29.57\n",
      "2000-03-27, Close, 29.36\n",
      "2000-03-28, Close, 29.00\n",
      "2000-03-29, Close, 30.30\n",
      "2000-03-30, Close, 29.51\n",
      "2000-03-31, Close, 28.93\n",
      "2000-04-03, Close, 29.93\n",
      "2000-04-04, Close, 28.63\n",
      "2000-04-05, Close, 28.50\n",
      "2000-04-06, Close, 29.16\n",
      "2000-04-07, Close, 29.52\n",
      "2000-04-10, Close, 29.64\n",
      "2000-04-11, Close, 30.05\n",
      "2000-04-12, Close, 29.14\n",
      "2000-04-13, Close, 27.98\n",
      "2000-04-14, Close, 27.10\n",
      "2000-04-17, Close, 28.26\n",
      "2000-04-18, Close, 29.09\n",
      "2000-04-19, Close, 28.91\n",
      "2000-04-20, Close, 29.47\n",
      "2000-04-24, Close, 30.13\n",
      "2000-04-25, Close, 30.86\n",
      "2000-04-26, Close, 30.35\n",
      "2000-04-27, Close, 30.02\n",
      "2000-04-28, Close, 29.23\n",
      "2000-05-01, Close, 29.63\n",
      "2000-05-02, Close, 29.94\n",
      "2000-05-03, Close, 29.01\n",
      "2000-05-04, Close, 28.63\n",
      "2000-05-05, Close, 29.37\n",
      "2000-05-08, Close, 29.25\n",
      "2000-05-09, Close, 29.07\n",
      "2000-05-10, Close, 28.23\n"
     ]
    },
    {
     "name": "stderr",
     "output_type": "stream",
     "text": [
      "/home/sean/.virtualenvs/ml/lib/python3.6/site-packages/pystan/misc.py:399: FutureWarning: Conversion of the second argument of issubdtype from `float` to `np.floating` is deprecated. In future, it will be treated as `np.float64 == np.dtype(float).type`.\n",
      "  elif np.issubdtype(np.asarray(v).dtype, float):\n",
      "INFO:fbprophet.forecaster:Disabling yearly seasonality. Run prophet with yearly_seasonality=True to override this.\n",
      "INFO:fbprophet.forecaster:Disabling daily seasonality. Run prophet with daily_seasonality=True to override this.\n"
     ]
    },
    {
     "name": "stdout",
     "output_type": "stream",
     "text": [
      "2000-05-10, BUY CREATE, 28.23\n",
      "2000-05-11, BUY EXECUTED, Price: 51.50, Cost: 51.50, Comm 0.00\n",
      "2000-05-11, Close, 28.41\n",
      "2000-05-12, Close, 29.14\n",
      "2000-05-15, Close, 30.12\n",
      "2000-05-16, Close, 30.26\n",
      "2000-05-17, Close, 29.91\n"
     ]
    },
    {
     "name": "stderr",
     "output_type": "stream",
     "text": [
      "INFO:fbprophet.forecaster:Disabling yearly seasonality. Run prophet with yearly_seasonality=True to override this.\n",
      "INFO:fbprophet.forecaster:Disabling daily seasonality. Run prophet with daily_seasonality=True to override this.\n"
     ]
    },
    {
     "name": "stdout",
     "output_type": "stream",
     "text": [
      "2000-05-17, BUY CREATE, 29.91\n",
      "2000-05-18, BUY EXECUTED, Price: 53.50, Cost: 53.50, Comm 0.00\n",
      "2000-05-18, Close, 29.63\n",
      "2000-05-19, Close, 28.93\n",
      "2000-05-22, Close, 27.89\n",
      "2000-05-23, Close, 27.89\n",
      "2000-05-24, Close, 28.30\n"
     ]
    },
    {
     "name": "stderr",
     "output_type": "stream",
     "text": [
      "INFO:fbprophet.forecaster:Disabling yearly seasonality. Run prophet with yearly_seasonality=True to override this.\n",
      "INFO:fbprophet.forecaster:Disabling daily seasonality. Run prophet with daily_seasonality=True to override this.\n"
     ]
    },
    {
     "name": "stdout",
     "output_type": "stream",
     "text": [
      "2000-05-24, BUY CREATE, 28.30\n",
      "2000-05-25, BUY EXECUTED, Price: 50.75, Cost: 50.75, Comm 0.00\n",
      "2000-05-25, Close, 28.30\n",
      "2000-05-26, Close, 27.64\n",
      "2000-05-30, Close, 28.58\n",
      "2000-05-31, Close, 29.35\n",
      "2000-06-01, Close, 29.21\n"
     ]
    },
    {
     "name": "stderr",
     "output_type": "stream",
     "text": [
      "INFO:fbprophet.forecaster:Disabling yearly seasonality. Run prophet with yearly_seasonality=True to override this.\n",
      "INFO:fbprophet.forecaster:Disabling daily seasonality. Run prophet with daily_seasonality=True to override this.\n"
     ]
    },
    {
     "name": "stdout",
     "output_type": "stream",
     "text": [
      "2000-06-01, SELL CREATE, 29.21\n",
      "2000-06-02, SELL EXECUTED, Price: 53.31, Cost: 51.92, Comm 0.00\n",
      "2000-06-02, Close, 29.42\n",
      "2000-06-05, Close, 28.76\n",
      "2000-06-06, Close, 28.55\n",
      "2000-06-07, Close, 28.65\n",
      "2000-06-08, Close, 28.37\n"
     ]
    },
    {
     "name": "stderr",
     "output_type": "stream",
     "text": [
      "INFO:fbprophet.forecaster:Disabling yearly seasonality. Run prophet with yearly_seasonality=True to override this.\n",
      "INFO:fbprophet.forecaster:Disabling daily seasonality. Run prophet with daily_seasonality=True to override this.\n"
     ]
    },
    {
     "name": "stdout",
     "output_type": "stream",
     "text": [
      "2000-06-08, BUY CREATE, 28.37\n",
      "2000-06-09, BUY EXECUTED, Price: 51.06, Cost: 51.06, Comm 0.00\n",
      "2000-06-09, Close, 27.82\n",
      "2000-06-12, Close, 27.82\n",
      "2000-06-13, Close, 28.55\n",
      "2000-06-14, Close, 28.44\n",
      "2000-06-15, Close, 28.93\n"
     ]
    },
    {
     "name": "stderr",
     "output_type": "stream",
     "text": [
      "INFO:fbprophet.forecaster:Disabling yearly seasonality. Run prophet with yearly_seasonality=True to override this.\n",
      "INFO:fbprophet.forecaster:Disabling daily seasonality. Run prophet with daily_seasonality=True to override this.\n"
     ]
    },
    {
     "name": "stdout",
     "output_type": "stream",
     "text": [
      "2000-06-15, SELL CREATE, 28.93\n",
      "2000-06-16, SELL EXECUTED, Price: 52.00, Cost: 51.63, Comm 0.00\n",
      "2000-06-16, Close, 28.51\n",
      "2000-06-19, Close, 28.03\n",
      "2000-06-20, Close, 28.44\n",
      "2000-06-21, Close, 27.57\n",
      "2000-06-22, Close, 27.19\n"
     ]
    },
    {
     "name": "stderr",
     "output_type": "stream",
     "text": [
      "INFO:fbprophet.forecaster:Disabling yearly seasonality. Run prophet with yearly_seasonality=True to override this.\n",
      "INFO:fbprophet.forecaster:Disabling daily seasonality. Run prophet with daily_seasonality=True to override this.\n"
     ]
    },
    {
     "name": "stdout",
     "output_type": "stream",
     "text": [
      "2000-06-22, BUY CREATE, 27.19\n",
      "2000-06-23, BUY EXECUTED, Price: 48.69, Cost: 48.69, Comm 0.00\n",
      "2000-06-23, Close, 27.82\n",
      "2000-06-26, Close, 27.85\n",
      "2000-06-27, Close, 27.47\n",
      "2000-06-28, Close, 28.19\n",
      "2000-06-29, Close, 27.75\n"
     ]
    },
    {
     "name": "stderr",
     "output_type": "stream",
     "text": [
      "INFO:fbprophet.forecaster:Disabling yearly seasonality. Run prophet with yearly_seasonality=True to override this.\n",
      "INFO:fbprophet.forecaster:Disabling daily seasonality. Run prophet with daily_seasonality=True to override this.\n"
     ]
    },
    {
     "name": "stdout",
     "output_type": "stream",
     "text": [
      "2000-06-29, SELL CREATE, 27.75\n",
      "2000-06-30, SELL EXECUTED, Price: 49.25, Cost: 50.65, Comm 0.00\n",
      "2000-06-30, Close, 29.56\n",
      "2000-07-03, Close, 29.00\n",
      "2000-07-05, Close, 27.92\n",
      "2000-07-06, Close, 28.06\n",
      "2000-07-07, Close, 28.69\n"
     ]
    },
    {
     "name": "stderr",
     "output_type": "stream",
     "text": [
      "INFO:fbprophet.forecaster:Disabling yearly seasonality. Run prophet with yearly_seasonality=True to override this.\n",
      "INFO:fbprophet.forecaster:Disabling daily seasonality. Run prophet with daily_seasonality=True to override this.\n"
     ]
    },
    {
     "name": "stdout",
     "output_type": "stream",
     "text": [
      "2000-07-07, SELL CREATE, 28.69\n",
      "2000-07-10, SELL EXECUTED, Price: 51.31, Cost: 50.65, Comm 0.00\n",
      "2000-07-10, Close, 29.32\n",
      "2000-07-11, Close, 29.22\n",
      "2000-07-12, Close, 30.06\n",
      "2000-07-13, Close, 29.36\n",
      "2000-07-14, Close, 28.80\n"
     ]
    },
    {
     "name": "stderr",
     "output_type": "stream",
     "text": [
      "INFO:fbprophet.forecaster:Disabling yearly seasonality. Run prophet with yearly_seasonality=True to override this.\n",
      "INFO:fbprophet.forecaster:Disabling daily seasonality. Run prophet with daily_seasonality=True to override this.\n"
     ]
    },
    {
     "name": "stdout",
     "output_type": "stream",
     "text": [
      "2000-07-14, SELL CREATE, 28.80\n",
      "2000-07-17, SELL EXECUTED, Price: 51.56, Cost: 50.65, Comm 0.00\n",
      "2000-07-17, OPERATION PROFIT, GROSS 1.93, NET 1.93\n",
      "2000-07-17, Close, 30.02\n",
      "2000-07-18, Close, 29.22\n",
      "2000-07-19, Close, 29.50\n",
      "2000-07-20, Close, 30.37\n",
      "2000-07-21, Close, 30.27\n"
     ]
    },
    {
     "name": "stderr",
     "output_type": "stream",
     "text": [
      "INFO:fbprophet.forecaster:Disabling yearly seasonality. Run prophet with yearly_seasonality=True to override this.\n",
      "INFO:fbprophet.forecaster:Disabling daily seasonality. Run prophet with daily_seasonality=True to override this.\n"
     ]
    },
    {
     "name": "stdout",
     "output_type": "stream",
     "text": [
      "2000-07-24, Close, 30.20\n",
      "2000-07-25, Close, 29.95\n",
      "2000-07-26, Close, 29.15\n",
      "2000-07-27, Close, 29.36\n",
      "2000-07-28, Close, 28.48\n"
     ]
    },
    {
     "name": "stderr",
     "output_type": "stream",
     "text": [
      "INFO:fbprophet.forecaster:Disabling yearly seasonality. Run prophet with yearly_seasonality=True to override this.\n",
      "INFO:fbprophet.forecaster:Disabling daily seasonality. Run prophet with daily_seasonality=True to override this.\n"
     ]
    },
    {
     "name": "stdout",
     "output_type": "stream",
     "text": [
      "2000-07-28, BUY CREATE, 28.48\n",
      "2000-07-31, BUY EXECUTED, Price: 51.62, Cost: 51.62, Comm 0.00\n",
      "2000-07-31, Close, 28.90\n",
      "2000-08-01, Close, 29.50\n",
      "2000-08-02, Close, 29.08\n",
      "2000-08-03, Close, 29.57\n",
      "2000-08-04, Close, 29.85\n"
     ]
    },
    {
     "name": "stderr",
     "output_type": "stream",
     "text": [
      "INFO:fbprophet.forecaster:Disabling yearly seasonality. Run prophet with yearly_seasonality=True to override this.\n",
      "INFO:fbprophet.forecaster:Disabling daily seasonality. Run prophet with daily_seasonality=True to override this.\n"
     ]
    },
    {
     "name": "stdout",
     "output_type": "stream",
     "text": [
      "2000-08-04, SELL CREATE, 29.85\n",
      "2000-08-07, SELL EXECUTED, Price: 52.12, Cost: 51.62, Comm 0.00\n",
      "2000-08-07, OPERATION PROFIT, GROSS 0.50, NET 0.50\n",
      "2000-08-07, Close, 29.43\n",
      "2000-08-08, Close, 30.06\n",
      "2000-08-09, Close, 31.28\n",
      "2000-08-10, Close, 31.87\n",
      "2000-08-11, Close, 31.63\n"
     ]
    },
    {
     "name": "stderr",
     "output_type": "stream",
     "text": [
      "INFO:fbprophet.forecaster:Disabling yearly seasonality. Run prophet with yearly_seasonality=True to override this.\n",
      "INFO:fbprophet.forecaster:Disabling daily seasonality. Run prophet with daily_seasonality=True to override this.\n"
     ]
    },
    {
     "name": "stdout",
     "output_type": "stream",
     "text": [
      "2000-08-14, Close, 31.87\n",
      "2000-08-15, Close, 32.01\n",
      "2000-08-16, Close, 31.77\n",
      "2000-08-17, Close, 31.70\n",
      "2000-08-18, Close, 31.42\n"
     ]
    },
    {
     "name": "stderr",
     "output_type": "stream",
     "text": [
      "INFO:fbprophet.forecaster:Disabling yearly seasonality. Run prophet with yearly_seasonality=True to override this.\n",
      "INFO:fbprophet.forecaster:Disabling daily seasonality. Run prophet with daily_seasonality=True to override this.\n"
     ]
    },
    {
     "name": "stdout",
     "output_type": "stream",
     "text": [
      "2000-08-18, BUY CREATE, 31.42\n",
      "2000-08-21, BUY EXECUTED, Price: 56.69, Cost: 56.69, Comm 0.00\n",
      "2000-08-21, Close, 31.63\n",
      "2000-08-22, Close, 31.45\n",
      "2000-08-23, Close, 32.40\n",
      "2000-08-24, Close, 32.96\n",
      "2000-08-25, Close, 33.13\n"
     ]
    },
    {
     "name": "stderr",
     "output_type": "stream",
     "text": [
      "INFO:fbprophet.forecaster:Disabling yearly seasonality. Run prophet with yearly_seasonality=True to override this.\n",
      "INFO:fbprophet.forecaster:Disabling daily seasonality. Run prophet with daily_seasonality=True to override this.\n"
     ]
    },
    {
     "name": "stdout",
     "output_type": "stream",
     "text": [
      "2000-08-25, SELL CREATE, 33.13\n",
      "2000-08-28, SELL EXECUTED, Price: 59.50, Cost: 56.69, Comm 0.00\n",
      "2000-08-28, OPERATION PROFIT, GROSS 2.81, NET 2.81\n",
      "2000-08-28, Close, 33.55\n",
      "2000-08-29, Close, 33.48\n",
      "2000-08-30, Close, 32.15\n",
      "2000-08-31, Close, 32.78\n",
      "2000-09-01, Close, 32.71\n"
     ]
    },
    {
     "name": "stderr",
     "output_type": "stream",
     "text": [
      "INFO:fbprophet.forecaster:Disabling yearly seasonality. Run prophet with yearly_seasonality=True to override this.\n",
      "INFO:fbprophet.forecaster:Disabling daily seasonality. Run prophet with daily_seasonality=True to override this.\n"
     ]
    },
    {
     "name": "stdout",
     "output_type": "stream",
     "text": [
      "2000-09-01, BUY CREATE, 32.71\n",
      "2000-09-05, BUY EXECUTED, Price: 58.44, Cost: 58.44, Comm 0.00\n",
      "2000-09-05, Close, 32.33\n",
      "2000-09-06, Close, 32.99\n",
      "2000-09-07, Close, 32.99\n",
      "2000-09-08, Close, 33.48\n",
      "2000-09-11, Close, 33.38\n"
     ]
    },
    {
     "name": "stderr",
     "output_type": "stream",
     "text": [
      "INFO:fbprophet.forecaster:Disabling yearly seasonality. Run prophet with yearly_seasonality=True to override this.\n",
      "INFO:fbprophet.forecaster:Disabling daily seasonality. Run prophet with daily_seasonality=True to override this.\n"
     ]
    },
    {
     "name": "stdout",
     "output_type": "stream",
     "text": [
      "2000-09-11, BUY CREATE, 33.38\n",
      "2000-09-12, BUY EXECUTED, Price: 59.50, Cost: 59.50, Comm 0.00\n",
      "2000-09-12, Close, 33.03\n",
      "2000-09-13, Close, 33.03\n",
      "2000-09-14, Close, 32.99\n",
      "2000-09-15, Close, 31.73\n",
      "2000-09-18, Close, 32.15\n"
     ]
    },
    {
     "name": "stderr",
     "output_type": "stream",
     "text": [
      "INFO:fbprophet.forecaster:Disabling yearly seasonality. Run prophet with yearly_seasonality=True to override this.\n",
      "INFO:fbprophet.forecaster:Disabling daily seasonality. Run prophet with daily_seasonality=True to override this.\n"
     ]
    },
    {
     "name": "stdout",
     "output_type": "stream",
     "text": [
      "2000-09-18, BUY CREATE, 32.15\n",
      "2000-09-19, BUY EXECUTED, Price: 57.56, Cost: 57.56, Comm 0.00\n",
      "2000-09-19, Close, 31.87\n",
      "2000-09-20, Close, 31.66\n",
      "2000-09-21, Close, 31.45\n",
      "2000-09-22, Close, 32.05\n",
      "2000-09-25, Close, 32.47\n"
     ]
    },
    {
     "name": "stderr",
     "output_type": "stream",
     "text": [
      "INFO:fbprophet.forecaster:Disabling yearly seasonality. Run prophet with yearly_seasonality=True to override this.\n",
      "INFO:fbprophet.forecaster:Disabling daily seasonality. Run prophet with daily_seasonality=True to override this.\n"
     ]
    },
    {
     "name": "stdout",
     "output_type": "stream",
     "text": [
      "2000-09-25, BUY CREATE, 32.47\n",
      "2000-09-26, BUY EXECUTED, Price: 57.06, Cost: 57.06, Comm 0.00\n",
      "2000-09-26, Close, 32.43\n",
      "2000-09-27, Close, 33.24\n",
      "2000-09-28, Close, 32.99\n",
      "2000-09-29, Close, 32.40\n",
      "2000-10-02, Close, 32.79\n"
     ]
    },
    {
     "name": "stderr",
     "output_type": "stream",
     "text": [
      "INFO:fbprophet.forecaster:Disabling yearly seasonality. Run prophet with yearly_seasonality=True to override this.\n",
      "INFO:fbprophet.forecaster:Disabling daily seasonality. Run prophet with daily_seasonality=True to override this.\n"
     ]
    },
    {
     "name": "stdout",
     "output_type": "stream",
     "text": [
      "2000-10-02, BUY CREATE, 32.79\n",
      "2000-10-03, BUY EXECUTED, Price: 58.62, Cost: 58.62, Comm 0.00\n",
      "2000-10-03, Close, 33.10\n",
      "2000-10-04, Close, 33.00\n",
      "2000-10-05, Close, 33.49\n",
      "2000-10-06, Close, 33.31\n",
      "2000-10-09, Close, 32.79\n"
     ]
    },
    {
     "name": "stderr",
     "output_type": "stream",
     "text": [
      "INFO:fbprophet.forecaster:Disabling yearly seasonality. Run prophet with yearly_seasonality=True to override this.\n",
      "INFO:fbprophet.forecaster:Disabling daily seasonality. Run prophet with daily_seasonality=True to override this.\n"
     ]
    },
    {
     "name": "stdout",
     "output_type": "stream",
     "text": [
      "2000-10-09, BUY CREATE, 32.79\n",
      "2000-10-10, BUY EXECUTED, Price: 58.75, Cost: 58.75, Comm 0.00\n",
      "2000-10-10, Close, 32.54\n",
      "2000-10-11, Close, 31.74\n",
      "2000-10-12, Close, 30.55\n",
      "2000-10-13, Close, 31.95\n",
      "2000-10-16, Close, 32.37\n"
     ]
    },
    {
     "name": "stderr",
     "output_type": "stream",
     "text": [
      "INFO:fbprophet.forecaster:Disabling yearly seasonality. Run prophet with yearly_seasonality=True to override this.\n",
      "INFO:fbprophet.forecaster:Disabling daily seasonality. Run prophet with daily_seasonality=True to override this.\n"
     ]
    },
    {
     "name": "stdout",
     "output_type": "stream",
     "text": [
      "2000-10-16, BUY CREATE, 32.37\n",
      "2000-10-17, BUY EXECUTED, Price: 57.69, Cost: 57.69, Comm 0.00\n",
      "2000-10-17, Close, 31.18\n",
      "2000-10-18, Close, 31.11\n",
      "2000-10-19, Close, 31.18\n",
      "2000-10-20, Close, 29.22\n",
      "2000-10-23, Close, 27.88\n"
     ]
    },
    {
     "name": "stderr",
     "output_type": "stream",
     "text": [
      "INFO:fbprophet.forecaster:Disabling yearly seasonality. Run prophet with yearly_seasonality=True to override this.\n",
      "INFO:fbprophet.forecaster:Disabling daily seasonality. Run prophet with daily_seasonality=True to override this.\n"
     ]
    },
    {
     "name": "stdout",
     "output_type": "stream",
     "text": [
      "2000-10-23, BUY CREATE, 27.88\n",
      "2000-10-24, BUY EXECUTED, Price: 50.50, Cost: 50.50, Comm 0.00\n",
      "2000-10-24, Close, 29.92\n",
      "2000-10-25, Close, 29.67\n",
      "2000-10-26, Close, 29.22\n",
      "2000-10-27, Close, 29.29\n",
      "2000-10-30, Close, 30.27\n"
     ]
    },
    {
     "name": "stderr",
     "output_type": "stream",
     "text": [
      "INFO:fbprophet.forecaster:Disabling yearly seasonality. Run prophet with yearly_seasonality=True to override this.\n",
      "INFO:fbprophet.forecaster:Disabling daily seasonality. Run prophet with daily_seasonality=True to override this.\n"
     ]
    },
    {
     "name": "stdout",
     "output_type": "stream",
     "text": [
      "2000-10-30, BUY CREATE, 30.27\n",
      "2000-10-31, BUY EXECUTED, Price: 54.12, Cost: 54.12, Comm 0.00\n",
      "2000-10-31, Close, 30.72\n",
      "2000-11-01, Close, 30.51\n",
      "2000-11-02, Close, 30.09\n",
      "2000-11-03, Close, 29.88\n",
      "2000-11-06, Close, 30.55\n"
     ]
    },
    {
     "name": "stderr",
     "output_type": "stream",
     "text": [
      "INFO:fbprophet.forecaster:Disabling yearly seasonality. Run prophet with yearly_seasonality=True to override this.\n",
      "INFO:fbprophet.forecaster:Disabling daily seasonality. Run prophet with daily_seasonality=True to override this.\n"
     ]
    },
    {
     "name": "stdout",
     "output_type": "stream",
     "text": [
      "2000-11-06, SELL CREATE, 30.55\n",
      "2000-11-07, SELL EXECUTED, Price: 54.50, Cost: 56.92, Comm 0.00\n",
      "2000-11-07, Close, 30.79\n",
      "2000-11-08, Close, 30.58\n",
      "2000-11-09, Close, 30.58\n",
      "2000-11-10, Close, 30.20\n",
      "2000-11-13, Close, 28.83\n"
     ]
    },
    {
     "name": "stderr",
     "output_type": "stream",
     "text": [
      "INFO:fbprophet.forecaster:Disabling yearly seasonality. Run prophet with yearly_seasonality=True to override this.\n",
      "INFO:fbprophet.forecaster:Disabling daily seasonality. Run prophet with daily_seasonality=True to override this.\n"
     ]
    },
    {
     "name": "stdout",
     "output_type": "stream",
     "text": [
      "2000-11-13, BUY CREATE, 28.83\n",
      "2000-11-14, BUY EXECUTED, Price: 51.44, Cost: 51.44, Comm 0.00\n",
      "2000-11-14, Close, 29.57\n",
      "2000-11-15, Close, 29.43\n",
      "2000-11-16, Close, 29.50\n",
      "2000-11-17, Close, 29.08\n",
      "2000-11-20, Close, 28.06\n"
     ]
    },
    {
     "name": "stderr",
     "output_type": "stream",
     "text": [
      "INFO:fbprophet.forecaster:Disabling yearly seasonality. Run prophet with yearly_seasonality=True to override this.\n",
      "INFO:fbprophet.forecaster:Disabling daily seasonality. Run prophet with daily_seasonality=True to override this.\n"
     ]
    },
    {
     "name": "stdout",
     "output_type": "stream",
     "text": [
      "2000-11-20, BUY CREATE, 28.06\n",
      "2000-11-21, BUY EXECUTED, Price: 50.06, Cost: 50.06, Comm 0.00\n",
      "2000-11-21, Close, 28.44\n",
      "2000-11-22, Close, 27.22\n",
      "2000-11-24, Close, 27.67\n",
      "2000-11-27, Close, 27.53\n",
      "2000-11-28, Close, 27.92\n"
     ]
    },
    {
     "name": "stderr",
     "output_type": "stream",
     "text": [
      "INFO:fbprophet.forecaster:Disabling yearly seasonality. Run prophet with yearly_seasonality=True to override this.\n",
      "INFO:fbprophet.forecaster:Disabling daily seasonality. Run prophet with daily_seasonality=True to override this.\n"
     ]
    },
    {
     "name": "stdout",
     "output_type": "stream",
     "text": [
      "2000-11-28, BUY CREATE, 27.92\n",
      "2000-11-29, BUY EXECUTED, Price: 49.25, Cost: 49.25, Comm 0.00\n",
      "2000-11-29, Close, 27.85\n",
      "2000-11-30, Close, 27.78\n",
      "2000-12-01, Close, 28.58\n",
      "2000-12-04, Close, 28.93\n",
      "2000-12-05, Close, 30.34\n"
     ]
    },
    {
     "name": "stderr",
     "output_type": "stream",
     "text": [
      "INFO:fbprophet.forecaster:Disabling yearly seasonality. Run prophet with yearly_seasonality=True to override this.\n",
      "INFO:fbprophet.forecaster:Disabling daily seasonality. Run prophet with daily_seasonality=True to override this.\n"
     ]
    },
    {
     "name": "stdout",
     "output_type": "stream",
     "text": [
      "2000-12-05, SELL CREATE, 30.34\n",
      "2000-12-06, SELL EXECUTED, Price: 53.56, Cost: 55.10, Comm 0.00\n",
      "2000-12-06, Close, 30.23\n",
      "2000-12-07, Close, 29.99\n",
      "2000-12-08, Close, 30.93\n",
      "2000-12-11, Close, 31.00\n",
      "2000-12-12, Close, 29.60\n"
     ]
    },
    {
     "name": "stderr",
     "output_type": "stream",
     "text": [
      "INFO:fbprophet.forecaster:Disabling yearly seasonality. Run prophet with yearly_seasonality=True to override this.\n",
      "INFO:fbprophet.forecaster:Disabling daily seasonality. Run prophet with daily_seasonality=True to override this.\n"
     ]
    },
    {
     "name": "stdout",
     "output_type": "stream",
     "text": [
      "2000-12-12, SELL CREATE, 29.60\n",
      "2000-12-13, SELL EXECUTED, Price: 52.81, Cost: 55.10, Comm 0.00\n",
      "2000-12-13, Close, 29.71\n",
      "2000-12-14, Close, 28.83\n",
      "2000-12-15, Close, 27.92\n",
      "2000-12-18, Close, 28.58\n",
      "2000-12-19, Close, 28.09\n"
     ]
    },
    {
     "name": "stderr",
     "output_type": "stream",
     "text": [
      "INFO:fbprophet.forecaster:Disabling yearly seasonality. Run prophet with yearly_seasonality=True to override this.\n",
      "INFO:fbprophet.forecaster:Disabling daily seasonality. Run prophet with daily_seasonality=True to override this.\n"
     ]
    },
    {
     "name": "stdout",
     "output_type": "stream",
     "text": [
      "2000-12-19, SELL CREATE, 28.09\n",
      "2000-12-20, SELL EXECUTED, Price: 48.56, Cost: 55.10, Comm 0.00\n",
      "2000-12-20, Close, 26.59\n",
      "2000-12-21, Close, 26.83\n",
      "2000-12-22, Close, 27.39\n",
      "2000-12-26, Close, 27.64\n",
      "2000-12-27, Close, 27.10\n"
     ]
    },
    {
     "name": "stderr",
     "output_type": "stream",
     "text": [
      "INFO:fbprophet.forecaster:Disabling yearly seasonality. Run prophet with yearly_seasonality=True to override this.\n",
      "INFO:fbprophet.forecaster:Disabling daily seasonality. Run prophet with daily_seasonality=True to override this.\n"
     ]
    },
    {
     "name": "stdout",
     "output_type": "stream",
     "text": [
      "2000-12-27, BUY CREATE, 27.10\n",
      "2000-12-28, BUY EXECUTED, Price: 48.94, Cost: 48.94, Comm 0.00\n",
      "2000-12-28, Close, 27.24\n",
      "2000-12-29, Close, 26.96\n",
      "2001-01-02, Close, 24.60\n",
      "2001-01-03, Close, 26.89\n",
      "2001-01-04, Close, 27.03\n"
     ]
    },
    {
     "name": "stderr",
     "output_type": "stream",
     "text": [
      "INFO:fbprophet.forecaster:Disabling yearly seasonality. Run prophet with yearly_seasonality=True to override this.\n",
      "INFO:fbprophet.forecaster:Disabling daily seasonality. Run prophet with daily_seasonality=True to override this.\n"
     ]
    },
    {
     "name": "stdout",
     "output_type": "stream",
     "text": [
      "2001-01-04, SELL CREATE, 27.03\n",
      "2001-01-05, SELL EXECUTED, Price: 47.75, Cost: 54.41, Comm 0.00\n",
      "2001-01-05, Close, 26.60\n",
      "2001-01-08, Close, 25.62\n",
      "2001-01-09, Close, 25.09\n",
      "2001-01-10, Close, 25.13\n",
      "2001-01-11, Close, 26.18\n"
     ]
    },
    {
     "name": "stderr",
     "output_type": "stream",
     "text": [
      "INFO:fbprophet.forecaster:Disabling yearly seasonality. Run prophet with yearly_seasonality=True to override this.\n",
      "INFO:fbprophet.forecaster:Disabling daily seasonality. Run prophet with daily_seasonality=True to override this.\n"
     ]
    },
    {
     "name": "stdout",
     "output_type": "stream",
     "text": [
      "2001-01-11, SELL CREATE, 26.18\n",
      "2001-01-12, SELL EXECUTED, Price: 46.81, Cost: 54.41, Comm 0.00\n",
      "2001-01-12, Close, 25.69\n",
      "2001-01-16, Close, 26.64\n",
      "2001-01-17, Close, 26.25\n",
      "2001-01-18, Close, 26.78\n",
      "2001-01-19, Close, 26.43\n"
     ]
    },
    {
     "name": "stderr",
     "output_type": "stream",
     "text": [
      "INFO:fbprophet.forecaster:Disabling yearly seasonality. Run prophet with yearly_seasonality=True to override this.\n",
      "INFO:fbprophet.forecaster:Disabling daily seasonality. Run prophet with daily_seasonality=True to override this.\n"
     ]
    },
    {
     "name": "stdout",
     "output_type": "stream",
     "text": [
      "2001-01-19, SELL CREATE, 26.43\n",
      "2001-01-22, SELL EXECUTED, Price: 46.88, Cost: 54.41, Comm 0.00\n",
      "2001-01-22, Close, 25.73\n",
      "2001-01-23, Close, 26.25\n",
      "2001-01-24, Close, 26.04\n",
      "2001-01-25, Close, 25.83\n",
      "2001-01-26, Close, 25.09\n"
     ]
    },
    {
     "name": "stderr",
     "output_type": "stream",
     "text": [
      "INFO:fbprophet.forecaster:Disabling yearly seasonality. Run prophet with yearly_seasonality=True to override this.\n",
      "INFO:fbprophet.forecaster:Disabling daily seasonality. Run prophet with daily_seasonality=True to override this.\n"
     ]
    },
    {
     "name": "stdout",
     "output_type": "stream",
     "text": [
      "2001-01-26, BUY CREATE, 25.09\n",
      "2001-01-29, BUY EXECUTED, Price: 44.87, Cost: 44.87, Comm 0.00\n",
      "2001-01-29, Close, 24.96\n",
      "2001-01-30, Close, 26.01\n",
      "2001-01-31, Close, 25.85\n",
      "2001-02-01, Close, 26.00\n",
      "2001-02-02, Close, 26.02\n"
     ]
    },
    {
     "name": "stderr",
     "output_type": "stream",
     "text": [
      "INFO:fbprophet.forecaster:Disabling yearly seasonality. Run prophet with yearly_seasonality=True to override this.\n",
      "INFO:fbprophet.forecaster:Disabling daily seasonality. Run prophet with daily_seasonality=True to override this.\n"
     ]
    },
    {
     "name": "stdout",
     "output_type": "stream",
     "text": [
      "2001-02-02, SELL CREATE, 26.02\n",
      "2001-02-05, SELL EXECUTED, Price: 46.38, Cost: 53.05, Comm 0.00\n",
      "2001-02-05, Close, 26.91\n",
      "2001-02-06, Close, 26.77\n",
      "2001-02-07, Close, 26.40\n",
      "2001-02-08, Close, 26.51\n",
      "2001-02-09, Close, 25.68\n"
     ]
    },
    {
     "name": "stderr",
     "output_type": "stream",
     "text": [
      "INFO:fbprophet.forecaster:Disabling yearly seasonality. Run prophet with yearly_seasonality=True to override this.\n",
      "INFO:fbprophet.forecaster:Disabling daily seasonality. Run prophet with daily_seasonality=True to override this.\n"
     ]
    },
    {
     "name": "stdout",
     "output_type": "stream",
     "text": [
      "2001-02-09, SELL CREATE, 25.68\n",
      "2001-02-12, SELL EXECUTED, Price: 45.66, Cost: 53.05, Comm 0.00\n",
      "2001-02-12, Close, 26.72\n",
      "2001-02-13, Close, 26.52\n",
      "2001-02-14, Close, 26.01\n",
      "2001-02-15, Close, 26.98\n",
      "2001-02-16, Close, 26.43\n"
     ]
    },
    {
     "name": "stderr",
     "output_type": "stream",
     "text": [
      "INFO:fbprophet.forecaster:Disabling yearly seasonality. Run prophet with yearly_seasonality=True to override this.\n",
      "INFO:fbprophet.forecaster:Disabling daily seasonality. Run prophet with daily_seasonality=True to override this.\n"
     ]
    },
    {
     "name": "stdout",
     "output_type": "stream",
     "text": [
      "2001-02-16, SELL CREATE, 26.43\n",
      "2001-02-20, SELL EXECUTED, Price: 47.20, Cost: 53.05, Comm 0.00\n",
      "2001-02-20, Close, 26.82\n",
      "2001-02-21, Close, 26.60\n",
      "2001-02-22, Close, 26.48\n",
      "2001-02-23, Close, 25.97\n",
      "2001-02-26, Close, 26.98\n"
     ]
    },
    {
     "name": "stderr",
     "output_type": "stream",
     "text": [
      "INFO:fbprophet.forecaster:Disabling yearly seasonality. Run prophet with yearly_seasonality=True to override this.\n",
      "INFO:fbprophet.forecaster:Disabling daily seasonality. Run prophet with daily_seasonality=True to override this.\n"
     ]
    },
    {
     "name": "stdout",
     "output_type": "stream",
     "text": [
      "2001-02-26, SELL CREATE, 26.98\n",
      "2001-02-27, SELL EXECUTED, Price: 47.48, Cost: 53.05, Comm 0.00\n",
      "2001-02-27, Close, 26.99\n",
      "2001-02-28, Close, 26.15\n",
      "2001-03-01, Close, 25.82\n",
      "2001-03-02, Close, 25.06\n",
      "2001-03-05, Close, 25.44\n"
     ]
    },
    {
     "name": "stderr",
     "output_type": "stream",
     "text": [
      "INFO:fbprophet.forecaster:Disabling yearly seasonality. Run prophet with yearly_seasonality=True to override this.\n",
      "INFO:fbprophet.forecaster:Disabling daily seasonality. Run prophet with daily_seasonality=True to override this.\n"
     ]
    },
    {
     "name": "stdout",
     "output_type": "stream",
     "text": [
      "2001-03-05, SELL CREATE, 25.44\n",
      "2001-03-06, SELL EXECUTED, Price: 46.25, Cost: 53.05, Comm 0.00\n",
      "2001-03-06, Close, 25.63\n",
      "2001-03-07, Close, 25.95\n",
      "2001-03-08, Close, 25.89\n",
      "2001-03-09, Close, 24.72\n",
      "2001-03-12, Close, 22.35\n"
     ]
    },
    {
     "name": "stderr",
     "output_type": "stream",
     "text": [
      "INFO:fbprophet.forecaster:Disabling yearly seasonality. Run prophet with yearly_seasonality=True to override this.\n",
      "INFO:fbprophet.forecaster:Disabling daily seasonality. Run prophet with daily_seasonality=True to override this.\n"
     ]
    },
    {
     "name": "stdout",
     "output_type": "stream",
     "text": [
      "2001-03-12, BUY CREATE, 22.35\n",
      "2001-03-13, BUY EXECUTED, Price: 41.50, Cost: 41.50, Comm 0.00\n",
      "2001-03-13, Close, 23.89\n",
      "2001-03-14, Close, 23.15\n",
      "2001-03-15, Close, 23.18\n",
      "2001-03-16, Close, 22.91\n",
      "2001-03-19, Close, 23.19\n"
     ]
    },
    {
     "name": "stderr",
     "output_type": "stream",
     "text": [
      "INFO:fbprophet.forecaster:Disabling yearly seasonality. Run prophet with yearly_seasonality=True to override this.\n",
      "INFO:fbprophet.forecaster:Disabling daily seasonality. Run prophet with daily_seasonality=True to override this.\n"
     ]
    },
    {
     "name": "stdout",
     "output_type": "stream",
     "text": [
      "2001-03-19, BUY CREATE, 23.19\n",
      "2001-03-20, BUY EXECUTED, Price: 41.50, Cost: 41.50, Comm 0.00\n",
      "2001-03-20, Close, 22.60\n",
      "2001-03-21, Close, 22.01\n",
      "2001-03-22, Close, 21.28\n",
      "2001-03-23, Close, 22.57\n",
      "2001-03-26, Close, 22.70\n"
     ]
    },
    {
     "name": "stderr",
     "output_type": "stream",
     "text": [
      "INFO:fbprophet.forecaster:Disabling yearly seasonality. Run prophet with yearly_seasonality=True to override this.\n",
      "INFO:fbprophet.forecaster:Disabling daily seasonality. Run prophet with daily_seasonality=True to override this.\n"
     ]
    },
    {
     "name": "stdout",
     "output_type": "stream",
     "text": [
      "2001-03-26, BUY CREATE, 22.70\n",
      "2001-03-27, BUY EXECUTED, Price: 40.75, Cost: 40.75, Comm 0.00\n",
      "2001-03-27, Close, 23.65\n",
      "2001-03-28, Close, 23.45\n",
      "2001-03-29, Close, 23.36\n",
      "2001-03-30, Close, 23.62\n",
      "2001-04-02, Close, 23.59\n"
     ]
    },
    {
     "name": "stderr",
     "output_type": "stream",
     "text": [
      "INFO:fbprophet.forecaster:Disabling yearly seasonality. Run prophet with yearly_seasonality=True to override this.\n",
      "INFO:fbprophet.forecaster:Disabling daily seasonality. Run prophet with daily_seasonality=True to override this.\n"
     ]
    },
    {
     "name": "stdout",
     "output_type": "stream",
     "text": [
      "2001-04-02, SELL CREATE, 23.59\n",
      "2001-04-03, SELL EXECUTED, Price: 41.55, Cost: 45.97, Comm 0.00\n",
      "2001-04-03, Close, 22.39\n",
      "2001-04-04, Close, 22.35\n",
      "2001-04-05, Close, 23.76\n",
      "2001-04-06, Close, 23.23\n",
      "2001-04-09, Close, 23.70\n"
     ]
    },
    {
     "name": "stderr",
     "output_type": "stream",
     "text": [
      "INFO:fbprophet.forecaster:Disabling yearly seasonality. Run prophet with yearly_seasonality=True to override this.\n",
      "INFO:fbprophet.forecaster:Disabling daily seasonality. Run prophet with daily_seasonality=True to override this.\n"
     ]
    },
    {
     "name": "stdout",
     "output_type": "stream",
     "text": [
      "2001-04-09, SELL CREATE, 23.70\n",
      "2001-04-10, SELL EXECUTED, Price: 42.75, Cost: 45.97, Comm 0.00\n",
      "2001-04-10, Close, 24.73\n",
      "2001-04-11, Close, 24.42\n",
      "2001-04-12, Close, 25.23\n",
      "2001-04-16, Close, 25.20\n",
      "2001-04-17, Close, 25.65\n"
     ]
    },
    {
     "name": "stderr",
     "output_type": "stream",
     "text": [
      "INFO:fbprophet.forecaster:Disabling yearly seasonality. Run prophet with yearly_seasonality=True to override this.\n",
      "INFO:fbprophet.forecaster:Disabling daily seasonality. Run prophet with daily_seasonality=True to override this.\n"
     ]
    },
    {
     "name": "stdout",
     "output_type": "stream",
     "text": [
      "2001-04-17, SELL CREATE, 25.65\n",
      "2001-04-18, SELL EXECUTED, Price: 45.88, Cost: 45.97, Comm 0.00\n",
      "2001-04-18, Close, 27.03\n",
      "2001-04-19, Close, 27.38\n",
      "2001-04-20, Close, 27.14\n",
      "2001-04-23, Close, 26.64\n",
      "2001-04-24, Close, 25.95\n"
     ]
    },
    {
     "name": "stderr",
     "output_type": "stream",
     "text": [
      "INFO:fbprophet.forecaster:Disabling yearly seasonality. Run prophet with yearly_seasonality=True to override this.\n",
      "INFO:fbprophet.forecaster:Disabling daily seasonality. Run prophet with daily_seasonality=True to override this.\n"
     ]
    },
    {
     "name": "stdout",
     "output_type": "stream",
     "text": [
      "2001-04-24, SELL CREATE, 25.95\n",
      "2001-04-25, SELL EXECUTED, Price: 46.70, Cost: 45.97, Comm 0.00\n",
      "2001-04-25, Close, 26.98\n",
      "2001-04-26, Close, 27.82\n",
      "2001-04-27, Close, 28.19\n",
      "2001-04-30, Close, 27.39\n",
      "2001-05-01, Close, 27.60\n"
     ]
    },
    {
     "name": "stderr",
     "output_type": "stream",
     "text": [
      "INFO:fbprophet.forecaster:Disabling yearly seasonality. Run prophet with yearly_seasonality=True to override this.\n",
      "INFO:fbprophet.forecaster:Disabling daily seasonality. Run prophet with daily_seasonality=True to override this.\n"
     ]
    },
    {
     "name": "stdout",
     "output_type": "stream",
     "text": [
      "2001-05-01, SELL CREATE, 27.60\n",
      "2001-05-02, SELL EXECUTED, Price: 49.03, Cost: 45.97, Comm 0.00\n",
      "2001-05-02, OPERATION PROFIT, GROSS -70.80, NET -70.80\n",
      "2001-05-02, Close, 27.71\n",
      "2001-05-03, Close, 27.37\n",
      "2001-05-04, Close, 28.18\n",
      "2001-05-07, Close, 28.19\n",
      "2001-05-08, Close, 27.92\n"
     ]
    },
    {
     "name": "stderr",
     "output_type": "stream",
     "text": [
      "INFO:fbprophet.forecaster:Disabling yearly seasonality. Run prophet with yearly_seasonality=True to override this.\n",
      "INFO:fbprophet.forecaster:Disabling daily seasonality. Run prophet with daily_seasonality=True to override this.\n"
     ]
    },
    {
     "name": "stdout",
     "output_type": "stream",
     "text": [
      "2001-05-09, Close, 27.90\n",
      "2001-05-10, Close, 28.12\n",
      "2001-05-11, Close, 27.66\n",
      "2001-05-14, Close, 28.06\n",
      "2001-05-15, Close, 28.30\n"
     ]
    },
    {
     "name": "stderr",
     "output_type": "stream",
     "text": [
      "INFO:fbprophet.forecaster:Disabling yearly seasonality. Run prophet with yearly_seasonality=True to override this.\n",
      "INFO:fbprophet.forecaster:Disabling daily seasonality. Run prophet with daily_seasonality=True to override this.\n"
     ]
    },
    {
     "name": "stdout",
     "output_type": "stream",
     "text": [
      "2001-05-16, Close, 29.46\n",
      "2001-05-17, Close, 29.41\n",
      "2001-05-18, Close, 29.90\n",
      "2001-05-21, Close, 30.14\n",
      "2001-05-22, Close, 29.73\n"
     ]
    },
    {
     "name": "stderr",
     "output_type": "stream",
     "text": [
      "INFO:fbprophet.forecaster:Disabling yearly seasonality. Run prophet with yearly_seasonality=True to override this.\n",
      "INFO:fbprophet.forecaster:Disabling daily seasonality. Run prophet with daily_seasonality=True to override this.\n"
     ]
    },
    {
     "name": "stdout",
     "output_type": "stream",
     "text": [
      "2001-05-23, Close, 28.98\n",
      "2001-05-24, Close, 29.01\n",
      "2001-05-25, Close, 28.19\n",
      "2001-05-29, Close, 28.03\n",
      "2001-05-30, Close, 27.66\n"
     ]
    },
    {
     "name": "stderr",
     "output_type": "stream",
     "text": [
      "INFO:fbprophet.forecaster:Disabling yearly seasonality. Run prophet with yearly_seasonality=True to override this.\n",
      "INFO:fbprophet.forecaster:Disabling daily seasonality. Run prophet with daily_seasonality=True to override this.\n"
     ]
    },
    {
     "name": "stdout",
     "output_type": "stream",
     "text": [
      "2001-05-31, Close, 27.65\n",
      "2001-06-01, Close, 27.65\n",
      "2001-06-04, Close, 27.91\n",
      "2001-06-05, Close, 27.75\n",
      "2001-06-06, Close, 27.51\n"
     ]
    },
    {
     "name": "stderr",
     "output_type": "stream",
     "text": [
      "INFO:fbprophet.forecaster:Disabling yearly seasonality. Run prophet with yearly_seasonality=True to override this.\n",
      "INFO:fbprophet.forecaster:Disabling daily seasonality. Run prophet with daily_seasonality=True to override this.\n"
     ]
    },
    {
     "name": "stdout",
     "output_type": "stream",
     "text": [
      "2001-06-06, BUY CREATE, 27.51\n",
      "2001-06-07, BUY EXECUTED, Price: 48.75, Cost: 48.75, Comm 0.00\n",
      "2001-06-07, Close, 27.60\n",
      "2001-06-08, Close, 27.17\n",
      "2001-06-11, Close, 26.75\n",
      "2001-06-12, Close, 27.52\n",
      "2001-06-13, Close, 27.00\n"
     ]
    },
    {
     "name": "stderr",
     "output_type": "stream",
     "text": [
      "INFO:fbprophet.forecaster:Disabling yearly seasonality. Run prophet with yearly_seasonality=True to override this.\n",
      "INFO:fbprophet.forecaster:Disabling daily seasonality. Run prophet with daily_seasonality=True to override this.\n"
     ]
    },
    {
     "name": "stdout",
     "output_type": "stream",
     "text": [
      "2001-06-13, BUY CREATE, 27.00\n",
      "2001-06-14, BUY EXECUTED, Price: 48.77, Cost: 48.77, Comm 0.00\n",
      "2001-06-14, Close, 27.57\n",
      "2001-06-15, Close, 27.55\n",
      "2001-06-18, Close, 27.65\n",
      "2001-06-19, Close, 27.58\n",
      "2001-06-20, Close, 28.65\n"
     ]
    },
    {
     "name": "stderr",
     "output_type": "stream",
     "text": [
      "INFO:fbprophet.forecaster:Disabling yearly seasonality. Run prophet with yearly_seasonality=True to override this.\n",
      "INFO:fbprophet.forecaster:Disabling daily seasonality. Run prophet with daily_seasonality=True to override this.\n"
     ]
    },
    {
     "name": "stdout",
     "output_type": "stream",
     "text": [
      "2001-06-20, SELL CREATE, 28.65\n",
      "2001-06-21, SELL EXECUTED, Price: 50.40, Cost: 48.76, Comm 0.00\n",
      "2001-06-21, Close, 28.92\n",
      "2001-06-22, Close, 29.27\n",
      "2001-06-25, Close, 28.36\n",
      "2001-06-26, Close, 27.53\n",
      "2001-06-27, Close, 27.23\n"
     ]
    },
    {
     "name": "stderr",
     "output_type": "stream",
     "text": [
      "INFO:fbprophet.forecaster:Disabling yearly seasonality. Run prophet with yearly_seasonality=True to override this.\n",
      "INFO:fbprophet.forecaster:Disabling daily seasonality. Run prophet with daily_seasonality=True to override this.\n"
     ]
    },
    {
     "name": "stdout",
     "output_type": "stream",
     "text": [
      "2001-06-27, BUY CREATE, 27.23\n",
      "2001-06-28, BUY EXECUTED, Price: 47.75, Cost: 47.75, Comm 0.00\n",
      "2001-06-28, Close, 27.58\n",
      "2001-06-29, Close, 27.65\n",
      "2001-07-02, Close, 28.33\n",
      "2001-07-03, Close, 27.94\n",
      "2001-07-05, Close, 27.44\n"
     ]
    },
    {
     "name": "stderr",
     "output_type": "stream",
     "text": [
      "INFO:fbprophet.forecaster:Disabling yearly seasonality. Run prophet with yearly_seasonality=True to override this.\n",
      "INFO:fbprophet.forecaster:Disabling daily seasonality. Run prophet with daily_seasonality=True to override this.\n"
     ]
    },
    {
     "name": "stdout",
     "output_type": "stream",
     "text": [
      "2001-07-05, BUY CREATE, 27.44\n",
      "2001-07-06, BUY EXECUTED, Price: 48.20, Cost: 48.20, Comm 0.00\n",
      "2001-07-06, Close, 26.55\n",
      "2001-07-09, Close, 26.52\n",
      "2001-07-10, Close, 25.91\n",
      "2001-07-11, Close, 25.26\n",
      "2001-07-12, Close, 26.61\n"
     ]
    },
    {
     "name": "stderr",
     "output_type": "stream",
     "text": [
      "INFO:fbprophet.forecaster:Disabling yearly seasonality. Run prophet with yearly_seasonality=True to override this.\n",
      "INFO:fbprophet.forecaster:Disabling daily seasonality. Run prophet with daily_seasonality=True to override this.\n"
     ]
    },
    {
     "name": "stdout",
     "output_type": "stream",
     "text": [
      "2001-07-12, BUY CREATE, 26.61\n",
      "2001-07-13, BUY EXECUTED, Price: 46.60, Cost: 46.60, Comm 0.00\n",
      "2001-07-13, Close, 26.86\n",
      "2001-07-16, Close, 26.17\n",
      "2001-07-17, Close, 26.11\n",
      "2001-07-18, Close, 26.13\n",
      "2001-07-19, Close, 26.32\n"
     ]
    },
    {
     "name": "stderr",
     "output_type": "stream",
     "text": [
      "INFO:fbprophet.forecaster:Disabling yearly seasonality. Run prophet with yearly_seasonality=True to override this.\n",
      "INFO:fbprophet.forecaster:Disabling daily seasonality. Run prophet with daily_seasonality=True to override this.\n"
     ]
    },
    {
     "name": "stdout",
     "output_type": "stream",
     "text": [
      "2001-07-19, BUY CREATE, 26.32\n",
      "2001-07-20, BUY EXECUTED, Price: 46.70, Cost: 46.70, Comm 0.00\n",
      "2001-07-20, Close, 26.40\n",
      "2001-07-23, Close, 25.65\n",
      "2001-07-24, Close, 24.91\n",
      "2001-07-25, Close, 24.80\n",
      "2001-07-26, Close, 24.77\n"
     ]
    },
    {
     "name": "stderr",
     "output_type": "stream",
     "text": [
      "INFO:fbprophet.forecaster:Disabling yearly seasonality. Run prophet with yearly_seasonality=True to override this.\n",
      "INFO:fbprophet.forecaster:Disabling daily seasonality. Run prophet with daily_seasonality=True to override this.\n"
     ]
    },
    {
     "name": "stdout",
     "output_type": "stream",
     "text": [
      "2001-07-26, BUY CREATE, 24.77\n",
      "2001-07-27, BUY EXECUTED, Price: 44.15, Cost: 44.15, Comm 0.00\n",
      "2001-07-27, Close, 25.28\n",
      "2001-07-30, Close, 24.68\n",
      "2001-07-31, Close, 24.63\n",
      "2001-08-01, Close, 24.23\n",
      "2001-08-02, Close, 23.89\n"
     ]
    },
    {
     "name": "stderr",
     "output_type": "stream",
     "text": [
      "INFO:fbprophet.forecaster:Disabling yearly seasonality. Run prophet with yearly_seasonality=True to override this.\n",
      "INFO:fbprophet.forecaster:Disabling daily seasonality. Run prophet with daily_seasonality=True to override this.\n"
     ]
    },
    {
     "name": "stdout",
     "output_type": "stream",
     "text": [
      "2001-08-02, BUY CREATE, 23.89\n",
      "2001-08-03, BUY EXECUTED, Price: 42.30, Cost: 42.30, Comm 0.00\n",
      "2001-08-03, Close, 24.20\n",
      "2001-08-06, Close, 23.43\n",
      "2001-08-07, Close, 24.21\n",
      "2001-08-08, Close, 23.58\n",
      "2001-08-09, Close, 23.72\n"
     ]
    },
    {
     "name": "stderr",
     "output_type": "stream",
     "text": [
      "INFO:fbprophet.forecaster:Disabling yearly seasonality. Run prophet with yearly_seasonality=True to override this.\n",
      "INFO:fbprophet.forecaster:Disabling daily seasonality. Run prophet with daily_seasonality=True to override this.\n"
     ]
    },
    {
     "name": "stdout",
     "output_type": "stream",
     "text": [
      "2001-08-09, BUY CREATE, 23.72\n",
      "2001-08-10, BUY EXECUTED, Price: 42.00, Cost: 42.00, Comm 0.00\n",
      "2001-08-10, Close, 24.10\n",
      "2001-08-13, Close, 23.91\n",
      "2001-08-14, Close, 23.69\n",
      "2001-08-15, Close, 23.65\n",
      "2001-08-16, Close, 23.55\n"
     ]
    },
    {
     "name": "stderr",
     "output_type": "stream",
     "text": [
      "INFO:fbprophet.forecaster:Disabling yearly seasonality. Run prophet with yearly_seasonality=True to override this.\n",
      "INFO:fbprophet.forecaster:Disabling daily seasonality. Run prophet with daily_seasonality=True to override this.\n"
     ]
    },
    {
     "name": "stdout",
     "output_type": "stream",
     "text": [
      "2001-08-16, BUY CREATE, 23.55\n",
      "2001-08-17, BUY EXECUTED, Price: 41.30, Cost: 41.30, Comm 0.00\n",
      "2001-08-17, Close, 23.10\n",
      "2001-08-20, Close, 23.51\n",
      "2001-08-21, Close, 22.91\n",
      "2001-08-22, Close, 23.13\n",
      "2001-08-23, Close, 23.24\n"
     ]
    },
    {
     "name": "stderr",
     "output_type": "stream",
     "text": [
      "INFO:fbprophet.forecaster:Disabling yearly seasonality. Run prophet with yearly_seasonality=True to override this.\n",
      "INFO:fbprophet.forecaster:Disabling daily seasonality. Run prophet with daily_seasonality=True to override this.\n"
     ]
    },
    {
     "name": "stdout",
     "output_type": "stream",
     "text": [
      "2001-08-23, BUY CREATE, 23.24\n",
      "2001-08-24, BUY EXECUTED, Price: 41.10, Cost: 41.10, Comm 0.00\n",
      "2001-08-24, Close, 23.77\n",
      "2001-08-27, Close, 23.88\n",
      "2001-08-28, Close, 23.34\n",
      "2001-08-29, Close, 22.99\n",
      "2001-08-30, Close, 22.76\n"
     ]
    },
    {
     "name": "stderr",
     "output_type": "stream",
     "text": [
      "INFO:fbprophet.forecaster:Disabling yearly seasonality. Run prophet with yearly_seasonality=True to override this.\n",
      "INFO:fbprophet.forecaster:Disabling daily seasonality. Run prophet with daily_seasonality=True to override this.\n"
     ]
    },
    {
     "name": "stdout",
     "output_type": "stream",
     "text": [
      "2001-08-30, BUY CREATE, 22.76\n",
      "2001-08-31, BUY EXECUTED, Price: 40.15, Cost: 40.15, Comm 0.00\n",
      "2001-08-31, Close, 23.16\n",
      "2001-09-04, Close, 23.12\n",
      "2001-09-05, Close, 23.61\n",
      "2001-09-06, Close, 22.93\n",
      "2001-09-07, Close, 22.45\n"
     ]
    },
    {
     "name": "stderr",
     "output_type": "stream",
     "text": [
      "INFO:fbprophet.forecaster:Disabling yearly seasonality. Run prophet with yearly_seasonality=True to override this.\n",
      "INFO:fbprophet.forecaster:Disabling daily seasonality. Run prophet with daily_seasonality=True to override this.\n"
     ]
    },
    {
     "name": "stdout",
     "output_type": "stream",
     "text": [
      "2001-09-07, BUY CREATE, 22.45\n",
      "2001-09-10, BUY EXECUTED, Price: 39.01, Cost: 39.01, Comm 0.00\n",
      "2001-09-10, Close, 22.28\n",
      "2001-09-17, Close, 19.90\n",
      "2001-09-18, Close, 19.16\n",
      "2001-09-19, Close, 18.40\n",
      "2001-09-20, Close, 17.19\n"
     ]
    },
    {
     "name": "stderr",
     "output_type": "stream",
     "text": [
      "INFO:fbprophet.forecaster:Disabling yearly seasonality. Run prophet with yearly_seasonality=True to override this.\n",
      "INFO:fbprophet.forecaster:Disabling daily seasonality. Run prophet with daily_seasonality=True to override this.\n"
     ]
    },
    {
     "name": "stdout",
     "output_type": "stream",
     "text": [
      "2001-09-20, BUY CREATE, 17.19\n",
      "2001-09-21, BUY EXECUTED, Price: 29.00, Cost: 29.00, Comm 0.00\n",
      "2001-09-21, Close, 17.72\n",
      "2001-09-24, Close, 19.93\n",
      "2001-09-25, Close, 20.10\n",
      "2001-09-26, Close, 20.18\n",
      "2001-09-27, Close, 20.45\n"
     ]
    },
    {
     "name": "stderr",
     "output_type": "stream",
     "text": [
      "INFO:fbprophet.forecaster:Disabling yearly seasonality. Run prophet with yearly_seasonality=True to override this.\n",
      "INFO:fbprophet.forecaster:Disabling daily seasonality. Run prophet with daily_seasonality=True to override this.\n"
     ]
    },
    {
     "name": "stdout",
     "output_type": "stream",
     "text": [
      "2001-09-27, BUY CREATE, 20.45\n",
      "2001-09-28, BUY EXECUTED, Price: 36.30, Cost: 36.30, Comm 0.00\n",
      "2001-09-28, Close, 21.16\n",
      "2001-10-01, Close, 21.41\n",
      "2001-10-02, Close, 21.64\n",
      "2001-10-03, Close, 21.70\n",
      "2001-10-04, Close, 21.26\n"
     ]
    },
    {
     "name": "stderr",
     "output_type": "stream",
     "text": [
      "INFO:fbprophet.forecaster:Disabling yearly seasonality. Run prophet with yearly_seasonality=True to override this.\n",
      "INFO:fbprophet.forecaster:Disabling daily seasonality. Run prophet with daily_seasonality=True to override this.\n"
     ]
    },
    {
     "name": "stdout",
     "output_type": "stream",
     "text": [
      "2001-10-04, SELL CREATE, 21.26\n",
      "2001-10-05, SELL EXECUTED, Price: 37.39, Cost: 42.38, Comm 0.00\n",
      "2001-10-05, Close, 21.30\n",
      "2001-10-08, Close, 20.93\n",
      "2001-10-09, Close, 20.94\n",
      "2001-10-10, Close, 21.56\n",
      "2001-10-11, Close, 22.15\n"
     ]
    },
    {
     "name": "stderr",
     "output_type": "stream",
     "text": [
      "INFO:fbprophet.forecaster:Disabling yearly seasonality. Run prophet with yearly_seasonality=True to override this.\n",
      "INFO:fbprophet.forecaster:Disabling daily seasonality. Run prophet with daily_seasonality=True to override this.\n"
     ]
    },
    {
     "name": "stdout",
     "output_type": "stream",
     "text": [
      "2001-10-11, SELL CREATE, 22.15\n",
      "2001-10-12, SELL EXECUTED, Price: 38.94, Cost: 42.38, Comm 0.00\n",
      "2001-10-12, Close, 22.18\n",
      "2001-10-15, Close, 22.10\n",
      "2001-10-16, Close, 21.88\n",
      "2001-10-17, Close, 21.13\n",
      "2001-10-18, Close, 21.19\n"
     ]
    },
    {
     "name": "stderr",
     "output_type": "stream",
     "text": [
      "INFO:fbprophet.forecaster:Disabling yearly seasonality. Run prophet with yearly_seasonality=True to override this.\n",
      "INFO:fbprophet.forecaster:Disabling daily seasonality. Run prophet with daily_seasonality=True to override this.\n"
     ]
    },
    {
     "name": "stdout",
     "output_type": "stream",
     "text": [
      "2001-10-18, SELL CREATE, 21.19\n",
      "2001-10-19, SELL EXECUTED, Price: 37.00, Cost: 42.38, Comm 0.00\n",
      "2001-10-19, Close, 21.19\n",
      "2001-10-22, Close, 21.39\n",
      "2001-10-23, Close, 21.20\n",
      "2001-10-24, Close, 21.09\n",
      "2001-10-25, Close, 21.54\n"
     ]
    },
    {
     "name": "stderr",
     "output_type": "stream",
     "text": [
      "INFO:fbprophet.forecaster:Disabling yearly seasonality. Run prophet with yearly_seasonality=True to override this.\n",
      "INFO:fbprophet.forecaster:Disabling daily seasonality. Run prophet with daily_seasonality=True to override this.\n"
     ]
    },
    {
     "name": "stdout",
     "output_type": "stream",
     "text": [
      "2001-10-25, SELL CREATE, 21.54\n",
      "2001-10-26, SELL EXECUTED, Price: 38.24, Cost: 42.38, Comm 0.00\n",
      "2001-10-26, Close, 22.11\n",
      "2001-10-29, Close, 21.29\n",
      "2001-10-30, Close, 20.67\n",
      "2001-10-31, Close, 20.71\n",
      "2001-11-01, Close, 21.56\n"
     ]
    },
    {
     "name": "stderr",
     "output_type": "stream",
     "text": [
      "INFO:fbprophet.forecaster:Disabling yearly seasonality. Run prophet with yearly_seasonality=True to override this.\n",
      "INFO:fbprophet.forecaster:Disabling daily seasonality. Run prophet with daily_seasonality=True to override this.\n"
     ]
    },
    {
     "name": "stdout",
     "output_type": "stream",
     "text": [
      "2001-11-01, SELL CREATE, 21.56\n",
      "2001-11-02, SELL EXECUTED, Price: 37.60, Cost: 42.38, Comm 0.00\n",
      "2001-11-02, Close, 21.59\n",
      "2001-11-05, Close, 22.05\n",
      "2001-11-06, Close, 22.64\n",
      "2001-11-07, Close, 22.38\n",
      "2001-11-08, Close, 22.95\n"
     ]
    },
    {
     "name": "stderr",
     "output_type": "stream",
     "text": [
      "INFO:fbprophet.forecaster:Disabling yearly seasonality. Run prophet with yearly_seasonality=True to override this.\n",
      "INFO:fbprophet.forecaster:Disabling daily seasonality. Run prophet with daily_seasonality=True to override this.\n"
     ]
    },
    {
     "name": "stdout",
     "output_type": "stream",
     "text": [
      "2001-11-08, SELL CREATE, 22.95\n",
      "2001-11-09, SELL EXECUTED, Price: 40.29, Cost: 42.38, Comm 0.00\n",
      "2001-11-09, Close, 22.98\n",
      "2001-11-12, Close, 22.42\n",
      "2001-11-13, Close, 23.07\n",
      "2001-11-14, Close, 23.25\n",
      "2001-11-15, Close, 23.63\n"
     ]
    },
    {
     "name": "stderr",
     "output_type": "stream",
     "text": [
      "INFO:fbprophet.forecaster:Disabling yearly seasonality. Run prophet with yearly_seasonality=True to override this.\n",
      "INFO:fbprophet.forecaster:Disabling daily seasonality. Run prophet with daily_seasonality=True to override this.\n"
     ]
    },
    {
     "name": "stdout",
     "output_type": "stream",
     "text": [
      "2001-11-15, SELL CREATE, 23.63\n",
      "2001-11-16, SELL EXECUTED, Price: 41.55, Cost: 42.38, Comm 0.00\n",
      "2001-11-16, Close, 23.23\n",
      "2001-11-19, Close, 23.46\n",
      "2001-11-20, Close, 23.37\n",
      "2001-11-21, Close, 23.01\n",
      "2001-11-23, Close, 23.33\n"
     ]
    },
    {
     "name": "stderr",
     "output_type": "stream",
     "text": [
      "INFO:fbprophet.forecaster:Disabling yearly seasonality. Run prophet with yearly_seasonality=True to override this.\n",
      "INFO:fbprophet.forecaster:Disabling daily seasonality. Run prophet with daily_seasonality=True to override this.\n"
     ]
    },
    {
     "name": "stdout",
     "output_type": "stream",
     "text": [
      "2001-11-23, SELL CREATE, 23.33\n",
      "2001-11-26, SELL EXECUTED, Price: 41.45, Cost: 42.38, Comm 0.00\n",
      "2001-11-26, Close, 23.50\n",
      "2001-11-27, Close, 23.36\n",
      "2001-11-28, Close, 22.38\n",
      "2001-11-29, Close, 22.60\n",
      "2001-11-30, Close, 21.90\n"
     ]
    },
    {
     "name": "stderr",
     "output_type": "stream",
     "text": [
      "INFO:fbprophet.forecaster:Disabling yearly seasonality. Run prophet with yearly_seasonality=True to override this.\n",
      "INFO:fbprophet.forecaster:Disabling daily seasonality. Run prophet with daily_seasonality=True to override this.\n"
     ]
    },
    {
     "name": "stdout",
     "output_type": "stream",
     "text": [
      "2001-11-30, SELL CREATE, 21.90\n",
      "2001-12-03, SELL EXECUTED, Price: 38.40, Cost: 42.38, Comm 0.00\n",
      "2001-12-03, Close, 21.00\n",
      "2001-12-04, Close, 21.24\n",
      "2001-12-05, Close, 21.36\n",
      "2001-12-06, Close, 21.47\n",
      "2001-12-07, Close, 21.13\n"
     ]
    },
    {
     "name": "stderr",
     "output_type": "stream",
     "text": [
      "INFO:fbprophet.forecaster:Disabling yearly seasonality. Run prophet with yearly_seasonality=True to override this.\n",
      "INFO:fbprophet.forecaster:Disabling daily seasonality. Run prophet with daily_seasonality=True to override this.\n"
     ]
    },
    {
     "name": "stdout",
     "output_type": "stream",
     "text": [
      "2001-12-07, BUY CREATE, 21.13\n",
      "2001-12-10, BUY EXECUTED, Price: 37.20, Cost: 37.20, Comm 0.00\n",
      "2001-12-10, Close, 20.93\n",
      "2001-12-11, Close, 20.92\n",
      "2001-12-12, Close, 21.07\n",
      "2001-12-13, Close, 21.07\n",
      "2001-12-14, Close, 21.41\n"
     ]
    },
    {
     "name": "stderr",
     "output_type": "stream",
     "text": [
      "INFO:fbprophet.forecaster:Disabling yearly seasonality. Run prophet with yearly_seasonality=True to override this.\n",
      "INFO:fbprophet.forecaster:Disabling daily seasonality. Run prophet with daily_seasonality=True to override this.\n"
     ]
    },
    {
     "name": "stdout",
     "output_type": "stream",
     "text": [
      "2001-12-14, SELL CREATE, 21.41\n",
      "2001-12-17, SELL EXECUTED, Price: 37.80, Cost: 41.52, Comm 0.00\n",
      "2001-12-17, Close, 21.78\n",
      "2001-12-18, Close, 22.59\n",
      "2001-12-19, Close, 23.19\n",
      "2001-12-20, Close, 23.23\n",
      "2001-12-21, Close, 23.52\n"
     ]
    },
    {
     "name": "stderr",
     "output_type": "stream",
     "text": [
      "INFO:fbprophet.forecaster:Disabling yearly seasonality. Run prophet with yearly_seasonality=True to override this.\n",
      "INFO:fbprophet.forecaster:Disabling daily seasonality. Run prophet with daily_seasonality=True to override this.\n"
     ]
    },
    {
     "name": "stdout",
     "output_type": "stream",
     "text": [
      "2001-12-21, SELL CREATE, 23.52\n",
      "2001-12-24, SELL EXECUTED, Price: 41.35, Cost: 41.52, Comm 0.00\n",
      "2001-12-24, Close, 23.43\n",
      "2001-12-26, Close, 23.06\n",
      "2001-12-27, Close, 23.39\n",
      "2001-12-28, Close, 23.27\n",
      "2001-12-31, Close, 22.90\n"
     ]
    },
    {
     "name": "stderr",
     "output_type": "stream",
     "text": [
      "INFO:fbprophet.forecaster:Disabling daily seasonality. Run prophet with daily_seasonality=True to override this.\n"
     ]
    },
    {
     "name": "stdout",
     "output_type": "stream",
     "text": [
      "2001-12-31, SELL CREATE, 22.90\n",
      "2002-01-02, SELL EXECUTED, Price: 40.30, Cost: 41.52, Comm 0.00\n",
      "2002-01-02, Close, 23.39\n",
      "2002-01-03, Close, 23.20\n",
      "2002-01-04, Close, 23.39\n",
      "2002-01-07, Close, 22.48\n",
      "2002-01-08, Close, 22.25\n"
     ]
    },
    {
     "name": "stderr",
     "output_type": "stream",
     "text": [
      "INFO:fbprophet.forecaster:Disabling daily seasonality. Run prophet with daily_seasonality=True to override this.\n"
     ]
    },
    {
     "name": "stdout",
     "output_type": "stream",
     "text": [
      "2002-01-08, SELL CREATE, 22.25\n",
      "2002-01-09, SELL EXECUTED, Price: 38.70, Cost: 41.52, Comm 0.00\n",
      "2002-01-09, Close, 22.02\n",
      "2002-01-10, Close, 22.06\n",
      "2002-01-11, Close, 21.84\n",
      "2002-01-14, Close, 21.65\n",
      "2002-01-15, Close, 22.11\n"
     ]
    },
    {
     "name": "stderr",
     "output_type": "stream",
     "text": [
      "INFO:fbprophet.forecaster:Disabling daily seasonality. Run prophet with daily_seasonality=True to override this.\n"
     ]
    },
    {
     "name": "stdout",
     "output_type": "stream",
     "text": [
      "2002-01-15, SELL CREATE, 22.11\n",
      "2002-01-16, SELL EXECUTED, Price: 38.40, Cost: 41.52, Comm 0.00\n",
      "2002-01-16, Close, 21.55\n",
      "2002-01-17, Close, 22.14\n",
      "2002-01-18, Close, 22.10\n",
      "2002-01-22, Close, 21.88\n",
      "2002-01-23, Close, 21.51\n"
     ]
    },
    {
     "name": "stderr",
     "output_type": "stream",
     "text": [
      "INFO:fbprophet.forecaster:Disabling daily seasonality. Run prophet with daily_seasonality=True to override this.\n"
     ]
    },
    {
     "name": "stdout",
     "output_type": "stream",
     "text": [
      "2002-01-23, SELL CREATE, 21.51\n",
      "2002-01-24, SELL EXECUTED, Price: 38.10, Cost: 41.52, Comm 0.00\n",
      "2002-01-24, OPERATION PROFIT, GROSS -43.37, NET -43.37\n",
      "2002-01-24, Close, 21.45\n",
      "2002-01-25, Close, 21.86\n",
      "2002-01-28, Close, 21.79\n",
      "2002-01-29, Close, 20.83\n",
      "2002-01-30, Close, 21.07\n"
     ]
    },
    {
     "name": "stderr",
     "output_type": "stream",
     "text": [
      "INFO:fbprophet.forecaster:Disabling daily seasonality. Run prophet with daily_seasonality=True to override this.\n"
     ]
    },
    {
     "name": "stdout",
     "output_type": "stream",
     "text": [
      "2002-01-30, BUY CREATE, 21.07\n",
      "2002-01-31, BUY EXECUTED, Price: 37.00, Cost: 37.00, Comm 0.00\n",
      "2002-01-31, Close, 21.22\n",
      "2002-02-01, Close, 21.05\n",
      "2002-02-04, Close, 19.99\n",
      "2002-02-05, Close, 20.69\n",
      "2002-02-06, Close, 21.11\n"
     ]
    },
    {
     "name": "stderr",
     "output_type": "stream",
     "text": [
      "INFO:fbprophet.forecaster:Disabling daily seasonality. Run prophet with daily_seasonality=True to override this.\n"
     ]
    },
    {
     "name": "stdout",
     "output_type": "stream",
     "text": [
      "2002-02-06, BUY CREATE, 21.11\n",
      "2002-02-07, BUY EXECUTED, Price: 37.01, Cost: 37.01, Comm 0.00\n",
      "2002-02-07, Close, 21.25\n",
      "2002-02-08, Close, 21.28\n",
      "2002-02-11, Close, 21.59\n",
      "2002-02-12, Close, 21.42\n",
      "2002-02-13, Close, 21.77\n"
     ]
    },
    {
     "name": "stderr",
     "output_type": "stream",
     "text": [
      "INFO:fbprophet.forecaster:Disabling daily seasonality. Run prophet with daily_seasonality=True to override this.\n"
     ]
    },
    {
     "name": "stdout",
     "output_type": "stream",
     "text": [
      "2002-02-13, BUY CREATE, 21.77\n",
      "2002-02-14, BUY EXECUTED, Price: 38.10, Cost: 38.10, Comm 0.00\n",
      "2002-02-14, Close, 21.71\n",
      "2002-02-15, Close, 21.20\n",
      "2002-02-19, Close, 20.79\n",
      "2002-02-20, Close, 21.46\n",
      "2002-02-21, Close, 21.43\n"
     ]
    },
    {
     "name": "stderr",
     "output_type": "stream",
     "text": [
      "INFO:fbprophet.forecaster:Disabling daily seasonality. Run prophet with daily_seasonality=True to override this.\n"
     ]
    },
    {
     "name": "stdout",
     "output_type": "stream",
     "text": [
      "2002-02-21, BUY CREATE, 21.43\n",
      "2002-02-22, BUY EXECUTED, Price: 37.52, Cost: 37.52, Comm 0.00\n",
      "2002-02-22, Close, 21.76\n",
      "2002-02-25, Close, 22.39\n",
      "2002-02-26, Close, 22.14\n",
      "2002-02-27, Close, 22.24\n",
      "2002-02-28, Close, 22.10\n"
     ]
    },
    {
     "name": "stderr",
     "output_type": "stream",
     "text": [
      "INFO:fbprophet.forecaster:Disabling daily seasonality. Run prophet with daily_seasonality=True to override this.\n"
     ]
    },
    {
     "name": "stdout",
     "output_type": "stream",
     "text": [
      "2002-02-28, SELL CREATE, 22.10\n",
      "2002-03-01, SELL EXECUTED, Price: 39.10, Cost: 37.41, Comm 0.00\n",
      "2002-03-01, Close, 22.64\n",
      "2002-03-04, Close, 23.07\n",
      "2002-03-05, Close, 23.24\n",
      "2002-03-06, Close, 23.85\n",
      "2002-03-07, Close, 23.50\n"
     ]
    },
    {
     "name": "stderr",
     "output_type": "stream",
     "text": [
      "INFO:fbprophet.forecaster:Disabling daily seasonality. Run prophet with daily_seasonality=True to override this.\n"
     ]
    },
    {
     "name": "stdout",
     "output_type": "stream",
     "text": [
      "2002-03-07, SELL CREATE, 23.50\n",
      "2002-03-08, SELL EXECUTED, Price: 41.50, Cost: 37.41, Comm 0.00\n",
      "2002-03-08, Close, 23.30\n",
      "2002-03-11, Close, 23.62\n",
      "2002-03-12, Close, 23.59\n",
      "2002-03-13, Close, 22.96\n",
      "2002-03-14, Close, 23.19\n"
     ]
    },
    {
     "name": "stderr",
     "output_type": "stream",
     "text": [
      "INFO:fbprophet.forecaster:Disabling daily seasonality. Run prophet with daily_seasonality=True to override this.\n"
     ]
    },
    {
     "name": "stdout",
     "output_type": "stream",
     "text": [
      "2002-03-14, BUY CREATE, 23.19\n",
      "2002-03-15, BUY EXECUTED, Price: 40.55, Cost: 40.55, Comm 0.00\n",
      "2002-03-15, Close, 23.07\n",
      "2002-03-18, Close, 22.90\n",
      "2002-03-19, Close, 22.90\n",
      "2002-03-20, Close, 22.27\n",
      "2002-03-21, Close, 21.49\n"
     ]
    },
    {
     "name": "stderr",
     "output_type": "stream",
     "text": [
      "INFO:fbprophet.forecaster:Disabling daily seasonality. Run prophet with daily_seasonality=True to override this.\n"
     ]
    },
    {
     "name": "stdout",
     "output_type": "stream",
     "text": [
      "2002-03-21, BUY CREATE, 21.49\n",
      "2002-03-22, BUY EXECUTED, Price: 37.52, Cost: 37.52, Comm 0.00\n",
      "2002-03-22, Close, 21.73\n",
      "2002-03-25, Close, 21.26\n",
      "2002-03-26, Close, 21.41\n",
      "2002-03-27, Close, 21.49\n",
      "2002-03-28, Close, 21.46\n"
     ]
    },
    {
     "name": "stderr",
     "output_type": "stream",
     "text": [
      "INFO:fbprophet.forecaster:Disabling daily seasonality. Run prophet with daily_seasonality=True to override this.\n"
     ]
    },
    {
     "name": "stdout",
     "output_type": "stream",
     "text": [
      "2002-03-28, BUY CREATE, 21.46\n",
      "2002-04-01, BUY EXECUTED, Price: 37.05, Cost: 37.05, Comm 0.00\n",
      "2002-04-01, Close, 21.41\n",
      "2002-04-02, Close, 21.29\n",
      "2002-04-03, Close, 21.09\n",
      "2002-04-04, Close, 21.41\n",
      "2002-04-05, Close, 21.29\n"
     ]
    },
    {
     "name": "stderr",
     "output_type": "stream",
     "text": [
      "INFO:fbprophet.forecaster:Disabling daily seasonality. Run prophet with daily_seasonality=True to override this.\n"
     ]
    },
    {
     "name": "stdout",
     "output_type": "stream",
     "text": [
      "2002-04-05, BUY CREATE, 21.29\n",
      "2002-04-08, BUY EXECUTED, Price: 36.50, Cost: 36.50, Comm 0.00\n",
      "2002-04-08, Close, 21.16\n",
      "2002-04-09, Close, 20.92\n",
      "2002-04-10, Close, 21.35\n",
      "2002-04-11, Close, 19.37\n",
      "2002-04-12, Close, 19.26\n"
     ]
    },
    {
     "name": "stderr",
     "output_type": "stream",
     "text": [
      "INFO:fbprophet.forecaster:Disabling daily seasonality. Run prophet with daily_seasonality=True to override this.\n"
     ]
    },
    {
     "name": "stdout",
     "output_type": "stream",
     "text": [
      "2002-04-12, BUY CREATE, 19.26\n",
      "2002-04-15, BUY EXECUTED, Price: 33.10, Cost: 33.10, Comm 0.00\n",
      "2002-04-15, Close, 18.28\n",
      "2002-04-16, Close, 19.00\n",
      "2002-04-17, Close, 19.31\n",
      "2002-04-18, Close, 19.40\n",
      "2002-04-19, Close, 19.34\n"
     ]
    },
    {
     "name": "stderr",
     "output_type": "stream",
     "text": [
      "INFO:fbprophet.forecaster:Disabling daily seasonality. Run prophet with daily_seasonality=True to override this.\n"
     ]
    },
    {
     "name": "stdout",
     "output_type": "stream",
     "text": [
      "2002-04-19, BUY CREATE, 19.34\n",
      "2002-04-22, BUY EXECUTED, Price: 33.55, Cost: 33.55, Comm 0.00\n",
      "2002-04-22, Close, 18.86\n",
      "2002-04-23, Close, 18.82\n",
      "2002-04-24, Close, 18.65\n",
      "2002-04-25, Close, 18.39\n",
      "2002-04-26, Close, 18.08\n"
     ]
    },
    {
     "name": "stderr",
     "output_type": "stream",
     "text": [
      "INFO:fbprophet.forecaster:Disabling daily seasonality. Run prophet with daily_seasonality=True to override this.\n"
     ]
    },
    {
     "name": "stdout",
     "output_type": "stream",
     "text": [
      "2002-04-26, BUY CREATE, 18.08\n",
      "2002-04-29, BUY EXECUTED, Price: 31.75, Cost: 31.75, Comm 0.00\n",
      "2002-04-29, Close, 17.71\n",
      "2002-04-30, Close, 18.11\n",
      "2002-05-01, Close, 18.19\n",
      "2002-05-02, Close, 18.14\n",
      "2002-05-03, Close, 18.19\n"
     ]
    },
    {
     "name": "stderr",
     "output_type": "stream",
     "text": [
      "INFO:fbprophet.forecaster:Disabling daily seasonality. Run prophet with daily_seasonality=True to override this.\n"
     ]
    },
    {
     "name": "stdout",
     "output_type": "stream",
     "text": [
      "2002-05-03, BUY CREATE, 18.19\n",
      "2002-05-06, BUY EXECUTED, Price: 31.55, Cost: 31.55, Comm 0.00\n",
      "2002-05-06, Close, 17.77\n",
      "2002-05-07, Close, 17.59\n",
      "2002-05-08, Close, 18.85\n",
      "2002-05-09, Close, 18.07\n",
      "2002-05-10, Close, 17.59\n"
     ]
    },
    {
     "name": "stderr",
     "output_type": "stream",
     "text": [
      "INFO:fbprophet.forecaster:Disabling daily seasonality. Run prophet with daily_seasonality=True to override this.\n"
     ]
    },
    {
     "name": "stdout",
     "output_type": "stream",
     "text": [
      "2002-05-10, BUY CREATE, 17.59\n",
      "2002-05-13, BUY EXECUTED, Price: 30.55, Cost: 30.55, Comm 0.00\n",
      "2002-05-13, Close, 17.71\n",
      "2002-05-14, Close, 18.12\n",
      "2002-05-15, Close, 17.75\n",
      "2002-05-16, Close, 18.37\n",
      "2002-05-17, Close, 19.20\n"
     ]
    },
    {
     "name": "stderr",
     "output_type": "stream",
     "text": [
      "INFO:fbprophet.forecaster:Disabling daily seasonality. Run prophet with daily_seasonality=True to override this.\n"
     ]
    },
    {
     "name": "stdout",
     "output_type": "stream",
     "text": [
      "2002-05-17, BUY CREATE, 19.20\n",
      "2002-05-20, BUY EXECUTED, Price: 33.00, Cost: 33.00, Comm 0.00\n",
      "2002-05-20, Close, 18.71\n",
      "2002-05-21, Close, 18.45\n",
      "2002-05-22, Close, 18.32\n",
      "2002-05-23, Close, 18.91\n",
      "2002-05-24, Close, 18.71\n"
     ]
    },
    {
     "name": "stderr",
     "output_type": "stream",
     "text": [
      "INFO:fbprophet.forecaster:Disabling daily seasonality. Run prophet with daily_seasonality=True to override this.\n"
     ]
    },
    {
     "name": "stdout",
     "output_type": "stream",
     "text": [
      "2002-05-24, BUY CREATE, 18.71\n",
      "2002-05-28, BUY EXECUTED, Price: 32.75, Cost: 32.75, Comm 0.00\n",
      "2002-05-28, Close, 18.39\n",
      "2002-05-29, Close, 18.02\n",
      "2002-05-30, Close, 17.91\n",
      "2002-05-31, Close, 17.87\n",
      "2002-06-03, Close, 17.28\n"
     ]
    },
    {
     "name": "stderr",
     "output_type": "stream",
     "text": [
      "INFO:fbprophet.forecaster:Disabling daily seasonality. Run prophet with daily_seasonality=True to override this.\n"
     ]
    },
    {
     "name": "stdout",
     "output_type": "stream",
     "text": [
      "2002-06-03, BUY CREATE, 17.28\n",
      "2002-06-04, BUY EXECUTED, Price: 30.00, Cost: 30.00, Comm 0.00\n",
      "2002-06-04, Close, 17.25\n",
      "2002-06-05, Close, 17.30\n",
      "2002-06-06, Close, 16.82\n",
      "2002-06-07, Close, 17.33\n",
      "2002-06-10, Close, 17.19\n"
     ]
    },
    {
     "name": "stderr",
     "output_type": "stream",
     "text": [
      "INFO:fbprophet.forecaster:Disabling daily seasonality. Run prophet with daily_seasonality=True to override this.\n"
     ]
    },
    {
     "name": "stdout",
     "output_type": "stream",
     "text": [
      "2002-06-10, BUY CREATE, 17.19\n",
      "2002-06-11, BUY EXECUTED, Price: 30.10, Cost: 30.10, Comm 0.00\n",
      "2002-06-11, Close, 16.87\n",
      "2002-06-12, Close, 17.42\n",
      "2002-06-13, Close, 17.13\n",
      "2002-06-14, Close, 17.05\n",
      "2002-06-17, Close, 17.51\n"
     ]
    },
    {
     "name": "stderr",
     "output_type": "stream",
     "text": [
      "INFO:fbprophet.forecaster:Disabling daily seasonality. Run prophet with daily_seasonality=True to override this.\n"
     ]
    },
    {
     "name": "stdout",
     "output_type": "stream",
     "text": [
      "2002-06-17, SELL CREATE, 17.51\n",
      "2002-06-18, SELL EXECUTED, Price: 30.40, Cost: 34.19, Comm 0.00\n",
      "2002-06-18, Close, 17.88\n",
      "2002-06-19, Close, 17.42\n",
      "2002-06-20, Close, 17.05\n",
      "2002-06-21, Close, 16.62\n",
      "2002-06-24, Close, 16.99\n"
     ]
    },
    {
     "name": "stderr",
     "output_type": "stream",
     "text": [
      "INFO:fbprophet.forecaster:Disabling daily seasonality. Run prophet with daily_seasonality=True to override this.\n"
     ]
    },
    {
     "name": "stdout",
     "output_type": "stream",
     "text": [
      "2002-06-24, SELL CREATE, 16.99\n",
      "2002-06-25, SELL EXECUTED, Price: 29.95, Cost: 34.19, Comm 0.00\n",
      "2002-06-25, Close, 16.59\n",
      "2002-06-26, Close, 17.04\n",
      "2002-06-27, Close, 17.27\n",
      "2002-06-28, Close, 16.78\n",
      "2002-07-01, Close, 16.43\n"
     ]
    },
    {
     "name": "stderr",
     "output_type": "stream",
     "text": [
      "INFO:fbprophet.forecaster:Disabling daily seasonality. Run prophet with daily_seasonality=True to override this.\n"
     ]
    },
    {
     "name": "stdout",
     "output_type": "stream",
     "text": [
      "2002-07-01, BUY CREATE, 16.43\n",
      "2002-07-02, BUY EXECUTED, Price: 28.15, Cost: 28.15, Comm 0.00\n",
      "2002-07-02, Close, 16.23\n",
      "2002-07-03, Close, 16.11\n",
      "2002-07-05, Close, 17.15\n",
      "2002-07-08, Close, 17.00\n",
      "2002-07-09, Close, 16.34\n"
     ]
    },
    {
     "name": "stderr",
     "output_type": "stream",
     "text": [
      "INFO:fbprophet.forecaster:Disabling daily seasonality. Run prophet with daily_seasonality=True to override this.\n"
     ]
    },
    {
     "name": "stdout",
     "output_type": "stream",
     "text": [
      "2002-07-09, SELL CREATE, 16.34\n",
      "2002-07-10, SELL EXECUTED, Price: 28.40, Cost: 33.75, Comm 0.00\n",
      "2002-07-10, Close, 15.62\n",
      "2002-07-11, Close, 15.80\n",
      "2002-07-12, Close, 16.52\n",
      "2002-07-15, Close, 16.32\n",
      "2002-07-16, Close, 15.91\n"
     ]
    },
    {
     "name": "stderr",
     "output_type": "stream",
     "text": [
      "INFO:fbprophet.forecaster:Disabling daily seasonality. Run prophet with daily_seasonality=True to override this.\n"
     ]
    },
    {
     "name": "stdout",
     "output_type": "stream",
     "text": [
      "2002-07-16, SELL CREATE, 15.91\n",
      "2002-07-17, SELL EXECUTED, Price: 28.40, Cost: 33.75, Comm 0.00\n",
      "2002-07-17, Close, 16.32\n",
      "2002-07-18, Close, 16.00\n",
      "2002-07-19, Close, 15.32\n",
      "2002-07-22, Close, 14.82\n",
      "2002-07-23, Close, 14.32\n"
     ]
    },
    {
     "name": "stderr",
     "output_type": "stream",
     "text": [
      "INFO:fbprophet.forecaster:Disabling daily seasonality. Run prophet with daily_seasonality=True to override this.\n"
     ]
    },
    {
     "name": "stdout",
     "output_type": "stream",
     "text": [
      "2002-07-23, SELL CREATE, 14.32\n",
      "2002-07-24, SELL EXECUTED, Price: 24.19, Cost: 33.75, Comm 0.00\n",
      "2002-07-24, Close, 15.32\n",
      "2002-07-25, Close, 15.39\n",
      "2002-07-26, Close, 16.06\n",
      "2002-07-29, Close, 17.59\n",
      "2002-07-30, Close, 18.25\n"
     ]
    },
    {
     "name": "stderr",
     "output_type": "stream",
     "text": [
      "INFO:fbprophet.forecaster:Disabling daily seasonality. Run prophet with daily_seasonality=True to override this.\n"
     ]
    },
    {
     "name": "stdout",
     "output_type": "stream",
     "text": [
      "2002-07-30, SELL CREATE, 18.25\n",
      "2002-07-31, SELL EXECUTED, Price: 31.60, Cost: 33.75, Comm 0.00\n",
      "2002-07-31, Close, 18.60\n",
      "2002-08-01, Close, 18.13\n",
      "2002-08-02, Close, 17.04\n",
      "2002-08-05, Close, 16.34\n",
      "2002-08-06, Close, 17.12\n"
     ]
    },
    {
     "name": "stderr",
     "output_type": "stream",
     "text": [
      "INFO:fbprophet.forecaster:Disabling daily seasonality. Run prophet with daily_seasonality=True to override this.\n"
     ]
    },
    {
     "name": "stdout",
     "output_type": "stream",
     "text": [
      "2002-08-06, SELL CREATE, 17.12\n",
      "2002-08-07, SELL EXECUTED, Price: 30.47, Cost: 33.75, Comm 0.00\n",
      "2002-08-07, Close, 17.76\n",
      "2002-08-08, Close, 18.45\n",
      "2002-08-09, Close, 18.71\n",
      "2002-08-12, Close, 18.63\n",
      "2002-08-13, Close, 17.87\n"
     ]
    },
    {
     "name": "stderr",
     "output_type": "stream",
     "text": [
      "INFO:fbprophet.forecaster:Disabling daily seasonality. Run prophet with daily_seasonality=True to override this.\n"
     ]
    },
    {
     "name": "stdout",
     "output_type": "stream",
     "text": [
      "2002-08-13, SELL CREATE, 17.87\n",
      "2002-08-14, SELL EXECUTED, Price: 30.75, Cost: 33.75, Comm 0.00\n",
      "2002-08-14, Close, 18.42\n",
      "2002-08-15, Close, 18.65\n",
      "2002-08-16, Close, 18.22\n",
      "2002-08-19, Close, 18.99\n",
      "2002-08-20, Close, 18.63\n"
     ]
    },
    {
     "name": "stderr",
     "output_type": "stream",
     "text": [
      "INFO:fbprophet.forecaster:Disabling daily seasonality. Run prophet with daily_seasonality=True to override this.\n"
     ]
    },
    {
     "name": "stdout",
     "output_type": "stream",
     "text": [
      "2002-08-20, SELL CREATE, 18.63\n",
      "2002-08-21, SELL EXECUTED, Price: 32.65, Cost: 33.75, Comm 0.00\n",
      "2002-08-21, Close, 18.65\n",
      "2002-08-22, Close, 18.89\n",
      "2002-08-23, Close, 18.63\n",
      "2002-08-26, Close, 18.52\n",
      "2002-08-27, Close, 18.45\n"
     ]
    },
    {
     "name": "stderr",
     "output_type": "stream",
     "text": [
      "INFO:fbprophet.forecaster:Disabling daily seasonality. Run prophet with daily_seasonality=True to override this.\n"
     ]
    },
    {
     "name": "stdout",
     "output_type": "stream",
     "text": [
      "2002-08-27, SELL CREATE, 18.45\n",
      "2002-08-28, SELL EXECUTED, Price: 31.60, Cost: 33.75, Comm 0.00\n",
      "2002-08-28, Close, 18.08\n",
      "2002-08-29, Close, 17.53\n",
      "2002-08-30, Close, 17.41\n",
      "2002-09-03, Close, 16.44\n",
      "2002-09-04, Close, 16.58\n"
     ]
    },
    {
     "name": "stderr",
     "output_type": "stream",
     "text": [
      "INFO:fbprophet.forecaster:Disabling daily seasonality. Run prophet with daily_seasonality=True to override this.\n"
     ]
    },
    {
     "name": "stdout",
     "output_type": "stream",
     "text": [
      "2002-09-04, SELL CREATE, 16.58\n",
      "2002-09-05, SELL EXECUTED, Price: 28.30, Cost: 33.75, Comm 0.00\n",
      "2002-09-05, Close, 16.17\n",
      "2002-09-06, Close, 16.34\n",
      "2002-09-09, Close, 16.62\n",
      "2002-09-10, Close, 16.79\n",
      "2002-09-11, Close, 16.75\n"
     ]
    },
    {
     "name": "stderr",
     "output_type": "stream",
     "text": [
      "INFO:fbprophet.forecaster:Disabling daily seasonality. Run prophet with daily_seasonality=True to override this.\n"
     ]
    },
    {
     "name": "stdout",
     "output_type": "stream",
     "text": [
      "2002-09-11, SELL CREATE, 16.75\n",
      "2002-09-12, SELL EXECUTED, Price: 28.75, Cost: 33.75, Comm 0.00\n",
      "2002-09-12, Close, 16.17\n",
      "2002-09-13, Close, 15.62\n",
      "2002-09-16, Close, 16.11\n",
      "2002-09-17, Close, 16.00\n",
      "2002-09-18, Close, 15.80\n"
     ]
    },
    {
     "name": "stderr",
     "output_type": "stream",
     "text": [
      "INFO:fbprophet.forecaster:Disabling daily seasonality. Run prophet with daily_seasonality=True to override this.\n"
     ]
    },
    {
     "name": "stdout",
     "output_type": "stream",
     "text": [
      "2002-09-18, SELL CREATE, 15.80\n",
      "2002-09-19, SELL EXECUTED, Price: 26.75, Cost: 33.75, Comm 0.00\n",
      "2002-09-19, Close, 15.33\n",
      "2002-09-20, Close, 15.45\n",
      "2002-09-23, Close, 15.25\n",
      "2002-09-24, Close, 14.96\n",
      "2002-09-25, Close, 15.70\n"
     ]
    },
    {
     "name": "stderr",
     "output_type": "stream",
     "text": [
      "INFO:fbprophet.forecaster:Disabling daily seasonality. Run prophet with daily_seasonality=True to override this.\n"
     ]
    },
    {
     "name": "stdout",
     "output_type": "stream",
     "text": [
      "2002-09-25, SELL CREATE, 15.70\n",
      "2002-09-26, SELL EXECUTED, Price: 27.50, Cost: 33.75, Comm 0.00\n",
      "2002-09-26, Close, 15.35\n",
      "2002-09-27, Close, 14.23\n",
      "2002-09-30, Close, 14.34\n",
      "2002-10-01, Close, 15.24\n",
      "2002-10-02, Close, 14.42\n"
     ]
    },
    {
     "name": "stderr",
     "output_type": "stream",
     "text": [
      "INFO:fbprophet.forecaster:Disabling daily seasonality. Run prophet with daily_seasonality=True to override this.\n"
     ]
    },
    {
     "name": "stdout",
     "output_type": "stream",
     "text": [
      "2002-10-02, SELL CREATE, 14.42\n",
      "2002-10-03, SELL EXECUTED, Price: 24.85, Cost: 33.75, Comm 0.00\n",
      "2002-10-03, Close, 14.32\n",
      "2002-10-04, Close, 13.96\n",
      "2002-10-07, Close, 13.35\n",
      "2002-10-08, Close, 13.58\n",
      "2002-10-09, Close, 12.79\n"
     ]
    },
    {
     "name": "stderr",
     "output_type": "stream",
     "text": [
      "INFO:fbprophet.forecaster:Disabling daily seasonality. Run prophet with daily_seasonality=True to override this.\n"
     ]
    },
    {
     "name": "stdout",
     "output_type": "stream",
     "text": [
      "2002-10-09, BUY CREATE, 12.79\n",
      "2002-10-10, BUY EXECUTED, Price: 21.65, Cost: 21.65, Comm 0.00\n",
      "2002-10-10, Close, 13.14\n",
      "2002-10-11, Close, 14.08\n",
      "2002-10-14, Close, 14.16\n",
      "2002-10-15, Close, 15.24\n",
      "2002-10-16, Close, 14.89\n"
     ]
    },
    {
     "name": "stderr",
     "output_type": "stream",
     "text": [
      "INFO:fbprophet.forecaster:Disabling daily seasonality. Run prophet with daily_seasonality=True to override this.\n"
     ]
    },
    {
     "name": "stdout",
     "output_type": "stream",
     "text": [
      "2002-10-16, SELL CREATE, 14.89\n",
      "2002-10-17, SELL EXECUTED, Price: 26.90, Cost: 27.70, Comm 0.00\n",
      "2002-10-17, Close, 15.64\n",
      "2002-10-18, Close, 15.50\n",
      "2002-10-21, Close, 15.79\n",
      "2002-10-22, Close, 15.74\n",
      "2002-10-23, Close, 15.64\n"
     ]
    },
    {
     "name": "stderr",
     "output_type": "stream",
     "text": [
      "INFO:fbprophet.forecaster:Disabling daily seasonality. Run prophet with daily_seasonality=True to override this.\n"
     ]
    },
    {
     "name": "stdout",
     "output_type": "stream",
     "text": [
      "2002-10-23, SELL CREATE, 15.64\n",
      "2002-10-24, SELL EXECUTED, Price: 27.10, Cost: 27.70, Comm 0.00\n",
      "2002-10-24, OPERATION PROFIT, GROSS -68.24, NET -68.24\n",
      "2002-10-24, Close, 15.12\n",
      "2002-10-25, Close, 15.26\n",
      "2002-10-28, Close, 15.27\n",
      "2002-10-29, Close, 15.03\n",
      "2002-10-30, Close, 14.63\n"
     ]
    },
    {
     "name": "stderr",
     "output_type": "stream",
     "text": [
      "INFO:fbprophet.forecaster:Disabling daily seasonality. Run prophet with daily_seasonality=True to override this.\n"
     ]
    },
    {
     "name": "stdout",
     "output_type": "stream",
     "text": [
      "2002-10-31, Close, 14.68\n",
      "2002-11-01, Close, 15.12\n",
      "2002-11-04, Close, 15.41\n",
      "2002-11-05, Close, 15.41\n",
      "2002-11-06, Close, 15.47\n"
     ]
    },
    {
     "name": "stderr",
     "output_type": "stream",
     "text": [
      "INFO:fbprophet.forecaster:Disabling daily seasonality. Run prophet with daily_seasonality=True to override this.\n"
     ]
    },
    {
     "name": "stdout",
     "output_type": "stream",
     "text": [
      "2002-11-07, Close, 15.18\n",
      "2002-11-08, Close, 14.60\n",
      "2002-11-11, Close, 14.08\n",
      "2002-11-12, Close, 13.87\n",
      "2002-11-13, Close, 14.01\n"
     ]
    },
    {
     "name": "stderr",
     "output_type": "stream",
     "text": [
      "INFO:fbprophet.forecaster:Disabling daily seasonality. Run prophet with daily_seasonality=True to override this.\n"
     ]
    },
    {
     "name": "stdout",
     "output_type": "stream",
     "text": [
      "2002-11-14, Close, 14.25\n",
      "2002-11-15, Close, 13.88\n",
      "2002-11-18, Close, 13.73\n",
      "2002-11-19, Close, 13.90\n",
      "2002-11-20, Close, 14.42\n"
     ]
    },
    {
     "name": "stderr",
     "output_type": "stream",
     "text": [
      "INFO:fbprophet.forecaster:Disabling daily seasonality. Run prophet with daily_seasonality=True to override this.\n"
     ]
    },
    {
     "name": "stdout",
     "output_type": "stream",
     "text": [
      "2002-11-21, Close, 15.62\n",
      "2002-11-22, Close, 15.38\n",
      "2002-11-25, Close, 15.59\n",
      "2002-11-26, Close, 15.32\n",
      "2002-11-27, Close, 15.79\n"
     ]
    },
    {
     "name": "stderr",
     "output_type": "stream",
     "text": [
      "INFO:fbprophet.forecaster:Disabling daily seasonality. Run prophet with daily_seasonality=True to override this.\n"
     ]
    },
    {
     "name": "stdout",
     "output_type": "stream",
     "text": [
      "2002-11-29, Close, 15.77\n",
      "2002-12-02, Close, 15.82\n",
      "2002-12-03, Close, 15.56\n",
      "2002-12-04, Close, 15.42\n",
      "2002-12-05, Close, 15.00\n"
     ]
    },
    {
     "name": "stderr",
     "output_type": "stream",
     "text": [
      "INFO:fbprophet.forecaster:Disabling daily seasonality. Run prophet with daily_seasonality=True to override this.\n"
     ]
    },
    {
     "name": "stdout",
     "output_type": "stream",
     "text": [
      "2002-12-06, Close, 15.15\n",
      "2002-12-09, Close, 14.83\n",
      "2002-12-10, Close, 15.08\n",
      "2002-12-11, Close, 15.20\n",
      "2002-12-12, Close, 15.06\n"
     ]
    },
    {
     "name": "stderr",
     "output_type": "stream",
     "text": [
      "INFO:fbprophet.forecaster:Disabling daily seasonality. Run prophet with daily_seasonality=True to override this.\n"
     ]
    },
    {
     "name": "stdout",
     "output_type": "stream",
     "text": [
      "2002-12-13, Close, 14.83\n",
      "2002-12-16, Close, 15.37\n",
      "2002-12-17, Close, 15.12\n",
      "2002-12-18, Close, 14.92\n",
      "2002-12-19, Close, 14.77\n"
     ]
    },
    {
     "name": "stderr",
     "output_type": "stream",
     "text": [
      "INFO:fbprophet.forecaster:Disabling daily seasonality. Run prophet with daily_seasonality=True to override this.\n"
     ]
    },
    {
     "name": "stdout",
     "output_type": "stream",
     "text": [
      "2002-12-20, Close, 15.09\n",
      "2002-12-23, Close, 14.96\n",
      "2002-12-24, Close, 14.73\n",
      "2002-12-26, Close, 14.71\n",
      "2002-12-27, Close, 14.47\n"
     ]
    },
    {
     "name": "stderr",
     "output_type": "stream",
     "text": [
      "INFO:fbprophet.forecaster:Disabling daily seasonality. Run prophet with daily_seasonality=True to override this.\n"
     ]
    },
    {
     "name": "stdout",
     "output_type": "stream",
     "text": [
      "2002-12-27, BUY CREATE, 14.47\n",
      "2002-12-30, BUY EXECUTED, Price: 24.53, Cost: 24.53, Comm 0.00\n",
      "2002-12-30, Close, 14.36\n",
      "2002-12-31, Close, 14.27\n",
      "2003-01-02, Close, 14.93\n",
      "2003-01-03, Close, 14.88\n",
      "2003-01-06, Close, 15.26\n"
     ]
    },
    {
     "name": "stderr",
     "output_type": "stream",
     "text": [
      "INFO:fbprophet.forecaster:Disabling daily seasonality. Run prophet with daily_seasonality=True to override this.\n"
     ]
    },
    {
     "name": "stdout",
     "output_type": "stream",
     "text": [
      "2003-01-06, SELL CREATE, 15.26\n",
      "2003-01-07, SELL EXECUTED, Price: 25.99, Cost: 24.53, Comm 0.00\n",
      "2003-01-07, OPERATION PROFIT, GROSS 1.46, NET 1.46\n",
      "2003-01-07, Close, 15.18\n",
      "2003-01-08, Close, 14.94\n",
      "2003-01-09, Close, 15.18\n",
      "2003-01-10, Close, 15.03\n",
      "2003-01-13, Close, 15.02\n"
     ]
    },
    {
     "name": "stderr",
     "output_type": "stream",
     "text": [
      "INFO:fbprophet.forecaster:Disabling daily seasonality. Run prophet with daily_seasonality=True to override this.\n"
     ]
    },
    {
     "name": "stdout",
     "output_type": "stream",
     "text": [
      "2003-01-14, Close, 15.07\n",
      "2003-01-15, Close, 14.76\n",
      "2003-01-16, Close, 14.67\n",
      "2003-01-17, Close, 14.58\n",
      "2003-01-21, Close, 14.10\n"
     ]
    },
    {
     "name": "stderr",
     "output_type": "stream",
     "text": [
      "INFO:fbprophet.forecaster:Disabling daily seasonality. Run prophet with daily_seasonality=True to override this.\n"
     ]
    },
    {
     "name": "stdout",
     "output_type": "stream",
     "text": [
      "2003-01-22, Close, 13.80\n",
      "2003-01-23, Close, 14.03\n",
      "2003-01-24, Close, 13.51\n",
      "2003-01-27, Close, 13.51\n",
      "2003-01-28, Close, 13.57\n"
     ]
    },
    {
     "name": "stderr",
     "output_type": "stream",
     "text": [
      "INFO:fbprophet.forecaster:Disabling daily seasonality. Run prophet with daily_seasonality=True to override this.\n"
     ]
    },
    {
     "name": "stdout",
     "output_type": "stream",
     "text": [
      "2003-01-29, Close, 13.49\n",
      "2003-01-30, Close, 13.21\n",
      "2003-01-31, Close, 13.56\n",
      "2003-02-03, Close, 13.86\n",
      "2003-02-04, Close, 13.51\n"
     ]
    },
    {
     "name": "stderr",
     "output_type": "stream",
     "text": [
      "INFO:fbprophet.forecaster:Disabling daily seasonality. Run prophet with daily_seasonality=True to override this.\n"
     ]
    },
    {
     "name": "stdout",
     "output_type": "stream",
     "text": [
      "2003-02-05, Close, 13.48\n",
      "2003-02-06, Close, 13.41\n",
      "2003-02-07, Close, 13.30\n",
      "2003-02-10, Close, 13.26\n",
      "2003-02-11, Close, 13.18\n"
     ]
    },
    {
     "name": "stderr",
     "output_type": "stream",
     "text": [
      "INFO:fbprophet.forecaster:Disabling daily seasonality. Run prophet with daily_seasonality=True to override this.\n"
     ]
    },
    {
     "name": "stdout",
     "output_type": "stream",
     "text": [
      "2003-02-11, BUY CREATE, 13.18\n",
      "2003-02-12, BUY EXECUTED, Price: 22.50, Cost: 22.50, Comm 0.00\n",
      "2003-02-12, Close, 13.04\n",
      "2003-02-13, Close, 12.99\n",
      "2003-02-14, Close, 13.17\n",
      "2003-02-18, Close, 13.42\n",
      "2003-02-19, Close, 13.68\n"
     ]
    },
    {
     "name": "stderr",
     "output_type": "stream",
     "text": [
      "INFO:fbprophet.forecaster:Disabling daily seasonality. Run prophet with daily_seasonality=True to override this.\n"
     ]
    },
    {
     "name": "stdout",
     "output_type": "stream",
     "text": [
      "2003-02-19, SELL CREATE, 13.68\n",
      "2003-02-20, SELL EXECUTED, Price: 23.30, Cost: 22.50, Comm 0.00\n",
      "2003-02-20, OPERATION PROFIT, GROSS 0.80, NET 0.80\n",
      "2003-02-20, Close, 13.68\n",
      "2003-02-21, Close, 13.95\n",
      "2003-02-24, Close, 13.72\n",
      "2003-02-25, Close, 14.05\n",
      "2003-02-26, Close, 13.80\n"
     ]
    },
    {
     "name": "stderr",
     "output_type": "stream",
     "text": [
      "INFO:fbprophet.forecaster:Disabling daily seasonality. Run prophet with daily_seasonality=True to override this.\n"
     ]
    },
    {
     "name": "stdout",
     "output_type": "stream",
     "text": [
      "2003-02-27, Close, 14.12\n",
      "2003-02-28, Close, 14.21\n",
      "2003-03-03, Close, 14.12\n",
      "2003-03-04, Close, 13.82\n",
      "2003-03-05, Close, 14.06\n"
     ]
    },
    {
     "name": "stderr",
     "output_type": "stream",
     "text": [
      "INFO:fbprophet.forecaster:Disabling daily seasonality. Run prophet with daily_seasonality=True to override this.\n"
     ]
    },
    {
     "name": "stdout",
     "output_type": "stream",
     "text": [
      "2003-03-06, Close, 14.15\n",
      "2003-03-07, Close, 14.35\n",
      "2003-03-10, Close, 13.94\n",
      "2003-03-11, Close, 13.79\n",
      "2003-03-12, Close, 14.06\n"
     ]
    },
    {
     "name": "stderr",
     "output_type": "stream",
     "text": [
      "INFO:fbprophet.forecaster:Disabling daily seasonality. Run prophet with daily_seasonality=True to override this.\n"
     ]
    },
    {
     "name": "stdout",
     "output_type": "stream",
     "text": [
      "2003-03-13, Close, 14.89\n",
      "2003-03-14, Close, 15.15\n",
      "2003-03-17, Close, 15.52\n",
      "2003-03-18, Close, 15.59\n",
      "2003-03-19, Close, 15.94\n"
     ]
    },
    {
     "name": "stderr",
     "output_type": "stream",
     "text": [
      "INFO:fbprophet.forecaster:Disabling daily seasonality. Run prophet with daily_seasonality=True to override this.\n"
     ]
    },
    {
     "name": "stdout",
     "output_type": "stream",
     "text": [
      "2003-03-20, Close, 15.86\n",
      "2003-03-21, Close, 16.54\n",
      "2003-03-24, Close, 15.79\n",
      "2003-03-25, Close, 15.94\n",
      "2003-03-26, Close, 15.71\n"
     ]
    },
    {
     "name": "stderr",
     "output_type": "stream",
     "text": [
      "INFO:fbprophet.forecaster:Disabling daily seasonality. Run prophet with daily_seasonality=True to override this.\n"
     ]
    },
    {
     "name": "stdout",
     "output_type": "stream",
     "text": [
      "2003-03-27, Close, 15.62\n",
      "2003-03-28, Close, 15.37\n",
      "2003-03-31, Close, 15.06\n",
      "2003-04-01, Close, 15.43\n",
      "2003-04-02, Close, 15.98\n"
     ]
    },
    {
     "name": "stderr",
     "output_type": "stream",
     "text": [
      "INFO:fbprophet.forecaster:Disabling daily seasonality. Run prophet with daily_seasonality=True to override this.\n"
     ]
    },
    {
     "name": "stdout",
     "output_type": "stream",
     "text": [
      "2003-04-03, Close, 16.27\n",
      "2003-04-04, Close, 16.32\n",
      "2003-04-07, Close, 16.40\n",
      "2003-04-08, Close, 16.57\n",
      "2003-04-09, Close, 16.12\n"
     ]
    },
    {
     "name": "stderr",
     "output_type": "stream",
     "text": [
      "INFO:fbprophet.forecaster:Disabling daily seasonality. Run prophet with daily_seasonality=True to override this.\n"
     ]
    },
    {
     "name": "stdout",
     "output_type": "stream",
     "text": [
      "2003-04-10, Close, 16.17\n",
      "2003-04-11, Close, 16.33\n",
      "2003-04-14, Close, 16.40\n",
      "2003-04-15, Close, 16.72\n",
      "2003-04-16, Close, 16.44\n"
     ]
    },
    {
     "name": "stderr",
     "output_type": "stream",
     "text": [
      "INFO:fbprophet.forecaster:Disabling daily seasonality. Run prophet with daily_seasonality=True to override this.\n"
     ]
    },
    {
     "name": "stdout",
     "output_type": "stream",
     "text": [
      "2003-04-17, Close, 16.83\n",
      "2003-04-21, Close, 16.63\n",
      "2003-04-22, Close, 17.12\n",
      "2003-04-23, Close, 17.36\n",
      "2003-04-24, Close, 17.19\n"
     ]
    },
    {
     "name": "stderr",
     "output_type": "stream",
     "text": [
      "INFO:fbprophet.forecaster:Disabling daily seasonality. Run prophet with daily_seasonality=True to override this.\n"
     ]
    },
    {
     "name": "stdout",
     "output_type": "stream",
     "text": [
      "2003-04-25, Close, 17.19\n",
      "2003-04-28, Close, 17.44\n",
      "2003-04-29, Close, 17.37\n",
      "2003-04-30, Close, 17.39\n",
      "2003-05-01, Close, 17.19\n"
     ]
    },
    {
     "name": "stderr",
     "output_type": "stream",
     "text": [
      "INFO:fbprophet.forecaster:Disabling daily seasonality. Run prophet with daily_seasonality=True to override this.\n"
     ]
    },
    {
     "name": "stdout",
     "output_type": "stream",
     "text": [
      "2003-05-02, Close, 17.18\n",
      "2003-05-05, Close, 17.03\n",
      "2003-05-06, Close, 17.20\n",
      "2003-05-07, Close, 17.04\n",
      "2003-05-08, Close, 16.82\n"
     ]
    },
    {
     "name": "stderr",
     "output_type": "stream",
     "text": [
      "INFO:fbprophet.forecaster:Disabling daily seasonality. Run prophet with daily_seasonality=True to override this.\n"
     ]
    },
    {
     "name": "stdout",
     "output_type": "stream",
     "text": [
      "2003-05-08, BUY CREATE, 16.82\n",
      "2003-05-09, BUY EXECUTED, Price: 28.60, Cost: 28.60, Comm 0.00\n",
      "2003-05-09, Close, 17.13\n",
      "2003-05-12, Close, 17.11\n",
      "2003-05-13, Close, 16.86\n",
      "2003-05-14, Close, 16.90\n",
      "2003-05-15, Close, 16.82\n"
     ]
    },
    {
     "name": "stderr",
     "output_type": "stream",
     "text": [
      "INFO:fbprophet.forecaster:Disabling daily seasonality. Run prophet with daily_seasonality=True to override this.\n"
     ]
    },
    {
     "name": "stdout",
     "output_type": "stream",
     "text": [
      "2003-05-15, BUY CREATE, 16.82\n",
      "2003-05-16, BUY EXECUTED, Price: 28.40, Cost: 28.40, Comm 0.00\n",
      "2003-05-16, Close, 16.45\n",
      "2003-05-19, Close, 16.27\n",
      "2003-05-20, Close, 16.38\n",
      "2003-05-21, Close, 16.30\n",
      "2003-05-22, Close, 16.38\n"
     ]
    },
    {
     "name": "stderr",
     "output_type": "stream",
     "text": [
      "INFO:fbprophet.forecaster:Disabling daily seasonality. Run prophet with daily_seasonality=True to override this.\n"
     ]
    },
    {
     "name": "stdout",
     "output_type": "stream",
     "text": [
      "2003-05-22, BUY CREATE, 16.38\n",
      "2003-05-23, BUY EXECUTED, Price: 27.73, Cost: 27.73, Comm 0.00\n",
      "2003-05-23, Close, 16.33\n",
      "2003-05-27, Close, 16.72\n",
      "2003-05-28, Close, 16.70\n",
      "2003-05-29, Close, 16.69\n",
      "2003-05-30, Close, 16.95\n"
     ]
    },
    {
     "name": "stderr",
     "output_type": "stream",
     "text": [
      "INFO:fbprophet.forecaster:Disabling daily seasonality. Run prophet with daily_seasonality=True to override this.\n"
     ]
    },
    {
     "name": "stdout",
     "output_type": "stream",
     "text": [
      "2003-05-30, BUY CREATE, 16.95\n",
      "2003-06-02, BUY EXECUTED, Price: 29.42, Cost: 29.42, Comm 0.00\n",
      "2003-06-02, Close, 17.13\n",
      "2003-06-03, Close, 17.16\n",
      "2003-06-04, Close, 17.34\n",
      "2003-06-05, Close, 17.59\n",
      "2003-06-06, Close, 17.90\n"
     ]
    },
    {
     "name": "stderr",
     "output_type": "stream",
     "text": [
      "INFO:fbprophet.forecaster:Disabling daily seasonality. Run prophet with daily_seasonality=True to override this.\n"
     ]
    },
    {
     "name": "stdout",
     "output_type": "stream",
     "text": [
      "2003-06-06, SELL CREATE, 17.90\n",
      "2003-06-09, SELL EXECUTED, Price: 30.05, Cost: 28.54, Comm 0.00\n",
      "2003-06-09, Close, 17.80\n",
      "2003-06-10, Close, 18.07\n",
      "2003-06-11, Close, 18.30\n",
      "2003-06-12, Close, 18.35\n",
      "2003-06-13, Close, 18.10\n"
     ]
    },
    {
     "name": "stderr",
     "output_type": "stream",
     "text": [
      "INFO:fbprophet.forecaster:Disabling daily seasonality. Run prophet with daily_seasonality=True to override this.\n"
     ]
    },
    {
     "name": "stdout",
     "output_type": "stream",
     "text": [
      "2003-06-13, SELL CREATE, 18.10\n",
      "2003-06-16, SELL EXECUTED, Price: 30.85, Cost: 28.54, Comm 0.00\n",
      "2003-06-16, Close, 18.51\n",
      "2003-06-17, Close, 18.43\n",
      "2003-06-18, Close, 18.15\n",
      "2003-06-19, Close, 17.64\n",
      "2003-06-20, Close, 17.73\n"
     ]
    },
    {
     "name": "stderr",
     "output_type": "stream",
     "text": [
      "INFO:fbprophet.forecaster:Disabling daily seasonality. Run prophet with daily_seasonality=True to override this.\n"
     ]
    },
    {
     "name": "stdout",
     "output_type": "stream",
     "text": [
      "2003-06-20, SELL CREATE, 17.73\n",
      "2003-06-23, SELL EXECUTED, Price: 29.96, Cost: 28.54, Comm 0.00\n",
      "2003-06-23, Close, 17.64\n",
      "2003-06-24, Close, 17.68\n",
      "2003-06-25, Close, 17.28\n",
      "2003-06-26, Close, 17.33\n",
      "2003-06-27, Close, 17.01\n"
     ]
    },
    {
     "name": "stderr",
     "output_type": "stream",
     "text": [
      "INFO:fbprophet.forecaster:Disabling daily seasonality. Run prophet with daily_seasonality=True to override this.\n"
     ]
    },
    {
     "name": "stdout",
     "output_type": "stream",
     "text": [
      "2003-06-27, BUY CREATE, 17.01\n",
      "2003-06-30, BUY EXECUTED, Price: 28.72, Cost: 28.72, Comm 0.00\n",
      "2003-06-30, Close, 17.05\n",
      "2003-07-01, Close, 17.02\n",
      "2003-07-02, Close, 17.01\n",
      "2003-07-03, Close, 16.97\n",
      "2003-07-07, Close, 17.40\n"
     ]
    },
    {
     "name": "stderr",
     "output_type": "stream",
     "text": [
      "INFO:fbprophet.forecaster:Disabling daily seasonality. Run prophet with daily_seasonality=True to override this.\n"
     ]
    },
    {
     "name": "stdout",
     "output_type": "stream",
     "text": [
      "2003-07-07, SELL CREATE, 17.40\n",
      "2003-07-08, SELL EXECUTED, Price: 29.27, Cost: 28.63, Comm 0.00\n",
      "2003-07-08, Close, 17.13\n",
      "2003-07-09, Close, 16.87\n",
      "2003-07-10, Close, 16.76\n",
      "2003-07-11, Close, 16.72\n",
      "2003-07-14, Close, 16.67\n"
     ]
    },
    {
     "name": "stderr",
     "output_type": "stream",
     "text": [
      "INFO:fbprophet.forecaster:Disabling daily seasonality. Run prophet with daily_seasonality=True to override this.\n"
     ]
    },
    {
     "name": "stdout",
     "output_type": "stream",
     "text": [
      "2003-07-14, BUY CREATE, 16.67\n",
      "2003-07-15, BUY EXECUTED, Price: 28.24, Cost: 28.24, Comm 0.00\n",
      "2003-07-15, Close, 16.45\n",
      "2003-07-16, Close, 16.28\n",
      "2003-07-17, Close, 16.11\n",
      "2003-07-18, Close, 16.52\n",
      "2003-07-21, Close, 16.15\n"
     ]
    },
    {
     "name": "stderr",
     "output_type": "stream",
     "text": [
      "INFO:fbprophet.forecaster:Disabling daily seasonality. Run prophet with daily_seasonality=True to override this.\n"
     ]
    },
    {
     "name": "stdout",
     "output_type": "stream",
     "text": [
      "2003-07-21, BUY CREATE, 16.15\n",
      "2003-07-22, BUY EXECUTED, Price: 27.20, Cost: 27.20, Comm 0.00\n",
      "2003-07-22, Close, 16.30\n",
      "2003-07-23, Close, 16.30\n",
      "2003-07-24, Close, 16.31\n",
      "2003-07-25, Close, 16.90\n",
      "2003-07-28, Close, 16.87\n"
     ]
    },
    {
     "name": "stderr",
     "output_type": "stream",
     "text": [
      "INFO:fbprophet.forecaster:Disabling daily seasonality. Run prophet with daily_seasonality=True to override this.\n"
     ]
    },
    {
     "name": "stdout",
     "output_type": "stream",
     "text": [
      "2003-07-28, BUY CREATE, 16.87\n",
      "2003-07-29, BUY EXECUTED, Price: 28.38, Cost: 28.38, Comm 0.00\n",
      "2003-07-29, Close, 16.59\n",
      "2003-07-30, Close, 16.63\n",
      "2003-07-31, Close, 16.91\n",
      "2003-08-01, Close, 16.92\n",
      "2003-08-04, Close, 16.93\n"
     ]
    },
    {
     "name": "stderr",
     "output_type": "stream",
     "text": [
      "INFO:fbprophet.forecaster:Disabling daily seasonality. Run prophet with daily_seasonality=True to override this.\n"
     ]
    },
    {
     "name": "stdout",
     "output_type": "stream",
     "text": [
      "2003-08-04, BUY CREATE, 16.93\n",
      "2003-08-05, BUY EXECUTED, Price: 28.26, Cost: 28.26, Comm 0.00\n",
      "2003-08-05, Close, 16.53\n",
      "2003-08-06, Close, 16.46\n",
      "2003-08-07, Close, 16.69\n",
      "2003-08-08, Close, 16.69\n",
      "2003-08-11, Close, 16.81\n"
     ]
    },
    {
     "name": "stderr",
     "output_type": "stream",
     "text": [
      "INFO:fbprophet.forecaster:Disabling daily seasonality. Run prophet with daily_seasonality=True to override this.\n"
     ]
    },
    {
     "name": "stdout",
     "output_type": "stream",
     "text": [
      "2003-08-11, BUY CREATE, 16.81\n",
      "2003-08-12, BUY EXECUTED, Price: 28.32, Cost: 28.32, Comm 0.00\n",
      "2003-08-12, Close, 16.84\n",
      "2003-08-13, Close, 16.66\n",
      "2003-08-14, Close, 16.97\n",
      "2003-08-15, Close, 17.11\n",
      "2003-08-18, Close, 17.72\n"
     ]
    },
    {
     "name": "stderr",
     "output_type": "stream",
     "text": [
      "INFO:fbprophet.forecaster:Disabling daily seasonality. Run prophet with daily_seasonality=True to override this.\n"
     ]
    },
    {
     "name": "stdout",
     "output_type": "stream",
     "text": [
      "2003-08-18, BUY CREATE, 17.72\n",
      "2003-08-19, BUY EXECUTED, Price: 29.90, Cost: 29.90, Comm 0.00\n",
      "2003-08-19, Close, 17.75\n",
      "2003-08-20, Close, 17.51\n",
      "2003-08-21, Close, 17.93\n",
      "2003-08-22, Close, 17.76\n",
      "2003-08-25, Close, 17.75\n"
     ]
    },
    {
     "name": "stderr",
     "output_type": "stream",
     "text": [
      "INFO:fbprophet.forecaster:Disabling daily seasonality. Run prophet with daily_seasonality=True to override this.\n"
     ]
    },
    {
     "name": "stdout",
     "output_type": "stream",
     "text": [
      "2003-08-25, BUY CREATE, 17.75\n",
      "2003-08-26, BUY EXECUTED, Price: 29.65, Cost: 29.65, Comm 0.00\n",
      "2003-08-26, Close, 17.76\n",
      "2003-08-27, Close, 17.69\n",
      "2003-08-28, Close, 17.65\n",
      "2003-08-29, Close, 17.58\n",
      "2003-09-02, Close, 18.10\n"
     ]
    },
    {
     "name": "stderr",
     "output_type": "stream",
     "text": [
      "INFO:fbprophet.forecaster:Disabling daily seasonality. Run prophet with daily_seasonality=True to override this.\n"
     ]
    },
    {
     "name": "stdout",
     "output_type": "stream",
     "text": [
      "2003-09-02, SELL CREATE, 18.10\n",
      "2003-09-03, SELL EXECUTED, Price: 30.55, Cost: 28.57, Comm 0.00\n",
      "2003-09-03, Close, 18.50\n",
      "2003-09-04, Close, 18.62\n",
      "2003-09-05, Close, 18.45\n",
      "2003-09-08, Close, 18.66\n",
      "2003-09-09, Close, 18.52\n"
     ]
    },
    {
     "name": "stderr",
     "output_type": "stream",
     "text": [
      "INFO:fbprophet.forecaster:Disabling daily seasonality. Run prophet with daily_seasonality=True to override this.\n"
     ]
    },
    {
     "name": "stdout",
     "output_type": "stream",
     "text": [
      "2003-09-09, SELL CREATE, 18.52\n",
      "2003-09-10, SELL EXECUTED, Price: 31.05, Cost: 28.57, Comm 0.00\n",
      "2003-09-10, Close, 18.45\n",
      "2003-09-11, Close, 18.72\n",
      "2003-09-12, Close, 18.74\n",
      "2003-09-15, Close, 18.67\n",
      "2003-09-16, Close, 18.98\n"
     ]
    },
    {
     "name": "stderr",
     "output_type": "stream",
     "text": [
      "INFO:fbprophet.forecaster:Disabling daily seasonality. Run prophet with daily_seasonality=True to override this.\n"
     ]
    },
    {
     "name": "stdout",
     "output_type": "stream",
     "text": [
      "2003-09-16, SELL CREATE, 18.98\n",
      "2003-09-17, SELL EXECUTED, Price: 31.78, Cost: 28.57, Comm 0.00\n",
      "2003-09-17, Close, 18.86\n",
      "2003-09-18, Close, 19.09\n",
      "2003-09-19, Close, 18.98\n",
      "2003-09-22, Close, 18.67\n",
      "2003-09-23, Close, 18.76\n"
     ]
    },
    {
     "name": "stderr",
     "output_type": "stream",
     "text": [
      "INFO:fbprophet.forecaster:Disabling daily seasonality. Run prophet with daily_seasonality=True to override this.\n"
     ]
    },
    {
     "name": "stdout",
     "output_type": "stream",
     "text": [
      "2003-09-23, SELL CREATE, 18.76\n",
      "2003-09-24, SELL EXECUTED, Price: 31.60, Cost: 28.57, Comm 0.00\n",
      "2003-09-24, Close, 18.32\n",
      "2003-09-25, Close, 18.17\n",
      "2003-09-26, Close, 17.87\n",
      "2003-09-29, Close, 18.17\n",
      "2003-09-30, Close, 17.83\n"
     ]
    },
    {
     "name": "stderr",
     "output_type": "stream",
     "text": [
      "INFO:fbprophet.forecaster:Disabling daily seasonality. Run prophet with daily_seasonality=True to override this.\n"
     ]
    },
    {
     "name": "stdout",
     "output_type": "stream",
     "text": [
      "2003-09-30, SELL CREATE, 17.83\n",
      "2003-10-01, SELL EXECUTED, Price: 29.81, Cost: 28.57, Comm 0.00\n",
      "2003-10-01, Close, 18.32\n",
      "2003-10-02, Close, 18.39\n",
      "2003-10-03, Close, 18.44\n",
      "2003-10-06, Close, 18.42\n",
      "2003-10-07, Close, 18.33\n"
     ]
    },
    {
     "name": "stderr",
     "output_type": "stream",
     "text": [
      "INFO:fbprophet.forecaster:Disabling daily seasonality. Run prophet with daily_seasonality=True to override this.\n"
     ]
    },
    {
     "name": "stdout",
     "output_type": "stream",
     "text": [
      "2003-10-07, SELL CREATE, 18.33\n",
      "2003-10-08, SELL EXECUTED, Price: 30.55, Cost: 28.57, Comm 0.00\n",
      "2003-10-08, Close, 18.07\n",
      "2003-10-09, Close, 18.02\n",
      "2003-10-10, Close, 17.54\n",
      "2003-10-13, Close, 17.31\n",
      "2003-10-14, Close, 17.52\n"
     ]
    },
    {
     "name": "stderr",
     "output_type": "stream",
     "text": [
      "INFO:fbprophet.forecaster:Disabling daily seasonality. Run prophet with daily_seasonality=True to override this.\n"
     ]
    },
    {
     "name": "stdout",
     "output_type": "stream",
     "text": [
      "2003-10-14, SELL CREATE, 17.52\n",
      "2003-10-15, SELL EXECUTED, Price: 29.41, Cost: 28.57, Comm 0.00\n",
      "2003-10-15, Close, 17.26\n",
      "2003-10-16, Close, 17.36\n",
      "2003-10-17, Close, 17.08\n",
      "2003-10-20, Close, 17.22\n",
      "2003-10-21, Close, 17.28\n"
     ]
    },
    {
     "name": "stderr",
     "output_type": "stream",
     "text": [
      "INFO:fbprophet.forecaster:Disabling daily seasonality. Run prophet with daily_seasonality=True to override this.\n"
     ]
    },
    {
     "name": "stdout",
     "output_type": "stream",
     "text": [
      "2003-10-21, BUY CREATE, 17.28\n",
      "2003-10-22, BUY EXECUTED, Price: 28.78, Cost: 28.78, Comm 0.00\n",
      "2003-10-22, Close, 16.96\n",
      "2003-10-23, Close, 16.98\n",
      "2003-10-24, Close, 16.93\n",
      "2003-10-27, Close, 16.88\n",
      "2003-10-28, Close, 17.06\n"
     ]
    },
    {
     "name": "stderr",
     "output_type": "stream",
     "text": [
      "INFO:fbprophet.forecaster:Disabling daily seasonality. Run prophet with daily_seasonality=True to override this.\n"
     ]
    },
    {
     "name": "stdout",
     "output_type": "stream",
     "text": [
      "2003-10-28, BUY CREATE, 17.06\n",
      "2003-10-29, BUY EXECUTED, Price: 28.52, Cost: 28.52, Comm 0.00\n",
      "2003-10-29, Close, 17.25\n",
      "2003-10-30, Close, 17.28\n",
      "2003-10-31, Close, 17.35\n",
      "2003-11-03, Close, 17.23\n",
      "2003-11-04, Close, 17.14\n"
     ]
    },
    {
     "name": "stderr",
     "output_type": "stream",
     "text": [
      "INFO:fbprophet.forecaster:Disabling daily seasonality. Run prophet with daily_seasonality=True to override this.\n"
     ]
    },
    {
     "name": "stdout",
     "output_type": "stream",
     "text": [
      "2003-11-04, BUY CREATE, 17.14\n",
      "2003-11-05, BUY EXECUTED, Price: 28.41, Cost: 28.41, Comm 0.00\n",
      "2003-11-05, Close, 17.01\n",
      "2003-11-06, Close, 17.01\n",
      "2003-11-07, Close, 16.82\n",
      "2003-11-10, Close, 16.85\n",
      "2003-11-11, Close, 16.82\n"
     ]
    },
    {
     "name": "stderr",
     "output_type": "stream",
     "text": [
      "INFO:fbprophet.forecaster:Disabling daily seasonality. Run prophet with daily_seasonality=True to override this.\n"
     ]
    },
    {
     "name": "stdout",
     "output_type": "stream",
     "text": [
      "2003-11-11, BUY CREATE, 16.82\n",
      "2003-11-12, BUY EXECUTED, Price: 28.12, Cost: 28.12, Comm 0.00\n",
      "2003-11-12, Close, 17.17\n",
      "2003-11-13, Close, 16.95\n",
      "2003-11-14, Close, 16.68\n",
      "2003-11-17, Close, 16.64\n",
      "2003-11-18, Close, 17.01\n"
     ]
    },
    {
     "name": "stderr",
     "output_type": "stream",
     "text": [
      "INFO:fbprophet.forecaster:Disabling daily seasonality. Run prophet with daily_seasonality=True to override this.\n"
     ]
    },
    {
     "name": "stdout",
     "output_type": "stream",
     "text": [
      "2003-11-18, BUY CREATE, 17.01\n",
      "2003-11-19, BUY EXECUTED, Price: 29.00, Cost: 29.00, Comm 0.00\n",
      "2003-11-19, Close, 17.63\n",
      "2003-11-20, Close, 17.32\n",
      "2003-11-21, Close, 17.08\n",
      "2003-11-24, Close, 17.20\n",
      "2003-11-25, Close, 17.29\n"
     ]
    },
    {
     "name": "stderr",
     "output_type": "stream",
     "text": [
      "INFO:fbprophet.forecaster:Disabling daily seasonality. Run prophet with daily_seasonality=True to override this.\n"
     ]
    },
    {
     "name": "stdout",
     "output_type": "stream",
     "text": [
      "2003-11-25, BUY CREATE, 17.29\n",
      "2003-11-26, BUY EXECUTED, Price: 29.11, Cost: 29.11, Comm 0.00\n",
      "2003-11-26, Close, 17.21\n",
      "2003-11-28, Close, 17.15\n",
      "2003-12-01, Close, 17.37\n",
      "2003-12-02, Close, 17.63\n",
      "2003-12-03, Close, 17.66\n"
     ]
    },
    {
     "name": "stderr",
     "output_type": "stream",
     "text": [
      "INFO:fbprophet.forecaster:Disabling daily seasonality. Run prophet with daily_seasonality=True to override this.\n"
     ]
    },
    {
     "name": "stdout",
     "output_type": "stream",
     "text": [
      "2003-12-03, BUY CREATE, 17.66\n",
      "2003-12-04, BUY EXECUTED, Price: 29.40, Cost: 29.40, Comm 0.00\n",
      "2003-12-04, Close, 17.44\n",
      "2003-12-05, Close, 17.41\n",
      "2003-12-08, Close, 17.57\n",
      "2003-12-09, Close, 17.68\n",
      "2003-12-10, Close, 17.78\n"
     ]
    },
    {
     "name": "stderr",
     "output_type": "stream",
     "text": [
      "INFO:fbprophet.forecaster:Disabling daily seasonality. Run prophet with daily_seasonality=True to override this.\n"
     ]
    },
    {
     "name": "stdout",
     "output_type": "stream",
     "text": [
      "2003-12-10, SELL CREATE, 17.78\n",
      "2003-12-11, SELL EXECUTED, Price: 29.74, Cost: 28.74, Comm 0.00\n",
      "2003-12-11, Close, 18.19\n",
      "2003-12-12, Close, 18.01\n",
      "2003-12-15, Close, 18.14\n",
      "2003-12-16, Close, 18.33\n",
      "2003-12-17, Close, 18.38\n"
     ]
    },
    {
     "name": "stderr",
     "output_type": "stream",
     "text": [
      "INFO:fbprophet.forecaster:Disabling daily seasonality. Run prophet with daily_seasonality=True to override this.\n"
     ]
    },
    {
     "name": "stdout",
     "output_type": "stream",
     "text": [
      "2003-12-17, SELL CREATE, 18.38\n",
      "2003-12-18, SELL EXECUTED, Price: 30.87, Cost: 28.74, Comm 0.00\n",
      "2003-12-18, Close, 18.45\n",
      "2003-12-19, Close, 18.48\n",
      "2003-12-22, Close, 18.54\n",
      "2003-12-23, Close, 18.60\n",
      "2003-12-24, Close, 18.48\n"
     ]
    },
    {
     "name": "stderr",
     "output_type": "stream",
     "text": [
      "INFO:fbprophet.forecaster:Disabling daily seasonality. Run prophet with daily_seasonality=True to override this.\n"
     ]
    },
    {
     "name": "stdout",
     "output_type": "stream",
     "text": [
      "2003-12-24, SELL CREATE, 18.48\n",
      "2003-12-26, SELL EXECUTED, Price: 30.89, Cost: 28.74, Comm 0.00\n",
      "2003-12-26, Close, 18.38\n",
      "2003-12-29, Close, 18.56\n",
      "2003-12-30, Close, 18.50\n",
      "2003-12-31, Close, 18.65\n",
      "2004-01-02, Close, 18.74\n"
     ]
    },
    {
     "name": "stderr",
     "output_type": "stream",
     "text": [
      "INFO:fbprophet.forecaster:Disabling daily seasonality. Run prophet with daily_seasonality=True to override this.\n"
     ]
    },
    {
     "name": "stdout",
     "output_type": "stream",
     "text": [
      "2004-01-02, SELL CREATE, 18.74\n",
      "2004-01-05, SELL EXECUTED, Price: 31.24, Cost: 28.74, Comm 0.00\n",
      "2004-01-05, Close, 19.01\n",
      "2004-01-06, Close, 18.89\n",
      "2004-01-07, Close, 19.08\n",
      "2004-01-08, Close, 19.42\n",
      "2004-01-09, Close, 19.15\n"
     ]
    },
    {
     "name": "stderr",
     "output_type": "stream",
     "text": [
      "INFO:fbprophet.forecaster:Disabling daily seasonality. Run prophet with daily_seasonality=True to override this.\n"
     ]
    },
    {
     "name": "stdout",
     "output_type": "stream",
     "text": [
      "2004-01-09, SELL CREATE, 19.15\n",
      "2004-01-12, SELL EXECUTED, Price: 31.95, Cost: 28.74, Comm 0.00\n",
      "2004-01-12, Close, 19.32\n",
      "2004-01-13, Close, 19.03\n",
      "2004-01-14, Close, 19.27\n",
      "2004-01-15, Close, 19.27\n",
      "2004-01-16, Close, 20.08\n"
     ]
    },
    {
     "name": "stderr",
     "output_type": "stream",
     "text": [
      "INFO:fbprophet.forecaster:Disabling daily seasonality. Run prophet with daily_seasonality=True to override this.\n"
     ]
    },
    {
     "name": "stdout",
     "output_type": "stream",
     "text": [
      "2004-01-16, SELL CREATE, 20.08\n",
      "2004-01-20, SELL EXECUTED, Price: 33.75, Cost: 28.74, Comm 0.00\n",
      "2004-01-20, Close, 20.09\n",
      "2004-01-21, Close, 20.38\n",
      "2004-01-22, Close, 20.18\n",
      "2004-01-23, Close, 20.00\n",
      "2004-01-26, Close, 20.56\n"
     ]
    },
    {
     "name": "stderr",
     "output_type": "stream",
     "text": [
      "INFO:fbprophet.forecaster:Disabling daily seasonality. Run prophet with daily_seasonality=True to override this.\n"
     ]
    },
    {
     "name": "stdout",
     "output_type": "stream",
     "text": [
      "2004-01-26, SELL CREATE, 20.56\n",
      "2004-01-27, SELL EXECUTED, Price: 34.25, Cost: 28.74, Comm 0.00\n",
      "2004-01-27, Close, 20.59\n",
      "2004-01-28, Close, 20.33\n",
      "2004-01-29, Close, 20.49\n",
      "2004-01-30, Close, 20.25\n",
      "2004-02-02, Close, 20.25\n"
     ]
    },
    {
     "name": "stderr",
     "output_type": "stream",
     "text": [
      "INFO:fbprophet.forecaster:Disabling daily seasonality. Run prophet with daily_seasonality=True to override this.\n"
     ]
    },
    {
     "name": "stdout",
     "output_type": "stream",
     "text": [
      "2004-02-02, SELL CREATE, 20.25\n",
      "2004-02-03, SELL EXECUTED, Price: 33.66, Cost: 28.74, Comm 0.00\n",
      "2004-02-03, OPERATION PROFIT, GROSS 47.07, NET 47.07\n",
      "2004-02-03, Close, 20.00\n",
      "2004-02-04, Close, 19.98\n",
      "2004-02-05, Close, 20.18\n",
      "2004-02-06, Close, 19.98\n",
      "2004-02-09, Close, 19.80\n"
     ]
    },
    {
     "name": "stderr",
     "output_type": "stream",
     "text": [
      "INFO:fbprophet.forecaster:Disabling daily seasonality. Run prophet with daily_seasonality=True to override this.\n"
     ]
    },
    {
     "name": "stdout",
     "output_type": "stream",
     "text": [
      "2004-02-10, Close, 19.57\n",
      "2004-02-11, Close, 19.92\n",
      "2004-02-12, Close, 19.79\n",
      "2004-02-13, Close, 19.70\n",
      "2004-02-17, Close, 19.90\n"
     ]
    },
    {
     "name": "stderr",
     "output_type": "stream",
     "text": [
      "INFO:fbprophet.forecaster:Disabling daily seasonality. Run prophet with daily_seasonality=True to override this.\n"
     ]
    },
    {
     "name": "stdout",
     "output_type": "stream",
     "text": [
      "2004-02-18, Close, 19.72\n",
      "2004-02-19, Close, 19.63\n",
      "2004-02-20, Close, 19.69\n",
      "2004-02-23, Close, 20.12\n",
      "2004-02-24, Close, 20.04\n"
     ]
    },
    {
     "name": "stderr",
     "output_type": "stream",
     "text": [
      "INFO:fbprophet.forecaster:Disabling daily seasonality. Run prophet with daily_seasonality=True to override this.\n"
     ]
    },
    {
     "name": "stdout",
     "output_type": "stream",
     "text": [
      "2004-02-25, Close, 19.85\n",
      "2004-02-26, Close, 19.79\n",
      "2004-02-27, Close, 19.70\n",
      "2004-03-01, Close, 19.86\n",
      "2004-03-02, Close, 19.68\n"
     ]
    },
    {
     "name": "stderr",
     "output_type": "stream",
     "text": [
      "INFO:fbprophet.forecaster:Disabling daily seasonality. Run prophet with daily_seasonality=True to override this.\n"
     ]
    },
    {
     "name": "stdout",
     "output_type": "stream",
     "text": [
      "2004-03-03, Close, 19.90\n",
      "2004-03-04, Close, 19.93\n",
      "2004-03-05, Close, 19.85\n",
      "2004-03-08, Close, 19.28\n",
      "2004-03-09, Close, 19.12\n"
     ]
    },
    {
     "name": "stderr",
     "output_type": "stream",
     "text": [
      "INFO:fbprophet.forecaster:Disabling daily seasonality. Run prophet with daily_seasonality=True to override this.\n"
     ]
    },
    {
     "name": "stdout",
     "output_type": "stream",
     "text": [
      "2004-03-09, BUY CREATE, 19.12\n",
      "2004-03-10, BUY EXECUTED, Price: 31.64, Cost: 31.64, Comm 0.00\n",
      "2004-03-10, Close, 18.84\n",
      "2004-03-11, Close, 18.43\n",
      "2004-03-12, Close, 18.54\n",
      "2004-03-15, Close, 18.36\n",
      "2004-03-16, Close, 18.48\n"
     ]
    },
    {
     "name": "stderr",
     "output_type": "stream",
     "text": [
      "INFO:fbprophet.forecaster:Disabling daily seasonality. Run prophet with daily_seasonality=True to override this.\n"
     ]
    },
    {
     "name": "stdout",
     "output_type": "stream",
     "text": [
      "2004-03-16, BUY CREATE, 18.48\n",
      "2004-03-17, BUY EXECUTED, Price: 30.60, Cost: 30.60, Comm 0.00\n",
      "2004-03-17, Close, 18.63\n",
      "2004-03-18, Close, 18.61\n",
      "2004-03-19, Close, 18.26\n",
      "2004-03-22, Close, 17.82\n",
      "2004-03-23, Close, 17.69\n"
     ]
    },
    {
     "name": "stderr",
     "output_type": "stream",
     "text": [
      "INFO:fbprophet.forecaster:Disabling daily seasonality. Run prophet with daily_seasonality=True to override this.\n"
     ]
    },
    {
     "name": "stdout",
     "output_type": "stream",
     "text": [
      "2004-03-23, BUY CREATE, 17.69\n",
      "2004-03-24, BUY EXECUTED, Price: 29.05, Cost: 29.05, Comm 0.00\n",
      "2004-03-24, Close, 17.68\n",
      "2004-03-25, Close, 17.99\n",
      "2004-03-26, Close, 18.23\n",
      "2004-03-29, Close, 18.46\n",
      "2004-03-30, Close, 18.59\n"
     ]
    },
    {
     "name": "stderr",
     "output_type": "stream",
     "text": [
      "INFO:fbprophet.forecaster:Disabling daily seasonality. Run prophet with daily_seasonality=True to override this.\n"
     ]
    },
    {
     "name": "stdout",
     "output_type": "stream",
     "text": [
      "2004-03-30, BUY CREATE, 18.59\n",
      "2004-03-31, BUY EXECUTED, Price: 30.68, Cost: 30.68, Comm 0.00\n",
      "2004-03-31, Close, 18.49\n",
      "2004-04-01, Close, 18.55\n",
      "2004-04-02, Close, 18.82\n",
      "2004-04-05, Close, 19.13\n",
      "2004-04-06, Close, 19.09\n"
     ]
    },
    {
     "name": "stderr",
     "output_type": "stream",
     "text": [
      "INFO:fbprophet.forecaster:Disabling daily seasonality. Run prophet with daily_seasonality=True to override this.\n"
     ]
    },
    {
     "name": "stdout",
     "output_type": "stream",
     "text": [
      "2004-04-06, BUY CREATE, 19.09\n",
      "2004-04-07, BUY EXECUTED, Price: 31.66, Cost: 31.66, Comm 0.00\n",
      "2004-04-07, Close, 19.02\n",
      "2004-04-08, Close, 19.03\n",
      "2004-04-12, Close, 19.16\n",
      "2004-04-13, Close, 18.78\n",
      "2004-04-14, Close, 18.46\n"
     ]
    },
    {
     "name": "stderr",
     "output_type": "stream",
     "text": [
      "INFO:fbprophet.forecaster:Disabling daily seasonality. Run prophet with daily_seasonality=True to override this.\n"
     ]
    },
    {
     "name": "stdout",
     "output_type": "stream",
     "text": [
      "2004-04-14, BUY CREATE, 18.46\n",
      "2004-04-15, BUY EXECUTED, Price: 30.70, Cost: 30.70, Comm 0.00\n",
      "2004-04-15, Close, 18.63\n",
      "2004-04-16, Close, 18.92\n",
      "2004-04-19, Close, 18.84\n",
      "2004-04-20, Close, 18.46\n",
      "2004-04-21, Close, 18.60\n"
     ]
    },
    {
     "name": "stderr",
     "output_type": "stream",
     "text": [
      "INFO:fbprophet.forecaster:Disabling daily seasonality. Run prophet with daily_seasonality=True to override this.\n"
     ]
    },
    {
     "name": "stdout",
     "output_type": "stream",
     "text": [
      "2004-04-21, BUY CREATE, 18.60\n",
      "2004-04-22, BUY EXECUTED, Price: 30.50, Cost: 30.50, Comm 0.00\n",
      "2004-04-22, Close, 18.69\n",
      "2004-04-23, Close, 18.59\n",
      "2004-04-26, Close, 18.63\n",
      "2004-04-27, Close, 18.51\n",
      "2004-04-28, Close, 18.19\n"
     ]
    },
    {
     "name": "stderr",
     "output_type": "stream",
     "text": [
      "INFO:fbprophet.forecaster:Disabling daily seasonality. Run prophet with daily_seasonality=True to override this.\n"
     ]
    },
    {
     "name": "stdout",
     "output_type": "stream",
     "text": [
      "2004-04-28, BUY CREATE, 18.19\n",
      "2004-04-29, BUY EXECUTED, Price: 30.15, Cost: 30.15, Comm 0.00\n",
      "2004-04-29, Close, 18.20\n",
      "2004-04-30, Close, 18.14\n",
      "2004-05-03, Close, 18.36\n",
      "2004-05-04, Close, 18.44\n",
      "2004-05-05, Close, 18.47\n"
     ]
    },
    {
     "name": "stderr",
     "output_type": "stream",
     "text": [
      "INFO:fbprophet.forecaster:Disabling daily seasonality. Run prophet with daily_seasonality=True to override this.\n"
     ]
    },
    {
     "name": "stdout",
     "output_type": "stream",
     "text": [
      "2004-05-05, BUY CREATE, 18.47\n",
      "2004-05-06, BUY EXECUTED, Price: 30.35, Cost: 30.35, Comm 0.00\n",
      "2004-05-06, Close, 18.46\n",
      "2004-05-07, Close, 18.17\n",
      "2004-05-10, Close, 18.19\n",
      "2004-05-11, Close, 18.33\n",
      "2004-05-12, Close, 18.42\n"
     ]
    },
    {
     "name": "stderr",
     "output_type": "stream",
     "text": [
      "INFO:fbprophet.forecaster:Disabling daily seasonality. Run prophet with daily_seasonality=True to override this.\n"
     ]
    },
    {
     "name": "stdout",
     "output_type": "stream",
     "text": [
      "2004-05-12, BUY CREATE, 18.42\n",
      "2004-05-13, BUY EXECUTED, Price: 30.15, Cost: 30.15, Comm 0.00\n",
      "2004-05-13, Close, 18.39\n",
      "2004-05-14, Close, 18.27\n",
      "2004-05-17, Close, 18.16\n",
      "2004-05-18, Close, 18.43\n",
      "2004-05-19, Close, 18.33\n"
     ]
    },
    {
     "name": "stderr",
     "output_type": "stream",
     "text": [
      "INFO:fbprophet.forecaster:Disabling daily seasonality. Run prophet with daily_seasonality=True to override this.\n"
     ]
    },
    {
     "name": "stdout",
     "output_type": "stream",
     "text": [
      "2004-05-19, BUY CREATE, 18.33\n",
      "2004-05-20, BUY EXECUTED, Price: 30.26, Cost: 30.26, Comm 0.00\n",
      "2004-05-20, Close, 18.31\n",
      "2004-05-21, Close, 18.57\n",
      "2004-05-24, Close, 18.65\n",
      "2004-05-25, Close, 18.91\n",
      "2004-05-26, Close, 18.96\n"
     ]
    },
    {
     "name": "stderr",
     "output_type": "stream",
     "text": [
      "INFO:fbprophet.forecaster:Disabling daily seasonality. Run prophet with daily_seasonality=True to override this.\n"
     ]
    },
    {
     "name": "stdout",
     "output_type": "stream",
     "text": [
      "2004-05-26, BUY CREATE, 18.96\n",
      "2004-05-27, BUY EXECUTED, Price: 31.30, Cost: 31.30, Comm 0.00\n",
      "2004-05-27, Close, 18.94\n",
      "2004-05-28, Close, 18.85\n",
      "2004-06-01, Close, 18.80\n",
      "2004-06-02, Close, 18.84\n",
      "2004-06-03, Close, 18.78\n"
     ]
    },
    {
     "name": "stderr",
     "output_type": "stream",
     "text": [
      "INFO:fbprophet.forecaster:Disabling daily seasonality. Run prophet with daily_seasonality=True to override this.\n"
     ]
    },
    {
     "name": "stdout",
     "output_type": "stream",
     "text": [
      "2004-06-03, BUY CREATE, 18.78\n",
      "2004-06-04, BUY EXECUTED, Price: 31.20, Cost: 31.20, Comm 0.00\n",
      "2004-06-04, Close, 18.92\n",
      "2004-06-07, Close, 19.19\n",
      "2004-06-08, Close, 19.06\n",
      "2004-06-09, Close, 18.89\n",
      "2004-06-10, Close, 19.08\n"
     ]
    },
    {
     "name": "stderr",
     "output_type": "stream",
     "text": [
      "INFO:fbprophet.forecaster:Disabling daily seasonality. Run prophet with daily_seasonality=True to override this.\n"
     ]
    },
    {
     "name": "stdout",
     "output_type": "stream",
     "text": [
      "2004-06-10, BUY CREATE, 19.08\n",
      "2004-06-14, BUY EXECUTED, Price: 31.35, Cost: 31.35, Comm 0.00\n",
      "2004-06-14, Close, 19.12\n",
      "2004-06-15, Close, 19.27\n",
      "2004-06-16, Close, 19.45\n",
      "2004-06-17, Close, 19.60\n",
      "2004-06-18, Close, 19.74\n"
     ]
    },
    {
     "name": "stderr",
     "output_type": "stream",
     "text": [
      "INFO:fbprophet.forecaster:Disabling daily seasonality. Run prophet with daily_seasonality=True to override this.\n"
     ]
    },
    {
     "name": "stdout",
     "output_type": "stream",
     "text": [
      "2004-06-18, BUY CREATE, 19.74\n",
      "2004-06-21, BUY EXECUTED, Price: 32.58, Cost: 32.58, Comm 0.00\n",
      "2004-06-21, Close, 19.75\n",
      "2004-06-22, Close, 19.90\n",
      "2004-06-23, Close, 20.25\n",
      "2004-06-24, Close, 20.28\n",
      "2004-06-25, Close, 19.61\n"
     ]
    },
    {
     "name": "stderr",
     "output_type": "stream",
     "text": [
      "INFO:fbprophet.forecaster:Disabling daily seasonality. Run prophet with daily_seasonality=True to override this.\n"
     ]
    },
    {
     "name": "stdout",
     "output_type": "stream",
     "text": [
      "2004-06-25, BUY CREATE, 19.61\n",
      "2004-06-28, BUY EXECUTED, Price: 32.80, Cost: 32.80, Comm 0.00\n",
      "2004-06-28, Close, 19.69\n",
      "2004-06-29, Close, 19.70\n",
      "2004-06-30, Close, 19.75\n",
      "2004-07-01, Close, 19.51\n",
      "2004-07-02, Close, 19.30\n"
     ]
    },
    {
     "name": "stderr",
     "output_type": "stream",
     "text": [
      "INFO:fbprophet.forecaster:Disabling daily seasonality. Run prophet with daily_seasonality=True to override this.\n"
     ]
    },
    {
     "name": "stdout",
     "output_type": "stream",
     "text": [
      "2004-07-02, BUY CREATE, 19.30\n",
      "2004-07-06, BUY EXECUTED, Price: 31.60, Cost: 31.60, Comm 0.00\n",
      "2004-07-06, Close, 19.40\n",
      "2004-07-07, Close, 19.51\n",
      "2004-07-08, Close, 19.32\n",
      "2004-07-09, Close, 19.61\n",
      "2004-07-12, Close, 19.87\n"
     ]
    },
    {
     "name": "stderr",
     "output_type": "stream",
     "text": [
      "INFO:fbprophet.forecaster:Disabling daily seasonality. Run prophet with daily_seasonality=True to override this.\n"
     ]
    },
    {
     "name": "stdout",
     "output_type": "stream",
     "text": [
      "2004-07-12, SELL CREATE, 19.87\n",
      "2004-07-13, SELL EXECUTED, Price: 32.73, Cost: 30.97, Comm 0.00\n",
      "2004-07-13, Close, 20.01\n",
      "2004-07-14, Close, 20.19\n",
      "2004-07-15, Close, 20.34\n",
      "2004-07-16, Close, 20.17\n",
      "2004-07-19, Close, 20.25\n"
     ]
    },
    {
     "name": "stderr",
     "output_type": "stream",
     "text": [
      "INFO:fbprophet.forecaster:Disabling daily seasonality. Run prophet with daily_seasonality=True to override this.\n"
     ]
    },
    {
     "name": "stdout",
     "output_type": "stream",
     "text": [
      "2004-07-19, SELL CREATE, 20.25\n",
      "2004-07-20, SELL EXECUTED, Price: 33.13, Cost: 30.97, Comm 0.00\n",
      "2004-07-20, Close, 20.24\n",
      "2004-07-21, Close, 19.87\n",
      "2004-07-22, Close, 20.04\n",
      "2004-07-23, Close, 19.82\n",
      "2004-07-26, Close, 19.69\n"
     ]
    },
    {
     "name": "stderr",
     "output_type": "stream",
     "text": [
      "INFO:fbprophet.forecaster:Disabling daily seasonality. Run prophet with daily_seasonality=True to override this.\n"
     ]
    },
    {
     "name": "stdout",
     "output_type": "stream",
     "text": [
      "2004-07-26, BUY CREATE, 19.69\n",
      "2004-07-27, BUY EXECUTED, Price: 32.50, Cost: 32.50, Comm 0.00\n",
      "2004-07-27, Close, 19.99\n",
      "2004-07-28, Close, 20.29\n",
      "2004-07-29, Close, 20.24\n",
      "2004-07-30, Close, 20.26\n",
      "2004-08-02, Close, 20.27\n"
     ]
    },
    {
     "name": "stderr",
     "output_type": "stream",
     "text": [
      "INFO:fbprophet.forecaster:Disabling daily seasonality. Run prophet with daily_seasonality=True to override this.\n"
     ]
    },
    {
     "name": "stdout",
     "output_type": "stream",
     "text": [
      "2004-08-02, SELL CREATE, 20.27\n",
      "2004-08-03, SELL EXECUTED, Price: 33.20, Cost: 31.07, Comm 0.00\n",
      "2004-08-03, Close, 20.03\n",
      "2004-08-04, Close, 20.04\n",
      "2004-08-05, Close, 19.64\n",
      "2004-08-06, Close, 19.21\n",
      "2004-08-09, Close, 19.41\n"
     ]
    },
    {
     "name": "stderr",
     "output_type": "stream",
     "text": [
      "INFO:fbprophet.forecaster:Disabling daily seasonality. Run prophet with daily_seasonality=True to override this.\n"
     ]
    },
    {
     "name": "stdout",
     "output_type": "stream",
     "text": [
      "2004-08-09, BUY CREATE, 19.41\n",
      "2004-08-10, BUY EXECUTED, Price: 31.90, Cost: 31.90, Comm 0.00\n",
      "2004-08-10, Close, 19.56\n",
      "2004-08-11, Close, 19.62\n",
      "2004-08-12, Close, 19.26\n",
      "2004-08-13, Close, 19.44\n",
      "2004-08-16, Close, 19.68\n"
     ]
    },
    {
     "name": "stderr",
     "output_type": "stream",
     "text": [
      "INFO:fbprophet.forecaster:Disabling daily seasonality. Run prophet with daily_seasonality=True to override this.\n"
     ]
    },
    {
     "name": "stdout",
     "output_type": "stream",
     "text": [
      "2004-08-16, BUY CREATE, 19.68\n",
      "2004-08-17, BUY EXECUTED, Price: 32.31, Cost: 32.31, Comm 0.00\n",
      "2004-08-17, Close, 19.59\n",
      "2004-08-18, Close, 19.98\n",
      "2004-08-19, Close, 19.93\n",
      "2004-08-20, Close, 19.90\n",
      "2004-08-23, Close, 19.81\n"
     ]
    },
    {
     "name": "stderr",
     "output_type": "stream",
     "text": [
      "INFO:fbprophet.forecaster:Disabling daily seasonality. Run prophet with daily_seasonality=True to override this.\n"
     ]
    },
    {
     "name": "stdout",
     "output_type": "stream",
     "text": [
      "2004-08-23, BUY CREATE, 19.81\n",
      "2004-08-24, BUY EXECUTED, Price: 32.70, Cost: 32.70, Comm 0.00\n",
      "2004-08-24, Close, 19.89\n",
      "2004-08-25, Close, 19.98\n",
      "2004-08-26, Close, 19.98\n",
      "2004-08-27, Close, 19.97\n",
      "2004-08-30, Close, 19.85\n"
     ]
    },
    {
     "name": "stderr",
     "output_type": "stream",
     "text": [
      "INFO:fbprophet.forecaster:Disabling daily seasonality. Run prophet with daily_seasonality=True to override this.\n"
     ]
    },
    {
     "name": "stdout",
     "output_type": "stream",
     "text": [
      "2004-08-30, BUY CREATE, 19.85\n",
      "2004-08-31, BUY EXECUTED, Price: 32.49, Cost: 32.49, Comm 0.00\n",
      "2004-08-31, Close, 19.98\n",
      "2004-09-01, Close, 20.04\n",
      "2004-09-02, Close, 20.19\n",
      "2004-09-03, Close, 20.01\n",
      "2004-09-07, Close, 20.32\n"
     ]
    },
    {
     "name": "stderr",
     "output_type": "stream",
     "text": [
      "INFO:fbprophet.forecaster:Disabling daily seasonality. Run prophet with daily_seasonality=True to override this.\n"
     ]
    },
    {
     "name": "stdout",
     "output_type": "stream",
     "text": [
      "2004-09-07, SELL CREATE, 20.32\n",
      "2004-09-08, SELL EXECUTED, Price: 33.34, Cost: 31.34, Comm 0.00\n",
      "2004-09-08, Close, 20.51\n",
      "2004-09-09, Close, 20.64\n",
      "2004-09-10, Close, 20.65\n",
      "2004-09-13, Close, 20.57\n",
      "2004-09-14, Close, 20.61\n"
     ]
    },
    {
     "name": "stderr",
     "output_type": "stream",
     "text": [
      "INFO:fbprophet.forecaster:Disabling daily seasonality. Run prophet with daily_seasonality=True to override this.\n"
     ]
    },
    {
     "name": "stdout",
     "output_type": "stream",
     "text": [
      "2004-09-14, SELL CREATE, 20.61\n",
      "2004-09-15, SELL EXECUTED, Price: 33.82, Cost: 31.34, Comm 0.00\n",
      "2004-09-15, Close, 20.43\n",
      "2004-09-16, Close, 20.43\n",
      "2004-09-17, Close, 20.86\n",
      "2004-09-20, Close, 20.85\n",
      "2004-09-21, Close, 21.00\n"
     ]
    },
    {
     "name": "stderr",
     "output_type": "stream",
     "text": [
      "INFO:fbprophet.forecaster:Disabling daily seasonality. Run prophet with daily_seasonality=True to override this.\n"
     ]
    },
    {
     "name": "stdout",
     "output_type": "stream",
     "text": [
      "2004-09-21, SELL CREATE, 21.00\n",
      "2004-09-22, SELL EXECUTED, Price: 34.20, Cost: 31.34, Comm 0.00\n",
      "2004-09-22, Close, 20.68\n",
      "2004-09-23, Close, 20.49\n",
      "2004-09-24, Close, 20.48\n",
      "2004-09-27, Close, 20.30\n",
      "2004-09-28, Close, 20.42\n"
     ]
    },
    {
     "name": "stderr",
     "output_type": "stream",
     "text": [
      "INFO:fbprophet.forecaster:Disabling daily seasonality. Run prophet with daily_seasonality=True to override this.\n"
     ]
    },
    {
     "name": "stdout",
     "output_type": "stream",
     "text": [
      "2004-09-28, SELL CREATE, 20.42\n",
      "2004-09-29, SELL EXECUTED, Price: 33.45, Cost: 31.34, Comm 0.00\n",
      "2004-09-29, Close, 20.51\n",
      "2004-09-30, Close, 20.59\n",
      "2004-10-01, Close, 20.83\n",
      "2004-10-04, Close, 20.92\n",
      "2004-10-05, Close, 20.87\n"
     ]
    },
    {
     "name": "stderr",
     "output_type": "stream",
     "text": [
      "INFO:fbprophet.forecaster:Disabling daily seasonality. Run prophet with daily_seasonality=True to override this.\n"
     ]
    },
    {
     "name": "stdout",
     "output_type": "stream",
     "text": [
      "2004-10-05, SELL CREATE, 20.87\n",
      "2004-10-06, SELL EXECUTED, Price: 34.09, Cost: 31.34, Comm 0.00\n",
      "2004-10-06, Close, 21.08\n",
      "2004-10-07, Close, 20.81\n",
      "2004-10-08, Close, 20.68\n",
      "2004-10-11, Close, 20.84\n",
      "2004-10-12, Close, 20.86\n"
     ]
    },
    {
     "name": "stderr",
     "output_type": "stream",
     "text": [
      "INFO:fbprophet.forecaster:Disabling daily seasonality. Run prophet with daily_seasonality=True to override this.\n"
     ]
    },
    {
     "name": "stdout",
     "output_type": "stream",
     "text": [
      "2004-10-12, SELL CREATE, 20.86\n",
      "2004-10-13, SELL EXECUTED, Price: 34.25, Cost: 31.34, Comm 0.00\n",
      "2004-10-13, Close, 20.67\n",
      "2004-10-14, Close, 20.51\n",
      "2004-10-15, Close, 20.57\n",
      "2004-10-18, Close, 20.78\n",
      "2004-10-19, Close, 20.49\n"
     ]
    },
    {
     "name": "stderr",
     "output_type": "stream",
     "text": [
      "INFO:fbprophet.forecaster:Disabling daily seasonality. Run prophet with daily_seasonality=True to override this.\n"
     ]
    },
    {
     "name": "stdout",
     "output_type": "stream",
     "text": [
      "2004-10-19, SELL CREATE, 20.49\n",
      "2004-10-20, SELL EXECUTED, Price: 33.48, Cost: 31.34, Comm 0.00\n",
      "2004-10-20, Close, 20.37\n",
      "2004-10-21, Close, 20.46\n",
      "2004-10-22, Close, 20.20\n",
      "2004-10-25, Close, 20.17\n",
      "2004-10-26, Close, 20.62\n"
     ]
    },
    {
     "name": "stderr",
     "output_type": "stream",
     "text": [
      "INFO:fbprophet.forecaster:Disabling daily seasonality. Run prophet with daily_seasonality=True to override this.\n"
     ]
    },
    {
     "name": "stdout",
     "output_type": "stream",
     "text": [
      "2004-10-26, SELL CREATE, 20.62\n",
      "2004-10-27, SELL EXECUTED, Price: 33.57, Cost: 31.34, Comm 0.00\n",
      "2004-10-27, Close, 20.81\n",
      "2004-10-28, Close, 20.86\n",
      "2004-10-29, Close, 20.92\n",
      "2004-11-01, Close, 20.87\n",
      "2004-11-02, Close, 20.87\n"
     ]
    },
    {
     "name": "stderr",
     "output_type": "stream",
     "text": [
      "INFO:fbprophet.forecaster:Disabling daily seasonality. Run prophet with daily_seasonality=True to override this.\n"
     ]
    },
    {
     "name": "stdout",
     "output_type": "stream",
     "text": [
      "2004-11-02, SELL CREATE, 20.87\n",
      "2004-11-03, SELL EXECUTED, Price: 34.40, Cost: 31.34, Comm 0.00\n",
      "2004-11-03, Close, 21.05\n",
      "2004-11-04, Close, 21.51\n",
      "2004-11-05, Close, 21.57\n",
      "2004-11-08, Close, 21.53\n",
      "2004-11-09, Close, 21.71\n"
     ]
    },
    {
     "name": "stderr",
     "output_type": "stream",
     "text": [
      "INFO:fbprophet.forecaster:Disabling daily seasonality. Run prophet with daily_seasonality=True to override this.\n"
     ]
    },
    {
     "name": "stdout",
     "output_type": "stream",
     "text": [
      "2004-11-09, SELL CREATE, 21.71\n",
      "2004-11-10, SELL EXECUTED, Price: 35.48, Cost: 31.34, Comm 0.00\n",
      "2004-11-10, Close, 21.65\n",
      "2004-11-11, Close, 21.95\n",
      "2004-11-12, Close, 22.22\n",
      "2004-11-15, Close, 22.13\n",
      "2004-11-16, Close, 22.13\n"
     ]
    },
    {
     "name": "stderr",
     "output_type": "stream",
     "text": [
      "INFO:fbprophet.forecaster:Disabling daily seasonality. Run prophet with daily_seasonality=True to override this.\n"
     ]
    },
    {
     "name": "stdout",
     "output_type": "stream",
     "text": [
      "2004-11-16, SELL CREATE, 22.13\n",
      "2004-11-17, SELL EXECUTED, Price: 36.28, Cost: 31.34, Comm 0.00\n",
      "2004-11-17, Close, 22.28\n",
      "2004-11-18, Close, 22.58\n",
      "2004-11-19, Close, 22.24\n",
      "2004-11-22, Close, 22.13\n",
      "2004-11-23, Close, 21.95\n"
     ]
    },
    {
     "name": "stderr",
     "output_type": "stream",
     "text": [
      "INFO:fbprophet.forecaster:Disabling daily seasonality. Run prophet with daily_seasonality=True to override this.\n"
     ]
    },
    {
     "name": "stdout",
     "output_type": "stream",
     "text": [
      "2004-11-23, SELL CREATE, 21.95\n",
      "2004-11-24, SELL EXECUTED, Price: 35.85, Cost: 31.34, Comm 0.00\n",
      "2004-11-24, Close, 21.85\n",
      "2004-11-26, Close, 21.73\n",
      "2004-11-29, Close, 21.64\n",
      "2004-11-30, Close, 21.68\n",
      "2004-12-01, Close, 22.08\n"
     ]
    },
    {
     "name": "stderr",
     "output_type": "stream",
     "text": [
      "INFO:fbprophet.forecaster:Disabling daily seasonality. Run prophet with daily_seasonality=True to override this.\n"
     ]
    },
    {
     "name": "stdout",
     "output_type": "stream",
     "text": [
      "2004-12-01, SELL CREATE, 22.08\n",
      "2004-12-02, SELL EXECUTED, Price: 35.85, Cost: 31.34, Comm 0.00\n",
      "2004-12-02, Close, 22.03\n",
      "2004-12-03, Close, 21.97\n",
      "2004-12-06, Close, 21.87\n",
      "2004-12-07, Close, 21.65\n",
      "2004-12-08, Close, 21.89\n"
     ]
    },
    {
     "name": "stderr",
     "output_type": "stream",
     "text": [
      "INFO:fbprophet.forecaster:Disabling daily seasonality. Run prophet with daily_seasonality=True to override this.\n"
     ]
    },
    {
     "name": "stdout",
     "output_type": "stream",
     "text": [
      "2004-12-08, SELL CREATE, 21.89\n",
      "2004-12-09, SELL EXECUTED, Price: 35.58, Cost: 31.34, Comm 0.00\n",
      "2004-12-09, Close, 22.08\n",
      "2004-12-10, Close, 22.49\n",
      "2004-12-13, Close, 22.98\n",
      "2004-12-14, Close, 22.92\n",
      "2004-12-15, Close, 22.92\n"
     ]
    },
    {
     "name": "stderr",
     "output_type": "stream",
     "text": [
      "INFO:fbprophet.forecaster:Disabling daily seasonality. Run prophet with daily_seasonality=True to override this.\n"
     ]
    },
    {
     "name": "stdout",
     "output_type": "stream",
     "text": [
      "2004-12-15, SELL CREATE, 22.92\n",
      "2004-12-16, SELL EXECUTED, Price: 37.30, Cost: 31.34, Comm 0.00\n",
      "2004-12-16, Close, 22.75\n",
      "2004-12-17, Close, 22.53\n",
      "2004-12-20, Close, 22.75\n",
      "2004-12-21, Close, 22.79\n",
      "2004-12-22, Close, 22.72\n"
     ]
    },
    {
     "name": "stderr",
     "output_type": "stream",
     "text": [
      "INFO:fbprophet.forecaster:Disabling daily seasonality. Run prophet with daily_seasonality=True to override this.\n"
     ]
    },
    {
     "name": "stdout",
     "output_type": "stream",
     "text": [
      "2004-12-22, SELL CREATE, 22.72\n",
      "2004-12-23, SELL EXECUTED, Price: 36.75, Cost: 31.34, Comm 0.00\n",
      "2004-12-23, Close, 22.68\n",
      "2004-12-27, Close, 22.55\n",
      "2004-12-28, Close, 22.63\n",
      "2004-12-29, Close, 22.55\n",
      "2004-12-30, Close, 22.57\n"
     ]
    },
    {
     "name": "stderr",
     "output_type": "stream",
     "text": [
      "INFO:fbprophet.forecaster:Disabling daily seasonality. Run prophet with daily_seasonality=True to override this.\n"
     ]
    },
    {
     "name": "stdout",
     "output_type": "stream",
     "text": [
      "2004-12-30, SELL CREATE, 22.57\n",
      "2004-12-31, SELL EXECUTED, Price: 36.65, Cost: 31.34, Comm 0.00\n",
      "2004-12-31, Close, 22.51\n",
      "2005-01-03, Close, 22.57\n",
      "2005-01-04, Close, 22.29\n",
      "2005-01-05, Close, 22.16\n",
      "2005-01-06, Close, 22.34\n"
     ]
    },
    {
     "name": "stderr",
     "output_type": "stream",
     "text": [
      "INFO:fbprophet.forecaster:Disabling daily seasonality. Run prophet with daily_seasonality=True to override this.\n"
     ]
    },
    {
     "name": "stdout",
     "output_type": "stream",
     "text": [
      "2005-01-06, SELL CREATE, 22.34\n",
      "2005-01-07, SELL EXECUTED, Price: 36.36, Cost: 31.34, Comm 0.00\n",
      "2005-01-07, Close, 22.20\n",
      "2005-01-10, Close, 22.15\n",
      "2005-01-11, Close, 21.83\n",
      "2005-01-12, Close, 22.00\n",
      "2005-01-13, Close, 21.73\n"
     ]
    },
    {
     "name": "stderr",
     "output_type": "stream",
     "text": [
      "INFO:fbprophet.forecaster:Disabling daily seasonality. Run prophet with daily_seasonality=True to override this.\n"
     ]
    },
    {
     "name": "stdout",
     "output_type": "stream",
     "text": [
      "2005-01-13, SELL CREATE, 21.73\n",
      "2005-01-14, SELL EXECUTED, Price: 35.36, Cost: 31.34, Comm 0.00\n",
      "2005-01-14, OPERATION PROFIT, GROSS 76.65, NET 76.65\n",
      "2005-01-14, Close, 21.91\n",
      "2005-01-18, Close, 22.18\n",
      "2005-01-19, Close, 21.86\n",
      "2005-01-20, Close, 21.81\n",
      "2005-01-21, Close, 21.66\n"
     ]
    },
    {
     "name": "stderr",
     "output_type": "stream",
     "text": [
      "INFO:fbprophet.forecaster:Disabling daily seasonality. Run prophet with daily_seasonality=True to override this.\n"
     ]
    },
    {
     "name": "stdout",
     "output_type": "stream",
     "text": [
      "2005-01-21, BUY CREATE, 21.66\n",
      "2005-01-24, BUY EXECUTED, Price: 35.22, Cost: 35.22, Comm 0.00\n",
      "2005-01-24, Close, 21.74\n",
      "2005-01-25, Close, 22.02\n",
      "2005-01-26, Close, 21.89\n",
      "2005-01-27, Close, 21.96\n",
      "2005-01-28, Close, 22.05\n"
     ]
    },
    {
     "name": "stderr",
     "output_type": "stream",
     "text": [
      "INFO:fbprophet.forecaster:Disabling daily seasonality. Run prophet with daily_seasonality=True to override this.\n"
     ]
    },
    {
     "name": "stdout",
     "output_type": "stream",
     "text": [
      "2005-01-28, BUY CREATE, 22.05\n",
      "2005-01-31, BUY EXECUTED, Price: 35.95, Cost: 35.95, Comm 0.00\n",
      "2005-01-31, Close, 22.28\n",
      "2005-02-01, Close, 22.37\n",
      "2005-02-02, Close, 22.36\n",
      "2005-02-03, Close, 22.24\n",
      "2005-02-04, Close, 22.36\n"
     ]
    },
    {
     "name": "stderr",
     "output_type": "stream",
     "text": [
      "INFO:fbprophet.forecaster:Disabling daily seasonality. Run prophet with daily_seasonality=True to override this.\n"
     ]
    },
    {
     "name": "stdout",
     "output_type": "stream",
     "text": [
      "2005-02-04, BUY CREATE, 22.36\n",
      "2005-02-07, BUY EXECUTED, Price: 36.05, Cost: 36.05, Comm 0.00\n",
      "2005-02-07, Close, 22.34\n",
      "2005-02-08, Close, 22.47\n",
      "2005-02-09, Close, 22.26\n",
      "2005-02-10, Close, 22.23\n",
      "2005-02-11, Close, 22.34\n"
     ]
    },
    {
     "name": "stderr",
     "output_type": "stream",
     "text": [
      "INFO:fbprophet.forecaster:Disabling daily seasonality. Run prophet with daily_seasonality=True to override this.\n"
     ]
    },
    {
     "name": "stdout",
     "output_type": "stream",
     "text": [
      "2005-02-11, BUY CREATE, 22.34\n",
      "2005-02-14, BUY EXECUTED, Price: 36.23, Cost: 36.23, Comm 0.00\n",
      "2005-02-14, Close, 22.40\n",
      "2005-02-15, Close, 22.44\n",
      "2005-02-16, Close, 22.34\n",
      "2005-02-17, Close, 22.22\n",
      "2005-02-18, Close, 22.13\n"
     ]
    },
    {
     "name": "stderr",
     "output_type": "stream",
     "text": [
      "INFO:fbprophet.forecaster:Disabling daily seasonality. Run prophet with daily_seasonality=True to override this.\n"
     ]
    },
    {
     "name": "stdout",
     "output_type": "stream",
     "text": [
      "2005-02-18, BUY CREATE, 22.13\n",
      "2005-02-22, BUY EXECUTED, Price: 35.59, Cost: 35.59, Comm 0.00\n",
      "2005-02-22, Close, 21.80\n",
      "2005-02-23, Close, 21.75\n",
      "2005-02-24, Close, 22.06\n",
      "2005-02-25, Close, 22.10\n",
      "2005-02-28, Close, 21.84\n"
     ]
    },
    {
     "name": "stderr",
     "output_type": "stream",
     "text": [
      "INFO:fbprophet.forecaster:Disabling daily seasonality. Run prophet with daily_seasonality=True to override this.\n"
     ]
    },
    {
     "name": "stdout",
     "output_type": "stream",
     "text": [
      "2005-02-28, BUY CREATE, 21.84\n",
      "2005-03-01, BUY EXECUTED, Price: 35.27, Cost: 35.27, Comm 0.00\n",
      "2005-03-01, Close, 21.86\n",
      "2005-03-02, Close, 22.09\n",
      "2005-03-03, Close, 22.06\n",
      "2005-03-04, Close, 22.42\n",
      "2005-03-07, Close, 22.42\n"
     ]
    },
    {
     "name": "stderr",
     "output_type": "stream",
     "text": [
      "INFO:fbprophet.forecaster:Disabling daily seasonality. Run prophet with daily_seasonality=True to override this.\n"
     ]
    },
    {
     "name": "stdout",
     "output_type": "stream",
     "text": [
      "2005-03-07, SELL CREATE, 22.42\n",
      "2005-03-08, SELL EXECUTED, Price: 36.03, Cost: 35.72, Comm 0.00\n",
      "2005-03-08, Close, 22.38\n",
      "2005-03-09, Close, 22.18\n",
      "2005-03-10, Close, 22.42\n",
      "2005-03-11, Close, 22.23\n",
      "2005-03-14, Close, 22.48\n"
     ]
    },
    {
     "name": "stderr",
     "output_type": "stream",
     "text": [
      "INFO:fbprophet.forecaster:Disabling daily seasonality. Run prophet with daily_seasonality=True to override this.\n"
     ]
    },
    {
     "name": "stdout",
     "output_type": "stream",
     "text": [
      "2005-03-14, SELL CREATE, 22.48\n",
      "2005-03-15, SELL EXECUTED, Price: 36.28, Cost: 35.72, Comm 0.00\n",
      "2005-03-15, Close, 22.34\n",
      "2005-03-16, Close, 22.10\n",
      "2005-03-17, Close, 21.95\n",
      "2005-03-18, Close, 22.27\n",
      "2005-03-21, Close, 22.35\n"
     ]
    },
    {
     "name": "stderr",
     "output_type": "stream",
     "text": [
      "INFO:fbprophet.forecaster:Disabling daily seasonality. Run prophet with daily_seasonality=True to override this.\n"
     ]
    },
    {
     "name": "stdout",
     "output_type": "stream",
     "text": [
      "2005-03-21, BUY CREATE, 22.35\n",
      "2005-03-22, BUY EXECUTED, Price: 36.00, Cost: 36.00, Comm 0.00\n",
      "2005-03-22, Close, 22.03\n",
      "2005-03-23, Close, 22.03\n",
      "2005-03-24, Close, 22.17\n",
      "2005-03-28, Close, 22.32\n",
      "2005-03-29, Close, 22.05\n"
     ]
    },
    {
     "name": "stderr",
     "output_type": "stream",
     "text": [
      "INFO:fbprophet.forecaster:Disabling daily seasonality. Run prophet with daily_seasonality=True to override this.\n"
     ]
    },
    {
     "name": "stdout",
     "output_type": "stream",
     "text": [
      "2005-03-29, BUY CREATE, 22.05\n",
      "2005-03-30, BUY EXECUTED, Price: 35.60, Cost: 35.60, Comm 0.00\n",
      "2005-03-30, Close, 22.46\n",
      "2005-03-31, Close, 22.38\n",
      "2005-04-01, Close, 22.01\n",
      "2005-04-04, Close, 21.87\n",
      "2005-04-05, Close, 22.03\n"
     ]
    },
    {
     "name": "stderr",
     "output_type": "stream",
     "text": [
      "INFO:fbprophet.forecaster:Disabling daily seasonality. Run prophet with daily_seasonality=True to override this.\n"
     ]
    },
    {
     "name": "stdout",
     "output_type": "stream",
     "text": [
      "2005-04-05, BUY CREATE, 22.03\n",
      "2005-04-06, BUY EXECUTED, Price: 35.58, Cost: 35.58, Comm 0.00\n",
      "2005-04-06, Close, 22.03\n",
      "2005-04-07, Close, 22.20\n",
      "2005-04-08, Close, 22.18\n",
      "2005-04-11, Close, 22.23\n",
      "2005-04-12, Close, 22.40\n"
     ]
    },
    {
     "name": "stderr",
     "output_type": "stream",
     "text": [
      "INFO:fbprophet.forecaster:Disabling daily seasonality. Run prophet with daily_seasonality=True to override this.\n"
     ]
    },
    {
     "name": "stdout",
     "output_type": "stream",
     "text": [
      "2005-04-12, BUY CREATE, 22.40\n",
      "2005-04-13, BUY EXECUTED, Price: 36.05, Cost: 36.05, Comm 0.00\n",
      "2005-04-13, Close, 22.12\n",
      "2005-04-14, Close, 22.03\n",
      "2005-04-15, Close, 22.19\n",
      "2005-04-18, Close, 22.34\n",
      "2005-04-19, Close, 22.34\n"
     ]
    },
    {
     "name": "stderr",
     "output_type": "stream",
     "text": [
      "INFO:fbprophet.forecaster:Disabling daily seasonality. Run prophet with daily_seasonality=True to override this.\n"
     ]
    },
    {
     "name": "stdout",
     "output_type": "stream",
     "text": [
      "2005-04-19, BUY CREATE, 22.34\n",
      "2005-04-20, BUY EXECUTED, Price: 35.85, Cost: 35.85, Comm 0.00\n",
      "2005-04-20, Close, 22.04\n",
      "2005-04-21, Close, 22.42\n",
      "2005-04-22, Close, 22.40\n",
      "2005-04-25, Close, 22.58\n",
      "2005-04-26, Close, 22.45\n"
     ]
    },
    {
     "name": "stderr",
     "output_type": "stream",
     "text": [
      "INFO:fbprophet.forecaster:Disabling daily seasonality. Run prophet with daily_seasonality=True to override this.\n"
     ]
    },
    {
     "name": "stdout",
     "output_type": "stream",
     "text": [
      "2005-04-26, BUY CREATE, 22.45\n",
      "2005-04-27, BUY EXECUTED, Price: 36.05, Cost: 36.05, Comm 0.00\n",
      "2005-04-27, Close, 22.59\n",
      "2005-04-28, Close, 22.14\n",
      "2005-04-29, Close, 22.46\n",
      "2005-05-02, Close, 22.50\n",
      "2005-05-03, Close, 22.40\n"
     ]
    },
    {
     "name": "stderr",
     "output_type": "stream",
     "text": [
      "INFO:fbprophet.forecaster:Disabling daily seasonality. Run prophet with daily_seasonality=True to override this.\n"
     ]
    },
    {
     "name": "stdout",
     "output_type": "stream",
     "text": [
      "2005-05-03, BUY CREATE, 22.40\n",
      "2005-05-04, BUY EXECUTED, Price: 36.11, Cost: 36.11, Comm 0.00\n",
      "2005-05-04, Close, 22.46\n",
      "2005-05-05, Close, 22.25\n",
      "2005-05-06, Close, 22.25\n",
      "2005-05-09, Close, 22.48\n",
      "2005-05-10, Close, 22.24\n"
     ]
    },
    {
     "name": "stderr",
     "output_type": "stream",
     "text": [
      "INFO:fbprophet.forecaster:Disabling daily seasonality. Run prophet with daily_seasonality=True to override this.\n"
     ]
    },
    {
     "name": "stdout",
     "output_type": "stream",
     "text": [
      "2005-05-10, BUY CREATE, 22.24\n",
      "2005-05-11, BUY EXECUTED, Price: 35.90, Cost: 35.90, Comm 0.00\n",
      "2005-05-11, Close, 22.46\n",
      "2005-05-12, Close, 22.26\n",
      "2005-05-13, Close, 22.15\n",
      "2005-05-16, Close, 22.49\n",
      "2005-05-17, Close, 22.63\n"
     ]
    },
    {
     "name": "stderr",
     "output_type": "stream",
     "text": [
      "INFO:fbprophet.forecaster:Disabling daily seasonality. Run prophet with daily_seasonality=True to override this.\n"
     ]
    },
    {
     "name": "stdout",
     "output_type": "stream",
     "text": [
      "2005-05-17, BUY CREATE, 22.63\n",
      "2005-05-18, BUY EXECUTED, Price: 36.50, Cost: 36.50, Comm 0.00\n",
      "2005-05-18, Close, 22.90\n",
      "2005-05-19, Close, 22.91\n",
      "2005-05-20, Close, 22.96\n",
      "2005-05-23, Close, 23.07\n",
      "2005-05-24, Close, 23.00\n"
     ]
    },
    {
     "name": "stderr",
     "output_type": "stream",
     "text": [
      "INFO:fbprophet.forecaster:Disabling daily seasonality. Run prophet with daily_seasonality=True to override this.\n"
     ]
    },
    {
     "name": "stdout",
     "output_type": "stream",
     "text": [
      "2005-05-24, BUY CREATE, 23.00\n",
      "2005-05-25, BUY EXECUTED, Price: 37.00, Cost: 37.00, Comm 0.00\n",
      "2005-05-25, Close, 22.87\n",
      "2005-05-26, Close, 22.92\n",
      "2005-05-27, Close, 22.89\n",
      "2005-05-31, Close, 22.64\n",
      "2005-06-01, Close, 22.92\n"
     ]
    },
    {
     "name": "stderr",
     "output_type": "stream",
     "text": [
      "INFO:fbprophet.forecaster:Disabling daily seasonality. Run prophet with daily_seasonality=True to override this.\n"
     ]
    },
    {
     "name": "stdout",
     "output_type": "stream",
     "text": [
      "2005-06-01, BUY CREATE, 22.92\n",
      "2005-06-02, BUY EXECUTED, Price: 36.84, Cost: 36.84, Comm 0.00\n",
      "2005-06-02, Close, 22.90\n",
      "2005-06-03, Close, 22.78\n",
      "2005-06-06, Close, 22.72\n",
      "2005-06-07, Close, 22.86\n",
      "2005-06-08, Close, 22.84\n"
     ]
    },
    {
     "name": "stderr",
     "output_type": "stream",
     "text": [
      "INFO:fbprophet.forecaster:Disabling daily seasonality. Run prophet with daily_seasonality=True to override this.\n"
     ]
    },
    {
     "name": "stdout",
     "output_type": "stream",
     "text": [
      "2005-06-08, BUY CREATE, 22.84\n",
      "2005-06-09, BUY EXECUTED, Price: 36.75, Cost: 36.75, Comm 0.00\n",
      "2005-06-09, Close, 22.83\n",
      "2005-06-10, Close, 22.73\n",
      "2005-06-13, Close, 22.68\n",
      "2005-06-14, Close, 22.60\n",
      "2005-06-15, Close, 22.54\n"
     ]
    },
    {
     "name": "stderr",
     "output_type": "stream",
     "text": [
      "INFO:fbprophet.forecaster:Disabling daily seasonality. Run prophet with daily_seasonality=True to override this.\n"
     ]
    },
    {
     "name": "stdout",
     "output_type": "stream",
     "text": [
      "2005-06-15, BUY CREATE, 22.54\n",
      "2005-06-16, BUY EXECUTED, Price: 36.27, Cost: 36.27, Comm 0.00\n",
      "2005-06-16, Close, 22.41\n",
      "2005-06-17, Close, 22.65\n",
      "2005-06-20, Close, 22.51\n",
      "2005-06-21, Close, 22.43\n",
      "2005-06-22, Close, 22.17\n"
     ]
    },
    {
     "name": "stderr",
     "output_type": "stream",
     "text": [
      "INFO:fbprophet.forecaster:Disabling daily seasonality. Run prophet with daily_seasonality=True to override this.\n"
     ]
    },
    {
     "name": "stdout",
     "output_type": "stream",
     "text": [
      "2005-06-22, BUY CREATE, 22.17\n",
      "2005-06-23, BUY EXECUTED, Price: 35.50, Cost: 35.50, Comm 0.00\n",
      "2005-06-23, Close, 21.64\n",
      "2005-06-24, Close, 21.72\n",
      "2005-06-27, Close, 21.61\n",
      "2005-06-28, Close, 21.95\n",
      "2005-06-29, Close, 21.85\n"
     ]
    },
    {
     "name": "stderr",
     "output_type": "stream",
     "text": [
      "INFO:fbprophet.forecaster:Disabling daily seasonality. Run prophet with daily_seasonality=True to override this.\n"
     ]
    },
    {
     "name": "stdout",
     "output_type": "stream",
     "text": [
      "2005-06-29, BUY CREATE, 21.85\n",
      "2005-06-30, BUY EXECUTED, Price: 35.00, Cost: 35.00, Comm 0.00\n",
      "2005-06-30, Close, 21.64\n",
      "2005-07-01, Close, 21.69\n",
      "2005-07-05, Close, 21.68\n",
      "2005-07-06, Close, 21.43\n",
      "2005-07-07, Close, 21.34\n"
     ]
    },
    {
     "name": "stderr",
     "output_type": "stream",
     "text": [
      "INFO:fbprophet.forecaster:Disabling daily seasonality. Run prophet with daily_seasonality=True to override this.\n"
     ]
    },
    {
     "name": "stdout",
     "output_type": "stream",
     "text": [
      "2005-07-07, BUY CREATE, 21.34\n",
      "2005-07-08, BUY EXECUTED, Price: 34.38, Cost: 34.38, Comm 0.00\n",
      "2005-07-08, Close, 21.85\n",
      "2005-07-11, Close, 21.92\n",
      "2005-07-12, Close, 21.92\n",
      "2005-07-13, Close, 21.97\n",
      "2005-07-14, Close, 22.25\n"
     ]
    },
    {
     "name": "stderr",
     "output_type": "stream",
     "text": [
      "INFO:fbprophet.forecaster:Disabling daily seasonality. Run prophet with daily_seasonality=True to override this.\n"
     ]
    },
    {
     "name": "stdout",
     "output_type": "stream",
     "text": [
      "2005-07-14, BUY CREATE, 22.25\n",
      "2005-07-15, BUY EXECUTED, Price: 35.34, Cost: 35.34, Comm 0.00\n",
      "2005-07-15, Close, 22.19\n",
      "2005-07-18, Close, 21.98\n",
      "2005-07-19, Close, 22.06\n",
      "2005-07-20, Close, 22.04\n",
      "2005-07-21, Close, 21.85\n"
     ]
    },
    {
     "name": "stderr",
     "output_type": "stream",
     "text": [
      "INFO:fbprophet.forecaster:Disabling daily seasonality. Run prophet with daily_seasonality=True to override this.\n"
     ]
    },
    {
     "name": "stdout",
     "output_type": "stream",
     "text": [
      "2005-07-21, BUY CREATE, 21.85\n",
      "2005-07-22, BUY EXECUTED, Price: 35.24, Cost: 35.24, Comm 0.00\n",
      "2005-07-22, Close, 21.90\n",
      "2005-07-25, Close, 21.71\n",
      "2005-07-26, Close, 21.67\n",
      "2005-07-27, Close, 21.73\n",
      "2005-07-28, Close, 21.78\n"
     ]
    },
    {
     "name": "stderr",
     "output_type": "stream",
     "text": [
      "INFO:fbprophet.forecaster:Disabling daily seasonality. Run prophet with daily_seasonality=True to override this.\n"
     ]
    },
    {
     "name": "stdout",
     "output_type": "stream",
     "text": [
      "2005-07-28, BUY CREATE, 21.78\n",
      "2005-07-29, BUY EXECUTED, Price: 34.80, Cost: 34.80, Comm 0.00\n",
      "2005-07-29, Close, 21.54\n",
      "2005-08-01, Close, 21.39\n",
      "2005-08-02, Close, 21.39\n",
      "2005-08-03, Close, 21.36\n",
      "2005-08-04, Close, 21.24\n"
     ]
    },
    {
     "name": "stderr",
     "output_type": "stream",
     "text": [
      "INFO:fbprophet.forecaster:Disabling daily seasonality. Run prophet with daily_seasonality=True to override this.\n"
     ]
    },
    {
     "name": "stdout",
     "output_type": "stream",
     "text": [
      "2005-08-04, BUY CREATE, 21.24\n",
      "2005-08-05, BUY EXECUTED, Price: 33.85, Cost: 33.85, Comm 0.00\n",
      "2005-08-05, Close, 21.11\n",
      "2005-08-08, Close, 21.08\n",
      "2005-08-09, Close, 21.32\n",
      "2005-08-10, Close, 21.16\n",
      "2005-08-11, Close, 21.55\n"
     ]
    },
    {
     "name": "stderr",
     "output_type": "stream",
     "text": [
      "INFO:fbprophet.forecaster:Disabling daily seasonality. Run prophet with daily_seasonality=True to override this.\n"
     ]
    },
    {
     "name": "stdout",
     "output_type": "stream",
     "text": [
      "2005-08-11, BUY CREATE, 21.55\n",
      "2005-08-12, BUY EXECUTED, Price: 34.32, Cost: 34.32, Comm 0.00\n",
      "2005-08-12, Close, 21.39\n",
      "2005-08-15, Close, 21.36\n",
      "2005-08-16, Close, 21.16\n",
      "2005-08-17, Close, 21.29\n",
      "2005-08-18, Close, 21.22\n"
     ]
    },
    {
     "name": "stderr",
     "output_type": "stream",
     "text": [
      "INFO:fbprophet.forecaster:Disabling daily seasonality. Run prophet with daily_seasonality=True to override this.\n"
     ]
    },
    {
     "name": "stdout",
     "output_type": "stream",
     "text": [
      "2005-08-18, BUY CREATE, 21.22\n",
      "2005-08-19, BUY EXECUTED, Price: 34.09, Cost: 34.09, Comm 0.00\n",
      "2005-08-19, Close, 21.20\n",
      "2005-08-22, Close, 21.21\n",
      "2005-08-23, Close, 21.21\n",
      "2005-08-24, Close, 20.94\n",
      "2005-08-25, Close, 20.92\n"
     ]
    },
    {
     "name": "stderr",
     "output_type": "stream",
     "text": [
      "INFO:fbprophet.forecaster:Disabling daily seasonality. Run prophet with daily_seasonality=True to override this.\n"
     ]
    },
    {
     "name": "stdout",
     "output_type": "stream",
     "text": [
      "2005-08-25, BUY CREATE, 20.92\n",
      "2005-08-26, BUY EXECUTED, Price: 33.50, Cost: 33.50, Comm 0.00\n",
      "2005-08-26, Close, 20.84\n",
      "2005-08-29, Close, 20.98\n",
      "2005-08-30, Close, 20.76\n",
      "2005-08-31, Close, 20.99\n",
      "2005-09-01, Close, 20.69\n"
     ]
    },
    {
     "name": "stderr",
     "output_type": "stream",
     "text": [
      "INFO:fbprophet.forecaster:Disabling daily seasonality. Run prophet with daily_seasonality=True to override this.\n"
     ]
    },
    {
     "name": "stdout",
     "output_type": "stream",
     "text": [
      "2005-09-01, BUY CREATE, 20.69\n",
      "2005-09-02, BUY EXECUTED, Price: 33.40, Cost: 33.40, Comm 0.00\n",
      "2005-09-02, Close, 20.81\n",
      "2005-09-06, Close, 21.19\n",
      "2005-09-07, Close, 21.24\n",
      "2005-09-08, Close, 21.14\n",
      "2005-09-09, Close, 21.22\n"
     ]
    },
    {
     "name": "stderr",
     "output_type": "stream",
     "text": [
      "INFO:fbprophet.forecaster:Disabling daily seasonality. Run prophet with daily_seasonality=True to override this.\n"
     ]
    },
    {
     "name": "stdout",
     "output_type": "stream",
     "text": [
      "2005-09-09, BUY CREATE, 21.22\n",
      "2005-09-12, BUY EXECUTED, Price: 34.00, Cost: 34.00, Comm 0.00\n",
      "2005-09-12, Close, 21.50\n",
      "2005-09-13, Close, 21.41\n",
      "2005-09-14, Close, 21.26\n",
      "2005-09-15, Close, 21.47\n",
      "2005-09-16, Close, 21.52\n"
     ]
    },
    {
     "name": "stderr",
     "output_type": "stream",
     "text": [
      "INFO:fbprophet.forecaster:Disabling daily seasonality. Run prophet with daily_seasonality=True to override this.\n"
     ]
    },
    {
     "name": "stdout",
     "output_type": "stream",
     "text": [
      "2005-09-16, BUY CREATE, 21.52\n",
      "2005-09-19, BUY EXECUTED, Price: 34.30, Cost: 34.30, Comm 0.00\n",
      "2005-09-19, Close, 21.26\n",
      "2005-09-20, Close, 21.13\n",
      "2005-09-21, Close, 20.95\n",
      "2005-09-22, Close, 20.93\n",
      "2005-09-23, Close, 20.99\n"
     ]
    },
    {
     "name": "stderr",
     "output_type": "stream",
     "text": [
      "INFO:fbprophet.forecaster:Disabling daily seasonality. Run prophet with daily_seasonality=True to override this.\n"
     ]
    },
    {
     "name": "stdout",
     "output_type": "stream",
     "text": [
      "2005-09-23, BUY CREATE, 20.99\n",
      "2005-09-26, BUY EXECUTED, Price: 33.58, Cost: 33.58, Comm 0.00\n",
      "2005-09-26, Close, 20.91\n",
      "2005-09-27, Close, 21.14\n",
      "2005-09-28, Close, 21.05\n",
      "2005-09-29, Close, 21.15\n",
      "2005-09-30, Close, 21.16\n"
     ]
    },
    {
     "name": "stderr",
     "output_type": "stream",
     "text": [
      "INFO:fbprophet.forecaster:Disabling daily seasonality. Run prophet with daily_seasonality=True to override this.\n"
     ]
    },
    {
     "name": "stdout",
     "output_type": "stream",
     "text": [
      "2005-09-30, BUY CREATE, 21.16\n",
      "2005-10-03, BUY EXECUTED, Price: 33.60, Cost: 33.60, Comm 0.00\n",
      "2005-10-03, Close, 20.89\n",
      "2005-10-04, Close, 20.65\n",
      "2005-10-05, Close, 20.54\n",
      "2005-10-06, Close, 21.11\n",
      "2005-10-07, Close, 21.51\n"
     ]
    },
    {
     "name": "stderr",
     "output_type": "stream",
     "text": [
      "INFO:fbprophet.forecaster:Disabling daily seasonality. Run prophet with daily_seasonality=True to override this.\n"
     ]
    },
    {
     "name": "stdout",
     "output_type": "stream",
     "text": [
      "2005-10-07, BUY CREATE, 21.51\n",
      "2005-10-10, BUY EXECUTED, Price: 34.23, Cost: 34.23, Comm 0.00\n",
      "2005-10-10, Close, 21.36\n",
      "2005-10-11, Close, 21.24\n",
      "2005-10-12, Close, 21.24\n",
      "2005-10-13, Close, 21.38\n",
      "2005-10-14, Close, 21.58\n"
     ]
    },
    {
     "name": "stderr",
     "output_type": "stream",
     "text": [
      "INFO:fbprophet.forecaster:Disabling daily seasonality. Run prophet with daily_seasonality=True to override this.\n"
     ]
    },
    {
     "name": "stdout",
     "output_type": "stream",
     "text": [
      "2005-10-14, BUY CREATE, 21.58\n",
      "2005-10-17, BUY EXECUTED, Price: 34.21, Cost: 34.21, Comm 0.00\n",
      "2005-10-17, Close, 21.38\n",
      "2005-10-18, Close, 21.37\n",
      "2005-10-19, Close, 21.63\n",
      "2005-10-20, Close, 21.30\n",
      "2005-10-21, Close, 21.20\n"
     ]
    },
    {
     "name": "stderr",
     "output_type": "stream",
     "text": [
      "INFO:fbprophet.forecaster:Disabling daily seasonality. Run prophet with daily_seasonality=True to override this.\n"
     ]
    },
    {
     "name": "stdout",
     "output_type": "stream",
     "text": [
      "2005-10-21, BUY CREATE, 21.20\n",
      "2005-10-24, BUY EXECUTED, Price: 33.76, Cost: 33.76, Comm 0.00\n",
      "2005-10-24, Close, 21.45\n",
      "2005-10-25, Close, 21.31\n",
      "2005-10-26, Close, 21.18\n",
      "2005-10-27, Close, 21.11\n",
      "2005-10-28, Close, 21.40\n"
     ]
    },
    {
     "name": "stderr",
     "output_type": "stream",
     "text": [
      "INFO:fbprophet.forecaster:Disabling daily seasonality. Run prophet with daily_seasonality=True to override this.\n"
     ]
    },
    {
     "name": "stdout",
     "output_type": "stream",
     "text": [
      "2005-10-28, BUY CREATE, 21.40\n",
      "2005-10-31, BUY EXECUTED, Price: 34.00, Cost: 34.00, Comm 0.00\n",
      "2005-10-31, Close, 21.31\n",
      "2005-11-01, Close, 21.12\n",
      "2005-11-02, Close, 21.25\n",
      "2005-11-03, Close, 21.36\n",
      "2005-11-04, Close, 21.38\n"
     ]
    },
    {
     "name": "stderr",
     "output_type": "stream",
     "text": [
      "INFO:fbprophet.forecaster:Disabling daily seasonality. Run prophet with daily_seasonality=True to override this.\n"
     ]
    },
    {
     "name": "stdout",
     "output_type": "stream",
     "text": [
      "2005-11-04, BUY CREATE, 21.38\n",
      "2005-11-07, BUY EXECUTED, Price: 34.10, Cost: 34.10, Comm 0.00\n",
      "2005-11-07, Close, 21.38\n",
      "2005-11-08, Close, 21.22\n",
      "2005-11-09, Close, 21.32\n",
      "2005-11-10, Close, 21.68\n",
      "2005-11-11, Close, 21.78\n"
     ]
    },
    {
     "name": "stderr",
     "output_type": "stream",
     "text": [
      "INFO:fbprophet.forecaster:Disabling daily seasonality. Run prophet with daily_seasonality=True to override this.\n"
     ]
    },
    {
     "name": "stdout",
     "output_type": "stream",
     "text": [
      "2005-11-11, BUY CREATE, 21.78\n",
      "2005-11-14, BUY EXECUTED, Price: 34.66, Cost: 34.66, Comm 0.00\n",
      "2005-11-14, Close, 21.62\n",
      "2005-11-15, Close, 21.62\n",
      "2005-11-16, Close, 21.71\n",
      "2005-11-17, Close, 21.79\n",
      "2005-11-18, Close, 22.47\n"
     ]
    },
    {
     "name": "stderr",
     "output_type": "stream",
     "text": [
      "INFO:fbprophet.forecaster:Disabling daily seasonality. Run prophet with daily_seasonality=True to override this.\n"
     ]
    },
    {
     "name": "stdout",
     "output_type": "stream",
     "text": [
      "2005-11-18, BUY CREATE, 22.47\n",
      "2005-11-21, BUY EXECUTED, Price: 35.76, Cost: 35.76, Comm 0.00\n",
      "2005-11-21, Close, 22.75\n",
      "2005-11-22, Close, 22.67\n",
      "2005-11-23, Close, 22.59\n",
      "2005-11-25, Close, 22.75\n",
      "2005-11-28, Close, 22.61\n"
     ]
    },
    {
     "name": "stderr",
     "output_type": "stream",
     "text": [
      "INFO:fbprophet.forecaster:Disabling daily seasonality. Run prophet with daily_seasonality=True to override this.\n"
     ]
    },
    {
     "name": "stdout",
     "output_type": "stream",
     "text": [
      "2005-11-28, SELL CREATE, 22.61\n",
      "2005-11-29, SELL EXECUTED, Price: 36.13, Cost: 35.10, Comm 0.00\n",
      "2005-11-29, Close, 22.58\n",
      "2005-11-30, Close, 22.45\n",
      "2005-12-01, Close, 22.47\n",
      "2005-12-02, Close, 22.31\n",
      "2005-12-05, Close, 22.48\n"
     ]
    },
    {
     "name": "stderr",
     "output_type": "stream",
     "text": [
      "INFO:fbprophet.forecaster:Disabling daily seasonality. Run prophet with daily_seasonality=True to override this.\n"
     ]
    },
    {
     "name": "stdout",
     "output_type": "stream",
     "text": [
      "2005-12-05, BUY CREATE, 22.48\n",
      "2005-12-06, BUY EXECUTED, Price: 35.90, Cost: 35.90, Comm 0.00\n",
      "2005-12-06, Close, 22.50\n",
      "2005-12-07, Close, 22.36\n",
      "2005-12-08, Close, 22.22\n",
      "2005-12-09, Close, 22.33\n",
      "2005-12-12, Close, 22.34\n"
     ]
    },
    {
     "name": "stderr",
     "output_type": "stream",
     "text": [
      "INFO:fbprophet.forecaster:Disabling daily seasonality. Run prophet with daily_seasonality=True to override this.\n"
     ]
    },
    {
     "name": "stdout",
     "output_type": "stream",
     "text": [
      "2005-12-12, BUY CREATE, 22.34\n",
      "2005-12-13, BUY EXECUTED, Price: 35.50, Cost: 35.50, Comm 0.00\n",
      "2005-12-13, Close, 22.29\n",
      "2005-12-14, Close, 22.48\n",
      "2005-12-15, Close, 22.63\n",
      "2005-12-16, Close, 22.67\n",
      "2005-12-19, Close, 22.51\n"
     ]
    },
    {
     "name": "stderr",
     "output_type": "stream",
     "text": [
      "INFO:fbprophet.forecaster:Disabling daily seasonality. Run prophet with daily_seasonality=True to override this.\n"
     ]
    },
    {
     "name": "stdout",
     "output_type": "stream",
     "text": [
      "2005-12-19, BUY CREATE, 22.51\n",
      "2005-12-20, BUY EXECUTED, Price: 35.67, Cost: 35.67, Comm 0.00\n",
      "2005-12-20, Close, 22.34\n",
      "2005-12-21, Close, 22.20\n",
      "2005-12-22, Close, 22.42\n",
      "2005-12-23, Close, 22.42\n",
      "2005-12-27, Close, 22.19\n"
     ]
    },
    {
     "name": "stderr",
     "output_type": "stream",
     "text": [
      "INFO:fbprophet.forecaster:Disabling daily seasonality. Run prophet with daily_seasonality=True to override this.\n"
     ]
    },
    {
     "name": "stdout",
     "output_type": "stream",
     "text": [
      "2005-12-27, BUY CREATE, 22.19\n",
      "2005-12-28, BUY EXECUTED, Price: 35.06, Cost: 35.06, Comm 0.00\n",
      "2005-12-28, Close, 22.23\n",
      "2005-12-29, Close, 22.28\n",
      "2005-12-30, Close, 22.19\n",
      "2006-01-03, Close, 22.39\n",
      "2006-01-04, Close, 22.36\n"
     ]
    },
    {
     "name": "stderr",
     "output_type": "stream",
     "text": [
      "INFO:fbprophet.forecaster:Disabling daily seasonality. Run prophet with daily_seasonality=True to override this.\n"
     ]
    },
    {
     "name": "stdout",
     "output_type": "stream",
     "text": [
      "2006-01-04, BUY CREATE, 22.36\n",
      "2006-01-05, BUY EXECUTED, Price: 35.27, Cost: 35.27, Comm 0.00\n",
      "2006-01-05, Close, 22.30\n",
      "2006-01-06, Close, 22.45\n",
      "2006-01-09, Close, 22.40\n",
      "2006-01-10, Close, 22.28\n",
      "2006-01-11, Close, 22.43\n"
     ]
    },
    {
     "name": "stderr",
     "output_type": "stream",
     "text": [
      "INFO:fbprophet.forecaster:Disabling daily seasonality. Run prophet with daily_seasonality=True to override this.\n"
     ]
    },
    {
     "name": "stdout",
     "output_type": "stream",
     "text": [
      "2006-01-11, SELL CREATE, 22.43\n",
      "2006-01-12, SELL EXECUTED, Price: 35.45, Cost: 35.15, Comm 0.00\n",
      "2006-01-12, Close, 22.16\n",
      "2006-01-13, Close, 22.22\n",
      "2006-01-17, Close, 22.12\n",
      "2006-01-18, Close, 22.04\n",
      "2006-01-19, Close, 21.95\n"
     ]
    },
    {
     "name": "stderr",
     "output_type": "stream",
     "text": [
      "INFO:fbprophet.forecaster:Disabling daily seasonality. Run prophet with daily_seasonality=True to override this.\n"
     ]
    },
    {
     "name": "stdout",
     "output_type": "stream",
     "text": [
      "2006-01-19, SELL CREATE, 21.95\n",
      "2006-01-20, SELL EXECUTED, Price: 34.30, Cost: 35.15, Comm 0.00\n",
      "2006-01-20, Close, 21.12\n",
      "2006-01-23, Close, 21.07\n",
      "2006-01-24, Close, 20.86\n",
      "2006-01-25, Close, 20.74\n",
      "2006-01-26, Close, 20.90\n"
     ]
    },
    {
     "name": "stderr",
     "output_type": "stream",
     "text": [
      "INFO:fbprophet.forecaster:Disabling daily seasonality. Run prophet with daily_seasonality=True to override this.\n"
     ]
    },
    {
     "name": "stdout",
     "output_type": "stream",
     "text": [
      "2006-01-26, BUY CREATE, 20.90\n",
      "2006-01-27, BUY EXECUTED, Price: 32.95, Cost: 32.95, Comm 0.00\n",
      "2006-01-27, Close, 20.86\n",
      "2006-01-30, Close, 20.85\n",
      "2006-01-31, Close, 20.73\n",
      "2006-02-01, Close, 20.98\n",
      "2006-02-02, Close, 20.83\n"
     ]
    },
    {
     "name": "stderr",
     "output_type": "stream",
     "text": [
      "INFO:fbprophet.forecaster:Disabling daily seasonality. Run prophet with daily_seasonality=True to override this.\n"
     ]
    },
    {
     "name": "stdout",
     "output_type": "stream",
     "text": [
      "2006-02-02, BUY CREATE, 20.83\n",
      "2006-02-03, BUY EXECUTED, Price: 32.80, Cost: 32.80, Comm 0.00\n",
      "2006-02-03, Close, 20.79\n",
      "2006-02-06, Close, 20.73\n",
      "2006-02-07, Close, 20.45\n",
      "2006-02-08, Close, 20.73\n",
      "2006-02-09, Close, 20.84\n"
     ]
    },
    {
     "name": "stderr",
     "output_type": "stream",
     "text": [
      "INFO:fbprophet.forecaster:Disabling daily seasonality. Run prophet with daily_seasonality=True to override this.\n"
     ]
    },
    {
     "name": "stdout",
     "output_type": "stream",
     "text": [
      "2006-02-09, BUY CREATE, 20.84\n",
      "2006-02-10, BUY EXECUTED, Price: 32.92, Cost: 32.92, Comm 0.00\n",
      "2006-02-10, Close, 21.07\n",
      "2006-02-13, Close, 21.05\n",
      "2006-02-14, Close, 21.18\n",
      "2006-02-15, Close, 21.18\n",
      "2006-02-16, Close, 21.11\n"
     ]
    },
    {
     "name": "stderr",
     "output_type": "stream",
     "text": [
      "INFO:fbprophet.forecaster:Disabling daily seasonality. Run prophet with daily_seasonality=True to override this.\n"
     ]
    },
    {
     "name": "stdout",
     "output_type": "stream",
     "text": [
      "2006-02-16, BUY CREATE, 21.11\n",
      "2006-02-17, BUY EXECUTED, Price: 33.35, Cost: 33.35, Comm 0.00\n",
      "2006-02-17, Close, 21.28\n",
      "2006-02-21, Close, 21.12\n",
      "2006-02-22, Close, 21.29\n",
      "2006-02-23, Close, 21.21\n",
      "2006-02-24, Close, 21.14\n"
     ]
    },
    {
     "name": "stderr",
     "output_type": "stream",
     "text": [
      "INFO:fbprophet.forecaster:Disabling daily seasonality. Run prophet with daily_seasonality=True to override this.\n"
     ]
    },
    {
     "name": "stdout",
     "output_type": "stream",
     "text": [
      "2006-02-24, BUY CREATE, 21.14\n",
      "2006-02-27, BUY EXECUTED, Price: 33.22, Cost: 33.22, Comm 0.00\n",
      "2006-02-27, Close, 21.25\n",
      "2006-02-28, Close, 20.96\n",
      "2006-03-01, Close, 20.89\n",
      "2006-03-02, Close, 20.95\n",
      "2006-03-03, Close, 21.08\n"
     ]
    },
    {
     "name": "stderr",
     "output_type": "stream",
     "text": [
      "INFO:fbprophet.forecaster:Disabling daily seasonality. Run prophet with daily_seasonality=True to override this.\n"
     ]
    },
    {
     "name": "stdout",
     "output_type": "stream",
     "text": [
      "2006-03-03, BUY CREATE, 21.08\n",
      "2006-03-06, BUY EXECUTED, Price: 33.06, Cost: 33.06, Comm 0.00\n",
      "2006-03-06, Close, 21.11\n",
      "2006-03-07, Close, 21.14\n",
      "2006-03-08, Close, 21.32\n",
      "2006-03-09, Close, 21.17\n",
      "2006-03-10, Close, 21.46\n"
     ]
    },
    {
     "name": "stderr",
     "output_type": "stream",
     "text": [
      "INFO:fbprophet.forecaster:Disabling daily seasonality. Run prophet with daily_seasonality=True to override this.\n"
     ]
    },
    {
     "name": "stdout",
     "output_type": "stream",
     "text": [
      "2006-03-10, BUY CREATE, 21.46\n",
      "2006-03-13, BUY EXECUTED, Price: 33.66, Cost: 33.66, Comm 0.00\n",
      "2006-03-13, Close, 21.47\n",
      "2006-03-14, Close, 21.54\n",
      "2006-03-15, Close, 21.95\n",
      "2006-03-16, Close, 21.93\n",
      "2006-03-17, Close, 22.01\n"
     ]
    },
    {
     "name": "stderr",
     "output_type": "stream",
     "text": [
      "INFO:fbprophet.forecaster:Disabling daily seasonality. Run prophet with daily_seasonality=True to override this.\n"
     ]
    },
    {
     "name": "stdout",
     "output_type": "stream",
     "text": [
      "2006-03-17, BUY CREATE, 22.01\n",
      "2006-03-20, BUY EXECUTED, Price: 34.54, Cost: 34.54, Comm 0.00\n",
      "2006-03-20, Close, 22.00\n",
      "2006-03-21, Close, 21.90\n",
      "2006-03-22, Close, 22.02\n",
      "2006-03-23, Close, 21.76\n",
      "2006-03-24, Close, 21.65\n"
     ]
    },
    {
     "name": "stderr",
     "output_type": "stream",
     "text": [
      "INFO:fbprophet.forecaster:Disabling daily seasonality. Run prophet with daily_seasonality=True to override this.\n"
     ]
    },
    {
     "name": "stdout",
     "output_type": "stream",
     "text": [
      "2006-03-24, BUY CREATE, 21.65\n",
      "2006-03-27, BUY EXECUTED, Price: 33.87, Cost: 33.87, Comm 0.00\n",
      "2006-03-27, Close, 21.55\n",
      "2006-03-28, Close, 21.43\n",
      "2006-03-29, Close, 21.64\n",
      "2006-03-30, Close, 22.10\n",
      "2006-03-31, Close, 22.18\n"
     ]
    },
    {
     "name": "stderr",
     "output_type": "stream",
     "text": [
      "INFO:fbprophet.forecaster:Disabling daily seasonality. Run prophet with daily_seasonality=True to override this.\n"
     ]
    },
    {
     "name": "stdout",
     "output_type": "stream",
     "text": [
      "2006-03-31, BUY CREATE, 22.18\n",
      "2006-04-03, BUY EXECUTED, Price: 34.79, Cost: 34.79, Comm 0.00\n",
      "2006-04-03, Close, 22.12\n",
      "2006-04-04, Close, 22.13\n",
      "2006-04-05, Close, 21.95\n",
      "2006-04-06, Close, 22.01\n",
      "2006-04-07, Close, 21.70\n"
     ]
    },
    {
     "name": "stderr",
     "output_type": "stream",
     "text": [
      "INFO:fbprophet.forecaster:Disabling daily seasonality. Run prophet with daily_seasonality=True to override this.\n"
     ]
    },
    {
     "name": "stdout",
     "output_type": "stream",
     "text": [
      "2006-04-07, BUY CREATE, 21.70\n",
      "2006-04-10, BUY EXECUTED, Price: 34.06, Cost: 34.06, Comm 0.00\n",
      "2006-04-10, Close, 21.63\n",
      "2006-04-11, Close, 21.72\n",
      "2006-04-12, Close, 21.98\n",
      "2006-04-13, Close, 21.61\n",
      "2006-04-17, Close, 21.23\n"
     ]
    },
    {
     "name": "stderr",
     "output_type": "stream",
     "text": [
      "INFO:fbprophet.forecaster:Disabling daily seasonality. Run prophet with daily_seasonality=True to override this.\n"
     ]
    },
    {
     "name": "stdout",
     "output_type": "stream",
     "text": [
      "2006-04-17, BUY CREATE, 21.23\n",
      "2006-04-18, BUY EXECUTED, Price: 33.52, Cost: 33.52, Comm 0.00\n",
      "2006-04-18, Close, 21.60\n",
      "2006-04-19, Close, 21.61\n",
      "2006-04-20, Close, 21.76\n",
      "2006-04-21, Close, 21.66\n",
      "2006-04-24, Close, 21.64\n"
     ]
    },
    {
     "name": "stderr",
     "output_type": "stream",
     "text": [
      "INFO:fbprophet.forecaster:Disabling daily seasonality. Run prophet with daily_seasonality=True to override this.\n"
     ]
    },
    {
     "name": "stdout",
     "output_type": "stream",
     "text": [
      "2006-04-24, BUY CREATE, 21.64\n",
      "2006-04-25, BUY EXECUTED, Price: 34.00, Cost: 34.00, Comm 0.00\n",
      "2006-04-25, Close, 21.66\n",
      "2006-04-26, Close, 21.77\n",
      "2006-04-27, Close, 21.96\n",
      "2006-04-28, Close, 22.06\n",
      "2006-05-01, Close, 21.93\n"
     ]
    },
    {
     "name": "stderr",
     "output_type": "stream",
     "text": [
      "INFO:fbprophet.forecaster:Disabling daily seasonality. Run prophet with daily_seasonality=True to override this.\n"
     ]
    },
    {
     "name": "stdout",
     "output_type": "stream",
     "text": [
      "2006-05-01, BUY CREATE, 21.93\n",
      "2006-05-02, BUY EXECUTED, Price: 34.39, Cost: 34.39, Comm 0.00\n",
      "2006-05-02, Close, 21.99\n",
      "2006-05-03, Close, 21.94\n",
      "2006-05-04, Close, 22.19\n",
      "2006-05-05, Close, 22.42\n",
      "2006-05-08, Close, 22.32\n"
     ]
    },
    {
     "name": "stderr",
     "output_type": "stream",
     "text": [
      "INFO:fbprophet.forecaster:Disabling daily seasonality. Run prophet with daily_seasonality=True to override this.\n"
     ]
    },
    {
     "name": "stdout",
     "output_type": "stream",
     "text": [
      "2006-05-08, SELL CREATE, 22.32\n",
      "2006-05-09, SELL EXECUTED, Price: 34.95, Cost: 34.77, Comm 0.00\n",
      "2006-05-09, Close, 22.32\n",
      "2006-05-10, Close, 22.13\n",
      "2006-05-11, Close, 22.01\n",
      "2006-05-12, Close, 21.86\n",
      "2006-05-15, Close, 22.04\n"
     ]
    },
    {
     "name": "stderr",
     "output_type": "stream",
     "text": [
      "INFO:fbprophet.forecaster:Disabling daily seasonality. Run prophet with daily_seasonality=True to override this.\n"
     ]
    },
    {
     "name": "stdout",
     "output_type": "stream",
     "text": [
      "2006-05-15, BUY CREATE, 22.04\n",
      "2006-05-16, BUY EXECUTED, Price: 34.74, Cost: 34.74, Comm 0.00\n",
      "2006-05-16, Close, 22.19\n",
      "2006-05-17, Close, 21.95\n",
      "2006-05-18, Close, 21.78\n",
      "2006-05-19, Close, 21.79\n",
      "2006-05-22, Close, 21.73\n"
     ]
    },
    {
     "name": "stderr",
     "output_type": "stream",
     "text": [
      "INFO:fbprophet.forecaster:Disabling daily seasonality. Run prophet with daily_seasonality=True to override this.\n"
     ]
    },
    {
     "name": "stdout",
     "output_type": "stream",
     "text": [
      "2006-05-22, BUY CREATE, 21.73\n",
      "2006-05-23, BUY EXECUTED, Price: 34.10, Cost: 34.10, Comm 0.00\n",
      "2006-05-23, Close, 21.69\n",
      "2006-05-24, Close, 21.85\n",
      "2006-05-25, Close, 21.95\n",
      "2006-05-26, Close, 21.89\n",
      "2006-05-30, Close, 21.72\n"
     ]
    },
    {
     "name": "stderr",
     "output_type": "stream",
     "text": [
      "INFO:fbprophet.forecaster:Disabling daily seasonality. Run prophet with daily_seasonality=True to override this.\n"
     ]
    },
    {
     "name": "stdout",
     "output_type": "stream",
     "text": [
      "2006-05-30, BUY CREATE, 21.72\n",
      "2006-05-31, BUY EXECUTED, Price: 34.15, Cost: 34.15, Comm 0.00\n",
      "2006-05-31, Close, 21.85\n",
      "2006-06-01, Close, 22.03\n",
      "2006-06-02, Close, 22.10\n",
      "2006-06-05, Close, 21.82\n",
      "2006-06-06, Close, 22.03\n"
     ]
    },
    {
     "name": "stderr",
     "output_type": "stream",
     "text": [
      "INFO:fbprophet.forecaster:Disabling daily seasonality. Run prophet with daily_seasonality=True to override this.\n"
     ]
    },
    {
     "name": "stdout",
     "output_type": "stream",
     "text": [
      "2006-06-06, SELL CREATE, 22.03\n",
      "2006-06-07, SELL EXECUTED, Price: 34.55, Cost: 34.74, Comm 0.00\n",
      "2006-06-07, Close, 21.94\n",
      "2006-06-08, Close, 22.05\n",
      "2006-06-09, Close, 21.73\n",
      "2006-06-12, Close, 21.60\n",
      "2006-06-13, Close, 21.51\n"
     ]
    },
    {
     "name": "stderr",
     "output_type": "stream",
     "text": [
      "INFO:fbprophet.forecaster:Disabling daily seasonality. Run prophet with daily_seasonality=True to override this.\n"
     ]
    },
    {
     "name": "stdout",
     "output_type": "stream",
     "text": [
      "2006-06-13, BUY CREATE, 21.51\n",
      "2006-06-14, BUY EXECUTED, Price: 33.70, Cost: 33.70, Comm 0.00\n",
      "2006-06-14, Close, 21.62\n",
      "2006-06-15, Close, 21.75\n",
      "2006-06-16, Close, 21.64\n",
      "2006-06-19, Close, 21.51\n",
      "2006-06-20, Close, 21.49\n"
     ]
    },
    {
     "name": "stderr",
     "output_type": "stream",
     "text": [
      "INFO:fbprophet.forecaster:Disabling daily seasonality. Run prophet with daily_seasonality=True to override this.\n"
     ]
    },
    {
     "name": "stdout",
     "output_type": "stream",
     "text": [
      "2006-06-20, SELL CREATE, 21.49\n",
      "2006-06-21, SELL EXECUTED, Price: 33.83, Cost: 34.72, Comm 0.00\n",
      "2006-06-21, Close, 21.47\n",
      "2006-06-22, Close, 21.36\n",
      "2006-06-23, Close, 21.31\n",
      "2006-06-26, Close, 21.34\n",
      "2006-06-27, Close, 21.13\n"
     ]
    },
    {
     "name": "stderr",
     "output_type": "stream",
     "text": [
      "INFO:fbprophet.forecaster:Disabling daily seasonality. Run prophet with daily_seasonality=True to override this.\n"
     ]
    },
    {
     "name": "stdout",
     "output_type": "stream",
     "text": [
      "2006-06-27, BUY CREATE, 21.13\n",
      "2006-06-28, BUY EXECUTED, Price: 32.93, Cost: 32.93, Comm 0.00\n",
      "2006-06-28, Close, 21.16\n",
      "2006-06-29, Close, 21.38\n",
      "2006-06-30, Close, 21.18\n",
      "2006-07-03, Close, 21.42\n",
      "2006-07-05, Close, 21.40\n"
     ]
    },
    {
     "name": "stderr",
     "output_type": "stream",
     "text": [
      "INFO:fbprophet.forecaster:Disabling daily seasonality. Run prophet with daily_seasonality=True to override this.\n"
     ]
    },
    {
     "name": "stdout",
     "output_type": "stream",
     "text": [
      "2006-07-05, SELL CREATE, 21.40\n",
      "2006-07-06, SELL EXECUTED, Price: 33.31, Cost: 34.69, Comm 0.00\n",
      "2006-07-06, Close, 21.52\n",
      "2006-07-07, Close, 21.40\n",
      "2006-07-10, Close, 21.49\n",
      "2006-07-11, Close, 21.37\n",
      "2006-07-12, Close, 21.24\n"
     ]
    },
    {
     "name": "stderr",
     "output_type": "stream",
     "text": [
      "INFO:fbprophet.forecaster:Disabling daily seasonality. Run prophet with daily_seasonality=True to override this.\n"
     ]
    },
    {
     "name": "stdout",
     "output_type": "stream",
     "text": [
      "2006-07-12, SELL CREATE, 21.24\n",
      "2006-07-13, SELL EXECUTED, Price: 33.01, Cost: 34.69, Comm 0.00\n",
      "2006-07-13, Close, 20.99\n",
      "2006-07-14, Close, 20.63\n",
      "2006-07-17, Close, 20.79\n",
      "2006-07-18, Close, 20.86\n",
      "2006-07-19, Close, 21.13\n"
     ]
    },
    {
     "name": "stderr",
     "output_type": "stream",
     "text": [
      "INFO:fbprophet.forecaster:Disabling daily seasonality. Run prophet with daily_seasonality=True to override this.\n"
     ]
    },
    {
     "name": "stdout",
     "output_type": "stream",
     "text": [
      "2006-07-19, BUY CREATE, 21.13\n",
      "2006-07-20, BUY EXECUTED, Price: 32.85, Cost: 32.85, Comm 0.00\n",
      "2006-07-20, Close, 20.87\n",
      "2006-07-21, Close, 20.72\n",
      "2006-07-24, Close, 20.96\n",
      "2006-07-25, Close, 21.01\n",
      "2006-07-26, Close, 21.00\n"
     ]
    },
    {
     "name": "stderr",
     "output_type": "stream",
     "text": [
      "INFO:fbprophet.forecaster:Disabling daily seasonality. Run prophet with daily_seasonality=True to override this.\n"
     ]
    },
    {
     "name": "stdout",
     "output_type": "stream",
     "text": [
      "2006-07-26, BUY CREATE, 21.00\n",
      "2006-07-27, BUY EXECUTED, Price: 32.75, Cost: 32.75, Comm 0.00\n",
      "2006-07-27, Close, 20.98\n",
      "2006-07-28, Close, 21.22\n",
      "2006-07-31, Close, 21.00\n",
      "2006-08-01, Close, 20.92\n",
      "2006-08-02, Close, 20.95\n"
     ]
    },
    {
     "name": "stderr",
     "output_type": "stream",
     "text": [
      "INFO:fbprophet.forecaster:Disabling daily seasonality. Run prophet with daily_seasonality=True to override this.\n"
     ]
    },
    {
     "name": "stdout",
     "output_type": "stream",
     "text": [
      "2006-08-02, BUY CREATE, 20.95\n",
      "2006-08-03, BUY EXECUTED, Price: 32.55, Cost: 32.55, Comm 0.00\n",
      "2006-08-03, Close, 21.03\n",
      "2006-08-04, Close, 21.08\n",
      "2006-08-07, Close, 21.00\n",
      "2006-08-08, Close, 20.78\n",
      "2006-08-09, Close, 20.74\n"
     ]
    },
    {
     "name": "stderr",
     "output_type": "stream",
     "text": [
      "INFO:fbprophet.forecaster:Disabling daily seasonality. Run prophet with daily_seasonality=True to override this.\n"
     ]
    },
    {
     "name": "stdout",
     "output_type": "stream",
     "text": [
      "2006-08-09, BUY CREATE, 20.74\n",
      "2006-08-10, BUY EXECUTED, Price: 32.35, Cost: 32.35, Comm 0.00\n",
      "2006-08-10, Close, 20.99\n",
      "2006-08-11, Close, 20.88\n",
      "2006-08-14, Close, 21.09\n",
      "2006-08-15, Close, 21.33\n",
      "2006-08-16, Close, 21.66\n"
     ]
    },
    {
     "name": "stderr",
     "output_type": "stream",
     "text": [
      "INFO:fbprophet.forecaster:Disabling daily seasonality. Run prophet with daily_seasonality=True to override this.\n"
     ]
    },
    {
     "name": "stdout",
     "output_type": "stream",
     "text": [
      "2006-08-16, BUY CREATE, 21.66\n",
      "2006-08-17, BUY EXECUTED, Price: 33.70, Cost: 33.70, Comm 0.00\n",
      "2006-08-17, Close, 21.79\n",
      "2006-08-18, Close, 21.85\n",
      "2006-08-21, Close, 21.82\n",
      "2006-08-22, Close, 21.82\n",
      "2006-08-23, Close, 21.71\n"
     ]
    },
    {
     "name": "stderr",
     "output_type": "stream",
     "text": [
      "INFO:fbprophet.forecaster:Disabling daily seasonality. Run prophet with daily_seasonality=True to override this.\n"
     ]
    },
    {
     "name": "stdout",
     "output_type": "stream",
     "text": [
      "2006-08-23, BUY CREATE, 21.71\n",
      "2006-08-24, BUY EXECUTED, Price: 33.94, Cost: 33.94, Comm 0.00\n",
      "2006-08-24, Close, 21.75\n",
      "2006-08-25, Close, 21.74\n",
      "2006-08-28, Close, 21.80\n",
      "2006-08-29, Close, 21.97\n",
      "2006-08-30, Close, 22.02\n"
     ]
    },
    {
     "name": "stderr",
     "output_type": "stream",
     "text": [
      "INFO:fbprophet.forecaster:Disabling daily seasonality. Run prophet with daily_seasonality=True to override this.\n"
     ]
    },
    {
     "name": "stdout",
     "output_type": "stream",
     "text": [
      "2006-08-30, SELL CREATE, 22.02\n",
      "2006-08-31, SELL EXECUTED, Price: 34.29, Cost: 34.53, Comm 0.00\n",
      "2006-08-31, Close, 21.88\n",
      "2006-09-01, Close, 21.94\n",
      "2006-09-05, Close, 21.83\n",
      "2006-09-06, Close, 21.81\n",
      "2006-09-07, Close, 21.87\n"
     ]
    },
    {
     "name": "stderr",
     "output_type": "stream",
     "text": [
      "INFO:fbprophet.forecaster:Disabling daily seasonality. Run prophet with daily_seasonality=True to override this.\n"
     ]
    },
    {
     "name": "stdout",
     "output_type": "stream",
     "text": [
      "2006-09-07, SELL CREATE, 21.87\n",
      "2006-09-08, SELL EXECUTED, Price: 33.90, Cost: 34.53, Comm 0.00\n",
      "2006-09-08, Close, 21.85\n",
      "2006-09-11, Close, 22.12\n",
      "2006-09-12, Close, 22.28\n",
      "2006-09-13, Close, 22.39\n",
      "2006-09-14, Close, 22.35\n"
     ]
    },
    {
     "name": "stderr",
     "output_type": "stream",
     "text": [
      "INFO:fbprophet.forecaster:Disabling daily seasonality. Run prophet with daily_seasonality=True to override this.\n"
     ]
    },
    {
     "name": "stdout",
     "output_type": "stream",
     "text": [
      "2006-09-14, SELL CREATE, 22.35\n",
      "2006-09-15, SELL EXECUTED, Price: 34.90, Cost: 34.53, Comm 0.00\n",
      "2006-09-15, Close, 22.39\n",
      "2006-09-18, Close, 22.41\n",
      "2006-09-19, Close, 22.39\n",
      "2006-09-20, Close, 22.50\n",
      "2006-09-21, Close, 22.29\n"
     ]
    },
    {
     "name": "stderr",
     "output_type": "stream",
     "text": [
      "INFO:fbprophet.forecaster:Disabling daily seasonality. Run prophet with daily_seasonality=True to override this.\n"
     ]
    },
    {
     "name": "stdout",
     "output_type": "stream",
     "text": [
      "2006-09-21, SELL CREATE, 22.29\n",
      "2006-09-22, SELL EXECUTED, Price: 34.36, Cost: 34.53, Comm 0.00\n",
      "2006-09-22, Close, 22.26\n",
      "2006-09-25, Close, 22.58\n",
      "2006-09-26, Close, 22.94\n",
      "2006-09-27, Close, 22.87\n",
      "2006-09-28, Close, 22.96\n"
     ]
    },
    {
     "name": "stderr",
     "output_type": "stream",
     "text": [
      "INFO:fbprophet.forecaster:Disabling daily seasonality. Run prophet with daily_seasonality=True to override this.\n"
     ]
    },
    {
     "name": "stdout",
     "output_type": "stream",
     "text": [
      "2006-09-28, SELL CREATE, 22.96\n",
      "2006-09-29, SELL EXECUTED, Price: 35.42, Cost: 34.53, Comm 0.00\n",
      "2006-09-29, Close, 22.84\n",
      "2006-10-02, Close, 22.97\n",
      "2006-10-03, Close, 23.11\n",
      "2006-10-04, Close, 23.36\n",
      "2006-10-05, Close, 23.49\n"
     ]
    },
    {
     "name": "stderr",
     "output_type": "stream",
     "text": [
      "INFO:fbprophet.forecaster:Disabling daily seasonality. Run prophet with daily_seasonality=True to override this.\n"
     ]
    },
    {
     "name": "stdout",
     "output_type": "stream",
     "text": [
      "2006-10-05, SELL CREATE, 23.49\n",
      "2006-10-06, SELL EXECUTED, Price: 36.08, Cost: 34.53, Comm 0.00\n",
      "2006-10-06, Close, 23.39\n",
      "2006-10-09, Close, 23.40\n",
      "2006-10-10, Close, 23.49\n",
      "2006-10-11, Close, 23.41\n",
      "2006-10-12, Close, 23.44\n"
     ]
    },
    {
     "name": "stderr",
     "output_type": "stream",
     "text": [
      "INFO:fbprophet.forecaster:Disabling daily seasonality. Run prophet with daily_seasonality=True to override this.\n"
     ]
    },
    {
     "name": "stdout",
     "output_type": "stream",
     "text": [
      "2006-10-12, SELL CREATE, 23.44\n",
      "2006-10-13, SELL EXECUTED, Price: 35.93, Cost: 34.53, Comm 0.00\n",
      "2006-10-13, Close, 23.28\n",
      "2006-10-16, Close, 23.01\n",
      "2006-10-17, Close, 23.01\n",
      "2006-10-18, Close, 23.01\n",
      "2006-10-19, Close, 22.83\n"
     ]
    },
    {
     "name": "stderr",
     "output_type": "stream",
     "text": [
      "INFO:fbprophet.forecaster:Disabling daily seasonality. Run prophet with daily_seasonality=True to override this.\n"
     ]
    },
    {
     "name": "stdout",
     "output_type": "stream",
     "text": [
      "2006-10-19, SELL CREATE, 22.83\n",
      "2006-10-20, SELL EXECUTED, Price: 35.40, Cost: 34.53, Comm 0.00\n",
      "2006-10-20, Close, 22.95\n",
      "2006-10-23, Close, 22.99\n",
      "2006-10-24, Close, 22.92\n",
      "2006-10-25, Close, 23.05\n",
      "2006-10-26, Close, 23.03\n"
     ]
    },
    {
     "name": "stderr",
     "output_type": "stream",
     "text": [
      "INFO:fbprophet.forecaster:Disabling daily seasonality. Run prophet with daily_seasonality=True to override this.\n"
     ]
    },
    {
     "name": "stdout",
     "output_type": "stream",
     "text": [
      "2006-10-26, SELL CREATE, 23.03\n",
      "2006-10-27, SELL EXECUTED, Price: 35.46, Cost: 34.53, Comm 0.00\n",
      "2006-10-27, Close, 22.79\n",
      "2006-10-30, Close, 22.78\n",
      "2006-10-31, Close, 22.72\n",
      "2006-11-01, Close, 22.59\n",
      "2006-11-02, Close, 22.46\n"
     ]
    },
    {
     "name": "stderr",
     "output_type": "stream",
     "text": [
      "INFO:fbprophet.forecaster:Disabling daily seasonality. Run prophet with daily_seasonality=True to override this.\n"
     ]
    },
    {
     "name": "stdout",
     "output_type": "stream",
     "text": [
      "2006-11-02, SELL CREATE, 22.46\n",
      "2006-11-03, SELL EXECUTED, Price: 34.78, Cost: 34.53, Comm 0.00\n",
      "2006-11-03, Close, 22.50\n",
      "2006-11-06, Close, 22.83\n",
      "2006-11-07, Close, 23.00\n",
      "2006-11-08, Close, 23.03\n",
      "2006-11-09, Close, 22.84\n"
     ]
    },
    {
     "name": "stderr",
     "output_type": "stream",
     "text": [
      "INFO:fbprophet.forecaster:Disabling daily seasonality. Run prophet with daily_seasonality=True to override this.\n"
     ]
    },
    {
     "name": "stdout",
     "output_type": "stream",
     "text": [
      "2006-11-09, SELL CREATE, 22.84\n",
      "2006-11-10, SELL EXECUTED, Price: 35.30, Cost: 34.53, Comm 0.00\n",
      "2006-11-10, Close, 22.76\n",
      "2006-11-13, Close, 22.88\n",
      "2006-11-14, Close, 23.03\n",
      "2006-11-15, Close, 23.16\n",
      "2006-11-16, Close, 23.27\n"
     ]
    },
    {
     "name": "stderr",
     "output_type": "stream",
     "text": [
      "INFO:fbprophet.forecaster:Disabling daily seasonality. Run prophet with daily_seasonality=True to override this.\n"
     ]
    },
    {
     "name": "stdout",
     "output_type": "stream",
     "text": [
      "2006-11-16, SELL CREATE, 23.27\n",
      "2006-11-17, SELL EXECUTED, Price: 35.85, Cost: 34.53, Comm 0.00\n",
      "2006-11-17, Close, 23.46\n",
      "2006-11-20, Close, 23.28\n",
      "2006-11-21, Close, 23.17\n",
      "2006-11-22, Close, 23.29\n",
      "2006-11-24, Close, 23.10\n"
     ]
    },
    {
     "name": "stderr",
     "output_type": "stream",
     "text": [
      "INFO:fbprophet.forecaster:Disabling daily seasonality. Run prophet with daily_seasonality=True to override this.\n"
     ]
    },
    {
     "name": "stdout",
     "output_type": "stream",
     "text": [
      "2006-11-24, BUY CREATE, 23.10\n",
      "2006-11-27, BUY EXECUTED, Price: 35.57, Cost: 35.57, Comm 0.00\n",
      "2006-11-27, Close, 22.94\n",
      "2006-11-28, Close, 22.78\n",
      "2006-11-29, Close, 22.88\n",
      "2006-11-30, Close, 22.83\n",
      "2006-12-01, Close, 22.83\n"
     ]
    },
    {
     "name": "stderr",
     "output_type": "stream",
     "text": [
      "INFO:fbprophet.forecaster:Disabling daily seasonality. Run prophet with daily_seasonality=True to override this.\n"
     ]
    },
    {
     "name": "stdout",
     "output_type": "stream",
     "text": [
      "2006-12-01, BUY CREATE, 22.83\n",
      "2006-12-04, BUY EXECUTED, Price: 35.43, Cost: 35.43, Comm 0.00\n",
      "2006-12-04, Close, 22.90\n",
      "2006-12-05, Close, 22.83\n",
      "2006-12-06, Close, 22.72\n",
      "2006-12-07, Close, 22.75\n",
      "2006-12-08, Close, 22.83\n"
     ]
    },
    {
     "name": "stderr",
     "output_type": "stream",
     "text": [
      "INFO:fbprophet.forecaster:Disabling daily seasonality. Run prophet with daily_seasonality=True to override this.\n"
     ]
    },
    {
     "name": "stdout",
     "output_type": "stream",
     "text": [
      "2006-12-08, BUY CREATE, 22.83\n",
      "2006-12-11, BUY EXECUTED, Price: 35.24, Cost: 35.24, Comm 0.00\n",
      "2006-12-11, Close, 22.79\n",
      "2006-12-12, Close, 23.06\n",
      "2006-12-13, Close, 22.97\n",
      "2006-12-14, Close, 23.43\n",
      "2006-12-15, Close, 24.18\n"
     ]
    },
    {
     "name": "stderr",
     "output_type": "stream",
     "text": [
      "INFO:fbprophet.forecaster:Disabling daily seasonality. Run prophet with daily_seasonality=True to override this.\n"
     ]
    },
    {
     "name": "stdout",
     "output_type": "stream",
     "text": [
      "2006-12-15, SELL CREATE, 24.18\n",
      "2006-12-18, SELL EXECUTED, Price: 37.45, Cost: 34.58, Comm 0.00\n",
      "2006-12-18, Close, 24.59\n",
      "2006-12-19, Close, 24.60\n",
      "2006-12-20, Close, 24.69\n",
      "2006-12-21, Close, 24.62\n",
      "2006-12-22, Close, 24.49\n"
     ]
    },
    {
     "name": "stderr",
     "output_type": "stream",
     "text": [
      "INFO:fbprophet.forecaster:Disabling daily seasonality. Run prophet with daily_seasonality=True to override this.\n"
     ]
    },
    {
     "name": "stdout",
     "output_type": "stream",
     "text": [
      "2006-12-22, SELL CREATE, 24.49\n",
      "2006-12-26, SELL EXECUTED, Price: 37.60, Cost: 34.58, Comm 0.00\n",
      "2006-12-26, Close, 24.58\n",
      "2006-12-27, Close, 24.64\n",
      "2006-12-28, Close, 24.43\n",
      "2006-12-29, Close, 24.26\n",
      "2007-01-03, Close, 24.75\n"
     ]
    },
    {
     "name": "stderr",
     "output_type": "stream",
     "text": [
      "INFO:fbprophet.forecaster:Disabling daily seasonality. Run prophet with daily_seasonality=True to override this.\n"
     ]
    },
    {
     "name": "stdout",
     "output_type": "stream",
     "text": [
      "2007-01-03, SELL CREATE, 24.75\n",
      "2007-01-04, SELL EXECUTED, Price: 37.97, Cost: 34.58, Comm 0.00\n",
      "2007-01-04, Close, 24.61\n",
      "2007-01-05, Close, 24.49\n",
      "2007-01-08, Close, 24.48\n",
      "2007-01-09, Close, 24.48\n",
      "2007-01-10, Close, 24.49\n"
     ]
    },
    {
     "name": "stderr",
     "output_type": "stream",
     "text": [
      "INFO:fbprophet.forecaster:Disabling daily seasonality. Run prophet with daily_seasonality=True to override this.\n"
     ]
    },
    {
     "name": "stdout",
     "output_type": "stream",
     "text": [
      "2007-01-10, SELL CREATE, 24.49\n",
      "2007-01-11, SELL EXECUTED, Price: 37.50, Cost: 34.58, Comm 0.00\n",
      "2007-01-11, Close, 24.72\n",
      "2007-01-12, Close, 24.70\n",
      "2007-01-16, Close, 24.85\n",
      "2007-01-17, Close, 24.76\n",
      "2007-01-18, Close, 24.77\n"
     ]
    },
    {
     "name": "stderr",
     "output_type": "stream",
     "text": [
      "INFO:fbprophet.forecaster:Disabling daily seasonality. Run prophet with daily_seasonality=True to override this.\n"
     ]
    },
    {
     "name": "stdout",
     "output_type": "stream",
     "text": [
      "2007-01-18, SELL CREATE, 24.77\n",
      "2007-01-19, SELL EXECUTED, Price: 37.15, Cost: 34.58, Comm 0.00\n",
      "2007-01-19, Close, 24.09\n",
      "2007-01-22, Close, 23.96\n",
      "2007-01-23, Close, 23.83\n",
      "2007-01-24, Close, 23.89\n",
      "2007-01-25, Close, 23.69\n"
     ]
    },
    {
     "name": "stderr",
     "output_type": "stream",
     "text": [
      "INFO:fbprophet.forecaster:Disabling daily seasonality. Run prophet with daily_seasonality=True to override this.\n"
     ]
    },
    {
     "name": "stdout",
     "output_type": "stream",
     "text": [
      "2007-01-25, SELL CREATE, 23.69\n",
      "2007-01-26, SELL EXECUTED, Price: 36.45, Cost: 34.58, Comm 0.00\n",
      "2007-01-26, Close, 23.52\n",
      "2007-01-29, Close, 23.59\n",
      "2007-01-30, Close, 23.49\n",
      "2007-01-31, Close, 23.50\n",
      "2007-02-01, Close, 23.62\n"
     ]
    },
    {
     "name": "stderr",
     "output_type": "stream",
     "text": [
      "INFO:fbprophet.forecaster:Disabling daily seasonality. Run prophet with daily_seasonality=True to override this.\n"
     ]
    },
    {
     "name": "stdout",
     "output_type": "stream",
     "text": [
      "2007-02-01, SELL CREATE, 23.62\n",
      "2007-02-02, SELL EXECUTED, Price: 36.26, Cost: 34.58, Comm 0.00\n",
      "2007-02-02, Close, 23.65\n",
      "2007-02-05, Close, 23.71\n",
      "2007-02-06, Close, 23.67\n",
      "2007-02-07, Close, 23.53\n",
      "2007-02-08, Close, 23.30\n"
     ]
    },
    {
     "name": "stderr",
     "output_type": "stream",
     "text": [
      "INFO:fbprophet.forecaster:Disabling daily seasonality. Run prophet with daily_seasonality=True to override this.\n"
     ]
    },
    {
     "name": "stdout",
     "output_type": "stream",
     "text": [
      "2007-02-08, SELL CREATE, 23.30\n",
      "2007-02-09, SELL EXECUTED, Price: 35.71, Cost: 34.58, Comm 0.00\n",
      "2007-02-09, Close, 23.16\n",
      "2007-02-12, Close, 23.24\n",
      "2007-02-13, Close, 23.32\n",
      "2007-02-14, Close, 23.78\n",
      "2007-02-15, Close, 23.56\n"
     ]
    },
    {
     "name": "stderr",
     "output_type": "stream",
     "text": [
      "INFO:fbprophet.forecaster:Disabling daily seasonality. Run prophet with daily_seasonality=True to override this.\n"
     ]
    },
    {
     "name": "stdout",
     "output_type": "stream",
     "text": [
      "2007-02-15, SELL CREATE, 23.56\n",
      "2007-02-16, SELL EXECUTED, Price: 36.07, Cost: 34.58, Comm 0.00\n",
      "2007-02-16, Close, 23.39\n",
      "2007-02-20, Close, 23.54\n",
      "2007-02-21, Close, 23.41\n",
      "2007-02-22, Close, 23.26\n",
      "2007-02-23, Close, 23.06\n"
     ]
    },
    {
     "name": "stderr",
     "output_type": "stream",
     "text": [
      "INFO:fbprophet.forecaster:Disabling daily seasonality. Run prophet with daily_seasonality=True to override this.\n"
     ]
    },
    {
     "name": "stdout",
     "output_type": "stream",
     "text": [
      "2007-02-23, BUY CREATE, 23.06\n",
      "2007-02-26, BUY EXECUTED, Price: 35.26, Cost: 35.26, Comm 0.00\n",
      "2007-02-26, Close, 23.22\n",
      "2007-02-27, Close, 22.77\n",
      "2007-02-28, Close, 22.94\n",
      "2007-03-01, Close, 23.00\n",
      "2007-03-02, Close, 22.91\n"
     ]
    },
    {
     "name": "stderr",
     "output_type": "stream",
     "text": [
      "INFO:fbprophet.forecaster:Disabling daily seasonality. Run prophet with daily_seasonality=True to override this.\n"
     ]
    },
    {
     "name": "stdout",
     "output_type": "stream",
     "text": [
      "2007-03-02, BUY CREATE, 22.91\n",
      "2007-03-05, BUY EXECUTED, Price: 34.74, Cost: 34.74, Comm 0.00\n",
      "2007-03-05, Close, 22.70\n",
      "2007-03-06, Close, 22.81\n",
      "2007-03-07, Close, 22.56\n",
      "2007-03-08, Close, 22.64\n",
      "2007-03-09, Close, 22.55\n"
     ]
    },
    {
     "name": "stderr",
     "output_type": "stream",
     "text": [
      "INFO:fbprophet.forecaster:Disabling daily seasonality. Run prophet with daily_seasonality=True to override this.\n"
     ]
    },
    {
     "name": "stdout",
     "output_type": "stream",
     "text": [
      "2007-03-09, BUY CREATE, 22.55\n",
      "2007-03-12, BUY EXECUTED, Price: 34.28, Cost: 34.28, Comm 0.00\n",
      "2007-03-12, Close, 22.63\n",
      "2007-03-13, Close, 22.40\n",
      "2007-03-14, Close, 22.54\n",
      "2007-03-15, Close, 22.68\n",
      "2007-03-16, Close, 22.58\n"
     ]
    },
    {
     "name": "stderr",
     "output_type": "stream",
     "text": [
      "INFO:fbprophet.forecaster:Disabling daily seasonality. Run prophet with daily_seasonality=True to override this.\n"
     ]
    },
    {
     "name": "stdout",
     "output_type": "stream",
     "text": [
      "2007-03-16, BUY CREATE, 22.58\n",
      "2007-03-19, BUY EXECUTED, Price: 34.50, Cost: 34.50, Comm 0.00\n",
      "2007-03-19, Close, 22.78\n",
      "2007-03-20, Close, 22.85\n",
      "2007-03-21, Close, 23.31\n",
      "2007-03-22, Close, 23.53\n",
      "2007-03-23, Close, 23.54\n"
     ]
    },
    {
     "name": "stderr",
     "output_type": "stream",
     "text": [
      "INFO:fbprophet.forecaster:Disabling daily seasonality. Run prophet with daily_seasonality=True to override this.\n"
     ]
    },
    {
     "name": "stdout",
     "output_type": "stream",
     "text": [
      "2007-03-23, BUY CREATE, 23.54\n",
      "2007-03-26, BUY EXECUTED, Price: 35.85, Cost: 35.85, Comm 0.00\n",
      "2007-03-26, Close, 23.65\n",
      "2007-03-27, Close, 23.52\n",
      "2007-03-28, Close, 23.36\n",
      "2007-03-29, Close, 23.36\n",
      "2007-03-30, Close, 23.23\n"
     ]
    },
    {
     "name": "stderr",
     "output_type": "stream",
     "text": [
      "INFO:fbprophet.forecaster:Disabling daily seasonality. Run prophet with daily_seasonality=True to override this.\n"
     ]
    },
    {
     "name": "stdout",
     "output_type": "stream",
     "text": [
      "2007-03-30, BUY CREATE, 23.23\n",
      "2007-04-02, BUY EXECUTED, Price: 35.36, Cost: 35.36, Comm 0.00\n",
      "2007-04-02, Close, 23.19\n",
      "2007-04-03, Close, 23.21\n",
      "2007-04-04, Close, 23.07\n",
      "2007-04-05, Close, 23.01\n",
      "2007-04-09, Close, 22.85\n"
     ]
    },
    {
     "name": "stderr",
     "output_type": "stream",
     "text": [
      "INFO:fbprophet.forecaster:Disabling daily seasonality. Run prophet with daily_seasonality=True to override this.\n"
     ]
    },
    {
     "name": "stdout",
     "output_type": "stream",
     "text": [
      "2007-04-09, BUY CREATE, 22.85\n",
      "2007-04-10, BUY EXECUTED, Price: 34.80, Cost: 34.80, Comm 0.00\n",
      "2007-04-10, Close, 22.92\n",
      "2007-04-11, Close, 22.96\n",
      "2007-04-12, Close, 23.12\n",
      "2007-04-13, Close, 23.25\n",
      "2007-04-16, Close, 23.23\n"
     ]
    },
    {
     "name": "stderr",
     "output_type": "stream",
     "text": [
      "INFO:fbprophet.forecaster:Disabling daily seasonality. Run prophet with daily_seasonality=True to override this.\n"
     ]
    },
    {
     "name": "stdout",
     "output_type": "stream",
     "text": [
      "2007-04-16, BUY CREATE, 23.23\n",
      "2007-04-17, BUY EXECUTED, Price: 35.37, Cost: 35.37, Comm 0.00\n",
      "2007-04-17, Close, 23.13\n",
      "2007-04-18, Close, 23.08\n",
      "2007-04-19, Close, 23.00\n",
      "2007-04-20, Close, 23.08\n",
      "2007-04-23, Close, 22.87\n"
     ]
    },
    {
     "name": "stderr",
     "output_type": "stream",
     "text": [
      "INFO:fbprophet.forecaster:Disabling daily seasonality. Run prophet with daily_seasonality=True to override this.\n"
     ]
    },
    {
     "name": "stdout",
     "output_type": "stream",
     "text": [
      "2007-04-23, BUY CREATE, 22.87\n",
      "2007-04-24, BUY EXECUTED, Price: 34.80, Cost: 34.80, Comm 0.00\n",
      "2007-04-24, Close, 22.84\n",
      "2007-04-25, Close, 23.27\n",
      "2007-04-26, Close, 23.55\n",
      "2007-04-27, Close, 24.21\n",
      "2007-04-30, Close, 24.22\n"
     ]
    },
    {
     "name": "stderr",
     "output_type": "stream",
     "text": [
      "INFO:fbprophet.forecaster:Disabling daily seasonality. Run prophet with daily_seasonality=True to override this.\n"
     ]
    },
    {
     "name": "stdout",
     "output_type": "stream",
     "text": [
      "2007-04-30, SELL CREATE, 24.22\n",
      "2007-05-01, SELL EXECUTED, Price: 36.82, Cost: 34.65, Comm 0.00\n",
      "2007-05-01, Close, 24.38\n",
      "2007-05-02, Close, 24.51\n",
      "2007-05-03, Close, 24.53\n",
      "2007-05-04, Close, 24.41\n",
      "2007-05-07, Close, 24.47\n"
     ]
    },
    {
     "name": "stderr",
     "output_type": "stream",
     "text": [
      "INFO:fbprophet.forecaster:Disabling daily seasonality. Run prophet with daily_seasonality=True to override this.\n"
     ]
    },
    {
     "name": "stdout",
     "output_type": "stream",
     "text": [
      "2007-05-07, SELL CREATE, 24.47\n",
      "2007-05-08, SELL EXECUTED, Price: 37.09, Cost: 34.65, Comm 0.00\n",
      "2007-05-08, Close, 24.36\n",
      "2007-05-09, Close, 24.48\n",
      "2007-05-10, Close, 24.17\n",
      "2007-05-11, Close, 24.29\n",
      "2007-05-14, Close, 24.05\n"
     ]
    },
    {
     "name": "stderr",
     "output_type": "stream",
     "text": [
      "INFO:fbprophet.forecaster:Disabling daily seasonality. Run prophet with daily_seasonality=True to override this.\n"
     ]
    },
    {
     "name": "stdout",
     "output_type": "stream",
     "text": [
      "2007-05-14, SELL CREATE, 24.05\n",
      "2007-05-15, SELL EXECUTED, Price: 36.67, Cost: 34.65, Comm 0.00\n",
      "2007-05-15, Close, 24.07\n",
      "2007-05-16, Close, 24.20\n",
      "2007-05-17, Close, 24.00\n",
      "2007-05-18, Close, 24.28\n",
      "2007-05-21, Close, 24.38\n"
     ]
    },
    {
     "name": "stderr",
     "output_type": "stream",
     "text": [
      "INFO:fbprophet.forecaster:Disabling daily seasonality. Run prophet with daily_seasonality=True to override this.\n"
     ]
    },
    {
     "name": "stdout",
     "output_type": "stream",
     "text": [
      "2007-05-21, SELL CREATE, 24.38\n",
      "2007-05-22, SELL EXECUTED, Price: 37.22, Cost: 34.65, Comm 0.00\n",
      "2007-05-22, Close, 24.53\n",
      "2007-05-23, Close, 24.71\n",
      "2007-05-24, Close, 24.56\n",
      "2007-05-25, Close, 24.68\n",
      "2007-05-29, Close, 24.57\n"
     ]
    },
    {
     "name": "stderr",
     "output_type": "stream",
     "text": [
      "INFO:fbprophet.forecaster:Disabling daily seasonality. Run prophet with daily_seasonality=True to override this.\n"
     ]
    },
    {
     "name": "stdout",
     "output_type": "stream",
     "text": [
      "2007-05-29, SELL CREATE, 24.57\n",
      "2007-05-30, SELL EXECUTED, Price: 37.19, Cost: 34.65, Comm 0.00\n",
      "2007-05-30, Close, 24.79\n",
      "2007-05-31, Close, 24.69\n",
      "2007-06-01, Close, 24.61\n",
      "2007-06-04, Close, 24.84\n",
      "2007-06-05, Close, 24.57\n"
     ]
    },
    {
     "name": "stderr",
     "output_type": "stream",
     "text": [
      "INFO:fbprophet.forecaster:Disabling daily seasonality. Run prophet with daily_seasonality=True to override this.\n"
     ]
    },
    {
     "name": "stdout",
     "output_type": "stream",
     "text": [
      "2007-06-05, SELL CREATE, 24.57\n",
      "2007-06-06, SELL EXECUTED, Price: 37.30, Cost: 34.65, Comm 0.00\n",
      "2007-06-06, Close, 24.50\n",
      "2007-06-07, Close, 24.15\n",
      "2007-06-08, Close, 24.52\n",
      "2007-06-11, Close, 24.61\n",
      "2007-06-12, Close, 24.34\n"
     ]
    },
    {
     "name": "stderr",
     "output_type": "stream",
     "text": [
      "INFO:fbprophet.forecaster:Disabling daily seasonality. Run prophet with daily_seasonality=True to override this.\n"
     ]
    },
    {
     "name": "stdout",
     "output_type": "stream",
     "text": [
      "2007-06-12, SELL CREATE, 24.34\n",
      "2007-06-13, SELL EXECUTED, Price: 37.25, Cost: 34.65, Comm 0.00\n",
      "2007-06-13, Close, 24.73\n",
      "2007-06-14, Close, 24.84\n",
      "2007-06-15, Close, 25.05\n",
      "2007-06-18, Close, 25.01\n",
      "2007-06-19, Close, 25.82\n"
     ]
    },
    {
     "name": "stderr",
     "output_type": "stream",
     "text": [
      "INFO:fbprophet.forecaster:Disabling daily seasonality. Run prophet with daily_seasonality=True to override this.\n"
     ]
    },
    {
     "name": "stdout",
     "output_type": "stream",
     "text": [
      "2007-06-19, SELL CREATE, 25.82\n",
      "2007-06-20, SELL EXECUTED, Price: 39.45, Cost: 34.65, Comm 0.00\n",
      "2007-06-20, Close, 25.67\n",
      "2007-06-21, Close, 25.68\n",
      "2007-06-22, Close, 25.31\n",
      "2007-06-25, Close, 25.29\n",
      "2007-06-26, Close, 25.16\n"
     ]
    },
    {
     "name": "stderr",
     "output_type": "stream",
     "text": [
      "INFO:fbprophet.forecaster:Disabling daily seasonality. Run prophet with daily_seasonality=True to override this.\n"
     ]
    },
    {
     "name": "stdout",
     "output_type": "stream",
     "text": [
      "2007-06-26, SELL CREATE, 25.16\n",
      "2007-06-27, SELL EXECUTED, Price: 37.82, Cost: 34.65, Comm 0.00\n",
      "2007-06-27, Close, 25.19\n",
      "2007-06-28, Close, 25.23\n",
      "2007-06-29, Close, 25.33\n",
      "2007-07-02, Close, 25.32\n",
      "2007-07-03, Close, 25.61\n"
     ]
    },
    {
     "name": "stderr",
     "output_type": "stream",
     "text": [
      "INFO:fbprophet.forecaster:Disabling daily seasonality. Run prophet with daily_seasonality=True to override this.\n"
     ]
    },
    {
     "name": "stdout",
     "output_type": "stream",
     "text": [
      "2007-07-03, SELL CREATE, 25.61\n",
      "2007-07-05, SELL EXECUTED, Price: 38.58, Cost: 34.65, Comm 0.00\n",
      "2007-07-05, Close, 25.51\n",
      "2007-07-06, Close, 25.47\n",
      "2007-07-09, Close, 25.56\n",
      "2007-07-10, Close, 25.08\n",
      "2007-07-11, Close, 25.28\n"
     ]
    },
    {
     "name": "stderr",
     "output_type": "stream",
     "text": [
      "INFO:fbprophet.forecaster:Disabling daily seasonality. Run prophet with daily_seasonality=True to override this.\n"
     ]
    },
    {
     "name": "stdout",
     "output_type": "stream",
     "text": [
      "2007-07-11, SELL CREATE, 25.28\n",
      "2007-07-12, SELL EXECUTED, Price: 38.44, Cost: 34.65, Comm 0.00\n",
      "2007-07-12, Close, 25.81\n",
      "2007-07-13, Close, 26.14\n",
      "2007-07-16, Close, 26.55\n",
      "2007-07-17, Close, 26.94\n",
      "2007-07-18, Close, 26.77\n"
     ]
    },
    {
     "name": "stderr",
     "output_type": "stream",
     "text": [
      "INFO:fbprophet.forecaster:Disabling daily seasonality. Run prophet with daily_seasonality=True to override this.\n"
     ]
    },
    {
     "name": "stdout",
     "output_type": "stream",
     "text": [
      "2007-07-18, SELL CREATE, 26.77\n",
      "2007-07-19, SELL EXECUTED, Price: 40.58, Cost: 34.65, Comm 0.00\n",
      "2007-07-19, Close, 26.94\n",
      "2007-07-20, Close, 26.55\n",
      "2007-07-23, Close, 27.01\n",
      "2007-07-24, Close, 26.62\n",
      "2007-07-25, Close, 26.75\n"
     ]
    },
    {
     "name": "stderr",
     "output_type": "stream",
     "text": [
      "INFO:fbprophet.forecaster:Disabling daily seasonality. Run prophet with daily_seasonality=True to override this.\n"
     ]
    },
    {
     "name": "stdout",
     "output_type": "stream",
     "text": [
      "2007-07-25, SELL CREATE, 26.75\n",
      "2007-07-26, SELL EXECUTED, Price: 40.01, Cost: 34.65, Comm 0.00\n",
      "2007-07-26, Close, 26.16\n",
      "2007-07-27, Close, 25.67\n",
      "2007-07-30, Close, 25.99\n",
      "2007-07-31, Close, 25.65\n",
      "2007-08-01, Close, 25.78\n"
     ]
    },
    {
     "name": "stderr",
     "output_type": "stream",
     "text": [
      "INFO:fbprophet.forecaster:Disabling daily seasonality. Run prophet with daily_seasonality=True to override this.\n"
     ]
    },
    {
     "name": "stdout",
     "output_type": "stream",
     "text": [
      "2007-08-01, SELL CREATE, 25.78\n",
      "2007-08-02, SELL EXECUTED, Price: 39.00, Cost: 34.65, Comm 0.00\n",
      "2007-08-02, Close, 25.83\n",
      "2007-08-03, Close, 25.19\n",
      "2007-08-06, Close, 25.88\n",
      "2007-08-07, Close, 26.13\n",
      "2007-08-08, Close, 26.78\n"
     ]
    },
    {
     "name": "stderr",
     "output_type": "stream",
     "text": [
      "INFO:fbprophet.forecaster:Disabling daily seasonality. Run prophet with daily_seasonality=True to override this.\n"
     ]
    },
    {
     "name": "stdout",
     "output_type": "stream",
     "text": [
      "2007-08-08, SELL CREATE, 26.78\n",
      "2007-08-09, SELL EXECUTED, Price: 39.67, Cost: 34.65, Comm 0.00\n",
      "2007-08-09, Close, 25.77\n",
      "2007-08-10, Close, 25.30\n",
      "2007-08-13, Close, 25.26\n",
      "2007-08-14, Close, 24.94\n",
      "2007-08-15, Close, 24.42\n"
     ]
    },
    {
     "name": "stderr",
     "output_type": "stream",
     "text": [
      "INFO:fbprophet.forecaster:Disabling daily seasonality. Run prophet with daily_seasonality=True to override this.\n"
     ]
    },
    {
     "name": "stdout",
     "output_type": "stream",
     "text": [
      "2007-08-15, BUY CREATE, 24.42\n",
      "2007-08-16, BUY EXECUTED, Price: 36.51, Cost: 36.51, Comm 0.00\n",
      "2007-08-16, Close, 24.62\n",
      "2007-08-17, Close, 25.45\n",
      "2007-08-20, Close, 25.29\n",
      "2007-08-21, Close, 25.38\n",
      "2007-08-22, Close, 25.90\n"
     ]
    },
    {
     "name": "stderr",
     "output_type": "stream",
     "text": [
      "INFO:fbprophet.forecaster:Disabling daily seasonality. Run prophet with daily_seasonality=True to override this.\n"
     ]
    },
    {
     "name": "stdout",
     "output_type": "stream",
     "text": [
      "2007-08-22, SELL CREATE, 25.90\n",
      "2007-08-23, SELL EXECUTED, Price: 39.21, Cost: 34.70, Comm 0.00\n",
      "2007-08-23, Close, 25.89\n",
      "2007-08-24, Close, 26.08\n",
      "2007-08-27, Close, 25.81\n",
      "2007-08-28, Close, 25.18\n",
      "2007-08-29, Close, 25.62\n"
     ]
    },
    {
     "name": "stderr",
     "output_type": "stream",
     "text": [
      "INFO:fbprophet.forecaster:Disabling daily seasonality. Run prophet with daily_seasonality=True to override this.\n"
     ]
    },
    {
     "name": "stdout",
     "output_type": "stream",
     "text": [
      "2007-08-29, SELL CREATE, 25.62\n",
      "2007-08-30, SELL EXECUTED, Price: 38.32, Cost: 34.70, Comm 0.00\n",
      "2007-08-30, Close, 25.41\n",
      "2007-08-31, Close, 25.72\n",
      "2007-09-04, Close, 25.84\n",
      "2007-09-05, Close, 25.64\n",
      "2007-09-06, Close, 26.08\n"
     ]
    },
    {
     "name": "stderr",
     "output_type": "stream",
     "text": [
      "INFO:fbprophet.forecaster:Disabling daily seasonality. Run prophet with daily_seasonality=True to override this.\n"
     ]
    },
    {
     "name": "stdout",
     "output_type": "stream",
     "text": [
      "2007-09-06, SELL CREATE, 26.08\n",
      "2007-09-07, SELL EXECUTED, Price: 38.91, Cost: 34.70, Comm 0.00\n",
      "2007-09-07, Close, 25.64\n",
      "2007-09-10, Close, 25.94\n",
      "2007-09-11, Close, 26.14\n",
      "2007-09-12, Close, 26.41\n",
      "2007-09-13, Close, 26.81\n"
     ]
    },
    {
     "name": "stderr",
     "output_type": "stream",
     "text": [
      "INFO:fbprophet.forecaster:Disabling daily seasonality. Run prophet with daily_seasonality=True to override this.\n"
     ]
    },
    {
     "name": "stdout",
     "output_type": "stream",
     "text": [
      "2007-09-13, SELL CREATE, 26.81\n",
      "2007-09-14, SELL EXECUTED, Price: 40.24, Cost: 34.70, Comm 0.00\n",
      "2007-09-14, Close, 26.70\n",
      "2007-09-17, Close, 26.59\n",
      "2007-09-18, Close, 27.58\n",
      "2007-09-19, Close, 27.64\n",
      "2007-09-20, Close, 27.48\n"
     ]
    },
    {
     "name": "stderr",
     "output_type": "stream",
     "text": [
      "INFO:fbprophet.forecaster:Disabling daily seasonality. Run prophet with daily_seasonality=True to override this.\n"
     ]
    },
    {
     "name": "stdout",
     "output_type": "stream",
     "text": [
      "2007-09-20, SELL CREATE, 27.48\n",
      "2007-09-21, SELL EXECUTED, Price: 41.61, Cost: 34.70, Comm 0.00\n",
      "2007-09-21, Close, 27.48\n",
      "2007-09-24, Close, 27.22\n",
      "2007-09-25, Close, 27.38\n",
      "2007-09-26, Close, 27.50\n",
      "2007-09-27, Close, 27.58\n"
     ]
    },
    {
     "name": "stderr",
     "output_type": "stream",
     "text": [
      "INFO:fbprophet.forecaster:Disabling daily seasonality. Run prophet with daily_seasonality=True to override this.\n"
     ]
    },
    {
     "name": "stdout",
     "output_type": "stream",
     "text": [
      "2007-09-27, SELL CREATE, 27.58\n",
      "2007-09-28, SELL EXECUTED, Price: 41.26, Cost: 34.70, Comm 0.00\n",
      "2007-09-28, Close, 27.58\n",
      "2007-10-01, Close, 28.00\n",
      "2007-10-02, Close, 28.06\n",
      "2007-10-03, Close, 27.68\n",
      "2007-10-04, Close, 27.78\n"
     ]
    },
    {
     "name": "stderr",
     "output_type": "stream",
     "text": [
      "INFO:fbprophet.forecaster:Disabling daily seasonality. Run prophet with daily_seasonality=True to override this.\n"
     ]
    },
    {
     "name": "stdout",
     "output_type": "stream",
     "text": [
      "2007-10-04, SELL CREATE, 27.78\n",
      "2007-10-05, SELL EXECUTED, Price: 41.93, Cost: 34.70, Comm 0.00\n",
      "2007-10-05, Close, 27.83\n",
      "2007-10-08, Close, 27.67\n",
      "2007-10-09, Close, 28.00\n",
      "2007-10-10, Close, 27.86\n",
      "2007-10-11, Close, 27.72\n"
     ]
    },
    {
     "name": "stderr",
     "output_type": "stream",
     "text": [
      "INFO:fbprophet.forecaster:Disabling daily seasonality. Run prophet with daily_seasonality=True to override this.\n"
     ]
    },
    {
     "name": "stdout",
     "output_type": "stream",
     "text": [
      "2007-10-11, SELL CREATE, 27.72\n",
      "2007-10-12, SELL EXECUTED, Price: 40.86, Cost: 34.70, Comm 0.00\n",
      "2007-10-12, Close, 27.34\n",
      "2007-10-15, Close, 27.20\n",
      "2007-10-16, Close, 27.16\n",
      "2007-10-17, Close, 27.32\n",
      "2007-10-18, Close, 27.18\n"
     ]
    },
    {
     "name": "stderr",
     "output_type": "stream",
     "text": [
      "INFO:fbprophet.forecaster:Disabling daily seasonality. Run prophet with daily_seasonality=True to override this.\n"
     ]
    },
    {
     "name": "stdout",
     "output_type": "stream",
     "text": [
      "2007-10-18, SELL CREATE, 27.18\n",
      "2007-10-19, SELL EXECUTED, Price: 40.53, Cost: 34.70, Comm 0.00\n",
      "2007-10-19, Close, 26.68\n",
      "2007-10-22, Close, 26.76\n",
      "2007-10-23, Close, 26.97\n",
      "2007-10-24, Close, 26.80\n",
      "2007-10-25, Close, 26.76\n"
     ]
    },
    {
     "name": "stderr",
     "output_type": "stream",
     "text": [
      "INFO:fbprophet.forecaster:Disabling daily seasonality. Run prophet with daily_seasonality=True to override this.\n"
     ]
    },
    {
     "name": "stdout",
     "output_type": "stream",
     "text": [
      "2007-10-25, SELL CREATE, 26.76\n",
      "2007-10-26, SELL EXECUTED, Price: 40.35, Cost: 34.70, Comm 0.00\n",
      "2007-10-26, Close, 26.90\n",
      "2007-10-29, Close, 27.02\n",
      "2007-10-30, Close, 26.97\n",
      "2007-10-31, Close, 27.42\n",
      "2007-11-01, Close, 26.88\n"
     ]
    },
    {
     "name": "stderr",
     "output_type": "stream",
     "text": [
      "INFO:fbprophet.forecaster:Disabling daily seasonality. Run prophet with daily_seasonality=True to override this.\n"
     ]
    },
    {
     "name": "stdout",
     "output_type": "stream",
     "text": [
      "2007-11-01, SELL CREATE, 26.88\n",
      "2007-11-02, SELL EXECUTED, Price: 40.50, Cost: 34.70, Comm 0.00\n",
      "2007-11-02, Close, 26.87\n",
      "2007-11-05, Close, 26.78\n",
      "2007-11-06, Close, 26.77\n",
      "2007-11-07, Close, 26.04\n",
      "2007-11-08, Close, 26.00\n"
     ]
    },
    {
     "name": "stderr",
     "output_type": "stream",
     "text": [
      "INFO:fbprophet.forecaster:Disabling daily seasonality. Run prophet with daily_seasonality=True to override this.\n"
     ]
    },
    {
     "name": "stdout",
     "output_type": "stream",
     "text": [
      "2007-11-08, BUY CREATE, 26.00\n",
      "2007-11-09, BUY EXECUTED, Price: 38.52, Cost: 38.52, Comm 0.00\n",
      "2007-11-09, Close, 25.57\n",
      "2007-11-12, Close, 25.48\n",
      "2007-11-13, Close, 26.12\n",
      "2007-11-14, Close, 25.99\n",
      "2007-11-15, Close, 25.52\n"
     ]
    },
    {
     "name": "stderr",
     "output_type": "stream",
     "text": [
      "INFO:fbprophet.forecaster:Disabling daily seasonality. Run prophet with daily_seasonality=True to override this.\n"
     ]
    },
    {
     "name": "stdout",
     "output_type": "stream",
     "text": [
      "2007-11-15, BUY CREATE, 25.52\n",
      "2007-11-16, BUY EXECUTED, Price: 38.50, Cost: 38.50, Comm 0.00\n",
      "2007-11-16, Close, 25.75\n",
      "2007-11-19, Close, 25.42\n",
      "2007-11-20, Close, 25.34\n",
      "2007-11-21, Close, 24.77\n",
      "2007-11-23, Close, 25.10\n"
     ]
    },
    {
     "name": "stderr",
     "output_type": "stream",
     "text": [
      "INFO:fbprophet.forecaster:Disabling daily seasonality. Run prophet with daily_seasonality=True to override this.\n"
     ]
    },
    {
     "name": "stdout",
     "output_type": "stream",
     "text": [
      "2007-11-23, BUY CREATE, 25.10\n",
      "2007-11-26, BUY EXECUTED, Price: 37.75, Cost: 37.75, Comm 0.00\n",
      "2007-11-26, Close, 24.47\n",
      "2007-11-27, Close, 24.95\n",
      "2007-11-28, Close, 25.62\n",
      "2007-11-29, Close, 25.41\n",
      "2007-11-30, Close, 25.51\n"
     ]
    },
    {
     "name": "stderr",
     "output_type": "stream",
     "text": [
      "INFO:fbprophet.forecaster:Disabling daily seasonality. Run prophet with daily_seasonality=True to override this.\n"
     ]
    },
    {
     "name": "stdout",
     "output_type": "stream",
     "text": [
      "2007-11-30, BUY CREATE, 25.51\n",
      "2007-12-03, BUY EXECUTED, Price: 38.20, Cost: 38.20, Comm 0.00\n",
      "2007-12-03, Close, 24.61\n",
      "2007-12-04, Close, 24.15\n",
      "2007-12-05, Close, 24.46\n",
      "2007-12-06, Close, 24.83\n",
      "2007-12-07, Close, 24.81\n"
     ]
    },
    {
     "name": "stderr",
     "output_type": "stream",
     "text": [
      "INFO:fbprophet.forecaster:Disabling daily seasonality. Run prophet with daily_seasonality=True to override this.\n"
     ]
    },
    {
     "name": "stdout",
     "output_type": "stream",
     "text": [
      "2007-12-07, BUY CREATE, 24.81\n",
      "2007-12-10, BUY EXECUTED, Price: 37.26, Cost: 37.26, Comm 0.00\n",
      "2007-12-10, Close, 24.93\n",
      "2007-12-11, Close, 24.67\n",
      "2007-12-12, Close, 24.82\n",
      "2007-12-13, Close, 25.04\n",
      "2007-12-14, Close, 24.59\n"
     ]
    },
    {
     "name": "stderr",
     "output_type": "stream",
     "text": [
      "INFO:fbprophet.forecaster:Disabling daily seasonality. Run prophet with daily_seasonality=True to override this.\n"
     ]
    },
    {
     "name": "stdout",
     "output_type": "stream",
     "text": [
      "2007-12-14, BUY CREATE, 24.59\n",
      "2007-12-17, BUY EXECUTED, Price: 36.82, Cost: 36.82, Comm 0.00\n",
      "2007-12-17, Close, 24.31\n",
      "2007-12-18, Close, 24.52\n",
      "2007-12-19, Close, 24.37\n",
      "2007-12-20, Close, 24.54\n",
      "2007-12-21, Close, 24.96\n"
     ]
    },
    {
     "name": "stderr",
     "output_type": "stream",
     "text": [
      "INFO:fbprophet.forecaster:Disabling daily seasonality. Run prophet with daily_seasonality=True to override this.\n"
     ]
    },
    {
     "name": "stdout",
     "output_type": "stream",
     "text": [
      "2007-12-21, BUY CREATE, 24.96\n",
      "2007-12-24, BUY EXECUTED, Price: 37.40, Cost: 37.40, Comm 0.00\n",
      "2007-12-24, Close, 25.22\n",
      "2007-12-26, Close, 25.23\n",
      "2007-12-27, Close, 24.99\n",
      "2007-12-28, Close, 25.09\n",
      "2007-12-31, Close, 24.91\n"
     ]
    },
    {
     "name": "stderr",
     "output_type": "stream",
     "text": [
      "INFO:fbprophet.forecaster:Disabling daily seasonality. Run prophet with daily_seasonality=True to override this.\n"
     ]
    },
    {
     "name": "stdout",
     "output_type": "stream",
     "text": [
      "2007-12-31, BUY CREATE, 24.91\n",
      "2008-01-02, BUY EXECUTED, Price: 37.10, Cost: 37.10, Comm 0.00\n",
      "2008-01-02, Close, 24.70\n",
      "2008-01-03, Close, 24.73\n",
      "2008-01-04, Close, 24.22\n",
      "2008-01-07, Close, 24.31\n",
      "2008-01-08, Close, 23.79\n"
     ]
    },
    {
     "name": "stderr",
     "output_type": "stream",
     "text": [
      "INFO:fbprophet.forecaster:Disabling daily seasonality. Run prophet with daily_seasonality=True to override this.\n"
     ]
    },
    {
     "name": "stdout",
     "output_type": "stream",
     "text": [
      "2008-01-08, BUY CREATE, 23.79\n",
      "2008-01-09, BUY EXECUTED, Price: 35.48, Cost: 35.48, Comm 0.00\n",
      "2008-01-09, Close, 24.06\n",
      "2008-01-10, Close, 24.14\n",
      "2008-01-11, Close, 23.63\n",
      "2008-01-14, Close, 23.83\n",
      "2008-01-15, Close, 23.20\n"
     ]
    },
    {
     "name": "stderr",
     "output_type": "stream",
     "text": [
      "INFO:fbprophet.forecaster:Disabling daily seasonality. Run prophet with daily_seasonality=True to override this.\n"
     ]
    },
    {
     "name": "stdout",
     "output_type": "stream",
     "text": [
      "2008-01-15, BUY CREATE, 23.20\n",
      "2008-01-16, BUY EXECUTED, Price: 34.33, Cost: 34.33, Comm 0.00\n",
      "2008-01-16, Close, 23.22\n",
      "2008-01-17, Close, 22.32\n",
      "2008-01-18, Close, 23.06\n",
      "2008-01-22, Close, 22.88\n",
      "2008-01-23, Close, 23.24\n"
     ]
    },
    {
     "name": "stderr",
     "output_type": "stream",
     "text": [
      "INFO:fbprophet.forecaster:Disabling daily seasonality. Run prophet with daily_seasonality=True to override this.\n"
     ]
    },
    {
     "name": "stdout",
     "output_type": "stream",
     "text": [
      "2008-01-23, BUY CREATE, 23.24\n",
      "2008-01-24, BUY EXECUTED, Price: 34.65, Cost: 34.65, Comm 0.00\n",
      "2008-01-24, Close, 23.28\n",
      "2008-01-25, Close, 22.85\n",
      "2008-01-28, Close, 23.33\n",
      "2008-01-29, Close, 23.36\n",
      "2008-01-30, Close, 23.48\n"
     ]
    },
    {
     "name": "stderr",
     "output_type": "stream",
     "text": [
      "INFO:fbprophet.forecaster:Disabling daily seasonality. Run prophet with daily_seasonality=True to override this.\n"
     ]
    },
    {
     "name": "stdout",
     "output_type": "stream",
     "text": [
      "2008-01-30, BUY CREATE, 23.48\n",
      "2008-01-31, BUY EXECUTED, Price: 34.61, Cost: 34.61, Comm 0.00\n",
      "2008-01-31, Close, 23.76\n",
      "2008-02-01, Close, 24.30\n",
      "2008-02-04, Close, 23.77\n",
      "2008-02-05, Close, 22.99\n",
      "2008-02-06, Close, 22.98\n"
     ]
    },
    {
     "name": "stderr",
     "output_type": "stream",
     "text": [
      "INFO:fbprophet.forecaster:Disabling daily seasonality. Run prophet with daily_seasonality=True to override this.\n"
     ]
    },
    {
     "name": "stdout",
     "output_type": "stream",
     "text": [
      "2008-02-06, BUY CREATE, 22.98\n",
      "2008-02-07, BUY EXECUTED, Price: 34.08, Cost: 34.08, Comm 0.00\n",
      "2008-02-07, Close, 23.00\n",
      "2008-02-08, Close, 22.74\n",
      "2008-02-11, Close, 22.85\n",
      "2008-02-12, Close, 23.10\n",
      "2008-02-13, Close, 23.51\n"
     ]
    },
    {
     "name": "stderr",
     "output_type": "stream",
     "text": [
      "INFO:fbprophet.forecaster:Disabling daily seasonality. Run prophet with daily_seasonality=True to override this.\n"
     ]
    },
    {
     "name": "stdout",
     "output_type": "stream",
     "text": [
      "2008-02-13, BUY CREATE, 23.51\n",
      "2008-02-14, BUY EXECUTED, Price: 34.99, Cost: 34.99, Comm 0.00\n",
      "2008-02-14, Close, 23.11\n",
      "2008-02-15, Close, 23.10\n",
      "2008-02-19, Close, 23.04\n",
      "2008-02-20, Close, 23.09\n",
      "2008-02-21, Close, 22.84\n"
     ]
    },
    {
     "name": "stderr",
     "output_type": "stream",
     "text": [
      "INFO:fbprophet.forecaster:Disabling daily seasonality. Run prophet with daily_seasonality=True to override this.\n"
     ]
    },
    {
     "name": "stdout",
     "output_type": "stream",
     "text": [
      "2008-02-21, BUY CREATE, 22.84\n",
      "2008-02-22, BUY EXECUTED, Price: 33.71, Cost: 33.71, Comm 0.00\n",
      "2008-02-22, Close, 22.75\n",
      "2008-02-25, Close, 23.20\n",
      "2008-02-26, Close, 23.01\n",
      "2008-02-27, Close, 23.07\n",
      "2008-02-28, Close, 22.95\n"
     ]
    },
    {
     "name": "stderr",
     "output_type": "stream",
     "text": [
      "INFO:fbprophet.forecaster:Disabling daily seasonality. Run prophet with daily_seasonality=True to override this.\n"
     ]
    },
    {
     "name": "stdout",
     "output_type": "stream",
     "text": [
      "2008-02-28, BUY CREATE, 22.95\n",
      "2008-02-29, BUY EXECUTED, Price: 33.74, Cost: 33.74, Comm 0.00\n",
      "2008-02-29, Close, 22.47\n",
      "2008-03-03, Close, 22.65\n",
      "2008-03-04, Close, 22.73\n",
      "2008-03-05, Close, 22.83\n",
      "2008-03-06, Close, 22.28\n"
     ]
    },
    {
     "name": "stderr",
     "output_type": "stream",
     "text": [
      "INFO:fbprophet.forecaster:Disabling daily seasonality. Run prophet with daily_seasonality=True to override this.\n"
     ]
    },
    {
     "name": "stdout",
     "output_type": "stream",
     "text": [
      "2008-03-06, BUY CREATE, 22.28\n",
      "2008-03-07, BUY EXECUTED, Price: 32.67, Cost: 32.67, Comm 0.00\n",
      "2008-03-07, Close, 21.85\n",
      "2008-03-10, Close, 21.50\n",
      "2008-03-11, Close, 22.65\n",
      "2008-03-12, Close, 23.03\n",
      "2008-03-13, Close, 23.22\n"
     ]
    },
    {
     "name": "stderr",
     "output_type": "stream",
     "text": [
      "INFO:fbprophet.forecaster:Disabling daily seasonality. Run prophet with daily_seasonality=True to override this.\n"
     ]
    },
    {
     "name": "stdout",
     "output_type": "stream",
     "text": [
      "2008-03-13, BUY CREATE, 23.22\n",
      "2008-03-14, BUY EXECUTED, Price: 34.52, Cost: 34.52, Comm 0.00\n",
      "2008-03-14, Close, 22.93\n",
      "2008-03-17, Close, 23.28\n",
      "2008-03-18, Close, 24.51\n",
      "2008-03-19, Close, 24.13\n",
      "2008-03-20, Close, 25.42\n"
     ]
    },
    {
     "name": "stderr",
     "output_type": "stream",
     "text": [
      "INFO:fbprophet.forecaster:Disabling daily seasonality. Run prophet with daily_seasonality=True to override this.\n"
     ]
    },
    {
     "name": "stdout",
     "output_type": "stream",
     "text": [
      "2008-03-20, BUY CREATE, 25.42\n",
      "2008-03-24, BUY EXECUTED, Price: 37.63, Cost: 37.63, Comm 0.00\n",
      "2008-03-24, Close, 25.36\n",
      "2008-03-25, Close, 25.27\n",
      "2008-03-26, Close, 25.18\n",
      "2008-03-27, Close, 24.97\n",
      "2008-03-28, Close, 24.82\n"
     ]
    },
    {
     "name": "stderr",
     "output_type": "stream",
     "text": [
      "INFO:fbprophet.forecaster:Disabling daily seasonality. Run prophet with daily_seasonality=True to override this.\n"
     ]
    },
    {
     "name": "stdout",
     "output_type": "stream",
     "text": [
      "2008-03-28, BUY CREATE, 24.82\n",
      "2008-03-31, BUY EXECUTED, Price: 36.58, Cost: 36.58, Comm 0.00\n",
      "2008-03-31, Close, 25.10\n",
      "2008-04-01, Close, 26.06\n",
      "2008-04-02, Close, 25.78\n",
      "2008-04-03, Close, 25.66\n",
      "2008-04-04, Close, 25.47\n"
     ]
    },
    {
     "name": "stderr",
     "output_type": "stream",
     "text": [
      "INFO:fbprophet.forecaster:Disabling daily seasonality. Run prophet with daily_seasonality=True to override this.\n"
     ]
    },
    {
     "name": "stdout",
     "output_type": "stream",
     "text": [
      "2008-04-04, BUY CREATE, 25.47\n",
      "2008-04-07, BUY EXECUTED, Price: 37.87, Cost: 37.87, Comm 0.00\n",
      "2008-04-07, Close, 25.27\n",
      "2008-04-08, Close, 25.06\n",
      "2008-04-09, Close, 24.71\n",
      "2008-04-10, Close, 24.92\n",
      "2008-04-11, Close, 21.73\n"
     ]
    },
    {
     "name": "stderr",
     "output_type": "stream",
     "text": [
      "INFO:fbprophet.forecaster:Disabling daily seasonality. Run prophet with daily_seasonality=True to override this.\n"
     ]
    },
    {
     "name": "stdout",
     "output_type": "stream",
     "text": [
      "2008-04-11, BUY CREATE, 21.73\n",
      "2008-04-14, BUY EXECUTED, Price: 32.38, Cost: 32.38, Comm 0.00\n",
      "2008-04-14, Close, 21.53\n",
      "2008-04-15, Close, 21.69\n",
      "2008-04-16, Close, 21.85\n",
      "2008-04-17, Close, 21.71\n",
      "2008-04-18, Close, 22.17\n"
     ]
    },
    {
     "name": "stderr",
     "output_type": "stream",
     "text": [
      "INFO:fbprophet.forecaster:Disabling daily seasonality. Run prophet with daily_seasonality=True to override this.\n"
     ]
    },
    {
     "name": "stdout",
     "output_type": "stream",
     "text": [
      "2008-04-18, BUY CREATE, 22.17\n",
      "2008-04-21, BUY EXECUTED, Price: 32.70, Cost: 32.70, Comm 0.00\n",
      "2008-04-21, Close, 22.01\n",
      "2008-04-22, Close, 21.92\n",
      "2008-04-23, Close, 21.94\n",
      "2008-04-24, Close, 22.25\n",
      "2008-04-25, Close, 22.60\n"
     ]
    },
    {
     "name": "stderr",
     "output_type": "stream",
     "text": [
      "INFO:fbprophet.forecaster:Disabling daily seasonality. Run prophet with daily_seasonality=True to override this.\n"
     ]
    },
    {
     "name": "stdout",
     "output_type": "stream",
     "text": [
      "2008-04-25, BUY CREATE, 22.60\n",
      "2008-04-28, BUY EXECUTED, Price: 33.47, Cost: 33.47, Comm 0.00\n",
      "2008-04-28, Close, 22.49\n",
      "2008-04-29, Close, 22.25\n",
      "2008-04-30, Close, 22.17\n",
      "2008-05-01, Close, 22.46\n",
      "2008-05-02, Close, 22.61\n"
     ]
    },
    {
     "name": "stderr",
     "output_type": "stream",
     "text": [
      "INFO:fbprophet.forecaster:Disabling daily seasonality. Run prophet with daily_seasonality=True to override this.\n"
     ]
    },
    {
     "name": "stdout",
     "output_type": "stream",
     "text": [
      "2008-05-02, BUY CREATE, 22.61\n",
      "2008-05-05, BUY EXECUTED, Price: 33.36, Cost: 33.36, Comm 0.00\n",
      "2008-05-05, Close, 22.50\n",
      "2008-05-06, Close, 22.38\n",
      "2008-05-07, Close, 22.09\n",
      "2008-05-08, Close, 22.10\n",
      "2008-05-09, Close, 21.88\n"
     ]
    },
    {
     "name": "stderr",
     "output_type": "stream",
     "text": [
      "INFO:fbprophet.forecaster:Disabling daily seasonality. Run prophet with daily_seasonality=True to override this.\n"
     ]
    },
    {
     "name": "stdout",
     "output_type": "stream",
     "text": [
      "2008-05-09, BUY CREATE, 21.88\n",
      "2008-05-12, BUY EXECUTED, Price: 32.33, Cost: 32.33, Comm 0.00\n",
      "2008-05-12, Close, 21.97\n",
      "2008-05-13, Close, 21.92\n",
      "2008-05-14, Close, 22.04\n",
      "2008-05-15, Close, 21.95\n",
      "2008-05-16, Close, 21.79\n"
     ]
    },
    {
     "name": "stderr",
     "output_type": "stream",
     "text": [
      "INFO:fbprophet.forecaster:Disabling daily seasonality. Run prophet with daily_seasonality=True to override this.\n"
     ]
    },
    {
     "name": "stdout",
     "output_type": "stream",
     "text": [
      "2008-05-16, BUY CREATE, 21.79\n",
      "2008-05-19, BUY EXECUTED, Price: 32.13, Cost: 32.13, Comm 0.00\n",
      "2008-05-19, Close, 21.97\n",
      "2008-05-20, Close, 21.51\n",
      "2008-05-21, Close, 21.01\n",
      "2008-05-22, Close, 21.03\n",
      "2008-05-23, Close, 20.63\n"
     ]
    },
    {
     "name": "stderr",
     "output_type": "stream",
     "text": [
      "INFO:fbprophet.forecaster:Disabling daily seasonality. Run prophet with daily_seasonality=True to override this.\n"
     ]
    },
    {
     "name": "stdout",
     "output_type": "stream",
     "text": [
      "2008-05-23, BUY CREATE, 20.63\n",
      "2008-05-27, BUY EXECUTED, Price: 30.42, Cost: 30.42, Comm 0.00\n",
      "2008-05-27, Close, 20.61\n",
      "2008-05-28, Close, 20.72\n",
      "2008-05-29, Close, 20.78\n",
      "2008-05-30, Close, 20.83\n",
      "2008-06-02, Close, 20.62\n"
     ]
    },
    {
     "name": "stderr",
     "output_type": "stream",
     "text": [
      "INFO:fbprophet.forecaster:Disabling daily seasonality. Run prophet with daily_seasonality=True to override this.\n"
     ]
    },
    {
     "name": "stdout",
     "output_type": "stream",
     "text": [
      "2008-06-02, BUY CREATE, 20.62\n",
      "2008-06-03, BUY EXECUTED, Price: 30.56, Cost: 30.56, Comm 0.00\n",
      "2008-06-03, Close, 20.65\n",
      "2008-06-04, Close, 20.65\n",
      "2008-06-05, Close, 21.06\n",
      "2008-06-06, Close, 20.36\n",
      "2008-06-09, Close, 20.38\n"
     ]
    },
    {
     "name": "stderr",
     "output_type": "stream",
     "text": [
      "INFO:fbprophet.forecaster:Disabling daily seasonality. Run prophet with daily_seasonality=True to override this.\n"
     ]
    },
    {
     "name": "stdout",
     "output_type": "stream",
     "text": [
      "2008-06-09, BUY CREATE, 20.38\n",
      "2008-06-10, BUY EXECUTED, Price: 29.93, Cost: 29.93, Comm 0.00\n",
      "2008-06-10, Close, 20.57\n",
      "2008-06-11, Close, 20.23\n",
      "2008-06-12, Close, 19.70\n",
      "2008-06-13, Close, 19.77\n",
      "2008-06-16, Close, 19.64\n"
     ]
    },
    {
     "name": "stderr",
     "output_type": "stream",
     "text": [
      "INFO:fbprophet.forecaster:Disabling daily seasonality. Run prophet with daily_seasonality=True to override this.\n"
     ]
    },
    {
     "name": "stdout",
     "output_type": "stream",
     "text": [
      "2008-06-16, BUY CREATE, 19.64\n",
      "2008-06-17, BUY EXECUTED, Price: 29.18, Cost: 29.18, Comm 0.00\n",
      "2008-06-17, Close, 19.57\n",
      "2008-06-18, Close, 19.13\n",
      "2008-06-19, Close, 19.14\n",
      "2008-06-20, Close, 18.77\n",
      "2008-06-23, Close, 18.79\n"
     ]
    },
    {
     "name": "stderr",
     "output_type": "stream",
     "text": [
      "INFO:fbprophet.forecaster:Disabling daily seasonality. Run prophet with daily_seasonality=True to override this.\n"
     ]
    },
    {
     "name": "stdout",
     "output_type": "stream",
     "text": [
      "2008-06-23, BUY CREATE, 18.79\n",
      "2008-06-24, BUY EXECUTED, Price: 27.37, Cost: 27.37, Comm 0.00\n",
      "2008-06-24, Close, 18.92\n",
      "2008-06-25, Close, 19.19\n",
      "2008-06-26, Close, 18.19\n",
      "2008-06-27, Close, 18.00\n",
      "2008-06-30, Close, 18.30\n"
     ]
    },
    {
     "name": "stderr",
     "output_type": "stream",
     "text": [
      "INFO:fbprophet.forecaster:Disabling daily seasonality. Run prophet with daily_seasonality=True to override this.\n"
     ]
    },
    {
     "name": "stdout",
     "output_type": "stream",
     "text": [
      "2008-06-30, BUY CREATE, 18.30\n",
      "2008-07-01, BUY EXECUTED, Price: 26.42, Cost: 26.42, Comm 0.00\n",
      "2008-07-01, Close, 18.59\n",
      "2008-07-02, Close, 18.18\n",
      "2008-07-03, Close, 18.45\n",
      "2008-07-07, Close, 18.58\n",
      "2008-07-08, Close, 19.24\n"
     ]
    },
    {
     "name": "stderr",
     "output_type": "stream",
     "text": [
      "INFO:fbprophet.forecaster:Disabling daily seasonality. Run prophet with daily_seasonality=True to override this.\n"
     ]
    },
    {
     "name": "stdout",
     "output_type": "stream",
     "text": [
      "2008-07-08, BUY CREATE, 19.24\n",
      "2008-07-09, BUY EXECUTED, Price: 28.14, Cost: 28.14, Comm 0.00\n",
      "2008-07-09, Close, 18.64\n",
      "2008-07-10, Close, 18.95\n",
      "2008-07-11, Close, 18.96\n",
      "2008-07-14, Close, 18.64\n",
      "2008-07-15, Close, 18.27\n"
     ]
    },
    {
     "name": "stderr",
     "output_type": "stream",
     "text": [
      "INFO:fbprophet.forecaster:Disabling daily seasonality. Run prophet with daily_seasonality=True to override this.\n"
     ]
    },
    {
     "name": "stdout",
     "output_type": "stream",
     "text": [
      "2008-07-15, BUY CREATE, 18.27\n",
      "2008-07-16, BUY EXECUTED, Price: 26.80, Cost: 26.80, Comm 0.00\n",
      "2008-07-16, Close, 18.98\n",
      "2008-07-17, Close, 19.20\n",
      "2008-07-18, Close, 19.20\n",
      "2008-07-21, Close, 18.98\n",
      "2008-07-22, Close, 19.54\n"
     ]
    },
    {
     "name": "stderr",
     "output_type": "stream",
     "text": [
      "INFO:fbprophet.forecaster:Disabling daily seasonality. Run prophet with daily_seasonality=True to override this.\n"
     ]
    },
    {
     "name": "stdout",
     "output_type": "stream",
     "text": [
      "2008-07-22, BUY CREATE, 19.54\n",
      "2008-07-23, BUY EXECUTED, Price: 28.78, Cost: 28.78, Comm 0.00\n",
      "2008-07-23, Close, 20.11\n",
      "2008-07-24, Close, 19.68\n",
      "2008-07-25, Close, 19.68\n",
      "2008-07-28, Close, 18.98\n",
      "2008-07-29, Close, 19.47\n"
     ]
    },
    {
     "name": "stderr",
     "output_type": "stream",
     "text": [
      "INFO:fbprophet.forecaster:Disabling daily seasonality. Run prophet with daily_seasonality=True to override this.\n"
     ]
    },
    {
     "name": "stdout",
     "output_type": "stream",
     "text": [
      "2008-07-29, BUY CREATE, 19.47\n",
      "2008-07-30, BUY EXECUTED, Price: 28.73, Cost: 28.73, Comm 0.00\n",
      "2008-07-30, Close, 19.86\n",
      "2008-07-31, Close, 19.40\n",
      "2008-08-01, Close, 19.34\n",
      "2008-08-04, Close, 19.31\n",
      "2008-08-05, Close, 20.05\n"
     ]
    },
    {
     "name": "stderr",
     "output_type": "stream",
     "text": [
      "INFO:fbprophet.forecaster:Disabling daily seasonality. Run prophet with daily_seasonality=True to override this.\n"
     ]
    },
    {
     "name": "stdout",
     "output_type": "stream",
     "text": [
      "2008-08-05, BUY CREATE, 20.05\n",
      "2008-08-06, BUY EXECUTED, Price: 29.17, Cost: 29.17, Comm 0.00\n",
      "2008-08-06, Close, 19.88\n",
      "2008-08-07, Close, 19.59\n",
      "2008-08-08, Close, 20.32\n",
      "2008-08-11, Close, 20.53\n",
      "2008-08-12, Close, 20.39\n"
     ]
    },
    {
     "name": "stderr",
     "output_type": "stream",
     "text": [
      "INFO:fbprophet.forecaster:Disabling daily seasonality. Run prophet with daily_seasonality=True to override this.\n"
     ]
    },
    {
     "name": "stdout",
     "output_type": "stream",
     "text": [
      "2008-08-12, BUY CREATE, 20.39\n",
      "2008-08-13, BUY EXECUTED, Price: 29.58, Cost: 29.58, Comm 0.00\n",
      "2008-08-13, Close, 20.10\n",
      "2008-08-14, Close, 20.24\n",
      "2008-08-15, Close, 20.43\n",
      "2008-08-18, Close, 20.12\n",
      "2008-08-19, Close, 19.68\n"
     ]
    },
    {
     "name": "stderr",
     "output_type": "stream",
     "text": [
      "INFO:fbprophet.forecaster:Disabling daily seasonality. Run prophet with daily_seasonality=True to override this.\n"
     ]
    },
    {
     "name": "stdout",
     "output_type": "stream",
     "text": [
      "2008-08-19, BUY CREATE, 19.68\n",
      "2008-08-20, BUY EXECUTED, Price: 28.74, Cost: 28.74, Comm 0.00\n",
      "2008-08-20, Close, 19.64\n",
      "2008-08-21, Close, 19.71\n",
      "2008-08-22, Close, 19.97\n",
      "2008-08-25, Close, 19.42\n",
      "2008-08-26, Close, 19.38\n"
     ]
    },
    {
     "name": "stderr",
     "output_type": "stream",
     "text": [
      "INFO:fbprophet.forecaster:Disabling daily seasonality. Run prophet with daily_seasonality=True to override this.\n"
     ]
    },
    {
     "name": "stdout",
     "output_type": "stream",
     "text": [
      "2008-08-26, BUY CREATE, 19.38\n",
      "2008-08-27, BUY EXECUTED, Price: 28.27, Cost: 28.27, Comm 0.00\n",
      "2008-08-27, Close, 19.35\n",
      "2008-08-28, Close, 19.77\n",
      "2008-08-29, Close, 19.27\n",
      "2008-09-02, Close, 19.56\n",
      "2008-09-03, Close, 19.59\n"
     ]
    },
    {
     "name": "stderr",
     "output_type": "stream",
     "text": [
      "INFO:fbprophet.forecaster:Disabling daily seasonality. Run prophet with daily_seasonality=True to override this.\n"
     ]
    },
    {
     "name": "stdout",
     "output_type": "stream",
     "text": [
      "2008-09-03, BUY CREATE, 19.59\n",
      "2008-09-04, BUY EXECUTED, Price: 28.39, Cost: 28.39, Comm 0.00\n",
      "2008-09-04, Close, 18.99\n",
      "2008-09-05, Close, 19.12\n",
      "2008-09-08, Close, 19.94\n",
      "2008-09-09, Close, 19.28\n",
      "2008-09-10, Close, 19.26\n"
     ]
    },
    {
     "name": "stderr",
     "output_type": "stream",
     "text": [
      "INFO:fbprophet.forecaster:Disabling daily seasonality. Run prophet with daily_seasonality=True to override this.\n"
     ]
    },
    {
     "name": "stdout",
     "output_type": "stream",
     "text": [
      "2008-09-10, BUY CREATE, 19.26\n",
      "2008-09-11, BUY EXECUTED, Price: 27.70, Cost: 27.70, Comm 0.00\n",
      "2008-09-11, Close, 19.31\n",
      "2008-09-12, Close, 18.34\n",
      "2008-09-15, Close, 16.87\n",
      "2008-09-16, Close, 17.18\n",
      "2008-09-17, Close, 16.04\n"
     ]
    },
    {
     "name": "stderr",
     "output_type": "stream",
     "text": [
      "INFO:fbprophet.forecaster:Disabling daily seasonality. Run prophet with daily_seasonality=True to override this.\n"
     ]
    },
    {
     "name": "stdout",
     "output_type": "stream",
     "text": [
      "2008-09-17, BUY CREATE, 16.04\n",
      "2008-09-18, BUY EXECUTED, Price: 23.74, Cost: 23.74, Comm 0.00\n",
      "2008-09-18, Close, 17.22\n",
      "2008-09-19, Close, 18.50\n",
      "2008-09-22, Close, 18.17\n",
      "2008-09-23, Close, 17.34\n",
      "2008-09-24, Close, 17.09\n"
     ]
    },
    {
     "name": "stderr",
     "output_type": "stream",
     "text": [
      "INFO:fbprophet.forecaster:Disabling daily seasonality. Run prophet with daily_seasonality=True to override this.\n"
     ]
    },
    {
     "name": "stdout",
     "output_type": "stream",
     "text": [
      "2008-09-24, BUY CREATE, 17.09\n",
      "2008-09-25, BUY EXECUTED, Price: 23.66, Cost: 23.66, Comm 0.00\n",
      "2008-09-25, Close, 17.84\n",
      "2008-09-26, Close, 17.54\n",
      "2008-09-29, Close, 16.05\n",
      "2008-09-30, Close, 17.72\n",
      "2008-10-01, Close, 17.02\n"
     ]
    },
    {
     "name": "stderr",
     "output_type": "stream",
     "text": [
      "INFO:fbprophet.forecaster:Disabling daily seasonality. Run prophet with daily_seasonality=True to override this.\n"
     ]
    },
    {
     "name": "stdout",
     "output_type": "stream",
     "text": [
      "2008-10-01, BUY CREATE, 17.02\n",
      "2008-10-02, BUY EXECUTED, Price: 22.83, Cost: 22.83, Comm 0.00\n",
      "2008-10-02, Close, 15.39\n",
      "2008-10-03, Close, 14.99\n",
      "2008-10-06, Close, 14.86\n",
      "2008-10-07, Close, 14.10\n",
      "2008-10-08, Close, 14.35\n"
     ]
    },
    {
     "name": "stderr",
     "output_type": "stream",
     "text": [
      "INFO:fbprophet.forecaster:Disabling daily seasonality. Run prophet with daily_seasonality=True to override this.\n"
     ]
    },
    {
     "name": "stdout",
     "output_type": "stream",
     "text": [
      "2008-10-08, BUY CREATE, 14.35\n",
      "2008-10-09, BUY EXECUTED, Price: 21.40, Cost: 21.40, Comm 0.00\n",
      "2008-10-09, Close, 13.21\n",
      "2008-10-10, Close, 14.94\n",
      "2008-10-13, Close, 14.59\n",
      "2008-10-14, Close, 14.49\n",
      "2008-10-15, Close, 13.38\n"
     ]
    },
    {
     "name": "stderr",
     "output_type": "stream",
     "text": [
      "INFO:fbprophet.forecaster:Disabling daily seasonality. Run prophet with daily_seasonality=True to override this.\n"
     ]
    },
    {
     "name": "stdout",
     "output_type": "stream",
     "text": [
      "2008-10-15, BUY CREATE, 13.38\n",
      "2008-10-16, BUY EXECUTED, Price: 19.51, Cost: 19.51, Comm 0.00\n",
      "2008-10-16, Close, 13.82\n",
      "2008-10-17, Close, 13.64\n",
      "2008-10-20, Close, 13.99\n",
      "2008-10-21, Close, 14.14\n",
      "2008-10-22, Close, 13.17\n"
     ]
    },
    {
     "name": "stderr",
     "output_type": "stream",
     "text": [
      "INFO:fbprophet.forecaster:Disabling daily seasonality. Run prophet with daily_seasonality=True to override this.\n"
     ]
    },
    {
     "name": "stdout",
     "output_type": "stream",
     "text": [
      "2008-10-22, BUY CREATE, 13.17\n",
      "2008-10-23, BUY EXECUTED, Price: 19.24, Cost: 19.24, Comm 0.00\n",
      "2008-10-23, Close, 13.06\n",
      "2008-10-24, Close, 12.39\n",
      "2008-10-27, Close, 12.32\n",
      "2008-10-28, Close, 13.54\n",
      "2008-10-29, Close, 13.34\n"
     ]
    },
    {
     "name": "stderr",
     "output_type": "stream",
     "text": [
      "INFO:fbprophet.forecaster:Disabling daily seasonality. Run prophet with daily_seasonality=True to override this.\n"
     ]
    },
    {
     "name": "stdout",
     "output_type": "stream",
     "text": [
      "2008-10-29, BUY CREATE, 13.34\n",
      "2008-10-30, BUY EXECUTED, Price: 19.79, Cost: 19.79, Comm 0.00\n",
      "2008-10-30, Close, 13.44\n",
      "2008-10-31, Close, 13.56\n",
      "2008-11-03, Close, 13.41\n",
      "2008-11-04, Close, 14.43\n",
      "2008-11-05, Close, 13.85\n"
     ]
    },
    {
     "name": "stderr",
     "output_type": "stream",
     "text": [
      "INFO:fbprophet.forecaster:Disabling daily seasonality. Run prophet with daily_seasonality=True to override this.\n"
     ]
    },
    {
     "name": "stdout",
     "output_type": "stream",
     "text": [
      "2008-11-05, BUY CREATE, 13.85\n",
      "2008-11-06, BUY EXECUTED, Price: 19.75, Cost: 19.75, Comm 0.00\n",
      "2008-11-06, Close, 12.74\n",
      "2008-11-07, Close, 13.10\n",
      "2008-11-10, Close, 12.82\n",
      "2008-11-11, Close, 12.37\n",
      "2008-11-12, Close, 11.32\n"
     ]
    },
    {
     "name": "stderr",
     "output_type": "stream",
     "text": [
      "INFO:fbprophet.forecaster:Disabling daily seasonality. Run prophet with daily_seasonality=True to override this.\n"
     ]
    },
    {
     "name": "stdout",
     "output_type": "stream",
     "text": [
      "2008-11-12, BUY CREATE, 11.32\n",
      "2008-11-13, BUY EXECUTED, Price: 16.41, Cost: 16.41, Comm 0.00\n",
      "2008-11-13, Close, 11.71\n",
      "2008-11-14, Close, 11.13\n",
      "2008-11-17, Close, 11.19\n",
      "2008-11-18, Close, 11.16\n",
      "2008-11-19, Close, 10.04\n"
     ]
    },
    {
     "name": "stderr",
     "output_type": "stream",
     "text": [
      "INFO:fbprophet.forecaster:Disabling daily seasonality. Run prophet with daily_seasonality=True to override this.\n"
     ]
    },
    {
     "name": "stdout",
     "output_type": "stream",
     "text": [
      "2008-11-19, BUY CREATE, 10.04\n",
      "2008-11-20, BUY EXECUTED, Price: 14.10, Cost: 14.10, Comm 0.00\n",
      "2008-11-20, Close, 8.92\n",
      "2008-11-21, Close, 9.75\n",
      "2008-11-24, Close, 10.60\n",
      "2008-11-25, Close, 10.96\n",
      "2008-11-26, Close, 11.25\n"
     ]
    },
    {
     "name": "stderr",
     "output_type": "stream",
     "text": [
      "INFO:fbprophet.forecaster:Disabling daily seasonality. Run prophet with daily_seasonality=True to override this.\n"
     ]
    },
    {
     "name": "stdout",
     "output_type": "stream",
     "text": [
      "2008-11-26, BUY CREATE, 11.25\n",
      "2008-11-28, BUY EXECUTED, Price: 16.37, Cost: 16.37, Comm 0.00\n",
      "2008-11-28, Close, 11.93\n",
      "2008-12-01, Close, 10.77\n",
      "2008-12-02, Close, 12.24\n",
      "2008-12-03, Close, 12.60\n",
      "2008-12-04, Close, 12.19\n"
     ]
    },
    {
     "name": "stderr",
     "output_type": "stream",
     "text": [
      "INFO:fbprophet.forecaster:Disabling daily seasonality. Run prophet with daily_seasonality=True to override this.\n"
     ]
    },
    {
     "name": "stdout",
     "output_type": "stream",
     "text": [
      "2008-12-04, BUY CREATE, 12.19\n",
      "2008-12-05, BUY EXECUTED, Price: 17.38, Cost: 17.38, Comm 0.00\n",
      "2008-12-05, Close, 12.40\n",
      "2008-12-08, Close, 13.12\n",
      "2008-12-09, Close, 12.35\n",
      "2008-12-10, Close, 12.51\n",
      "2008-12-11, Close, 11.85\n"
     ]
    },
    {
     "name": "stderr",
     "output_type": "stream",
     "text": [
      "INFO:fbprophet.forecaster:Disabling daily seasonality. Run prophet with daily_seasonality=True to override this.\n"
     ]
    },
    {
     "name": "stdout",
     "output_type": "stream",
     "text": [
      "2008-12-11, BUY CREATE, 11.85\n",
      "2008-12-12, BUY EXECUTED, Price: 16.60, Cost: 16.60, Comm 0.00\n",
      "2008-12-12, Close, 11.89\n",
      "2008-12-15, Close, 11.78\n",
      "2008-12-16, Close, 12.45\n",
      "2008-12-17, Close, 12.08\n",
      "2008-12-18, Close, 11.09\n"
     ]
    },
    {
     "name": "stderr",
     "output_type": "stream",
     "text": [
      "INFO:fbprophet.forecaster:Disabling daily seasonality. Run prophet with daily_seasonality=True to override this.\n"
     ]
    },
    {
     "name": "stdout",
     "output_type": "stream",
     "text": [
      "2008-12-18, BUY CREATE, 11.09\n",
      "2008-12-19, BUY EXECUTED, Price: 16.16, Cost: 16.16, Comm 0.00\n",
      "2008-12-19, Close, 11.46\n",
      "2008-12-22, Close, 11.17\n",
      "2008-12-23, Close, 11.42\n",
      "2008-12-24, Close, 11.41\n",
      "2008-12-26, Close, 11.31\n"
     ]
    },
    {
     "name": "stderr",
     "output_type": "stream",
     "text": [
      "INFO:fbprophet.forecaster:Disabling daily seasonality. Run prophet with daily_seasonality=True to override this.\n"
     ]
    },
    {
     "name": "stdout",
     "output_type": "stream",
     "text": [
      "2008-12-26, BUY CREATE, 11.31\n",
      "2008-12-29, BUY EXECUTED, Price: 15.95, Cost: 15.95, Comm 0.00\n",
      "2008-12-29, Close, 11.09\n",
      "2008-12-30, Close, 11.20\n",
      "2008-12-31, Close, 11.47\n",
      "2009-01-02, Close, 12.09\n",
      "2009-01-05, Close, 11.78\n"
     ]
    },
    {
     "name": "stderr",
     "output_type": "stream",
     "text": [
      "INFO:fbprophet.forecaster:Disabling daily seasonality. Run prophet with daily_seasonality=True to override this.\n"
     ]
    },
    {
     "name": "stdout",
     "output_type": "stream",
     "text": [
      "2009-01-05, BUY CREATE, 11.78\n",
      "2009-01-06, BUY EXECUTED, Price: 16.86, Cost: 16.86, Comm 0.00\n",
      "2009-01-06, Close, 11.94\n",
      "2009-01-07, Close, 11.41\n",
      "2009-01-08, Close, 11.43\n",
      "2009-01-09, Close, 11.33\n",
      "2009-01-12, Close, 11.21\n"
     ]
    },
    {
     "name": "stderr",
     "output_type": "stream",
     "text": [
      "INFO:fbprophet.forecaster:Disabling daily seasonality. Run prophet with daily_seasonality=True to override this.\n"
     ]
    },
    {
     "name": "stdout",
     "output_type": "stream",
     "text": [
      "2009-01-12, BUY CREATE, 11.21\n",
      "2009-01-13, BUY EXECUTED, Price: 15.65, Cost: 15.65, Comm 0.00\n",
      "2009-01-13, Close, 10.58\n",
      "2009-01-14, Close, 9.99\n",
      "2009-01-15, Close, 9.75\n",
      "2009-01-16, Close, 9.89\n",
      "2009-01-20, Close, 9.16\n"
     ]
    },
    {
     "name": "stderr",
     "output_type": "stream",
     "text": [
      "INFO:fbprophet.forecaster:Disabling daily seasonality. Run prophet with daily_seasonality=True to override this.\n"
     ]
    },
    {
     "name": "stdout",
     "output_type": "stream",
     "text": [
      "2009-01-20, BUY CREATE, 9.16\n",
      "2009-01-21, BUY EXECUTED, Price: 11.88, Cost: 11.88, Comm 0.00\n",
      "2009-01-21, Close, 9.23\n",
      "2009-01-22, Close, 9.55\n",
      "2009-01-23, Close, 8.52\n",
      "2009-01-26, Close, 8.80\n",
      "2009-01-27, Close, 9.25\n"
     ]
    },
    {
     "name": "stderr",
     "output_type": "stream",
     "text": [
      "INFO:fbprophet.forecaster:Disabling daily seasonality. Run prophet with daily_seasonality=True to override this.\n"
     ]
    },
    {
     "name": "stdout",
     "output_type": "stream",
     "text": [
      "2009-01-27, BUY CREATE, 9.25\n",
      "2009-01-28, BUY EXECUTED, Price: 13.31, Cost: 13.31, Comm 0.00\n",
      "2009-01-28, Close, 9.56\n",
      "2009-01-29, Close, 9.01\n",
      "2009-01-30, Close, 8.59\n",
      "2009-02-02, Close, 8.23\n",
      "2009-02-03, Close, 8.05\n"
     ]
    },
    {
     "name": "stderr",
     "output_type": "stream",
     "text": [
      "INFO:fbprophet.forecaster:Disabling daily seasonality. Run prophet with daily_seasonality=True to override this.\n"
     ]
    },
    {
     "name": "stdout",
     "output_type": "stream",
     "text": [
      "2009-02-03, BUY CREATE, 8.05\n",
      "2009-02-04, BUY EXECUTED, Price: 11.56, Cost: 11.56, Comm 0.00\n",
      "2009-02-04, Close, 7.97\n",
      "2009-02-05, Close, 7.68\n",
      "2009-02-06, Close, 7.86\n",
      "2009-02-09, Close, 8.95\n",
      "2009-02-10, Close, 8.23\n"
     ]
    },
    {
     "name": "stderr",
     "output_type": "stream",
     "text": [
      "INFO:fbprophet.forecaster:Disabling daily seasonality. Run prophet with daily_seasonality=True to override this.\n"
     ]
    },
    {
     "name": "stdout",
     "output_type": "stream",
     "text": [
      "2009-02-10, BUY CREATE, 8.23\n",
      "2009-02-11, BUY EXECUTED, Price: 11.95, Cost: 11.95, Comm 0.00\n",
      "2009-02-11, Close, 8.46\n",
      "2009-02-12, Close, 8.27\n",
      "2009-02-13, Close, 8.10\n",
      "2009-02-17, Close, 7.66\n",
      "2009-02-18, Close, 7.69\n"
     ]
    },
    {
     "name": "stderr",
     "output_type": "stream",
     "text": [
      "INFO:fbprophet.forecaster:Disabling daily seasonality. Run prophet with daily_seasonality=True to override this.\n"
     ]
    },
    {
     "name": "stdout",
     "output_type": "stream",
     "text": [
      "2009-02-18, BUY CREATE, 7.69\n",
      "2009-02-19, BUY EXECUTED, Price: 10.94, Cost: 10.94, Comm 0.00\n",
      "2009-02-19, Close, 7.33\n",
      "2009-02-20, Close, 6.84\n",
      "2009-02-23, Close, 6.45\n",
      "2009-02-24, Close, 6.62\n",
      "2009-02-25, Close, 6.57\n"
     ]
    },
    {
     "name": "stderr",
     "output_type": "stream",
     "text": [
      "INFO:fbprophet.forecaster:Disabling daily seasonality. Run prophet with daily_seasonality=True to override this.\n"
     ]
    },
    {
     "name": "stdout",
     "output_type": "stream",
     "text": [
      "2009-02-25, BUY CREATE, 6.57\n",
      "2009-02-26, BUY EXECUTED, Price: 9.28, Cost: 9.28, Comm 0.00\n",
      "2009-02-26, Close, 6.63\n",
      "2009-02-27, Close, 6.20\n",
      "2009-03-02, Close, 5.54\n",
      "2009-03-03, Close, 5.11\n",
      "2009-03-04, Close, 4.88\n"
     ]
    },
    {
     "name": "stderr",
     "output_type": "stream",
     "text": [
      "INFO:fbprophet.forecaster:Disabling daily seasonality. Run prophet with daily_seasonality=True to override this.\n"
     ]
    },
    {
     "name": "stdout",
     "output_type": "stream",
     "text": [
      "2009-03-04, BUY CREATE, 4.88\n",
      "2009-03-05, BUY EXECUTED, Price: 6.75, Cost: 6.75, Comm 0.00\n",
      "2009-03-05, Close, 4.86\n",
      "2009-03-06, Close, 5.15\n",
      "2009-03-09, Close, 5.40\n",
      "2009-03-10, Close, 6.47\n",
      "2009-03-11, Close, 6.19\n"
     ]
    },
    {
     "name": "stderr",
     "output_type": "stream",
     "text": [
      "INFO:fbprophet.forecaster:Disabling daily seasonality. Run prophet with daily_seasonality=True to override this.\n"
     ]
    },
    {
     "name": "stdout",
     "output_type": "stream",
     "text": [
      "2009-03-11, BUY CREATE, 6.19\n",
      "2009-03-12, BUY EXECUTED, Price: 8.73, Cost: 8.73, Comm 0.00\n",
      "2009-03-12, Close, 6.98\n",
      "2009-03-13, Close, 7.01\n",
      "2009-03-16, Close, 7.04\n",
      "2009-03-17, Close, 7.29\n",
      "2009-03-18, Close, 7.52\n"
     ]
    },
    {
     "name": "stderr",
     "output_type": "stream",
     "text": [
      "INFO:fbprophet.forecaster:Disabling daily seasonality. Run prophet with daily_seasonality=True to override this.\n"
     ]
    },
    {
     "name": "stdout",
     "output_type": "stream",
     "text": [
      "2009-03-18, BUY CREATE, 7.52\n",
      "2009-03-19, BUY EXECUTED, Price: 11.20, Cost: 11.20, Comm 0.00\n",
      "2009-03-19, Close, 7.38\n",
      "2009-03-20, Close, 6.95\n",
      "2009-03-23, Close, 7.60\n",
      "2009-03-24, Close, 7.59\n",
      "2009-03-25, Close, 7.65\n"
     ]
    },
    {
     "name": "stderr",
     "output_type": "stream",
     "text": [
      "INFO:fbprophet.forecaster:Disabling daily seasonality. Run prophet with daily_seasonality=True to override this.\n"
     ]
    },
    {
     "name": "stdout",
     "output_type": "stream",
     "text": [
      "2009-03-25, BUY CREATE, 7.65\n",
      "2009-03-26, BUY EXECUTED, Price: 10.85, Cost: 10.85, Comm 0.00\n",
      "2009-03-26, Close, 7.95\n",
      "2009-03-27, Close, 7.86\n",
      "2009-03-30, Close, 7.24\n",
      "2009-03-31, Close, 7.37\n",
      "2009-04-01, Close, 7.41\n"
     ]
    },
    {
     "name": "stderr",
     "output_type": "stream",
     "text": [
      "INFO:fbprophet.forecaster:Disabling daily seasonality. Run prophet with daily_seasonality=True to override this.\n"
     ]
    },
    {
     "name": "stdout",
     "output_type": "stream",
     "text": [
      "2009-04-01, BUY CREATE, 7.41\n",
      "2009-04-02, BUY EXECUTED, Price: 10.75, Cost: 10.75, Comm 0.00\n",
      "2009-04-02, Close, 7.83\n",
      "2009-04-03, Close, 7.98\n",
      "2009-04-06, Close, 8.16\n",
      "2009-04-07, Close, 7.76\n",
      "2009-04-08, Close, 7.76\n"
     ]
    },
    {
     "name": "stderr",
     "output_type": "stream",
     "text": [
      "INFO:fbprophet.forecaster:Disabling daily seasonality. Run prophet with daily_seasonality=True to override this.\n"
     ]
    },
    {
     "name": "stdout",
     "output_type": "stream",
     "text": [
      "2009-04-08, BUY CREATE, 7.76\n",
      "2009-04-09, BUY EXECUTED, Price: 11.24, Cost: 11.24, Comm 0.00\n",
      "2009-04-09, Close, 8.26\n",
      "2009-04-13, Close, 8.84\n",
      "2009-04-14, Close, 8.39\n",
      "2009-04-15, Close, 8.62\n",
      "2009-04-16, Close, 8.94\n"
     ]
    },
    {
     "name": "stderr",
     "output_type": "stream",
     "text": [
      "INFO:fbprophet.forecaster:Disabling daily seasonality. Run prophet with daily_seasonality=True to override this.\n"
     ]
    },
    {
     "name": "stdout",
     "output_type": "stream",
     "text": [
      "2009-04-16, BUY CREATE, 8.94\n",
      "2009-04-17, BUY EXECUTED, Price: 12.40, Cost: 12.40, Comm 0.00\n",
      "2009-04-17, Close, 9.03\n",
      "2009-04-20, Close, 8.27\n",
      "2009-04-21, Close, 8.53\n",
      "2009-04-22, Close, 8.60\n",
      "2009-04-23, Close, 8.66\n"
     ]
    },
    {
     "name": "stderr",
     "output_type": "stream",
     "text": [
      "INFO:fbprophet.forecaster:Disabling daily seasonality. Run prophet with daily_seasonality=True to override this.\n"
     ]
    },
    {
     "name": "stdout",
     "output_type": "stream",
     "text": [
      "2009-04-23, BUY CREATE, 8.66\n",
      "2009-04-24, BUY EXECUTED, Price: 12.03, Cost: 12.03, Comm 0.00\n",
      "2009-04-24, Close, 8.83\n",
      "2009-04-27, Close, 8.81\n",
      "2009-04-28, Close, 8.75\n",
      "2009-04-29, Close, 8.91\n",
      "2009-04-30, Close, 9.22\n"
     ]
    },
    {
     "name": "stderr",
     "output_type": "stream",
     "text": [
      "INFO:fbprophet.forecaster:Disabling daily seasonality. Run prophet with daily_seasonality=True to override this.\n"
     ]
    },
    {
     "name": "stdout",
     "output_type": "stream",
     "text": [
      "2009-04-30, BUY CREATE, 9.22\n",
      "2009-05-01, BUY EXECUTED, Price: 12.74, Cost: 12.74, Comm 0.00\n",
      "2009-05-01, Close, 9.25\n",
      "2009-05-04, Close, 9.55\n",
      "2009-05-05, Close, 9.55\n",
      "2009-05-06, Close, 9.97\n",
      "2009-05-07, Close, 10.18\n"
     ]
    },
    {
     "name": "stderr",
     "output_type": "stream",
     "text": [
      "INFO:fbprophet.forecaster:Disabling daily seasonality. Run prophet with daily_seasonality=True to override this.\n"
     ]
    },
    {
     "name": "stdout",
     "output_type": "stream",
     "text": [
      "2009-05-07, SELL CREATE, 10.18\n",
      "2009-05-08, SELL EXECUTED, Price: 14.38, Cost: 27.73, Comm 0.00\n",
      "2009-05-08, Close, 10.59\n",
      "2009-05-11, Close, 10.34\n",
      "2009-05-12, Close, 9.97\n",
      "2009-05-13, Close, 9.41\n",
      "2009-05-14, Close, 9.51\n"
     ]
    },
    {
     "name": "stderr",
     "output_type": "stream",
     "text": [
      "INFO:fbprophet.forecaster:Disabling daily seasonality. Run prophet with daily_seasonality=True to override this.\n"
     ]
    },
    {
     "name": "stdout",
     "output_type": "stream",
     "text": [
      "2009-05-14, SELL CREATE, 9.51\n",
      "2009-05-15, SELL EXECUTED, Price: 13.07, Cost: 27.73, Comm 0.00\n",
      "2009-05-15, Close, 9.37\n",
      "2009-05-18, Close, 9.82\n",
      "2009-05-19, Close, 9.99\n",
      "2009-05-20, Close, 10.04\n",
      "2009-05-21, Close, 9.65\n"
     ]
    },
    {
     "name": "stderr",
     "output_type": "stream",
     "text": [
      "INFO:fbprophet.forecaster:Disabling daily seasonality. Run prophet with daily_seasonality=True to override this.\n"
     ]
    },
    {
     "name": "stdout",
     "output_type": "stream",
     "text": [
      "2009-05-21, SELL CREATE, 9.65\n",
      "2009-05-22, SELL EXECUTED, Price: 13.36, Cost: 27.73, Comm 0.00\n",
      "2009-05-22, Close, 9.55\n",
      "2009-05-26, Close, 9.76\n",
      "2009-05-27, Close, 9.47\n",
      "2009-05-28, Close, 9.62\n",
      "2009-05-29, Close, 9.83\n"
     ]
    },
    {
     "name": "stderr",
     "output_type": "stream",
     "text": [
      "INFO:fbprophet.forecaster:Disabling daily seasonality. Run prophet with daily_seasonality=True to override this.\n"
     ]
    },
    {
     "name": "stdout",
     "output_type": "stream",
     "text": [
      "2009-05-29, SELL CREATE, 9.83\n",
      "2009-06-01, SELL EXECUTED, Price: 13.82, Cost: 27.73, Comm 0.00\n",
      "2009-06-01, Close, 10.10\n",
      "2009-06-02, Close, 10.06\n",
      "2009-06-03, Close, 9.84\n",
      "2009-06-04, Close, 10.02\n",
      "2009-06-05, Close, 9.87\n"
     ]
    },
    {
     "name": "stderr",
     "output_type": "stream",
     "text": [
      "INFO:fbprophet.forecaster:Disabling daily seasonality. Run prophet with daily_seasonality=True to override this.\n"
     ]
    },
    {
     "name": "stdout",
     "output_type": "stream",
     "text": [
      "2009-06-05, SELL CREATE, 9.87\n",
      "2009-06-08, SELL EXECUTED, Price: 13.50, Cost: 27.73, Comm 0.00\n",
      "2009-06-08, Close, 9.89\n",
      "2009-06-09, Close, 9.89\n",
      "2009-06-10, Close, 9.77\n",
      "2009-06-11, Close, 9.81\n",
      "2009-06-12, Close, 9.85\n"
     ]
    },
    {
     "name": "stderr",
     "output_type": "stream",
     "text": [
      "INFO:fbprophet.forecaster:Disabling daily seasonality. Run prophet with daily_seasonality=True to override this.\n"
     ]
    },
    {
     "name": "stdout",
     "output_type": "stream",
     "text": [
      "2009-06-12, SELL CREATE, 9.85\n",
      "2009-06-15, SELL EXECUTED, Price: 13.36, Cost: 27.73, Comm 0.00\n",
      "2009-06-15, Close, 9.59\n",
      "2009-06-16, Close, 9.32\n",
      "2009-06-17, Close, 8.93\n",
      "2009-06-18, Close, 8.80\n",
      "2009-06-19, Close, 8.89\n"
     ]
    },
    {
     "name": "stderr",
     "output_type": "stream",
     "text": [
      "INFO:fbprophet.forecaster:Disabling daily seasonality. Run prophet with daily_seasonality=True to override this.\n"
     ]
    },
    {
     "name": "stdout",
     "output_type": "stream",
     "text": [
      "2009-06-19, SELL CREATE, 8.89\n",
      "2009-06-22, SELL EXECUTED, Price: 11.86, Cost: 27.73, Comm 0.00\n",
      "2009-06-22, Close, 8.47\n",
      "2009-06-23, Close, 8.53\n",
      "2009-06-24, Close, 8.60\n",
      "2009-06-25, Close, 8.72\n",
      "2009-06-26, Close, 8.64\n"
     ]
    },
    {
     "name": "stderr",
     "output_type": "stream",
     "text": [
      "INFO:fbprophet.forecaster:Disabling daily seasonality. Run prophet with daily_seasonality=True to override this.\n"
     ]
    },
    {
     "name": "stdout",
     "output_type": "stream",
     "text": [
      "2009-06-26, SELL CREATE, 8.64\n",
      "2009-06-29, SELL EXECUTED, Price: 11.82, Cost: 27.73, Comm 0.00\n",
      "2009-06-29, Close, 8.64\n",
      "2009-06-30, Close, 8.61\n",
      "2009-07-01, Close, 8.66\n",
      "2009-07-02, Close, 8.42\n",
      "2009-07-06, Close, 8.44\n"
     ]
    },
    {
     "name": "stderr",
     "output_type": "stream",
     "text": [
      "INFO:fbprophet.forecaster:Disabling daily seasonality. Run prophet with daily_seasonality=True to override this.\n"
     ]
    },
    {
     "name": "stdout",
     "output_type": "stream",
     "text": [
      "2009-07-06, SELL CREATE, 8.44\n",
      "2009-07-07, SELL EXECUTED, Price: 11.47, Cost: 27.73, Comm 0.00\n",
      "2009-07-07, Close, 8.09\n",
      "2009-07-08, Close, 7.87\n",
      "2009-07-09, Close, 7.98\n",
      "2009-07-10, Close, 7.92\n",
      "2009-07-13, Close, 8.42\n"
     ]
    },
    {
     "name": "stderr",
     "output_type": "stream",
     "text": [
      "INFO:fbprophet.forecaster:Disabling daily seasonality. Run prophet with daily_seasonality=True to override this.\n"
     ]
    },
    {
     "name": "stdout",
     "output_type": "stream",
     "text": [
      "2009-07-13, SELL CREATE, 8.42\n",
      "2009-07-14, SELL EXECUTED, Price: 11.57, Cost: 27.73, Comm 0.00\n",
      "2009-07-14, Close, 8.56\n",
      "2009-07-15, Close, 9.00\n",
      "2009-07-16, Close, 9.11\n",
      "2009-07-17, Close, 8.56\n",
      "2009-07-20, Close, 8.58\n"
     ]
    },
    {
     "name": "stderr",
     "output_type": "stream",
     "text": [
      "INFO:fbprophet.forecaster:Disabling daily seasonality. Run prophet with daily_seasonality=True to override this.\n"
     ]
    },
    {
     "name": "stdout",
     "output_type": "stream",
     "text": [
      "2009-07-20, SELL CREATE, 8.58\n",
      "2009-07-21, SELL EXECUTED, Price: 11.78, Cost: 27.73, Comm 0.00\n",
      "2009-07-21, Close, 8.43\n",
      "2009-07-22, Close, 8.55\n",
      "2009-07-23, Close, 8.78\n",
      "2009-07-24, Close, 8.84\n",
      "2009-07-27, Close, 9.06\n"
     ]
    },
    {
     "name": "stderr",
     "output_type": "stream",
     "text": [
      "INFO:fbprophet.forecaster:Disabling daily seasonality. Run prophet with daily_seasonality=True to override this.\n"
     ]
    },
    {
     "name": "stdout",
     "output_type": "stream",
     "text": [
      "2009-07-27, SELL CREATE, 9.06\n",
      "2009-07-28, SELL EXECUTED, Price: 12.25, Cost: 27.73, Comm 0.00\n",
      "2009-07-28, Close, 9.20\n",
      "2009-07-29, Close, 9.01\n",
      "2009-07-30, Close, 9.64\n",
      "2009-07-31, Close, 9.85\n",
      "2009-08-03, Close, 10.08\n"
     ]
    },
    {
     "name": "stderr",
     "output_type": "stream",
     "text": [
      "INFO:fbprophet.forecaster:Disabling daily seasonality. Run prophet with daily_seasonality=True to override this.\n"
     ]
    },
    {
     "name": "stdout",
     "output_type": "stream",
     "text": [
      "2009-08-03, SELL CREATE, 10.08\n",
      "2009-08-04, SELL EXECUTED, Price: 13.66, Cost: 27.73, Comm 0.00\n",
      "2009-08-04, Close, 10.16\n",
      "2009-08-05, Close, 10.28\n",
      "2009-08-06, Close, 10.52\n",
      "2009-08-07, Close, 10.80\n",
      "2009-08-10, Close, 10.71\n"
     ]
    },
    {
     "name": "stderr",
     "output_type": "stream",
     "text": [
      "INFO:fbprophet.forecaster:Disabling daily seasonality. Run prophet with daily_seasonality=True to override this.\n"
     ]
    },
    {
     "name": "stdout",
     "output_type": "stream",
     "text": [
      "2009-08-10, SELL CREATE, 10.71\n",
      "2009-08-11, SELL EXECUTED, Price: 14.44, Cost: 27.73, Comm 0.00\n",
      "2009-08-11, Close, 10.28\n",
      "2009-08-12, Close, 10.39\n",
      "2009-08-13, Close, 10.36\n",
      "2009-08-14, Close, 10.23\n",
      "2009-08-17, Close, 9.82\n"
     ]
    },
    {
     "name": "stderr",
     "output_type": "stream",
     "text": [
      "INFO:fbprophet.forecaster:Disabling daily seasonality. Run prophet with daily_seasonality=True to override this.\n"
     ]
    },
    {
     "name": "stdout",
     "output_type": "stream",
     "text": [
      "2009-08-17, SELL CREATE, 9.82\n",
      "2009-08-18, SELL EXECUTED, Price: 13.53, Cost: 27.73, Comm 0.00\n",
      "2009-08-18, Close, 9.99\n",
      "2009-08-19, Close, 9.94\n",
      "2009-08-20, Close, 10.15\n",
      "2009-08-21, Close, 10.44\n",
      "2009-08-24, Close, 10.44\n"
     ]
    },
    {
     "name": "stderr",
     "output_type": "stream",
     "text": [
      "INFO:fbprophet.forecaster:Disabling daily seasonality. Run prophet with daily_seasonality=True to override this.\n"
     ]
    },
    {
     "name": "stdout",
     "output_type": "stream",
     "text": [
      "2009-08-24, SELL CREATE, 10.44\n",
      "2009-08-25, SELL EXECUTED, Price: 14.23, Cost: 27.73, Comm 0.00\n",
      "2009-08-25, Close, 10.51\n",
      "2009-08-26, Close, 10.37\n",
      "2009-08-27, Close, 10.43\n",
      "2009-08-28, Close, 10.35\n",
      "2009-08-31, Close, 10.22\n"
     ]
    },
    {
     "name": "stderr",
     "output_type": "stream",
     "text": [
      "INFO:fbprophet.forecaster:Disabling daily seasonality. Run prophet with daily_seasonality=True to override this.\n"
     ]
    },
    {
     "name": "stdout",
     "output_type": "stream",
     "text": [
      "2009-08-31, SELL CREATE, 10.22\n",
      "2009-09-01, SELL EXECUTED, Price: 13.74, Cost: 27.73, Comm 0.00\n",
      "2009-09-01, Close, 9.80\n",
      "2009-09-02, Close, 9.70\n",
      "2009-09-03, Close, 9.89\n",
      "2009-09-04, Close, 10.19\n",
      "2009-09-08, Close, 10.66\n"
     ]
    },
    {
     "name": "stderr",
     "output_type": "stream",
     "text": [
      "INFO:fbprophet.forecaster:Disabling daily seasonality. Run prophet with daily_seasonality=True to override this.\n"
     ]
    },
    {
     "name": "stdout",
     "output_type": "stream",
     "text": [
      "2009-09-08, SELL CREATE, 10.66\n",
      "2009-09-09, SELL EXECUTED, Price: 14.78, Cost: 27.73, Comm 0.00\n",
      "2009-09-09, Close, 10.93\n",
      "2009-09-10, Close, 10.88\n",
      "2009-09-11, Close, 10.78\n",
      "2009-09-14, Close, 11.28\n",
      "2009-09-15, Close, 11.76\n"
     ]
    },
    {
     "name": "stderr",
     "output_type": "stream",
     "text": [
      "INFO:fbprophet.forecaster:Disabling daily seasonality. Run prophet with daily_seasonality=True to override this.\n"
     ]
    },
    {
     "name": "stdout",
     "output_type": "stream",
     "text": [
      "2009-09-15, SELL CREATE, 11.76\n",
      "2009-09-16, SELL EXECUTED, Price: 16.39, Cost: 27.73, Comm 0.00\n",
      "2009-09-16, Close, 12.49\n",
      "2009-09-17, Close, 12.32\n",
      "2009-09-18, Close, 12.20\n",
      "2009-09-21, Close, 12.39\n",
      "2009-09-22, Close, 12.58\n"
     ]
    },
    {
     "name": "stderr",
     "output_type": "stream",
     "text": [
      "INFO:fbprophet.forecaster:Disabling daily seasonality. Run prophet with daily_seasonality=True to override this.\n"
     ]
    },
    {
     "name": "stdout",
     "output_type": "stream",
     "text": [
      "2009-09-22, SELL CREATE, 12.58\n",
      "2009-09-23, SELL EXECUTED, Price: 17.17, Cost: 27.73, Comm 0.00\n",
      "2009-09-23, Close, 12.57\n",
      "2009-09-24, Close, 12.26\n",
      "2009-09-25, Close, 12.10\n",
      "2009-09-28, Close, 12.39\n",
      "2009-09-29, Close, 12.35\n"
     ]
    },
    {
     "name": "stderr",
     "output_type": "stream",
     "text": [
      "INFO:fbprophet.forecaster:Disabling daily seasonality. Run prophet with daily_seasonality=True to override this.\n"
     ]
    },
    {
     "name": "stdout",
     "output_type": "stream",
     "text": [
      "2009-09-29, SELL CREATE, 12.35\n",
      "2009-09-30, SELL EXECUTED, Price: 16.83, Cost: 27.73, Comm 0.00\n",
      "2009-09-30, Close, 12.14\n",
      "2009-10-01, Close, 11.81\n",
      "2009-10-02, Close, 11.36\n",
      "2009-10-05, Close, 11.70\n",
      "2009-10-06, Close, 11.89\n"
     ]
    },
    {
     "name": "stderr",
     "output_type": "stream",
     "text": [
      "INFO:fbprophet.forecaster:Disabling daily seasonality. Run prophet with daily_seasonality=True to override this.\n"
     ]
    },
    {
     "name": "stdout",
     "output_type": "stream",
     "text": [
      "2009-10-06, SELL CREATE, 11.89\n",
      "2009-10-07, SELL EXECUTED, Price: 16.03, Cost: 27.73, Comm 0.00\n",
      "2009-10-07, Close, 11.95\n",
      "2009-10-08, Close, 11.99\n",
      "2009-10-09, Close, 11.96\n",
      "2009-10-12, Close, 12.07\n",
      "2009-10-13, Close, 12.12\n"
     ]
    },
    {
     "name": "stderr",
     "output_type": "stream",
     "text": [
      "INFO:fbprophet.forecaster:Disabling daily seasonality. Run prophet with daily_seasonality=True to override this.\n"
     ]
    },
    {
     "name": "stdout",
     "output_type": "stream",
     "text": [
      "2009-10-13, SELL CREATE, 12.12\n",
      "2009-10-14, SELL EXECUTED, Price: 16.77, Cost: 27.73, Comm 0.00\n",
      "2009-10-14, Close, 12.45\n",
      "2009-10-15, Close, 12.41\n",
      "2009-10-16, Close, 11.89\n",
      "2009-10-19, Close, 11.71\n",
      "2009-10-20, Close, 11.52\n"
     ]
    },
    {
     "name": "stderr",
     "output_type": "stream",
     "text": [
      "INFO:fbprophet.forecaster:Disabling daily seasonality. Run prophet with daily_seasonality=True to override this.\n"
     ]
    },
    {
     "name": "stdout",
     "output_type": "stream",
     "text": [
      "2009-10-20, SELL CREATE, 11.52\n",
      "2009-10-21, SELL EXECUTED, Price: 15.51, Cost: 27.73, Comm 0.00\n",
      "2009-10-21, Close, 11.48\n",
      "2009-10-22, Close, 11.34\n",
      "2009-10-23, Close, 11.24\n",
      "2009-10-26, Close, 11.10\n",
      "2009-10-27, Close, 11.04\n"
     ]
    },
    {
     "name": "stderr",
     "output_type": "stream",
     "text": [
      "INFO:fbprophet.forecaster:Disabling daily seasonality. Run prophet with daily_seasonality=True to override this.\n"
     ]
    },
    {
     "name": "stdout",
     "output_type": "stream",
     "text": [
      "2009-10-27, SELL CREATE, 11.04\n",
      "2009-10-28, SELL EXECUTED, Price: 14.77, Cost: 27.73, Comm 0.00\n",
      "2009-10-28, Close, 10.66\n",
      "2009-10-29, Close, 10.99\n",
      "2009-10-30, Close, 10.54\n",
      "2009-11-02, Close, 10.70\n",
      "2009-11-03, Close, 10.59\n"
     ]
    },
    {
     "name": "stderr",
     "output_type": "stream",
     "text": [
      "INFO:fbprophet.forecaster:Disabling daily seasonality. Run prophet with daily_seasonality=True to override this.\n"
     ]
    },
    {
     "name": "stdout",
     "output_type": "stream",
     "text": [
      "2009-11-03, SELL CREATE, 10.59\n",
      "2009-11-04, SELL EXECUTED, Price: 14.44, Cost: 27.73, Comm 0.00\n",
      "2009-11-04, Close, 10.49\n",
      "2009-11-05, Close, 10.67\n",
      "2009-11-06, Close, 11.33\n",
      "2009-11-09, Close, 11.72\n",
      "2009-11-10, Close, 11.67\n"
     ]
    },
    {
     "name": "stderr",
     "output_type": "stream",
     "text": [
      "INFO:fbprophet.forecaster:Disabling daily seasonality. Run prophet with daily_seasonality=True to override this.\n"
     ]
    },
    {
     "name": "stdout",
     "output_type": "stream",
     "text": [
      "2009-11-10, SELL CREATE, 11.67\n",
      "2009-11-11, SELL EXECUTED, Price: 15.94, Cost: 27.73, Comm 0.00\n",
      "2009-11-11, Close, 11.70\n",
      "2009-11-12, Close, 11.64\n",
      "2009-11-13, Close, 11.58\n",
      "2009-11-16, Close, 11.83\n",
      "2009-11-17, Close, 11.84\n"
     ]
    },
    {
     "name": "stderr",
     "output_type": "stream",
     "text": [
      "INFO:fbprophet.forecaster:Disabling daily seasonality. Run prophet with daily_seasonality=True to override this.\n"
     ]
    },
    {
     "name": "stdout",
     "output_type": "stream",
     "text": [
      "2009-11-17, SELL CREATE, 11.84\n",
      "2009-11-18, SELL EXECUTED, Price: 16.01, Cost: 27.73, Comm 0.00\n",
      "2009-11-18, Close, 11.90\n",
      "2009-11-19, Close, 11.65\n",
      "2009-11-20, Close, 11.53\n",
      "2009-11-23, Close, 11.84\n",
      "2009-11-24, Close, 11.92\n"
     ]
    },
    {
     "name": "stderr",
     "output_type": "stream",
     "text": [
      "INFO:fbprophet.forecaster:Disabling daily seasonality. Run prophet with daily_seasonality=True to override this.\n"
     ]
    },
    {
     "name": "stdout",
     "output_type": "stream",
     "text": [
      "2009-11-24, SELL CREATE, 11.92\n",
      "2009-11-25, SELL EXECUTED, Price: 16.24, Cost: 27.73, Comm 0.00\n",
      "2009-11-25, Close, 11.96\n",
      "2009-11-27, Close, 11.79\n",
      "2009-11-30, Close, 11.84\n",
      "2009-12-01, Close, 11.96\n",
      "2009-12-02, Close, 11.88\n"
     ]
    },
    {
     "name": "stderr",
     "output_type": "stream",
     "text": [
      "INFO:fbprophet.forecaster:Disabling daily seasonality. Run prophet with daily_seasonality=True to override this.\n"
     ]
    },
    {
     "name": "stdout",
     "output_type": "stream",
     "text": [
      "2009-12-02, SELL CREATE, 11.88\n",
      "2009-12-03, SELL EXECUTED, Price: 16.12, Cost: 27.73, Comm 0.00\n",
      "2009-12-03, Close, 11.83\n",
      "2009-12-04, Close, 11.98\n",
      "2009-12-07, Close, 11.89\n",
      "2009-12-08, Close, 11.62\n",
      "2009-12-09, Close, 11.58\n"
     ]
    },
    {
     "name": "stderr",
     "output_type": "stream",
     "text": [
      "INFO:fbprophet.forecaster:Disabling daily seasonality. Run prophet with daily_seasonality=True to override this.\n"
     ]
    },
    {
     "name": "stdout",
     "output_type": "stream",
     "text": [
      "2009-12-09, SELL CREATE, 11.58\n",
      "2009-12-10, SELL EXECUTED, Price: 15.81, Cost: 27.73, Comm 0.00\n",
      "2009-12-10, Close, 11.54\n",
      "2009-12-11, Close, 11.77\n",
      "2009-12-14, Close, 11.79\n",
      "2009-12-15, Close, 11.64\n",
      "2009-12-16, Close, 11.60\n"
     ]
    },
    {
     "name": "stderr",
     "output_type": "stream",
     "text": [
      "INFO:fbprophet.forecaster:Disabling daily seasonality. Run prophet with daily_seasonality=True to override this.\n"
     ]
    },
    {
     "name": "stdout",
     "output_type": "stream",
     "text": [
      "2009-12-16, SELL CREATE, 11.60\n",
      "2009-12-17, SELL EXECUTED, Price: 15.59, Cost: 27.73, Comm 0.00\n",
      "2009-12-17, Close, 11.67\n",
      "2009-12-18, Close, 11.53\n",
      "2009-12-21, Close, 11.51\n",
      "2009-12-22, Close, 11.45\n",
      "2009-12-23, Close, 11.47\n"
     ]
    },
    {
     "name": "stderr",
     "output_type": "stream",
     "text": [
      "INFO:fbprophet.forecaster:Disabling daily seasonality. Run prophet with daily_seasonality=True to override this.\n"
     ]
    },
    {
     "name": "stdout",
     "output_type": "stream",
     "text": [
      "2009-12-23, SELL CREATE, 11.47\n",
      "2009-12-24, SELL EXECUTED, Price: 15.38, Cost: 27.73, Comm 0.00\n",
      "2009-12-24, Close, 11.49\n",
      "2009-12-28, Close, 11.42\n",
      "2009-12-29, Close, 11.49\n",
      "2009-12-30, Close, 11.42\n",
      "2009-12-31, Close, 11.26\n"
     ]
    },
    {
     "name": "stderr",
     "output_type": "stream",
     "text": [
      "INFO:fbprophet.forecaster:Disabling daily seasonality. Run prophet with daily_seasonality=True to override this.\n"
     ]
    },
    {
     "name": "stdout",
     "output_type": "stream",
     "text": [
      "2009-12-31, SELL CREATE, 11.26\n",
      "2010-01-04, SELL EXECUTED, Price: 15.22, Cost: 27.73, Comm 0.00\n",
      "2010-01-04, Close, 11.50\n",
      "2010-01-05, Close, 11.56\n",
      "2010-01-06, Close, 11.50\n",
      "2010-01-07, Close, 12.09\n",
      "2010-01-08, Close, 12.35\n"
     ]
    },
    {
     "name": "stderr",
     "output_type": "stream",
     "text": [
      "INFO:fbprophet.forecaster:Disabling daily seasonality. Run prophet with daily_seasonality=True to override this.\n"
     ]
    },
    {
     "name": "stdout",
     "output_type": "stream",
     "text": [
      "2010-01-08, SELL CREATE, 12.35\n",
      "2010-01-11, SELL EXECUTED, Price: 16.83, Cost: 27.73, Comm 0.00\n",
      "2010-01-11, Close, 12.47\n",
      "2010-01-12, Close, 12.48\n",
      "2010-01-13, Close, 12.52\n",
      "2010-01-14, Close, 12.43\n",
      "2010-01-15, Close, 12.23\n"
     ]
    },
    {
     "name": "stderr",
     "output_type": "stream",
     "text": [
      "INFO:fbprophet.forecaster:Disabling daily seasonality. Run prophet with daily_seasonality=True to override this.\n"
     ]
    },
    {
     "name": "stdout",
     "output_type": "stream",
     "text": [
      "2010-01-15, SELL CREATE, 12.23\n",
      "2010-01-19, SELL EXECUTED, Price: 16.35, Cost: 27.73, Comm 0.00\n",
      "2010-01-19, Close, 12.31\n",
      "2010-01-20, Close, 12.28\n",
      "2010-01-21, Close, 11.92\n",
      "2010-01-22, Close, 11.99\n",
      "2010-01-25, Close, 12.18\n"
     ]
    },
    {
     "name": "stderr",
     "output_type": "stream",
     "text": [
      "INFO:fbprophet.forecaster:Disabling daily seasonality. Run prophet with daily_seasonality=True to override this.\n"
     ]
    },
    {
     "name": "stdout",
     "output_type": "stream",
     "text": [
      "2010-01-25, SELL CREATE, 12.18\n",
      "2010-01-26, SELL EXECUTED, Price: 16.33, Cost: 27.73, Comm 0.00\n",
      "2010-01-26, Close, 12.17\n",
      "2010-01-27, Close, 12.13\n",
      "2010-01-28, Close, 12.03\n",
      "2010-01-29, Close, 11.97\n",
      "2010-02-01, Close, 12.09\n"
     ]
    },
    {
     "name": "stderr",
     "output_type": "stream",
     "text": [
      "INFO:fbprophet.forecaster:Disabling daily seasonality. Run prophet with daily_seasonality=True to override this.\n"
     ]
    },
    {
     "name": "stdout",
     "output_type": "stream",
     "text": [
      "2010-02-01, SELL CREATE, 12.09\n",
      "2010-02-02, SELL EXECUTED, Price: 16.27, Cost: 27.73, Comm 0.00\n",
      "2010-02-02, Close, 12.54\n",
      "2010-02-03, Close, 12.41\n",
      "2010-02-04, Close, 11.94\n",
      "2010-02-05, Close, 11.75\n",
      "2010-02-08, Close, 11.61\n"
     ]
    },
    {
     "name": "stderr",
     "output_type": "stream",
     "text": [
      "INFO:fbprophet.forecaster:Disabling daily seasonality. Run prophet with daily_seasonality=True to override this.\n"
     ]
    },
    {
     "name": "stdout",
     "output_type": "stream",
     "text": [
      "2010-02-08, SELL CREATE, 11.61\n",
      "2010-02-09, SELL EXECUTED, Price: 15.76, Cost: 27.73, Comm 0.00\n",
      "2010-02-09, Close, 11.61\n",
      "2010-02-10, Close, 11.68\n",
      "2010-02-11, Close, 11.74\n",
      "2010-02-12, Close, 11.57\n",
      "2010-02-16, Close, 11.94\n"
     ]
    },
    {
     "name": "stderr",
     "output_type": "stream",
     "text": [
      "INFO:fbprophet.forecaster:Disabling daily seasonality. Run prophet with daily_seasonality=True to override this.\n"
     ]
    },
    {
     "name": "stdout",
     "output_type": "stream",
     "text": [
      "2010-02-16, SELL CREATE, 11.94\n",
      "2010-02-17, SELL EXECUTED, Price: 16.19, Cost: 27.73, Comm 0.00\n",
      "2010-02-17, Close, 12.02\n",
      "2010-02-18, Close, 12.09\n",
      "2010-02-19, Close, 12.03\n",
      "2010-02-22, Close, 12.09\n",
      "2010-02-23, Close, 11.87\n"
     ]
    },
    {
     "name": "stderr",
     "output_type": "stream",
     "text": [
      "INFO:fbprophet.forecaster:Disabling daily seasonality. Run prophet with daily_seasonality=True to override this.\n"
     ]
    },
    {
     "name": "stdout",
     "output_type": "stream",
     "text": [
      "2010-02-23, SELL CREATE, 11.87\n",
      "2010-02-24, SELL EXECUTED, Price: 15.98, Cost: 27.73, Comm 0.00\n",
      "2010-02-24, Close, 12.00\n",
      "2010-02-25, Close, 11.92\n",
      "2010-02-26, Close, 12.03\n",
      "2010-03-01, Close, 11.91\n",
      "2010-03-02, Close, 11.91\n"
     ]
    },
    {
     "name": "stderr",
     "output_type": "stream",
     "text": [
      "INFO:fbprophet.forecaster:Disabling daily seasonality. Run prophet with daily_seasonality=True to override this.\n"
     ]
    },
    {
     "name": "stdout",
     "output_type": "stream",
     "text": [
      "2010-03-02, SELL CREATE, 11.91\n",
      "2010-03-03, SELL EXECUTED, Price: 15.98, Cost: 27.73, Comm 0.00\n",
      "2010-03-03, Close, 12.00\n",
      "2010-03-04, Close, 12.06\n",
      "2010-03-05, Close, 12.24\n",
      "2010-03-08, Close, 12.18\n",
      "2010-03-09, Close, 12.35\n"
     ]
    },
    {
     "name": "stderr",
     "output_type": "stream",
     "text": [
      "INFO:fbprophet.forecaster:Disabling daily seasonality. Run prophet with daily_seasonality=True to override this.\n"
     ]
    },
    {
     "name": "stdout",
     "output_type": "stream",
     "text": [
      "2010-03-09, SELL CREATE, 12.35\n",
      "2010-03-10, SELL EXECUTED, Price: 16.49, Cost: 27.73, Comm 0.00\n",
      "2010-03-10, Close, 12.36\n",
      "2010-03-11, Close, 12.34\n",
      "2010-03-12, Close, 12.76\n",
      "2010-03-15, Close, 12.95\n",
      "2010-03-16, Close, 13.53\n"
     ]
    },
    {
     "name": "stderr",
     "output_type": "stream",
     "text": [
      "INFO:fbprophet.forecaster:Disabling daily seasonality. Run prophet with daily_seasonality=True to override this.\n"
     ]
    },
    {
     "name": "stdout",
     "output_type": "stream",
     "text": [
      "2010-03-16, SELL CREATE, 13.53\n",
      "2010-03-17, SELL EXECUTED, Price: 18.32, Cost: 27.73, Comm 0.00\n",
      "2010-03-17, Close, 13.51\n",
      "2010-03-18, Close, 13.62\n",
      "2010-03-19, Close, 13.53\n",
      "2010-03-22, Close, 13.53\n",
      "2010-03-23, Close, 13.73\n"
     ]
    },
    {
     "name": "stderr",
     "output_type": "stream",
     "text": [
      "INFO:fbprophet.forecaster:Disabling daily seasonality. Run prophet with daily_seasonality=True to override this.\n"
     ]
    },
    {
     "name": "stdout",
     "output_type": "stream",
     "text": [
      "2010-03-23, SELL CREATE, 13.73\n",
      "2010-03-24, SELL EXECUTED, Price: 18.36, Cost: 27.73, Comm 0.00\n",
      "2010-03-24, Close, 13.82\n",
      "2010-03-25, Close, 13.70\n",
      "2010-03-26, Close, 13.73\n",
      "2010-03-29, Close, 13.78\n",
      "2010-03-30, Close, 13.70\n"
     ]
    },
    {
     "name": "stderr",
     "output_type": "stream",
     "text": [
      "INFO:fbprophet.forecaster:Disabling daily seasonality. Run prophet with daily_seasonality=True to override this.\n"
     ]
    },
    {
     "name": "stdout",
     "output_type": "stream",
     "text": [
      "2010-03-30, SELL CREATE, 13.70\n",
      "2010-03-31, SELL EXECUTED, Price: 18.21, Cost: 27.73, Comm 0.00\n",
      "2010-03-31, Close, 13.63\n",
      "2010-04-01, Close, 13.73\n",
      "2010-04-05, Close, 13.88\n",
      "2010-04-06, Close, 13.93\n",
      "2010-04-07, Close, 13.85\n"
     ]
    },
    {
     "name": "stderr",
     "output_type": "stream",
     "text": [
      "INFO:fbprophet.forecaster:Disabling daily seasonality. Run prophet with daily_seasonality=True to override this.\n"
     ]
    },
    {
     "name": "stdout",
     "output_type": "stream",
     "text": [
      "2010-04-07, SELL CREATE, 13.85\n",
      "2010-04-08, SELL EXECUTED, Price: 18.39, Cost: 27.73, Comm 0.00\n",
      "2010-04-08, Close, 13.90\n",
      "2010-04-09, Close, 13.87\n",
      "2010-04-12, Close, 14.01\n",
      "2010-04-13, Close, 14.19\n",
      "2010-04-14, Close, 14.49\n"
     ]
    },
    {
     "name": "stderr",
     "output_type": "stream",
     "text": [
      "INFO:fbprophet.forecaster:Disabling daily seasonality. Run prophet with daily_seasonality=True to override this.\n"
     ]
    },
    {
     "name": "stdout",
     "output_type": "stream",
     "text": [
      "2010-04-14, SELL CREATE, 14.49\n",
      "2010-04-15, SELL EXECUTED, Price: 19.45, Cost: 27.73, Comm 0.00\n",
      "2010-04-15, Close, 14.60\n",
      "2010-04-16, Close, 14.20\n",
      "2010-04-19, Close, 14.18\n",
      "2010-04-20, Close, 14.23\n",
      "2010-04-21, Close, 14.25\n"
     ]
    },
    {
     "name": "stderr",
     "output_type": "stream",
     "text": [
      "INFO:fbprophet.forecaster:Disabling daily seasonality. Run prophet with daily_seasonality=True to override this.\n"
     ]
    },
    {
     "name": "stdout",
     "output_type": "stream",
     "text": [
      "2010-04-21, SELL CREATE, 14.25\n",
      "2010-04-22, SELL EXECUTED, Price: 18.91, Cost: 27.73, Comm 0.00\n",
      "2010-04-22, Close, 14.19\n",
      "2010-04-23, Close, 14.28\n",
      "2010-04-26, Close, 14.45\n",
      "2010-04-27, Close, 14.00\n",
      "2010-04-28, Close, 14.19\n"
     ]
    },
    {
     "name": "stderr",
     "output_type": "stream",
     "text": [
      "INFO:fbprophet.forecaster:Disabling daily seasonality. Run prophet with daily_seasonality=True to override this.\n"
     ]
    },
    {
     "name": "stdout",
     "output_type": "stream",
     "text": [
      "2010-04-28, SELL CREATE, 14.19\n",
      "2010-04-29, SELL EXECUTED, Price: 19.04, Cost: 27.73, Comm 0.00\n",
      "2010-04-29, Close, 14.59\n",
      "2010-04-30, Close, 14.12\n",
      "2010-05-03, Close, 14.42\n",
      "2010-05-04, Close, 13.91\n",
      "2010-05-05, Close, 13.55\n"
     ]
    },
    {
     "name": "stderr",
     "output_type": "stream",
     "text": [
      "INFO:fbprophet.forecaster:Disabling daily seasonality. Run prophet with daily_seasonality=True to override this.\n"
     ]
    },
    {
     "name": "stdout",
     "output_type": "stream",
     "text": [
      "2010-05-05, SELL CREATE, 13.55\n",
      "2010-05-06, SELL EXECUTED, Price: 18.00, Cost: 27.73, Comm 0.00\n",
      "2010-05-06, Close, 12.96\n",
      "2010-05-07, Close, 12.64\n",
      "2010-05-10, Close, 13.51\n",
      "2010-05-11, Close, 13.48\n",
      "2010-05-12, Close, 13.81\n"
     ]
    },
    {
     "name": "stderr",
     "output_type": "stream",
     "text": [
      "INFO:fbprophet.forecaster:Disabling daily seasonality. Run prophet with daily_seasonality=True to override this.\n"
     ]
    },
    {
     "name": "stdout",
     "output_type": "stream",
     "text": [
      "2010-05-12, SELL CREATE, 13.81\n",
      "2010-05-13, SELL EXECUTED, Price: 18.41, Cost: 27.73, Comm 0.00\n",
      "2010-05-13, Close, 13.52\n",
      "2010-05-14, Close, 13.21\n",
      "2010-05-17, Close, 13.15\n",
      "2010-05-18, Close, 12.90\n",
      "2010-05-19, Close, 12.92\n"
     ]
    },
    {
     "name": "stderr",
     "output_type": "stream",
     "text": [
      "INFO:fbprophet.forecaster:Disabling daily seasonality. Run prophet with daily_seasonality=True to override this.\n"
     ]
    },
    {
     "name": "stdout",
     "output_type": "stream",
     "text": [
      "2010-05-19, SELL CREATE, 12.92\n",
      "2010-05-20, SELL EXECUTED, Price: 16.81, Cost: 27.73, Comm 0.00\n",
      "2010-05-20, Close, 12.18\n",
      "2010-05-21, Close, 12.30\n",
      "2010-05-24, Close, 11.99\n",
      "2010-05-25, Close, 11.94\n",
      "2010-05-26, Close, 11.99\n"
     ]
    },
    {
     "name": "stderr",
     "output_type": "stream",
     "text": [
      "INFO:fbprophet.forecaster:Disabling daily seasonality. Run prophet with daily_seasonality=True to override this.\n"
     ]
    },
    {
     "name": "stdout",
     "output_type": "stream",
     "text": [
      "2010-05-26, SELL CREATE, 11.99\n",
      "2010-05-27, SELL EXECUTED, Price: 16.42, Cost: 27.73, Comm 0.00\n",
      "2010-05-27, Close, 12.48\n",
      "2010-05-28, Close, 12.24\n",
      "2010-06-01, Close, 11.97\n",
      "2010-06-02, Close, 12.24\n",
      "2010-06-03, Close, 12.32\n"
     ]
    },
    {
     "name": "stderr",
     "output_type": "stream",
     "text": [
      "INFO:fbprophet.forecaster:Disabling daily seasonality. Run prophet with daily_seasonality=True to override this.\n"
     ]
    },
    {
     "name": "stdout",
     "output_type": "stream",
     "text": [
      "2010-06-03, SELL CREATE, 12.32\n",
      "2010-06-04, SELL EXECUTED, Price: 16.08, Cost: 27.73, Comm 0.00\n",
      "2010-06-04, Close, 11.76\n",
      "2010-06-07, Close, 11.54\n",
      "2010-06-08, Close, 11.59\n",
      "2010-06-09, Close, 11.47\n",
      "2010-06-10, Close, 11.74\n"
     ]
    },
    {
     "name": "stderr",
     "output_type": "stream",
     "text": [
      "INFO:fbprophet.forecaster:Disabling daily seasonality. Run prophet with daily_seasonality=True to override this.\n"
     ]
    },
    {
     "name": "stdout",
     "output_type": "stream",
     "text": [
      "2010-06-10, SELL CREATE, 11.74\n",
      "2010-06-11, SELL EXECUTED, Price: 15.53, Cost: 27.73, Comm 0.00\n",
      "2010-06-11, Close, 11.65\n",
      "2010-06-14, Close, 11.52\n",
      "2010-06-15, Close, 11.82\n",
      "2010-06-16, Close, 11.87\n",
      "2010-06-17, Close, 11.99\n"
     ]
    },
    {
     "name": "stderr",
     "output_type": "stream",
     "text": [
      "INFO:fbprophet.forecaster:Disabling daily seasonality. Run prophet with daily_seasonality=True to override this.\n"
     ]
    },
    {
     "name": "stdout",
     "output_type": "stream",
     "text": [
      "2010-06-17, SELL CREATE, 11.99\n",
      "2010-06-18, SELL EXECUTED, Price: 16.00, Cost: 27.73, Comm 0.00\n",
      "2010-06-18, Close, 12.02\n",
      "2010-06-21, Close, 12.13\n",
      "2010-06-22, Close, 11.90\n",
      "2010-06-23, Close, 11.60\n",
      "2010-06-24, Close, 11.36\n"
     ]
    },
    {
     "name": "stderr",
     "output_type": "stream",
     "text": [
      "INFO:fbprophet.forecaster:Disabling daily seasonality. Run prophet with daily_seasonality=True to override this.\n"
     ]
    },
    {
     "name": "stdout",
     "output_type": "stream",
     "text": [
      "2010-06-24, SELL CREATE, 11.36\n",
      "2010-06-25, SELL EXECUTED, Price: 15.12, Cost: 27.73, Comm 0.00\n",
      "2010-06-25, Close, 11.24\n",
      "2010-06-28, Close, 11.30\n",
      "2010-06-29, Close, 10.91\n",
      "2010-06-30, Close, 10.87\n",
      "2010-07-01, Close, 10.64\n"
     ]
    },
    {
     "name": "stderr",
     "output_type": "stream",
     "text": [
      "INFO:fbprophet.forecaster:Disabling daily seasonality. Run prophet with daily_seasonality=True to override this.\n"
     ]
    },
    {
     "name": "stdout",
     "output_type": "stream",
     "text": [
      "2010-07-01, SELL CREATE, 10.64\n",
      "2010-07-02, SELL EXECUTED, Price: 14.16, Cost: 27.73, Comm 0.00\n",
      "2010-07-02, Close, 10.46\n",
      "2010-07-06, Close, 10.53\n",
      "2010-07-07, Close, 11.02\n",
      "2010-07-08, Close, 11.18\n",
      "2010-07-09, Close, 11.27\n"
     ]
    },
    {
     "name": "stderr",
     "output_type": "stream",
     "text": [
      "INFO:fbprophet.forecaster:Disabling daily seasonality. Run prophet with daily_seasonality=True to override this.\n"
     ]
    },
    {
     "name": "stdout",
     "output_type": "stream",
     "text": [
      "2010-07-09, SELL CREATE, 11.27\n",
      "2010-07-12, SELL EXECUTED, Price: 14.90, Cost: 27.73, Comm 0.00\n",
      "2010-07-12, Close, 11.25\n",
      "2010-07-13, Close, 11.46\n",
      "2010-07-14, Close, 11.45\n",
      "2010-07-15, Close, 11.49\n",
      "2010-07-16, Close, 10.96\n"
     ]
    },
    {
     "name": "stderr",
     "output_type": "stream",
     "text": [
      "INFO:fbprophet.forecaster:Disabling daily seasonality. Run prophet with daily_seasonality=True to override this.\n"
     ]
    },
    {
     "name": "stdout",
     "output_type": "stream",
     "text": [
      "2010-07-16, SELL CREATE, 10.96\n",
      "2010-07-19, SELL EXECUTED, Price: 14.64, Cost: 27.73, Comm 0.00\n",
      "2010-07-19, Close, 11.02\n",
      "2010-07-20, Close, 11.26\n",
      "2010-07-21, Close, 11.18\n",
      "2010-07-22, Close, 11.46\n",
      "2010-07-23, Close, 11.84\n"
     ]
    },
    {
     "name": "stderr",
     "output_type": "stream",
     "text": [
      "INFO:fbprophet.forecaster:Disabling daily seasonality. Run prophet with daily_seasonality=True to override this.\n"
     ]
    },
    {
     "name": "stdout",
     "output_type": "stream",
     "text": [
      "2010-07-23, SELL CREATE, 11.84\n",
      "2010-07-26, SELL EXECUTED, Price: 15.91, Cost: 27.73, Comm 0.00\n",
      "2010-07-26, Close, 12.16\n",
      "2010-07-27, Close, 12.19\n",
      "2010-07-28, Close, 12.09\n",
      "2010-07-29, Close, 12.17\n",
      "2010-07-30, Close, 12.15\n"
     ]
    },
    {
     "name": "stderr",
     "output_type": "stream",
     "text": [
      "INFO:fbprophet.forecaster:Disabling daily seasonality. Run prophet with daily_seasonality=True to override this.\n"
     ]
    },
    {
     "name": "stdout",
     "output_type": "stream",
     "text": [
      "2010-07-30, SELL CREATE, 12.15\n",
      "2010-08-02, SELL EXECUTED, Price: 16.32, Cost: 27.73, Comm 0.00\n",
      "2010-08-02, Close, 12.37\n",
      "2010-08-03, Close, 12.36\n",
      "2010-08-04, Close, 12.42\n",
      "2010-08-05, Close, 12.45\n",
      "2010-08-06, Close, 12.40\n"
     ]
    },
    {
     "name": "stderr",
     "output_type": "stream",
     "text": [
      "INFO:fbprophet.forecaster:Disabling daily seasonality. Run prophet with daily_seasonality=True to override this.\n"
     ]
    },
    {
     "name": "stdout",
     "output_type": "stream",
     "text": [
      "2010-08-06, SELL CREATE, 12.40\n",
      "2010-08-09, SELL EXECUTED, Price: 16.42, Cost: 27.73, Comm 0.00\n",
      "2010-08-09, Close, 12.34\n",
      "2010-08-10, Close, 12.25\n",
      "2010-08-11, Close, 11.83\n",
      "2010-08-12, Close, 11.68\n",
      "2010-08-13, Close, 11.59\n"
     ]
    },
    {
     "name": "stderr",
     "output_type": "stream",
     "text": [
      "INFO:fbprophet.forecaster:Disabling daily seasonality. Run prophet with daily_seasonality=True to override this.\n"
     ]
    },
    {
     "name": "stdout",
     "output_type": "stream",
     "text": [
      "2010-08-13, SELL CREATE, 11.59\n",
      "2010-08-16, SELL EXECUTED, Price: 15.29, Cost: 27.73, Comm 0.00\n",
      "2010-08-16, Close, 11.65\n",
      "2010-08-17, Close, 11.74\n",
      "2010-08-18, Close, 11.83\n",
      "2010-08-19, Close, 11.49\n",
      "2010-08-20, Close, 11.33\n"
     ]
    },
    {
     "name": "stderr",
     "output_type": "stream",
     "text": [
      "INFO:fbprophet.forecaster:Disabling daily seasonality. Run prophet with daily_seasonality=True to override this.\n"
     ]
    },
    {
     "name": "stdout",
     "output_type": "stream",
     "text": [
      "2010-08-20, SELL CREATE, 11.33\n",
      "2010-08-23, SELL EXECUTED, Price: 15.22, Cost: 27.73, Comm 0.00\n",
      "2010-08-23, Close, 11.22\n",
      "2010-08-24, Close, 10.98\n",
      "2010-08-25, Close, 10.98\n",
      "2010-08-26, Close, 10.93\n",
      "2010-08-27, Close, 11.08\n"
     ]
    },
    {
     "name": "stderr",
     "output_type": "stream",
     "text": [
      "INFO:fbprophet.forecaster:Disabling daily seasonality. Run prophet with daily_seasonality=True to override this.\n"
     ]
    },
    {
     "name": "stdout",
     "output_type": "stream",
     "text": [
      "2010-08-27, SELL CREATE, 11.08\n",
      "2010-08-30, SELL EXECUTED, Price: 14.67, Cost: 27.73, Comm 0.00\n",
      "2010-08-30, Close, 10.94\n",
      "2010-08-31, Close, 10.91\n",
      "2010-09-01, Close, 11.31\n",
      "2010-09-02, Close, 11.42\n",
      "2010-09-03, Close, 11.60\n"
     ]
    },
    {
     "name": "stderr",
     "output_type": "stream",
     "text": [
      "INFO:fbprophet.forecaster:Disabling daily seasonality. Run prophet with daily_seasonality=True to override this.\n"
     ]
    },
    {
     "name": "stdout",
     "output_type": "stream",
     "text": [
      "2010-09-03, SELL CREATE, 11.60\n",
      "2010-09-07, SELL EXECUTED, Price: 15.28, Cost: 27.73, Comm 0.00\n",
      "2010-09-07, Close, 11.63\n",
      "2010-09-08, Close, 11.83\n",
      "2010-09-09, Close, 11.99\n",
      "2010-09-10, Close, 12.04\n",
      "2010-09-13, Close, 12.25\n"
     ]
    },
    {
     "name": "stderr",
     "output_type": "stream",
     "text": [
      "INFO:fbprophet.forecaster:Disabling daily seasonality. Run prophet with daily_seasonality=True to override this.\n"
     ]
    },
    {
     "name": "stdout",
     "output_type": "stream",
     "text": [
      "2010-09-13, SELL CREATE, 12.25\n",
      "2010-09-14, SELL EXECUTED, Price: 16.18, Cost: 27.73, Comm 0.00\n",
      "2010-09-14, Close, 12.18\n",
      "2010-09-15, Close, 12.31\n",
      "2010-09-16, Close, 12.32\n",
      "2010-09-17, Close, 12.37\n",
      "2010-09-20, Close, 12.56\n"
     ]
    },
    {
     "name": "stderr",
     "output_type": "stream",
     "text": [
      "INFO:fbprophet.forecaster:Disabling daily seasonality. Run prophet with daily_seasonality=True to override this.\n"
     ]
    },
    {
     "name": "stdout",
     "output_type": "stream",
     "text": [
      "2010-09-20, SELL CREATE, 12.56\n",
      "2010-09-21, SELL EXECUTED, Price: 16.52, Cost: 27.73, Comm 0.00\n",
      "2010-09-21, Close, 12.54\n",
      "2010-09-22, Close, 12.53\n",
      "2010-09-23, Close, 12.25\n",
      "2010-09-24, Close, 12.65\n",
      "2010-09-27, Close, 12.47\n"
     ]
    },
    {
     "name": "stderr",
     "output_type": "stream",
     "text": [
      "INFO:fbprophet.forecaster:Disabling daily seasonality. Run prophet with daily_seasonality=True to override this.\n"
     ]
    },
    {
     "name": "stdout",
     "output_type": "stream",
     "text": [
      "2010-09-27, SELL CREATE, 12.47\n",
      "2010-09-28, SELL EXECUTED, Price: 16.43, Cost: 27.73, Comm 0.00\n",
      "2010-09-28, Close, 12.48\n",
      "2010-09-29, Close, 12.42\n",
      "2010-09-30, Close, 12.34\n",
      "2010-10-01, Close, 12.42\n",
      "2010-10-04, Close, 12.22\n"
     ]
    },
    {
     "name": "stderr",
     "output_type": "stream",
     "text": [
      "INFO:fbprophet.forecaster:Disabling daily seasonality. Run prophet with daily_seasonality=True to override this.\n"
     ]
    },
    {
     "name": "stdout",
     "output_type": "stream",
     "text": [
      "2010-10-04, SELL CREATE, 12.22\n",
      "2010-10-05, SELL EXECUTED, Price: 16.25, Cost: 27.73, Comm 0.00\n",
      "2010-10-05, Close, 12.53\n",
      "2010-10-06, Close, 12.83\n",
      "2010-10-07, Close, 12.94\n",
      "2010-10-08, Close, 13.00\n",
      "2010-10-11, Close, 12.87\n"
     ]
    },
    {
     "name": "stderr",
     "output_type": "stream",
     "text": [
      "INFO:fbprophet.forecaster:Disabling daily seasonality. Run prophet with daily_seasonality=True to override this.\n"
     ]
    },
    {
     "name": "stdout",
     "output_type": "stream",
     "text": [
      "2010-10-11, SELL CREATE, 12.87\n",
      "2010-10-12, SELL EXECUTED, Price: 16.97, Cost: 27.73, Comm 0.00\n",
      "2010-10-12, Close, 13.05\n",
      "2010-10-13, Close, 13.12\n",
      "2010-10-14, Close, 13.03\n",
      "2010-10-15, Close, 12.37\n",
      "2010-10-18, Close, 12.34\n"
     ]
    },
    {
     "name": "stderr",
     "output_type": "stream",
     "text": [
      "INFO:fbprophet.forecaster:Disabling daily seasonality. Run prophet with daily_seasonality=True to override this.\n"
     ]
    },
    {
     "name": "stdout",
     "output_type": "stream",
     "text": [
      "2010-10-18, SELL CREATE, 12.34\n",
      "2010-10-19, SELL EXECUTED, Price: 16.10, Cost: 27.73, Comm 0.00\n",
      "2010-10-19, Close, 12.20\n",
      "2010-10-20, Close, 12.18\n",
      "2010-10-21, Close, 12.22\n",
      "2010-10-22, Close, 12.19\n",
      "2010-10-25, Close, 12.19\n"
     ]
    },
    {
     "name": "stderr",
     "output_type": "stream",
     "text": [
      "INFO:fbprophet.forecaster:Disabling daily seasonality. Run prophet with daily_seasonality=True to override this.\n"
     ]
    },
    {
     "name": "stdout",
     "output_type": "stream",
     "text": [
      "2010-10-25, SELL CREATE, 12.19\n",
      "2010-10-26, SELL EXECUTED, Price: 16.06, Cost: 27.73, Comm 0.00\n",
      "2010-10-26, Close, 12.27\n",
      "2010-10-27, Close, 12.23\n",
      "2010-10-28, Close, 12.21\n",
      "2010-10-29, Close, 12.16\n",
      "2010-11-01, Close, 12.11\n"
     ]
    },
    {
     "name": "stderr",
     "output_type": "stream",
     "text": [
      "INFO:fbprophet.forecaster:Disabling daily seasonality. Run prophet with daily_seasonality=True to override this.\n"
     ]
    },
    {
     "name": "stdout",
     "output_type": "stream",
     "text": [
      "2010-11-01, SELL CREATE, 12.11\n",
      "2010-11-02, SELL EXECUTED, Price: 16.00, Cost: 27.73, Comm 0.00\n",
      "2010-11-02, Close, 12.10\n",
      "2010-11-03, Close, 12.19\n",
      "2010-11-04, Close, 12.53\n",
      "2010-11-05, Close, 12.70\n",
      "2010-11-08, Close, 12.69\n"
     ]
    },
    {
     "name": "stderr",
     "output_type": "stream",
     "text": [
      "INFO:fbprophet.forecaster:Disabling daily seasonality. Run prophet with daily_seasonality=True to override this.\n"
     ]
    },
    {
     "name": "stdout",
     "output_type": "stream",
     "text": [
      "2010-11-08, SELL CREATE, 12.69\n",
      "2010-11-09, SELL EXECUTED, Price: 16.82, Cost: 27.73, Comm 0.00\n",
      "2010-11-09, Close, 12.62\n",
      "2010-11-10, Close, 12.56\n",
      "2010-11-11, Close, 12.41\n",
      "2010-11-12, Close, 12.34\n",
      "2010-11-15, Close, 12.30\n"
     ]
    },
    {
     "name": "stderr",
     "output_type": "stream",
     "text": [
      "INFO:fbprophet.forecaster:Disabling daily seasonality. Run prophet with daily_seasonality=True to override this.\n"
     ]
    },
    {
     "name": "stdout",
     "output_type": "stream",
     "text": [
      "2010-11-15, SELL CREATE, 12.30\n",
      "2010-11-16, SELL EXECUTED, Price: 16.14, Cost: 27.73, Comm 0.00\n",
      "2010-11-16, Close, 12.04\n",
      "2010-11-17, Close, 12.00\n",
      "2010-11-18, Close, 12.18\n",
      "2010-11-19, Close, 12.31\n",
      "2010-11-22, Close, 12.17\n"
     ]
    },
    {
     "name": "stderr",
     "output_type": "stream",
     "text": [
      "INFO:fbprophet.forecaster:Disabling daily seasonality. Run prophet with daily_seasonality=True to override this.\n"
     ]
    },
    {
     "name": "stdout",
     "output_type": "stream",
     "text": [
      "2010-11-22, SELL CREATE, 12.17\n",
      "2010-11-23, SELL EXECUTED, Price: 15.83, Cost: 27.73, Comm 0.00\n",
      "2010-11-23, Close, 11.96\n",
      "2010-11-24, Close, 12.10\n",
      "2010-11-26, Close, 11.99\n",
      "2010-11-29, Close, 12.12\n",
      "2010-11-30, Close, 12.02\n"
     ]
    },
    {
     "name": "stderr",
     "output_type": "stream",
     "text": [
      "INFO:fbprophet.forecaster:Disabling daily seasonality. Run prophet with daily_seasonality=True to override this.\n"
     ]
    },
    {
     "name": "stdout",
     "output_type": "stream",
     "text": [
      "2010-11-30, SELL CREATE, 12.02\n",
      "2010-12-01, SELL EXECUTED, Price: 16.03, Cost: 27.73, Comm 0.00\n",
      "2010-12-01, Close, 12.37\n",
      "2010-12-02, Close, 12.66\n",
      "2010-12-03, Close, 12.74\n",
      "2010-12-06, Close, 12.68\n",
      "2010-12-07, Close, 12.93\n"
     ]
    },
    {
     "name": "stderr",
     "output_type": "stream",
     "text": [
      "INFO:fbprophet.forecaster:Disabling daily seasonality. Run prophet with daily_seasonality=True to override this.\n"
     ]
    },
    {
     "name": "stdout",
     "output_type": "stream",
     "text": [
      "2010-12-07, SELL CREATE, 12.93\n",
      "2010-12-08, SELL EXECUTED, Price: 17.01, Cost: 27.73, Comm 0.00\n",
      "2010-12-08, Close, 12.94\n",
      "2010-12-09, Close, 13.00\n",
      "2010-12-10, Close, 13.45\n",
      "2010-12-13, Close, 13.38\n",
      "2010-12-14, Close, 13.43\n"
     ]
    },
    {
     "name": "stderr",
     "output_type": "stream",
     "text": [
      "INFO:fbprophet.forecaster:Disabling daily seasonality. Run prophet with daily_seasonality=True to override this.\n"
     ]
    },
    {
     "name": "stdout",
     "output_type": "stream",
     "text": [
      "2010-12-14, SELL CREATE, 13.43\n",
      "2010-12-15, SELL EXECUTED, Price: 17.64, Cost: 27.73, Comm 0.00\n",
      "2010-12-15, Close, 13.28\n",
      "2010-12-16, Close, 13.49\n",
      "2010-12-17, Close, 13.44\n",
      "2010-12-20, Close, 13.44\n",
      "2010-12-21, Close, 13.59\n"
     ]
    },
    {
     "name": "stderr",
     "output_type": "stream",
     "text": [
      "INFO:fbprophet.forecaster:Disabling daily seasonality. Run prophet with daily_seasonality=True to override this.\n"
     ]
    },
    {
     "name": "stdout",
     "output_type": "stream",
     "text": [
      "2010-12-21, SELL CREATE, 13.59\n",
      "2010-12-22, SELL EXECUTED, Price: 17.83, Cost: 27.73, Comm 0.00\n",
      "2010-12-22, Close, 13.82\n",
      "2010-12-23, Close, 13.80\n",
      "2010-12-27, Close, 13.92\n",
      "2010-12-28, Close, 14.02\n",
      "2010-12-29, Close, 13.98\n"
     ]
    },
    {
     "name": "stderr",
     "output_type": "stream",
     "text": [
      "INFO:fbprophet.forecaster:Disabling daily seasonality. Run prophet with daily_seasonality=True to override this.\n"
     ]
    },
    {
     "name": "stdout",
     "output_type": "stream",
     "text": [
      "2010-12-29, SELL CREATE, 13.98\n",
      "2010-12-30, SELL EXECUTED, Price: 18.28, Cost: 27.73, Comm 0.00\n",
      "2010-12-30, Close, 13.92\n",
      "2010-12-31, Close, 13.99\n",
      "2011-01-03, Close, 13.99\n",
      "2011-01-04, Close, 14.24\n",
      "2011-01-05, Close, 14.26\n"
     ]
    },
    {
     "name": "stderr",
     "output_type": "stream",
     "text": [
      "INFO:fbprophet.forecaster:Disabling daily seasonality. Run prophet with daily_seasonality=True to override this.\n"
     ]
    },
    {
     "name": "stdout",
     "output_type": "stream",
     "text": [
      "2011-01-05, SELL CREATE, 14.26\n",
      "2011-01-06, SELL EXECUTED, Price: 18.69, Cost: 27.73, Comm 0.00\n",
      "2011-01-06, Close, 14.20\n",
      "2011-01-07, Close, 14.10\n",
      "2011-01-10, Close, 14.16\n",
      "2011-01-11, Close, 14.25\n",
      "2011-01-12, Close, 14.28\n"
     ]
    },
    {
     "name": "stderr",
     "output_type": "stream",
     "text": [
      "INFO:fbprophet.forecaster:Disabling daily seasonality. Run prophet with daily_seasonality=True to override this.\n"
     ]
    },
    {
     "name": "stdout",
     "output_type": "stream",
     "text": [
      "2011-01-12, SELL CREATE, 14.28\n",
      "2011-01-13, SELL EXECUTED, Price: 18.73, Cost: 27.73, Comm 0.00\n",
      "2011-01-13, Close, 14.23\n",
      "2011-01-14, Close, 14.40\n",
      "2011-01-18, Close, 14.23\n",
      "2011-01-19, Close, 14.02\n",
      "2011-01-20, Close, 14.10\n"
     ]
    },
    {
     "name": "stderr",
     "output_type": "stream",
     "text": [
      "INFO:fbprophet.forecaster:Disabling daily seasonality. Run prophet with daily_seasonality=True to override this.\n"
     ]
    },
    {
     "name": "stdout",
     "output_type": "stream",
     "text": [
      "2011-01-20, SELL CREATE, 14.10\n",
      "2011-01-21, SELL EXECUTED, Price: 19.31, Cost: 27.73, Comm 0.00\n",
      "2011-01-21, Close, 15.10\n",
      "2011-01-24, Close, 15.33\n",
      "2011-01-25, Close, 15.29\n",
      "2011-01-26, Close, 15.24\n",
      "2011-01-27, Close, 15.52\n"
     ]
    },
    {
     "name": "stderr",
     "output_type": "stream",
     "text": [
      "INFO:fbprophet.forecaster:Disabling daily seasonality. Run prophet with daily_seasonality=True to override this.\n"
     ]
    },
    {
     "name": "stdout",
     "output_type": "stream",
     "text": [
      "2011-01-27, SELL CREATE, 15.52\n",
      "2011-01-28, SELL EXECUTED, Price: 20.39, Cost: 27.73, Comm 0.00\n",
      "2011-01-28, Close, 15.46\n",
      "2011-01-31, Close, 15.41\n",
      "2011-02-01, Close, 15.91\n",
      "2011-02-02, Close, 15.85\n",
      "2011-02-03, Close, 15.88\n"
     ]
    },
    {
     "name": "stderr",
     "output_type": "stream",
     "text": [
      "INFO:fbprophet.forecaster:Disabling daily seasonality. Run prophet with daily_seasonality=True to override this.\n"
     ]
    },
    {
     "name": "stdout",
     "output_type": "stream",
     "text": [
      "2011-02-03, SELL CREATE, 15.88\n",
      "2011-02-04, SELL EXECUTED, Price: 20.79, Cost: 27.73, Comm 0.00\n",
      "2011-02-04, Close, 15.73\n",
      "2011-02-07, Close, 15.97\n",
      "2011-02-08, Close, 16.28\n",
      "2011-02-09, Close, 16.30\n",
      "2011-02-10, Close, 16.27\n"
     ]
    },
    {
     "name": "stderr",
     "output_type": "stream",
     "text": [
      "INFO:fbprophet.forecaster:Disabling daily seasonality. Run prophet with daily_seasonality=True to override this.\n"
     ]
    },
    {
     "name": "stdout",
     "output_type": "stream",
     "text": [
      "2011-02-10, SELL CREATE, 16.27\n",
      "2011-02-11, SELL EXECUTED, Price: 21.04, Cost: 27.73, Comm 0.00\n",
      "2011-02-11, Close, 16.32\n",
      "2011-02-14, Close, 16.45\n",
      "2011-02-15, Close, 16.42\n",
      "2011-02-16, Close, 16.40\n",
      "2011-02-17, Close, 16.47\n"
     ]
    },
    {
     "name": "stderr",
     "output_type": "stream",
     "text": [
      "INFO:fbprophet.forecaster:Disabling daily seasonality. Run prophet with daily_seasonality=True to override this.\n"
     ]
    },
    {
     "name": "stdout",
     "output_type": "stream",
     "text": [
      "2011-02-17, SELL CREATE, 16.47\n",
      "2011-02-18, SELL EXECUTED, Price: 21.54, Cost: 27.73, Comm 0.00\n",
      "2011-02-18, Close, 16.40\n",
      "2011-02-22, Close, 15.93\n",
      "2011-02-23, Close, 15.59\n",
      "2011-02-24, Close, 15.86\n",
      "2011-02-25, Close, 16.04\n"
     ]
    },
    {
     "name": "stderr",
     "output_type": "stream",
     "text": [
      "INFO:fbprophet.forecaster:Disabling daily seasonality. Run prophet with daily_seasonality=True to override this.\n"
     ]
    },
    {
     "name": "stdout",
     "output_type": "stream",
     "text": [
      "2011-02-25, SELL CREATE, 16.04\n",
      "2011-02-28, SELL EXECUTED, Price: 20.95, Cost: 27.73, Comm 0.00\n",
      "2011-02-28, Close, 16.12\n",
      "2011-03-01, Close, 15.60\n",
      "2011-03-02, Close, 15.65\n",
      "2011-03-03, Close, 15.99\n",
      "2011-03-04, Close, 15.69\n"
     ]
    },
    {
     "name": "stderr",
     "output_type": "stream",
     "text": [
      "INFO:fbprophet.forecaster:Disabling daily seasonality. Run prophet with daily_seasonality=True to override this.\n"
     ]
    },
    {
     "name": "stdout",
     "output_type": "stream",
     "text": [
      "2011-03-04, SELL CREATE, 15.69\n",
      "2011-03-07, SELL EXECUTED, Price: 20.40, Cost: 27.73, Comm 0.00\n",
      "2011-03-07, Close, 15.70\n",
      "2011-03-08, Close, 15.89\n",
      "2011-03-09, Close, 15.89\n",
      "2011-03-10, Close, 15.49\n",
      "2011-03-11, Close, 15.69\n"
     ]
    },
    {
     "name": "stderr",
     "output_type": "stream",
     "text": [
      "INFO:fbprophet.forecaster:Disabling daily seasonality. Run prophet with daily_seasonality=True to override this.\n"
     ]
    },
    {
     "name": "stdout",
     "output_type": "stream",
     "text": [
      "2011-03-11, SELL CREATE, 15.69\n",
      "2011-03-14, SELL EXECUTED, Price: 19.96, Cost: 27.73, Comm 0.00\n",
      "2011-03-14, Close, 15.35\n",
      "2011-03-15, Close, 15.11\n",
      "2011-03-16, Close, 14.60\n",
      "2011-03-17, Close, 14.81\n",
      "2011-03-18, Close, 14.83\n"
     ]
    },
    {
     "name": "stderr",
     "output_type": "stream",
     "text": [
      "INFO:fbprophet.forecaster:Disabling daily seasonality. Run prophet with daily_seasonality=True to override this.\n"
     ]
    },
    {
     "name": "stdout",
     "output_type": "stream",
     "text": [
      "2011-03-18, SELL CREATE, 14.83\n",
      "2011-03-21, SELL EXECUTED, Price: 19.68, Cost: 27.73, Comm 0.00\n",
      "2011-03-21, Close, 15.19\n",
      "2011-03-22, Close, 15.02\n",
      "2011-03-23, Close, 15.05\n",
      "2011-03-24, Close, 15.24\n",
      "2011-03-25, Close, 15.22\n"
     ]
    },
    {
     "name": "stderr",
     "output_type": "stream",
     "text": [
      "INFO:fbprophet.forecaster:Disabling daily seasonality. Run prophet with daily_seasonality=True to override this.\n"
     ]
    },
    {
     "name": "stdout",
     "output_type": "stream",
     "text": [
      "2011-03-25, SELL CREATE, 15.22\n",
      "2011-03-28, SELL EXECUTED, Price: 19.81, Cost: 27.73, Comm 0.00\n",
      "2011-03-28, Close, 15.22\n",
      "2011-03-29, Close, 15.30\n",
      "2011-03-30, Close, 15.49\n",
      "2011-03-31, Close, 15.45\n",
      "2011-04-01, Close, 15.67\n"
     ]
    },
    {
     "name": "stderr",
     "output_type": "stream",
     "text": [
      "INFO:fbprophet.forecaster:Disabling daily seasonality. Run prophet with daily_seasonality=True to override this.\n"
     ]
    },
    {
     "name": "stdout",
     "output_type": "stream",
     "text": [
      "2011-04-01, SELL CREATE, 15.67\n",
      "2011-04-04, SELL EXECUTED, Price: 20.73, Cost: 27.73, Comm 0.00\n",
      "2011-04-04, Close, 15.82\n",
      "2011-04-05, Close, 15.66\n",
      "2011-04-06, Close, 15.83\n",
      "2011-04-07, Close, 15.68\n",
      "2011-04-08, Close, 15.55\n"
     ]
    },
    {
     "name": "stderr",
     "output_type": "stream",
     "text": [
      "INFO:fbprophet.forecaster:Disabling daily seasonality. Run prophet with daily_seasonality=True to override this.\n"
     ]
    },
    {
     "name": "stdout",
     "output_type": "stream",
     "text": [
      "2011-04-08, SELL CREATE, 15.55\n",
      "2011-04-11, SELL EXECUTED, Price: 20.24, Cost: 27.73, Comm 0.00\n",
      "2011-04-11, Close, 15.55\n",
      "2011-04-12, Close, 15.42\n",
      "2011-04-13, Close, 15.36\n",
      "2011-04-14, Close, 15.41\n",
      "2011-04-15, Close, 15.44\n"
     ]
    },
    {
     "name": "stderr",
     "output_type": "stream",
     "text": [
      "INFO:fbprophet.forecaster:Disabling daily seasonality. Run prophet with daily_seasonality=True to override this.\n"
     ]
    },
    {
     "name": "stdout",
     "output_type": "stream",
     "text": [
      "2011-04-15, BUY CREATE, 15.44\n",
      "2011-04-18, BUY EXECUTED, Price: 19.77, Cost: 19.77, Comm 0.00\n",
      "2011-04-18, Close, 15.39\n",
      "2011-04-19, Close, 15.62\n",
      "2011-04-20, Close, 15.72\n",
      "2011-04-21, Close, 15.37\n",
      "2011-04-25, Close, 15.32\n"
     ]
    },
    {
     "name": "stderr",
     "output_type": "stream",
     "text": [
      "INFO:fbprophet.forecaster:Disabling daily seasonality. Run prophet with daily_seasonality=True to override this.\n"
     ]
    },
    {
     "name": "stdout",
     "output_type": "stream",
     "text": [
      "2011-04-25, SELL CREATE, 15.32\n",
      "2011-04-26, SELL EXECUTED, Price: 20.04, Cost: 26.14, Comm 0.00\n",
      "2011-04-26, Close, 15.49\n",
      "2011-04-27, Close, 15.91\n",
      "2011-04-28, Close, 15.87\n",
      "2011-04-29, Close, 15.75\n",
      "2011-05-02, Close, 15.78\n"
     ]
    },
    {
     "name": "stderr",
     "output_type": "stream",
     "text": [
      "INFO:fbprophet.forecaster:Disabling daily seasonality. Run prophet with daily_seasonality=True to override this.\n"
     ]
    },
    {
     "name": "stdout",
     "output_type": "stream",
     "text": [
      "2011-05-02, SELL CREATE, 15.78\n",
      "2011-05-03, SELL EXECUTED, Price: 20.36, Cost: 26.14, Comm 0.00\n",
      "2011-05-03, Close, 15.90\n",
      "2011-05-04, Close, 15.62\n",
      "2011-05-05, Close, 15.33\n",
      "2011-05-06, Close, 15.42\n",
      "2011-05-09, Close, 15.46\n"
     ]
    },
    {
     "name": "stderr",
     "output_type": "stream",
     "text": [
      "INFO:fbprophet.forecaster:Disabling daily seasonality. Run prophet with daily_seasonality=True to override this.\n"
     ]
    },
    {
     "name": "stdout",
     "output_type": "stream",
     "text": [
      "2011-05-09, BUY CREATE, 15.46\n",
      "2011-05-10, BUY EXECUTED, Price: 20.14, Cost: 20.14, Comm 0.00\n",
      "2011-05-10, Close, 15.64\n",
      "2011-05-11, Close, 15.48\n",
      "2011-05-12, Close, 15.52\n",
      "2011-05-13, Close, 15.32\n",
      "2011-05-16, Close, 15.22\n"
     ]
    },
    {
     "name": "stderr",
     "output_type": "stream",
     "text": [
      "INFO:fbprophet.forecaster:Disabling daily seasonality. Run prophet with daily_seasonality=True to override this.\n"
     ]
    },
    {
     "name": "stdout",
     "output_type": "stream",
     "text": [
      "2011-05-16, BUY CREATE, 15.22\n",
      "2011-05-17, BUY EXECUTED, Price: 19.62, Cost: 19.62, Comm 0.00\n",
      "2011-05-17, Close, 15.09\n",
      "2011-05-18, Close, 15.22\n",
      "2011-05-19, Close, 15.38\n",
      "2011-05-20, Close, 15.12\n",
      "2011-05-23, Close, 14.94\n"
     ]
    },
    {
     "name": "stderr",
     "output_type": "stream",
     "text": [
      "INFO:fbprophet.forecaster:Disabling daily seasonality. Run prophet with daily_seasonality=True to override this.\n"
     ]
    },
    {
     "name": "stdout",
     "output_type": "stream",
     "text": [
      "2011-05-23, BUY CREATE, 14.94\n",
      "2011-05-24, BUY EXECUTED, Price: 19.43, Cost: 19.43, Comm 0.00\n",
      "2011-05-24, Close, 14.71\n",
      "2011-05-25, Close, 14.81\n",
      "2011-05-26, Close, 14.96\n",
      "2011-05-27, Close, 14.98\n",
      "2011-05-31, Close, 15.13\n"
     ]
    },
    {
     "name": "stderr",
     "output_type": "stream",
     "text": [
      "INFO:fbprophet.forecaster:Disabling daily seasonality. Run prophet with daily_seasonality=True to override this.\n"
     ]
    },
    {
     "name": "stdout",
     "output_type": "stream",
     "text": [
      "2011-05-31, BUY CREATE, 15.13\n",
      "2011-06-01, BUY EXECUTED, Price: 19.47, Cost: 19.47, Comm 0.00\n",
      "2011-06-01, Close, 14.74\n",
      "2011-06-02, Close, 14.71\n",
      "2011-06-03, Close, 14.50\n",
      "2011-06-06, Close, 14.22\n",
      "2011-06-07, Close, 14.24\n"
     ]
    },
    {
     "name": "stderr",
     "output_type": "stream",
     "text": [
      "INFO:fbprophet.forecaster:Disabling daily seasonality. Run prophet with daily_seasonality=True to override this.\n"
     ]
    },
    {
     "name": "stdout",
     "output_type": "stream",
     "text": [
      "2011-06-07, BUY CREATE, 14.24\n",
      "2011-06-08, BUY EXECUTED, Price: 18.49, Cost: 18.49, Comm 0.00\n",
      "2011-06-08, Close, 14.26\n",
      "2011-06-09, Close, 14.31\n",
      "2011-06-10, Close, 14.11\n",
      "2011-06-13, Close, 14.17\n",
      "2011-06-14, Close, 14.33\n"
     ]
    },
    {
     "name": "stderr",
     "output_type": "stream",
     "text": [
      "INFO:fbprophet.forecaster:Disabling daily seasonality. Run prophet with daily_seasonality=True to override this.\n"
     ]
    },
    {
     "name": "stdout",
     "output_type": "stream",
     "text": [
      "2011-06-14, BUY CREATE, 14.33\n",
      "2011-06-15, BUY EXECUTED, Price: 18.47, Cost: 18.47, Comm 0.00\n",
      "2011-06-15, Close, 14.17\n",
      "2011-06-16, Close, 14.32\n",
      "2011-06-17, Close, 14.36\n",
      "2011-06-20, Close, 14.35\n",
      "2011-06-21, Close, 14.61\n"
     ]
    },
    {
     "name": "stderr",
     "output_type": "stream",
     "text": [
      "INFO:fbprophet.forecaster:Disabling daily seasonality. Run prophet with daily_seasonality=True to override this.\n"
     ]
    },
    {
     "name": "stdout",
     "output_type": "stream",
     "text": [
      "2011-06-21, BUY CREATE, 14.61\n",
      "2011-06-22, BUY EXECUTED, Price: 18.69, Cost: 18.69, Comm 0.00\n",
      "2011-06-22, Close, 14.42\n",
      "2011-06-23, Close, 14.28\n",
      "2011-06-24, Close, 13.96\n",
      "2011-06-27, Close, 14.20\n",
      "2011-06-28, Close, 14.32\n"
     ]
    },
    {
     "name": "stderr",
     "output_type": "stream",
     "text": [
      "INFO:fbprophet.forecaster:Disabling daily seasonality. Run prophet with daily_seasonality=True to override this.\n"
     ]
    },
    {
     "name": "stdout",
     "output_type": "stream",
     "text": [
      "2011-06-28, BUY CREATE, 14.32\n",
      "2011-06-29, BUY EXECUTED, Price: 18.54, Cost: 18.54, Comm 0.00\n",
      "2011-06-29, Close, 14.42\n",
      "2011-06-30, Close, 14.65\n",
      "2011-07-01, Close, 14.91\n",
      "2011-07-05, Close, 14.79\n",
      "2011-07-06, Close, 14.80\n"
     ]
    },
    {
     "name": "stderr",
     "output_type": "stream",
     "text": [
      "INFO:fbprophet.forecaster:Disabling daily seasonality. Run prophet with daily_seasonality=True to override this.\n"
     ]
    },
    {
     "name": "stdout",
     "output_type": "stream",
     "text": [
      "2011-07-06, BUY CREATE, 14.80\n",
      "2011-07-07, BUY EXECUTED, Price: 19.23, Cost: 19.23, Comm 0.00\n",
      "2011-07-07, Close, 14.99\n",
      "2011-07-08, Close, 14.75\n",
      "2011-07-11, Close, 14.47\n",
      "2011-07-12, Close, 14.28\n",
      "2011-07-13, Close, 14.38\n"
     ]
    },
    {
     "name": "stderr",
     "output_type": "stream",
     "text": [
      "INFO:fbprophet.forecaster:Disabling daily seasonality. Run prophet with daily_seasonality=True to override this.\n"
     ]
    },
    {
     "name": "stdout",
     "output_type": "stream",
     "text": [
      "2011-07-13, BUY CREATE, 14.38\n",
      "2011-07-14, BUY EXECUTED, Price: 18.65, Cost: 18.65, Comm 0.00\n",
      "2011-07-14, Close, 14.39\n",
      "2011-07-15, Close, 14.30\n",
      "2011-07-18, Close, 14.21\n",
      "2011-07-19, Close, 14.43\n",
      "2011-07-20, Close, 14.60\n"
     ]
    },
    {
     "name": "stderr",
     "output_type": "stream",
     "text": [
      "INFO:fbprophet.forecaster:Disabling daily seasonality. Run prophet with daily_seasonality=True to override this.\n"
     ]
    },
    {
     "name": "stdout",
     "output_type": "stream",
     "text": [
      "2011-07-20, BUY CREATE, 14.60\n",
      "2011-07-21, BUY EXECUTED, Price: 18.98, Cost: 18.98, Comm 0.00\n",
      "2011-07-21, Close, 14.88\n",
      "2011-07-22, Close, 14.79\n",
      "2011-07-25, Close, 14.73\n",
      "2011-07-26, Close, 14.42\n",
      "2011-07-27, Close, 14.07\n"
     ]
    },
    {
     "name": "stderr",
     "output_type": "stream",
     "text": [
      "INFO:fbprophet.forecaster:Disabling daily seasonality. Run prophet with daily_seasonality=True to override this.\n"
     ]
    },
    {
     "name": "stdout",
     "output_type": "stream",
     "text": [
      "2011-07-27, BUY CREATE, 14.07\n",
      "2011-07-28, BUY EXECUTED, Price: 18.14, Cost: 18.14, Comm 0.00\n",
      "2011-07-28, Close, 14.07\n",
      "2011-07-29, Close, 13.91\n",
      "2011-08-01, Close, 13.96\n",
      "2011-08-02, Close, 13.37\n",
      "2011-08-03, Close, 13.57\n"
     ]
    },
    {
     "name": "stderr",
     "output_type": "stream",
     "text": [
      "INFO:fbprophet.forecaster:Disabling daily seasonality. Run prophet with daily_seasonality=True to override this.\n"
     ]
    },
    {
     "name": "stdout",
     "output_type": "stream",
     "text": [
      "2011-08-03, BUY CREATE, 13.57\n",
      "2011-08-04, BUY EXECUTED, Price: 17.19, Cost: 17.19, Comm 0.00\n",
      "2011-08-04, Close, 12.79\n",
      "2011-08-05, Close, 12.82\n",
      "2011-08-08, Close, 11.99\n",
      "2011-08-09, Close, 12.40\n",
      "2011-08-10, Close, 11.72\n"
     ]
    },
    {
     "name": "stderr",
     "output_type": "stream",
     "text": [
      "INFO:fbprophet.forecaster:Disabling daily seasonality. Run prophet with daily_seasonality=True to override this.\n"
     ]
    },
    {
     "name": "stdout",
     "output_type": "stream",
     "text": [
      "2011-08-10, BUY CREATE, 11.72\n",
      "2011-08-11, BUY EXECUTED, Price: 15.15, Cost: 15.15, Comm 0.00\n",
      "2011-08-11, Close, 12.18\n",
      "2011-08-12, Close, 12.33\n",
      "2011-08-15, Close, 12.73\n",
      "2011-08-16, Close, 12.54\n",
      "2011-08-17, Close, 12.61\n"
     ]
    },
    {
     "name": "stderr",
     "output_type": "stream",
     "text": [
      "INFO:fbprophet.forecaster:Disabling daily seasonality. Run prophet with daily_seasonality=True to override this.\n"
     ]
    },
    {
     "name": "stdout",
     "output_type": "stream",
     "text": [
      "2011-08-17, BUY CREATE, 12.61\n",
      "2011-08-18, BUY EXECUTED, Price: 15.74, Cost: 15.74, Comm 0.00\n",
      "2011-08-18, Close, 11.92\n",
      "2011-08-19, Close, 11.72\n",
      "2011-08-22, Close, 11.74\n",
      "2011-08-23, Close, 12.07\n",
      "2011-08-24, Close, 12.21\n"
     ]
    },
    {
     "name": "stderr",
     "output_type": "stream",
     "text": [
      "INFO:fbprophet.forecaster:Disabling daily seasonality. Run prophet with daily_seasonality=True to override this.\n"
     ]
    },
    {
     "name": "stdout",
     "output_type": "stream",
     "text": [
      "2011-08-24, BUY CREATE, 12.21\n",
      "2011-08-25, BUY EXECUTED, Price: 15.94, Cost: 15.94, Comm 0.00\n",
      "2011-08-25, Close, 12.00\n",
      "2011-08-26, Close, 12.07\n",
      "2011-08-29, Close, 12.46\n",
      "2011-08-30, Close, 12.52\n",
      "2011-08-31, Close, 12.67\n"
     ]
    },
    {
     "name": "stderr",
     "output_type": "stream",
     "text": [
      "INFO:fbprophet.forecaster:Disabling daily seasonality. Run prophet with daily_seasonality=True to override this.\n"
     ]
    },
    {
     "name": "stdout",
     "output_type": "stream",
     "text": [
      "2011-08-31, BUY CREATE, 12.67\n",
      "2011-09-01, BUY EXECUTED, Price: 16.31, Cost: 16.31, Comm 0.00\n",
      "2011-09-01, Close, 12.58\n",
      "2011-09-02, Close, 12.24\n",
      "2011-09-06, Close, 11.85\n",
      "2011-09-07, Close, 12.27\n",
      "2011-09-08, Close, 12.11\n"
     ]
    },
    {
     "name": "stderr",
     "output_type": "stream",
     "text": [
      "INFO:fbprophet.forecaster:Disabling daily seasonality. Run prophet with daily_seasonality=True to override this.\n"
     ]
    },
    {
     "name": "stdout",
     "output_type": "stream",
     "text": [
      "2011-09-08, BUY CREATE, 12.11\n",
      "2011-09-09, BUY EXECUTED, Price: 15.38, Cost: 15.38, Comm 0.00\n",
      "2011-09-09, Close, 11.72\n",
      "2011-09-12, Close, 11.66\n",
      "2011-09-13, Close, 11.97\n",
      "2011-09-14, Close, 12.26\n",
      "2011-09-15, Close, 12.61\n"
     ]
    },
    {
     "name": "stderr",
     "output_type": "stream",
     "text": [
      "INFO:fbprophet.forecaster:Disabling daily seasonality. Run prophet with daily_seasonality=True to override this.\n"
     ]
    },
    {
     "name": "stdout",
     "output_type": "stream",
     "text": [
      "2011-09-15, BUY CREATE, 12.61\n",
      "2011-09-16, BUY EXECUTED, Price: 16.22, Cost: 16.22, Comm 0.00\n",
      "2011-09-16, Close, 12.81\n",
      "2011-09-19, Close, 12.69\n",
      "2011-09-20, Close, 12.58\n",
      "2011-09-21, Close, 12.06\n",
      "2011-09-22, Close, 11.79\n"
     ]
    },
    {
     "name": "stderr",
     "output_type": "stream",
     "text": [
      "INFO:fbprophet.forecaster:Disabling daily seasonality. Run prophet with daily_seasonality=True to override this.\n"
     ]
    },
    {
     "name": "stdout",
     "output_type": "stream",
     "text": [
      "2011-09-22, BUY CREATE, 11.79\n",
      "2011-09-23, BUY EXECUTED, Price: 14.90, Cost: 14.90, Comm 0.00\n",
      "2011-09-23, Close, 11.93\n",
      "2011-09-26, Close, 12.21\n",
      "2011-09-27, Close, 12.36\n",
      "2011-09-28, Close, 12.12\n",
      "2011-09-29, Close, 12.44\n"
     ]
    },
    {
     "name": "stderr",
     "output_type": "stream",
     "text": [
      "INFO:fbprophet.forecaster:Disabling daily seasonality. Run prophet with daily_seasonality=True to override this.\n"
     ]
    },
    {
     "name": "stdout",
     "output_type": "stream",
     "text": [
      "2011-09-29, BUY CREATE, 12.44\n",
      "2011-09-30, BUY EXECUTED, Price: 15.65, Cost: 15.65, Comm 0.00\n",
      "2011-09-30, Close, 11.94\n",
      "2011-10-03, Close, 11.52\n",
      "2011-10-04, Close, 11.65\n",
      "2011-10-05, Close, 11.97\n",
      "2011-10-06, Close, 12.18\n"
     ]
    },
    {
     "name": "stderr",
     "output_type": "stream",
     "text": [
      "INFO:fbprophet.forecaster:Disabling daily seasonality. Run prophet with daily_seasonality=True to override this.\n"
     ]
    },
    {
     "name": "stdout",
     "output_type": "stream",
     "text": [
      "2011-10-06, BUY CREATE, 12.18\n",
      "2011-10-07, BUY EXECUTED, Price: 15.70, Cost: 15.70, Comm 0.00\n",
      "2011-10-07, Close, 12.16\n",
      "2011-10-10, Close, 12.66\n",
      "2011-10-11, Close, 12.66\n",
      "2011-10-12, Close, 12.86\n",
      "2011-10-13, Close, 12.72\n"
     ]
    },
    {
     "name": "stderr",
     "output_type": "stream",
     "text": [
      "INFO:fbprophet.forecaster:Disabling daily seasonality. Run prophet with daily_seasonality=True to override this.\n"
     ]
    },
    {
     "name": "stdout",
     "output_type": "stream",
     "text": [
      "2011-10-13, BUY CREATE, 12.72\n",
      "2011-10-14, BUY EXECUTED, Price: 16.42, Cost: 16.42, Comm 0.00\n",
      "2011-10-14, Close, 13.02\n",
      "2011-10-17, Close, 12.73\n",
      "2011-10-18, Close, 13.10\n",
      "2011-10-19, Close, 12.95\n",
      "2011-10-20, Close, 13.04\n"
     ]
    },
    {
     "name": "stderr",
     "output_type": "stream",
     "text": [
      "INFO:fbprophet.forecaster:Disabling daily seasonality. Run prophet with daily_seasonality=True to override this.\n"
     ]
    },
    {
     "name": "stdout",
     "output_type": "stream",
     "text": [
      "2011-10-20, BUY CREATE, 13.04\n",
      "2011-10-21, BUY EXECUTED, Price: 16.37, Cost: 16.37, Comm 0.00\n",
      "2011-10-21, Close, 12.79\n",
      "2011-10-24, Close, 12.90\n",
      "2011-10-25, Close, 12.72\n",
      "2011-10-26, Close, 12.82\n",
      "2011-10-27, Close, 13.62\n"
     ]
    },
    {
     "name": "stderr",
     "output_type": "stream",
     "text": [
      "INFO:fbprophet.forecaster:Disabling daily seasonality. Run prophet with daily_seasonality=True to override this.\n"
     ]
    },
    {
     "name": "stdout",
     "output_type": "stream",
     "text": [
      "2011-10-27, BUY CREATE, 13.62\n",
      "2011-10-28, BUY EXECUTED, Price: 17.19, Cost: 17.19, Comm 0.00\n",
      "2011-10-28, Close, 13.53\n",
      "2011-10-31, Close, 13.10\n",
      "2011-11-01, Close, 12.56\n",
      "2011-11-02, Close, 12.74\n",
      "2011-11-03, Close, 13.07\n"
     ]
    },
    {
     "name": "stderr",
     "output_type": "stream",
     "text": [
      "INFO:fbprophet.forecaster:Disabling daily seasonality. Run prophet with daily_seasonality=True to override this.\n"
     ]
    },
    {
     "name": "stdout",
     "output_type": "stream",
     "text": [
      "2011-11-03, BUY CREATE, 13.07\n",
      "2011-11-04, BUY EXECUTED, Price: 16.55, Cost: 16.55, Comm 0.00\n",
      "2011-11-04, Close, 12.85\n",
      "2011-11-07, Close, 12.85\n",
      "2011-11-08, Close, 12.92\n",
      "2011-11-09, Close, 12.43\n",
      "2011-11-10, Close, 12.59\n"
     ]
    },
    {
     "name": "stderr",
     "output_type": "stream",
     "text": [
      "INFO:fbprophet.forecaster:Disabling daily seasonality. Run prophet with daily_seasonality=True to override this.\n"
     ]
    },
    {
     "name": "stdout",
     "output_type": "stream",
     "text": [
      "2011-11-10, BUY CREATE, 12.59\n",
      "2011-11-11, BUY EXECUTED, Price: 16.24, Cost: 16.24, Comm 0.00\n",
      "2011-11-11, Close, 12.78\n",
      "2011-11-14, Close, 12.63\n",
      "2011-11-15, Close, 12.70\n",
      "2011-11-16, Close, 12.51\n",
      "2011-11-17, Close, 12.26\n"
     ]
    },
    {
     "name": "stderr",
     "output_type": "stream",
     "text": [
      "INFO:fbprophet.forecaster:Disabling daily seasonality. Run prophet with daily_seasonality=True to override this.\n"
     ]
    },
    {
     "name": "stdout",
     "output_type": "stream",
     "text": [
      "2011-11-17, BUY CREATE, 12.26\n",
      "2011-11-18, BUY EXECUTED, Price: 15.77, Cost: 15.77, Comm 0.00\n",
      "2011-11-18, Close, 12.27\n",
      "2011-11-21, Close, 11.95\n",
      "2011-11-22, Close, 11.76\n",
      "2011-11-23, Close, 11.55\n",
      "2011-11-25, Close, 11.53\n"
     ]
    },
    {
     "name": "stderr",
     "output_type": "stream",
     "text": [
      "INFO:fbprophet.forecaster:Disabling daily seasonality. Run prophet with daily_seasonality=True to override this.\n"
     ]
    },
    {
     "name": "stdout",
     "output_type": "stream",
     "text": [
      "2011-11-25, BUY CREATE, 11.53\n",
      "2011-11-28, BUY EXECUTED, Price: 15.23, Cost: 15.23, Comm 0.00\n",
      "2011-11-28, Close, 11.61\n",
      "2011-11-29, Close, 11.70\n",
      "2011-11-30, Close, 12.48\n",
      "2011-12-01, Close, 12.48\n",
      "2011-12-02, Close, 12.62\n"
     ]
    },
    {
     "name": "stderr",
     "output_type": "stream",
     "text": [
      "INFO:fbprophet.forecaster:Disabling daily seasonality. Run prophet with daily_seasonality=True to override this.\n"
     ]
    },
    {
     "name": "stdout",
     "output_type": "stream",
     "text": [
      "2011-12-02, BUY CREATE, 12.62\n",
      "2011-12-05, BUY EXECUTED, Price: 16.35, Cost: 16.35, Comm 0.00\n",
      "2011-12-05, Close, 12.81\n",
      "2011-12-06, Close, 13.11\n",
      "2011-12-07, Close, 13.13\n",
      "2011-12-08, Close, 12.79\n",
      "2011-12-09, Close, 13.21\n"
     ]
    },
    {
     "name": "stderr",
     "output_type": "stream",
     "text": [
      "INFO:fbprophet.forecaster:Disabling daily seasonality. Run prophet with daily_seasonality=True to override this.\n"
     ]
    },
    {
     "name": "stdout",
     "output_type": "stream",
     "text": [
      "2011-12-09, BUY CREATE, 13.21\n",
      "2011-12-12, BUY EXECUTED, Price: 16.71, Cost: 16.71, Comm 0.00\n",
      "2011-12-12, Close, 12.91\n",
      "2011-12-13, Close, 12.88\n",
      "2011-12-14, Close, 13.03\n",
      "2011-12-15, Close, 13.17\n",
      "2011-12-16, Close, 13.34\n"
     ]
    },
    {
     "name": "stderr",
     "output_type": "stream",
     "text": [
      "INFO:fbprophet.forecaster:Disabling daily seasonality. Run prophet with daily_seasonality=True to override this.\n"
     ]
    },
    {
     "name": "stdout",
     "output_type": "stream",
     "text": [
      "2011-12-16, BUY CREATE, 13.34\n",
      "2011-12-19, BUY EXECUTED, Price: 16.97, Cost: 16.97, Comm 0.00\n",
      "2011-12-19, Close, 13.22\n",
      "2011-12-20, Close, 13.55\n",
      "2011-12-21, Close, 13.87\n",
      "2011-12-22, Close, 14.29\n",
      "2011-12-23, Close, 14.43\n"
     ]
    },
    {
     "name": "stderr",
     "output_type": "stream",
     "text": [
      "INFO:fbprophet.forecaster:Disabling daily seasonality. Run prophet with daily_seasonality=True to override this.\n"
     ]
    },
    {
     "name": "stdout",
     "output_type": "stream",
     "text": [
      "2011-12-23, BUY CREATE, 14.43\n",
      "2011-12-27, BUY EXECUTED, Price: 18.18, Cost: 18.18, Comm 0.00\n",
      "2011-12-27, Close, 14.26\n",
      "2011-12-28, Close, 14.12\n",
      "2011-12-29, Close, 14.31\n",
      "2011-12-30, Close, 14.18\n",
      "2012-01-03, Close, 14.54\n"
     ]
    },
    {
     "name": "stderr",
     "output_type": "stream",
     "text": [
      "INFO:fbprophet.forecaster:Disabling daily seasonality. Run prophet with daily_seasonality=True to override this.\n"
     ]
    },
    {
     "name": "stdout",
     "output_type": "stream",
     "text": [
      "2012-01-03, BUY CREATE, 14.54\n",
      "2012-01-04, BUY EXECUTED, Price: 18.31, Cost: 18.31, Comm 0.00\n",
      "2012-01-04, Close, 14.70\n",
      "2012-01-05, Close, 14.69\n",
      "2012-01-06, Close, 14.77\n",
      "2012-01-09, Close, 14.93\n",
      "2012-01-10, Close, 14.82\n"
     ]
    },
    {
     "name": "stderr",
     "output_type": "stream",
     "text": [
      "INFO:fbprophet.forecaster:Disabling daily seasonality. Run prophet with daily_seasonality=True to override this.\n"
     ]
    },
    {
     "name": "stdout",
     "output_type": "stream",
     "text": [
      "2012-01-10, SELL CREATE, 14.82\n",
      "2012-01-11, SELL EXECUTED, Price: 18.55, Cost: 17.97, Comm 0.00\n",
      "2012-01-11, Close, 14.95\n",
      "2012-01-12, Close, 14.99\n",
      "2012-01-13, Close, 14.92\n",
      "2012-01-17, Close, 14.84\n",
      "2012-01-18, Close, 15.06\n"
     ]
    },
    {
     "name": "stderr",
     "output_type": "stream",
     "text": [
      "INFO:fbprophet.forecaster:Disabling daily seasonality. Run prophet with daily_seasonality=True to override this.\n"
     ]
    },
    {
     "name": "stdout",
     "output_type": "stream",
     "text": [
      "2012-01-18, SELL CREATE, 15.06\n",
      "2012-01-19, SELL EXECUTED, Price: 19.03, Cost: 17.97, Comm 0.00\n",
      "2012-01-19, Close, 15.16\n",
      "2012-01-20, Close, 15.16\n",
      "2012-01-23, Close, 15.00\n",
      "2012-01-24, Close, 14.92\n",
      "2012-01-25, Close, 15.15\n"
     ]
    },
    {
     "name": "stderr",
     "output_type": "stream",
     "text": [
      "INFO:fbprophet.forecaster:Disabling daily seasonality. Run prophet with daily_seasonality=True to override this.\n"
     ]
    },
    {
     "name": "stdout",
     "output_type": "stream",
     "text": [
      "2012-01-25, SELL CREATE, 15.15\n",
      "2012-01-26, SELL EXECUTED, Price: 19.26, Cost: 17.97, Comm 0.00\n",
      "2012-01-26, Close, 15.10\n",
      "2012-01-27, Close, 15.07\n",
      "2012-01-30, Close, 14.97\n",
      "2012-01-31, Close, 14.81\n",
      "2012-02-01, Close, 14.86\n"
     ]
    },
    {
     "name": "stderr",
     "output_type": "stream",
     "text": [
      "INFO:fbprophet.forecaster:Disabling daily seasonality. Run prophet with daily_seasonality=True to override this.\n"
     ]
    },
    {
     "name": "stdout",
     "output_type": "stream",
     "text": [
      "2012-02-01, SELL CREATE, 14.86\n",
      "2012-02-02, SELL EXECUTED, Price: 18.85, Cost: 17.97, Comm 0.00\n",
      "2012-02-02, Close, 14.85\n",
      "2012-02-03, Close, 15.06\n",
      "2012-02-06, Close, 15.08\n",
      "2012-02-07, Close, 15.19\n",
      "2012-02-08, Close, 15.23\n"
     ]
    },
    {
     "name": "stderr",
     "output_type": "stream",
     "text": [
      "INFO:fbprophet.forecaster:Disabling daily seasonality. Run prophet with daily_seasonality=True to override this.\n"
     ]
    },
    {
     "name": "stdout",
     "output_type": "stream",
     "text": [
      "2012-02-08, SELL CREATE, 15.23\n",
      "2012-02-09, SELL EXECUTED, Price: 19.31, Cost: 17.97, Comm 0.00\n",
      "2012-02-09, Close, 15.15\n",
      "2012-02-10, Close, 14.95\n",
      "2012-02-13, Close, 15.10\n",
      "2012-02-14, Close, 15.00\n",
      "2012-02-15, Close, 14.85\n"
     ]
    },
    {
     "name": "stderr",
     "output_type": "stream",
     "text": [
      "INFO:fbprophet.forecaster:Disabling daily seasonality. Run prophet with daily_seasonality=True to override this.\n"
     ]
    },
    {
     "name": "stdout",
     "output_type": "stream",
     "text": [
      "2012-02-15, SELL CREATE, 14.85\n",
      "2012-02-16, SELL EXECUTED, Price: 18.86, Cost: 17.97, Comm 0.00\n",
      "2012-02-16, Close, 15.05\n",
      "2012-02-17, Close, 15.27\n",
      "2012-02-21, Close, 15.37\n",
      "2012-02-22, Close, 15.35\n",
      "2012-02-23, Close, 15.42\n"
     ]
    },
    {
     "name": "stderr",
     "output_type": "stream",
     "text": [
      "INFO:fbprophet.forecaster:Disabling daily seasonality. Run prophet with daily_seasonality=True to override this.\n"
     ]
    },
    {
     "name": "stdout",
     "output_type": "stream",
     "text": [
      "2012-02-23, SELL CREATE, 15.42\n",
      "2012-02-24, SELL EXECUTED, Price: 19.36, Cost: 17.97, Comm 0.00\n",
      "2012-02-24, Close, 15.37\n",
      "2012-02-27, Close, 15.23\n",
      "2012-02-28, Close, 15.31\n",
      "2012-02-29, Close, 15.22\n",
      "2012-03-01, Close, 15.27\n"
     ]
    },
    {
     "name": "stderr",
     "output_type": "stream",
     "text": [
      "INFO:fbprophet.forecaster:Disabling daily seasonality. Run prophet with daily_seasonality=True to override this.\n"
     ]
    },
    {
     "name": "stdout",
     "output_type": "stream",
     "text": [
      "2012-03-01, SELL CREATE, 15.27\n",
      "2012-03-02, SELL EXECUTED, Price: 19.14, Cost: 17.97, Comm 0.00\n",
      "2012-03-02, Close, 15.15\n",
      "2012-03-05, Close, 15.06\n",
      "2012-03-06, Close, 14.71\n",
      "2012-03-07, Close, 14.99\n",
      "2012-03-08, Close, 15.20\n"
     ]
    },
    {
     "name": "stderr",
     "output_type": "stream",
     "text": [
      "INFO:fbprophet.forecaster:Disabling daily seasonality. Run prophet with daily_seasonality=True to override this.\n"
     ]
    },
    {
     "name": "stdout",
     "output_type": "stream",
     "text": [
      "2012-03-08, SELL CREATE, 15.20\n",
      "2012-03-09, SELL EXECUTED, Price: 19.02, Cost: 17.97, Comm 0.00\n",
      "2012-03-09, Close, 15.21\n",
      "2012-03-12, Close, 15.28\n",
      "2012-03-13, Close, 15.65\n",
      "2012-03-14, Close, 15.81\n",
      "2012-03-15, Close, 16.10\n"
     ]
    },
    {
     "name": "stderr",
     "output_type": "stream",
     "text": [
      "INFO:fbprophet.forecaster:Disabling daily seasonality. Run prophet with daily_seasonality=True to override this.\n"
     ]
    },
    {
     "name": "stdout",
     "output_type": "stream",
     "text": [
      "2012-03-15, SELL CREATE, 16.10\n",
      "2012-03-16, SELL EXECUTED, Price: 20.26, Cost: 17.97, Comm 0.00\n",
      "2012-03-16, Close, 16.14\n",
      "2012-03-19, Close, 16.14\n",
      "2012-03-20, Close, 16.03\n",
      "2012-03-21, Close, 16.03\n",
      "2012-03-22, Close, 15.86\n"
     ]
    },
    {
     "name": "stderr",
     "output_type": "stream",
     "text": [
      "INFO:fbprophet.forecaster:Disabling daily seasonality. Run prophet with daily_seasonality=True to override this.\n"
     ]
    },
    {
     "name": "stdout",
     "output_type": "stream",
     "text": [
      "2012-03-22, SELL CREATE, 15.86\n",
      "2012-03-23, SELL EXECUTED, Price: 19.79, Cost: 17.97, Comm 0.00\n",
      "2012-03-23, Close, 15.80\n",
      "2012-03-26, Close, 16.02\n",
      "2012-03-27, Close, 16.01\n",
      "2012-03-28, Close, 15.98\n",
      "2012-03-29, Close, 15.94\n"
     ]
    },
    {
     "name": "stderr",
     "output_type": "stream",
     "text": [
      "INFO:fbprophet.forecaster:Disabling daily seasonality. Run prophet with daily_seasonality=True to override this.\n"
     ]
    },
    {
     "name": "stdout",
     "output_type": "stream",
     "text": [
      "2012-03-29, SELL CREATE, 15.94\n",
      "2012-03-30, SELL EXECUTED, Price: 20.07, Cost: 17.97, Comm 0.00\n",
      "2012-03-30, Close, 16.03\n",
      "2012-04-02, Close, 15.99\n",
      "2012-04-03, Close, 15.94\n",
      "2012-04-04, Close, 15.77\n",
      "2012-04-05, Close, 15.57\n"
     ]
    },
    {
     "name": "stderr",
     "output_type": "stream",
     "text": [
      "INFO:fbprophet.forecaster:Disabling daily seasonality. Run prophet with daily_seasonality=True to override this.\n"
     ]
    },
    {
     "name": "stdout",
     "output_type": "stream",
     "text": [
      "2012-04-05, SELL CREATE, 15.57\n",
      "2012-04-09, SELL EXECUTED, Price: 19.10, Cost: 17.97, Comm 0.00\n",
      "2012-04-09, Close, 15.34\n",
      "2012-04-10, Close, 14.97\n",
      "2012-04-11, Close, 15.19\n",
      "2012-04-12, Close, 15.42\n",
      "2012-04-13, Close, 15.08\n"
     ]
    },
    {
     "name": "stderr",
     "output_type": "stream",
     "text": [
      "INFO:fbprophet.forecaster:Disabling daily seasonality. Run prophet with daily_seasonality=True to override this.\n"
     ]
    },
    {
     "name": "stdout",
     "output_type": "stream",
     "text": [
      "2012-04-13, BUY CREATE, 15.08\n",
      "2012-04-16, BUY EXECUTED, Price: 18.98, Cost: 18.98, Comm 0.00\n",
      "2012-04-16, Close, 15.10\n",
      "2012-04-17, Close, 15.45\n",
      "2012-04-18, Close, 15.26\n",
      "2012-04-19, Close, 15.29\n",
      "2012-04-20, Close, 15.46\n"
     ]
    },
    {
     "name": "stderr",
     "output_type": "stream",
     "text": [
      "INFO:fbprophet.forecaster:Disabling daily seasonality. Run prophet with daily_seasonality=True to override this.\n"
     ]
    },
    {
     "name": "stdout",
     "output_type": "stream",
     "text": [
      "2012-04-20, BUY CREATE, 15.46\n",
      "2012-04-23, BUY EXECUTED, Price: 19.06, Cost: 19.06, Comm 0.00\n",
      "2012-04-23, Close, 15.23\n",
      "2012-04-24, Close, 15.61\n",
      "2012-04-25, Close, 15.54\n",
      "2012-04-26, Close, 15.67\n",
      "2012-04-27, Close, 15.80\n"
     ]
    },
    {
     "name": "stderr",
     "output_type": "stream",
     "text": [
      "INFO:fbprophet.forecaster:Disabling daily seasonality. Run prophet with daily_seasonality=True to override this.\n"
     ]
    },
    {
     "name": "stdout",
     "output_type": "stream",
     "text": [
      "2012-04-27, BUY CREATE, 15.80\n",
      "2012-04-30, BUY EXECUTED, Price: 19.68, Cost: 19.68, Comm 0.00\n",
      "2012-04-30, Close, 15.64\n",
      "2012-05-01, Close, 15.82\n",
      "2012-05-02, Close, 15.79\n",
      "2012-05-03, Close, 15.66\n",
      "2012-05-04, Close, 15.45\n"
     ]
    },
    {
     "name": "stderr",
     "output_type": "stream",
     "text": [
      "INFO:fbprophet.forecaster:Disabling daily seasonality. Run prophet with daily_seasonality=True to override this.\n"
     ]
    },
    {
     "name": "stdout",
     "output_type": "stream",
     "text": [
      "2012-05-04, BUY CREATE, 15.45\n",
      "2012-05-07, BUY EXECUTED, Price: 19.15, Cost: 19.15, Comm 0.00\n",
      "2012-05-07, Close, 15.43\n",
      "2012-05-08, Close, 15.38\n",
      "2012-05-09, Close, 15.11\n",
      "2012-05-10, Close, 15.25\n",
      "2012-05-11, Close, 15.19\n"
     ]
    },
    {
     "name": "stderr",
     "output_type": "stream",
     "text": [
      "INFO:fbprophet.forecaster:Disabling daily seasonality. Run prophet with daily_seasonality=True to override this.\n"
     ]
    },
    {
     "name": "stdout",
     "output_type": "stream",
     "text": [
      "2012-05-11, BUY CREATE, 15.19\n",
      "2012-05-14, BUY EXECUTED, Price: 18.82, Cost: 18.82, Comm 0.00\n",
      "2012-05-14, Close, 14.86\n",
      "2012-05-15, Close, 14.70\n",
      "2012-05-16, Close, 15.18\n",
      "2012-05-17, Close, 15.08\n",
      "2012-05-18, Close, 15.14\n"
     ]
    },
    {
     "name": "stderr",
     "output_type": "stream",
     "text": [
      "INFO:fbprophet.forecaster:Disabling daily seasonality. Run prophet with daily_seasonality=True to override this.\n"
     ]
    },
    {
     "name": "stdout",
     "output_type": "stream",
     "text": [
      "2012-05-18, BUY CREATE, 15.14\n",
      "2012-05-21, BUY EXECUTED, Price: 18.99, Cost: 18.99, Comm 0.00\n",
      "2012-05-21, Close, 15.27\n",
      "2012-05-22, Close, 15.32\n",
      "2012-05-23, Close, 15.32\n",
      "2012-05-24, Close, 15.38\n",
      "2012-05-25, Close, 15.34\n"
     ]
    },
    {
     "name": "stderr",
     "output_type": "stream",
     "text": [
      "INFO:fbprophet.forecaster:Disabling daily seasonality. Run prophet with daily_seasonality=True to override this.\n"
     ]
    },
    {
     "name": "stdout",
     "output_type": "stream",
     "text": [
      "2012-05-25, BUY CREATE, 15.34\n",
      "2012-05-29, BUY EXECUTED, Price: 19.29, Cost: 19.29, Comm 0.00\n",
      "2012-05-29, Close, 15.46\n",
      "2012-05-30, Close, 15.21\n",
      "2012-05-31, Close, 15.25\n",
      "2012-06-01, Close, 14.81\n",
      "2012-06-04, Close, 14.50\n"
     ]
    },
    {
     "name": "stderr",
     "output_type": "stream",
     "text": [
      "INFO:fbprophet.forecaster:Disabling daily seasonality. Run prophet with daily_seasonality=True to override this.\n"
     ]
    },
    {
     "name": "stdout",
     "output_type": "stream",
     "text": [
      "2012-06-04, BUY CREATE, 14.50\n",
      "2012-06-05, BUY EXECUTED, Price: 18.08, Cost: 18.08, Comm 0.00\n",
      "2012-06-05, Close, 14.57\n",
      "2012-06-06, Close, 15.08\n",
      "2012-06-07, Close, 15.18\n",
      "2012-06-08, Close, 15.34\n",
      "2012-06-11, Close, 15.27\n"
     ]
    },
    {
     "name": "stderr",
     "output_type": "stream",
     "text": [
      "INFO:fbprophet.forecaster:Disabling daily seasonality. Run prophet with daily_seasonality=True to override this.\n"
     ]
    },
    {
     "name": "stdout",
     "output_type": "stream",
     "text": [
      "2012-06-11, SELL CREATE, 15.27\n",
      "2012-06-12, SELL EXECUTED, Price: 19.16, Cost: 18.23, Comm 0.00\n",
      "2012-06-12, Close, 15.56\n",
      "2012-06-13, Close, 15.47\n",
      "2012-06-14, Close, 15.75\n",
      "2012-06-15, Close, 16.02\n",
      "2012-06-18, Close, 15.82\n"
     ]
    },
    {
     "name": "stderr",
     "output_type": "stream",
     "text": [
      "INFO:fbprophet.forecaster:Disabling daily seasonality. Run prophet with daily_seasonality=True to override this.\n"
     ]
    },
    {
     "name": "stdout",
     "output_type": "stream",
     "text": [
      "2012-06-18, SELL CREATE, 15.82\n",
      "2012-06-19, SELL EXECUTED, Price: 19.87, Cost: 18.23, Comm 0.00\n",
      "2012-06-19, Close, 16.02\n",
      "2012-06-20, Close, 16.10\n",
      "2012-06-21, Close, 15.78\n",
      "2012-06-22, Close, 16.00\n",
      "2012-06-25, Close, 15.77\n"
     ]
    },
    {
     "name": "stderr",
     "output_type": "stream",
     "text": [
      "INFO:fbprophet.forecaster:Disabling daily seasonality. Run prophet with daily_seasonality=True to override this.\n"
     ]
    },
    {
     "name": "stdout",
     "output_type": "stream",
     "text": [
      "2012-06-25, SELL CREATE, 15.77\n",
      "2012-06-26, SELL EXECUTED, Price: 19.54, Cost: 18.23, Comm 0.00\n",
      "2012-06-26, Close, 16.00\n",
      "2012-06-27, Close, 16.26\n",
      "2012-06-28, Close, 16.32\n",
      "2012-06-29, Close, 16.84\n",
      "2012-07-02, Close, 16.55\n"
     ]
    },
    {
     "name": "stderr",
     "output_type": "stream",
     "text": [
      "INFO:fbprophet.forecaster:Disabling daily seasonality. Run prophet with daily_seasonality=True to override this.\n"
     ]
    },
    {
     "name": "stdout",
     "output_type": "stream",
     "text": [
      "2012-07-02, SELL CREATE, 16.55\n",
      "2012-07-03, SELL EXECUTED, Price: 20.38, Cost: 18.23, Comm 0.00\n",
      "2012-07-03, Close, 16.50\n",
      "2012-07-05, Close, 16.42\n",
      "2012-07-06, Close, 16.16\n",
      "2012-07-09, Close, 16.19\n",
      "2012-07-10, Close, 15.85\n"
     ]
    },
    {
     "name": "stderr",
     "output_type": "stream",
     "text": [
      "INFO:fbprophet.forecaster:Disabling daily seasonality. Run prophet with daily_seasonality=True to override this.\n"
     ]
    },
    {
     "name": "stdout",
     "output_type": "stream",
     "text": [
      "2012-07-10, SELL CREATE, 15.85\n",
      "2012-07-11, SELL EXECUTED, Price: 19.68, Cost: 18.23, Comm 0.00\n",
      "2012-07-11, Close, 15.90\n",
      "2012-07-12, Close, 15.71\n",
      "2012-07-13, Close, 15.97\n",
      "2012-07-16, Close, 15.83\n",
      "2012-07-17, Close, 15.93\n"
     ]
    },
    {
     "name": "stderr",
     "output_type": "stream",
     "text": [
      "INFO:fbprophet.forecaster:Disabling daily seasonality. Run prophet with daily_seasonality=True to override this.\n"
     ]
    },
    {
     "name": "stdout",
     "output_type": "stream",
     "text": [
      "2012-07-17, SELL CREATE, 15.93\n",
      "2012-07-18, SELL EXECUTED, Price: 19.65, Cost: 18.23, Comm 0.00\n",
      "2012-07-18, Close, 16.03\n",
      "2012-07-19, Close, 16.00\n",
      "2012-07-20, Close, 16.05\n",
      "2012-07-23, Close, 16.23\n",
      "2012-07-24, Close, 16.13\n"
     ]
    },
    {
     "name": "stderr",
     "output_type": "stream",
     "text": [
      "INFO:fbprophet.forecaster:Disabling daily seasonality. Run prophet with daily_seasonality=True to override this.\n"
     ]
    },
    {
     "name": "stdout",
     "output_type": "stream",
     "text": [
      "2012-07-24, SELL CREATE, 16.13\n",
      "2012-07-25, SELL EXECUTED, Price: 20.06, Cost: 18.23, Comm 0.00\n",
      "2012-07-25, Close, 16.16\n",
      "2012-07-26, Close, 16.61\n",
      "2012-07-27, Close, 16.90\n",
      "2012-07-30, Close, 16.80\n",
      "2012-07-31, Close, 16.76\n"
     ]
    },
    {
     "name": "stderr",
     "output_type": "stream",
     "text": [
      "INFO:fbprophet.forecaster:Disabling daily seasonality. Run prophet with daily_seasonality=True to override this.\n"
     ]
    },
    {
     "name": "stdout",
     "output_type": "stream",
     "text": [
      "2012-07-31, SELL CREATE, 16.76\n",
      "2012-08-01, SELL EXECUTED, Price: 20.86, Cost: 18.23, Comm 0.00\n",
      "2012-08-01, Close, 16.75\n",
      "2012-08-02, Close, 16.58\n",
      "2012-08-03, Close, 16.93\n",
      "2012-08-06, Close, 16.94\n",
      "2012-08-07, Close, 17.06\n"
     ]
    },
    {
     "name": "stderr",
     "output_type": "stream",
     "text": [
      "INFO:fbprophet.forecaster:Disabling daily seasonality. Run prophet with daily_seasonality=True to override this.\n"
     ]
    },
    {
     "name": "stdout",
     "output_type": "stream",
     "text": [
      "2012-08-07, SELL CREATE, 17.06\n",
      "2012-08-08, SELL EXECUTED, Price: 21.05, Cost: 18.23, Comm 0.00\n",
      "2012-08-08, Close, 16.97\n",
      "2012-08-09, Close, 17.01\n",
      "2012-08-10, Close, 17.05\n",
      "2012-08-13, Close, 16.96\n",
      "2012-08-14, Close, 16.92\n"
     ]
    },
    {
     "name": "stderr",
     "output_type": "stream",
     "text": [
      "INFO:fbprophet.forecaster:Disabling daily seasonality. Run prophet with daily_seasonality=True to override this.\n"
     ]
    },
    {
     "name": "stdout",
     "output_type": "stream",
     "text": [
      "2012-08-14, SELL CREATE, 16.92\n",
      "2012-08-15, SELL EXECUTED, Price: 20.86, Cost: 18.23, Comm 0.00\n",
      "2012-08-15, Close, 16.93\n",
      "2012-08-16, Close, 17.01\n",
      "2012-08-17, Close, 16.97\n",
      "2012-08-20, Close, 16.91\n",
      "2012-08-21, Close, 16.84\n"
     ]
    },
    {
     "name": "stderr",
     "output_type": "stream",
     "text": [
      "INFO:fbprophet.forecaster:Disabling daily seasonality. Run prophet with daily_seasonality=True to override this.\n"
     ]
    },
    {
     "name": "stdout",
     "output_type": "stream",
     "text": [
      "2012-08-21, SELL CREATE, 16.84\n",
      "2012-08-22, SELL EXECUTED, Price: 20.77, Cost: 18.23, Comm 0.00\n",
      "2012-08-22, Close, 16.79\n",
      "2012-08-23, Close, 16.67\n",
      "2012-08-24, Close, 16.80\n",
      "2012-08-27, Close, 16.84\n",
      "2012-08-28, Close, 16.81\n"
     ]
    },
    {
     "name": "stderr",
     "output_type": "stream",
     "text": [
      "INFO:fbprophet.forecaster:Disabling daily seasonality. Run prophet with daily_seasonality=True to override this.\n"
     ]
    },
    {
     "name": "stdout",
     "output_type": "stream",
     "text": [
      "2012-08-28, SELL CREATE, 16.81\n",
      "2012-08-29, SELL EXECUTED, Price: 20.82, Cost: 18.23, Comm 0.00\n",
      "2012-08-29, Close, 16.82\n",
      "2012-08-30, Close, 16.67\n",
      "2012-08-31, Close, 16.73\n",
      "2012-09-04, Close, 16.57\n",
      "2012-09-05, Close, 16.68\n"
     ]
    },
    {
     "name": "stderr",
     "output_type": "stream",
     "text": [
      "INFO:fbprophet.forecaster:Disabling daily seasonality. Run prophet with daily_seasonality=True to override this.\n"
     ]
    },
    {
     "name": "stdout",
     "output_type": "stream",
     "text": [
      "2012-09-05, SELL CREATE, 16.68\n",
      "2012-09-06, SELL EXECUTED, Price: 20.87, Cost: 18.23, Comm 0.00\n",
      "2012-09-06, Close, 17.22\n",
      "2012-09-07, Close, 17.44\n",
      "2012-09-10, Close, 17.35\n",
      "2012-09-11, Close, 17.44\n",
      "2012-09-12, Close, 17.68\n"
     ]
    },
    {
     "name": "stderr",
     "output_type": "stream",
     "text": [
      "INFO:fbprophet.forecaster:Disabling daily seasonality. Run prophet with daily_seasonality=True to override this.\n"
     ]
    },
    {
     "name": "stdout",
     "output_type": "stream",
     "text": [
      "2012-09-12, SELL CREATE, 17.68\n",
      "2012-09-13, SELL EXECUTED, Price: 21.77, Cost: 18.23, Comm 0.00\n",
      "2012-09-13, Close, 17.79\n",
      "2012-09-14, Close, 17.86\n",
      "2012-09-17, Close, 17.81\n",
      "2012-09-18, Close, 17.97\n",
      "2012-09-19, Close, 18.12\n"
     ]
    },
    {
     "name": "stderr",
     "output_type": "stream",
     "text": [
      "INFO:fbprophet.forecaster:Disabling daily seasonality. Run prophet with daily_seasonality=True to override this.\n"
     ]
    },
    {
     "name": "stdout",
     "output_type": "stream",
     "text": [
      "2012-09-19, SELL CREATE, 18.12\n",
      "2012-09-20, SELL EXECUTED, Price: 22.19, Cost: 18.23, Comm 0.00\n",
      "2012-09-20, Close, 18.26\n",
      "2012-09-21, Close, 18.34\n",
      "2012-09-24, Close, 18.20\n",
      "2012-09-25, Close, 18.16\n",
      "2012-09-26, Close, 17.99\n"
     ]
    },
    {
     "name": "stderr",
     "output_type": "stream",
     "text": [
      "INFO:fbprophet.forecaster:Disabling daily seasonality. Run prophet with daily_seasonality=True to override this.\n"
     ]
    },
    {
     "name": "stdout",
     "output_type": "stream",
     "text": [
      "2012-09-26, SELL CREATE, 17.99\n",
      "2012-09-27, SELL EXECUTED, Price: 22.24, Cost: 18.23, Comm 0.00\n",
      "2012-09-27, Close, 18.50\n",
      "2012-09-28, Close, 18.49\n",
      "2012-10-01, Close, 18.57\n",
      "2012-10-02, Close, 18.55\n",
      "2012-10-03, Close, 18.65\n"
     ]
    },
    {
     "name": "stderr",
     "output_type": "stream",
     "text": [
      "INFO:fbprophet.forecaster:Disabling daily seasonality. Run prophet with daily_seasonality=True to override this.\n"
     ]
    },
    {
     "name": "stdout",
     "output_type": "stream",
     "text": [
      "2012-10-03, SELL CREATE, 18.65\n",
      "2012-10-04, SELL EXECUTED, Price: 22.95, Cost: 18.23, Comm 0.00\n",
      "2012-10-04, Close, 18.68\n",
      "2012-10-05, Close, 18.82\n",
      "2012-10-08, Close, 18.66\n",
      "2012-10-09, Close, 18.41\n",
      "2012-10-10, Close, 18.26\n"
     ]
    },
    {
     "name": "stderr",
     "output_type": "stream",
     "text": [
      "INFO:fbprophet.forecaster:Disabling daily seasonality. Run prophet with daily_seasonality=True to override this.\n"
     ]
    },
    {
     "name": "stdout",
     "output_type": "stream",
     "text": [
      "2012-10-10, SELL CREATE, 18.26\n",
      "2012-10-11, SELL EXECUTED, Price: 22.59, Cost: 18.23, Comm 0.00\n",
      "2012-10-11, Close, 18.32\n",
      "2012-10-12, Close, 18.30\n",
      "2012-10-15, Close, 18.43\n",
      "2012-10-16, Close, 18.43\n",
      "2012-10-17, Close, 18.65\n"
     ]
    },
    {
     "name": "stderr",
     "output_type": "stream",
     "text": [
      "INFO:fbprophet.forecaster:Disabling daily seasonality. Run prophet with daily_seasonality=True to override this.\n"
     ]
    },
    {
     "name": "stdout",
     "output_type": "stream",
     "text": [
      "2012-10-17, SELL CREATE, 18.65\n",
      "2012-10-18, SELL EXECUTED, Price: 22.81, Cost: 18.23, Comm 0.00\n",
      "2012-10-18, Close, 18.57\n",
      "2012-10-19, Close, 17.93\n",
      "2012-10-22, Close, 17.66\n",
      "2012-10-23, Close, 17.32\n",
      "2012-10-24, Close, 17.31\n"
     ]
    },
    {
     "name": "stderr",
     "output_type": "stream",
     "text": [
      "INFO:fbprophet.forecaster:Disabling daily seasonality. Run prophet with daily_seasonality=True to override this.\n"
     ]
    },
    {
     "name": "stdout",
     "output_type": "stream",
     "text": [
      "2012-10-24, SELL CREATE, 17.31\n",
      "2012-10-25, SELL EXECUTED, Price: 21.50, Cost: 18.23, Comm 0.00\n",
      "2012-10-25, Close, 17.31\n",
      "2012-10-26, Close, 17.18\n",
      "2012-10-31, Close, 17.14\n",
      "2012-11-01, Close, 17.37\n",
      "2012-11-02, Close, 17.35\n"
     ]
    },
    {
     "name": "stderr",
     "output_type": "stream",
     "text": [
      "INFO:fbprophet.forecaster:Disabling daily seasonality. Run prophet with daily_seasonality=True to override this.\n"
     ]
    },
    {
     "name": "stdout",
     "output_type": "stream",
     "text": [
      "2012-11-02, SELL CREATE, 17.35\n",
      "2012-11-05, SELL EXECUTED, Price: 21.20, Cost: 18.23, Comm 0.00\n",
      "2012-11-05, Close, 17.43\n",
      "2012-11-06, Close, 17.58\n",
      "2012-11-07, Close, 17.20\n",
      "2012-11-08, Close, 17.01\n",
      "2012-11-09, Close, 17.09\n"
     ]
    },
    {
     "name": "stderr",
     "output_type": "stream",
     "text": [
      "INFO:fbprophet.forecaster:Disabling daily seasonality. Run prophet with daily_seasonality=True to override this.\n"
     ]
    },
    {
     "name": "stdout",
     "output_type": "stream",
     "text": [
      "2012-11-09, SELL CREATE, 17.09\n",
      "2012-11-12, SELL EXECUTED, Price: 21.04, Cost: 18.23, Comm 0.00\n",
      "2012-11-12, Close, 17.01\n",
      "2012-11-13, Close, 16.83\n",
      "2012-11-14, Close, 16.29\n",
      "2012-11-15, Close, 16.33\n",
      "2012-11-16, Close, 16.40\n"
     ]
    },
    {
     "name": "stderr",
     "output_type": "stream",
     "text": [
      "INFO:fbprophet.forecaster:Disabling daily seasonality. Run prophet with daily_seasonality=True to override this.\n"
     ]
    },
    {
     "name": "stdout",
     "output_type": "stream",
     "text": [
      "2012-11-16, BUY CREATE, 16.40\n",
      "2012-11-19, BUY EXECUTED, Price: 20.41, Cost: 20.41, Comm 0.00\n",
      "2012-11-19, Close, 16.82\n",
      "2012-11-20, Close, 16.79\n",
      "2012-11-21, Close, 16.83\n",
      "2012-11-23, Close, 17.13\n",
      "2012-11-26, Close, 17.14\n"
     ]
    },
    {
     "name": "stderr",
     "output_type": "stream",
     "text": [
      "INFO:fbprophet.forecaster:Disabling daily seasonality. Run prophet with daily_seasonality=True to override this.\n"
     ]
    },
    {
     "name": "stdout",
     "output_type": "stream",
     "text": [
      "2012-11-26, SELL CREATE, 17.14\n",
      "2012-11-27, SELL EXECUTED, Price: 21.04, Cost: 18.42, Comm 0.00\n",
      "2012-11-27, Close, 16.99\n",
      "2012-11-28, Close, 17.21\n",
      "2012-11-29, Close, 17.20\n",
      "2012-11-30, Close, 17.20\n",
      "2012-12-03, Close, 16.95\n"
     ]
    },
    {
     "name": "stderr",
     "output_type": "stream",
     "text": [
      "INFO:fbprophet.forecaster:Disabling daily seasonality. Run prophet with daily_seasonality=True to override this.\n"
     ]
    },
    {
     "name": "stdout",
     "output_type": "stream",
     "text": [
      "2012-12-03, SELL CREATE, 16.95\n",
      "2012-12-04, SELL EXECUTED, Price: 20.87, Cost: 18.42, Comm 0.00\n",
      "2012-12-04, Close, 16.98\n",
      "2012-12-05, Close, 17.28\n",
      "2012-12-06, Close, 17.40\n",
      "2012-12-07, Close, 17.47\n",
      "2012-12-10, Close, 17.41\n"
     ]
    },
    {
     "name": "stderr",
     "output_type": "stream",
     "text": [
      "INFO:fbprophet.forecaster:Disabling daily seasonality. Run prophet with daily_seasonality=True to override this.\n"
     ]
    },
    {
     "name": "stdout",
     "output_type": "stream",
     "text": [
      "2012-12-10, SELL CREATE, 17.41\n",
      "2012-12-11, SELL EXECUTED, Price: 21.48, Cost: 18.42, Comm 0.00\n",
      "2012-12-11, Close, 17.51\n",
      "2012-12-12, Close, 17.73\n",
      "2012-12-13, Close, 17.60\n",
      "2012-12-14, Close, 17.60\n",
      "2012-12-17, Close, 17.85\n"
     ]
    },
    {
     "name": "stderr",
     "output_type": "stream",
     "text": [
      "INFO:fbprophet.forecaster:Disabling daily seasonality. Run prophet with daily_seasonality=True to override this.\n"
     ]
    },
    {
     "name": "stdout",
     "output_type": "stream",
     "text": [
      "2012-12-17, SELL CREATE, 17.85\n",
      "2012-12-18, SELL EXECUTED, Price: 21.85, Cost: 18.42, Comm 0.00\n",
      "2012-12-18, Close, 17.66\n",
      "2012-12-19, Close, 17.10\n",
      "2012-12-20, Close, 17.29\n",
      "2012-12-21, Close, 17.15\n",
      "2012-12-24, Close, 17.10\n"
     ]
    },
    {
     "name": "stderr",
     "output_type": "stream",
     "text": [
      "INFO:fbprophet.forecaster:Disabling daily seasonality. Run prophet with daily_seasonality=True to override this.\n"
     ]
    },
    {
     "name": "stdout",
     "output_type": "stream",
     "text": [
      "2012-12-24, BUY CREATE, 17.10\n",
      "2012-12-26, BUY EXECUTED, Price: 20.81, Cost: 20.81, Comm 0.00\n",
      "2012-12-26, Close, 17.06\n",
      "2012-12-27, Close, 17.00\n",
      "2012-12-28, Close, 16.79\n",
      "2012-12-31, Close, 17.24\n",
      "2013-01-02, Close, 17.53\n"
     ]
    },
    {
     "name": "stderr",
     "output_type": "stream",
     "text": [
      "INFO:fbprophet.forecaster:Disabling daily seasonality. Run prophet with daily_seasonality=True to override this.\n"
     ]
    },
    {
     "name": "stdout",
     "output_type": "stream",
     "text": [
      "2013-01-02, SELL CREATE, 17.53\n",
      "2013-01-03, SELL EXECUTED, Price: 21.48, Cost: 18.72, Comm 0.00\n",
      "2013-01-03, Close, 17.33\n",
      "2013-01-04, Close, 17.42\n",
      "2013-01-07, Close, 17.36\n",
      "2013-01-08, Close, 17.17\n",
      "2013-01-09, Close, 17.21\n"
     ]
    },
    {
     "name": "stderr",
     "output_type": "stream",
     "text": [
      "INFO:fbprophet.forecaster:Disabling daily seasonality. Run prophet with daily_seasonality=True to override this.\n"
     ]
    },
    {
     "name": "stdout",
     "output_type": "stream",
     "text": [
      "2013-01-09, SELL CREATE, 17.21\n",
      "2013-01-10, SELL EXECUTED, Price: 21.04, Cost: 18.72, Comm 0.00\n",
      "2013-01-10, Close, 17.39\n",
      "2013-01-11, Close, 17.36\n",
      "2013-01-14, Close, 17.35\n",
      "2013-01-15, Close, 17.42\n",
      "2013-01-16, Close, 17.35\n"
     ]
    },
    {
     "name": "stderr",
     "output_type": "stream",
     "text": [
      "INFO:fbprophet.forecaster:Disabling daily seasonality. Run prophet with daily_seasonality=True to override this.\n"
     ]
    },
    {
     "name": "stdout",
     "output_type": "stream",
     "text": [
      "2013-01-16, SELL CREATE, 17.35\n",
      "2013-01-17, SELL EXECUTED, Price: 21.22, Cost: 18.72, Comm 0.00\n",
      "2013-01-17, Close, 17.50\n",
      "2013-01-18, Close, 18.11\n",
      "2013-01-22, Close, 18.08\n",
      "2013-01-23, Close, 18.02\n",
      "2013-01-24, Close, 18.11\n"
     ]
    },
    {
     "name": "stderr",
     "output_type": "stream",
     "text": [
      "INFO:fbprophet.forecaster:Disabling daily seasonality. Run prophet with daily_seasonality=True to override this.\n"
     ]
    },
    {
     "name": "stdout",
     "output_type": "stream",
     "text": [
      "2013-01-24, SELL CREATE, 18.11\n",
      "2013-01-25, SELL EXECUTED, Price: 22.28, Cost: 18.72, Comm 0.00\n",
      "2013-01-25, Close, 18.31\n",
      "2013-01-28, Close, 18.48\n",
      "2013-01-29, Close, 18.48\n",
      "2013-01-30, Close, 18.26\n",
      "2013-01-31, Close, 18.30\n"
     ]
    },
    {
     "name": "stderr",
     "output_type": "stream",
     "text": [
      "INFO:fbprophet.forecaster:Disabling daily seasonality. Run prophet with daily_seasonality=True to override this.\n"
     ]
    },
    {
     "name": "stdout",
     "output_type": "stream",
     "text": [
      "2013-01-31, SELL CREATE, 18.30\n",
      "2013-02-01, SELL EXECUTED, Price: 22.43, Cost: 18.72, Comm 0.00\n",
      "2013-02-01, Close, 18.58\n",
      "2013-02-04, Close, 18.33\n",
      "2013-02-05, Close, 18.52\n",
      "2013-02-06, Close, 18.43\n",
      "2013-02-07, Close, 18.47\n"
     ]
    },
    {
     "name": "stderr",
     "output_type": "stream",
     "text": [
      "INFO:fbprophet.forecaster:Disabling daily seasonality. Run prophet with daily_seasonality=True to override this.\n"
     ]
    },
    {
     "name": "stdout",
     "output_type": "stream",
     "text": [
      "2013-02-07, SELL CREATE, 18.47\n",
      "2013-02-08, SELL EXECUTED, Price: 22.50, Cost: 18.72, Comm 0.00\n",
      "2013-02-08, Close, 18.48\n",
      "2013-02-11, Close, 18.44\n",
      "2013-02-12, Close, 18.55\n",
      "2013-02-13, Close, 19.21\n",
      "2013-02-14, Close, 19.23\n"
     ]
    },
    {
     "name": "stderr",
     "output_type": "stream",
     "text": [
      "INFO:fbprophet.forecaster:Disabling daily seasonality. Run prophet with daily_seasonality=True to override this.\n"
     ]
    },
    {
     "name": "stdout",
     "output_type": "stream",
     "text": [
      "2013-02-14, SELL CREATE, 19.23\n",
      "2013-02-15, SELL EXECUTED, Price: 23.48, Cost: 18.72, Comm 0.00\n",
      "2013-02-15, Close, 19.13\n",
      "2013-02-19, Close, 19.51\n",
      "2013-02-20, Close, 19.23\n",
      "2013-02-21, Close, 19.26\n",
      "2013-02-22, Close, 19.37\n"
     ]
    },
    {
     "name": "stderr",
     "output_type": "stream",
     "text": [
      "INFO:fbprophet.forecaster:Disabling daily seasonality. Run prophet with daily_seasonality=True to override this.\n"
     ]
    },
    {
     "name": "stdout",
     "output_type": "stream",
     "text": [
      "2013-02-22, SELL CREATE, 19.37\n",
      "2013-02-25, SELL EXECUTED, Price: 23.50, Cost: 18.72, Comm 0.00\n",
      "2013-02-25, OPERATION PROFIT, GROSS -870.02, NET -870.02\n",
      "2013-02-25, Close, 18.89\n",
      "2013-02-26, Close, 19.09\n",
      "2013-02-27, Close, 19.35\n",
      "2013-02-28, Close, 19.23\n",
      "2013-03-01, Close, 19.21\n"
     ]
    },
    {
     "name": "stderr",
     "output_type": "stream",
     "text": [
      "INFO:fbprophet.forecaster:Disabling daily seasonality. Run prophet with daily_seasonality=True to override this.\n"
     ]
    },
    {
     "name": "stdout",
     "output_type": "stream",
     "text": [
      "2013-03-04, Close, 19.27\n",
      "2013-03-05, Close, 19.54\n",
      "2013-03-06, Close, 19.60\n",
      "2013-03-07, Close, 19.61\n",
      "2013-03-08, Close, 19.69\n"
     ]
    },
    {
     "name": "stderr",
     "output_type": "stream",
     "text": [
      "INFO:fbprophet.forecaster:Disabling daily seasonality. Run prophet with daily_seasonality=True to override this.\n"
     ]
    },
    {
     "name": "stdout",
     "output_type": "stream",
     "text": [
      "2013-03-11, Close, 19.56\n",
      "2013-03-12, Close, 19.39\n",
      "2013-03-13, Close, 19.45\n",
      "2013-03-14, Close, 19.62\n",
      "2013-03-15, Close, 19.41\n"
     ]
    },
    {
     "name": "stderr",
     "output_type": "stream",
     "text": [
      "INFO:fbprophet.forecaster:Disabling daily seasonality. Run prophet with daily_seasonality=True to override this.\n"
     ]
    },
    {
     "name": "stdout",
     "output_type": "stream",
     "text": [
      "2013-03-18, Close, 19.26\n",
      "2013-03-19, Close, 19.31\n",
      "2013-03-20, Close, 19.43\n",
      "2013-03-21, Close, 19.29\n",
      "2013-03-22, Close, 19.35\n"
     ]
    },
    {
     "name": "stderr",
     "output_type": "stream",
     "text": [
      "INFO:fbprophet.forecaster:Disabling daily seasonality. Run prophet with daily_seasonality=True to override this.\n"
     ]
    },
    {
     "name": "stdout",
     "output_type": "stream",
     "text": [
      "2013-03-25, Close, 19.25\n",
      "2013-03-26, Close, 19.15\n",
      "2013-03-27, Close, 19.13\n",
      "2013-03-28, Close, 19.15\n",
      "2013-04-01, Close, 19.11\n"
     ]
    },
    {
     "name": "stderr",
     "output_type": "stream",
     "text": [
      "INFO:fbprophet.forecaster:Disabling daily seasonality. Run prophet with daily_seasonality=True to override this.\n"
     ]
    },
    {
     "name": "stdout",
     "output_type": "stream",
     "text": [
      "2013-04-02, Close, 19.33\n",
      "2013-04-03, Close, 19.05\n",
      "2013-04-04, Close, 19.11\n",
      "2013-04-05, Close, 18.99\n",
      "2013-04-08, Close, 19.15\n"
     ]
    },
    {
     "name": "stderr",
     "output_type": "stream",
     "text": [
      "INFO:fbprophet.forecaster:Disabling daily seasonality. Run prophet with daily_seasonality=True to override this.\n"
     ]
    },
    {
     "name": "stdout",
     "output_type": "stream",
     "text": [
      "2013-04-09, Close, 19.10\n",
      "2013-04-10, Close, 19.53\n",
      "2013-04-11, Close, 19.54\n",
      "2013-04-12, Close, 19.43\n",
      "2013-04-15, Close, 18.89\n"
     ]
    },
    {
     "name": "stderr",
     "output_type": "stream",
     "text": [
      "INFO:fbprophet.forecaster:Disabling daily seasonality. Run prophet with daily_seasonality=True to override this.\n"
     ]
    },
    {
     "name": "stdout",
     "output_type": "stream",
     "text": [
      "2013-04-16, Close, 19.13\n",
      "2013-04-17, Close, 18.85\n",
      "2013-04-18, Close, 18.78\n",
      "2013-04-19, Close, 18.01\n",
      "2013-04-22, Close, 17.68\n"
     ]
    },
    {
     "name": "stderr",
     "output_type": "stream",
     "text": [
      "INFO:fbprophet.forecaster:Disabling daily seasonality. Run prophet with daily_seasonality=True to override this.\n"
     ]
    },
    {
     "name": "stdout",
     "output_type": "stream",
     "text": [
      "2013-04-22, BUY CREATE, 17.68\n",
      "2013-04-23, BUY EXECUTED, Price: 21.55, Cost: 21.55, Comm 0.00\n",
      "2013-04-23, Close, 17.81\n",
      "2013-04-24, Close, 18.19\n",
      "2013-04-25, Close, 18.18\n",
      "2013-04-26, Close, 18.39\n",
      "2013-04-29, Close, 18.44\n"
     ]
    },
    {
     "name": "stderr",
     "output_type": "stream",
     "text": [
      "INFO:fbprophet.forecaster:Disabling daily seasonality. Run prophet with daily_seasonality=True to override this.\n"
     ]
    },
    {
     "name": "stdout",
     "output_type": "stream",
     "text": [
      "2013-04-29, BUY CREATE, 18.44\n",
      "2013-04-30, BUY EXECUTED, Price: 22.29, Cost: 22.29, Comm 0.00\n",
      "2013-04-30, Close, 18.46\n",
      "2013-05-01, Close, 18.34\n",
      "2013-05-02, Close, 18.49\n",
      "2013-05-03, Close, 18.69\n",
      "2013-05-06, Close, 18.70\n"
     ]
    },
    {
     "name": "stderr",
     "output_type": "stream",
     "text": [
      "INFO:fbprophet.forecaster:Disabling daily seasonality. Run prophet with daily_seasonality=True to override this.\n"
     ]
    },
    {
     "name": "stdout",
     "output_type": "stream",
     "text": [
      "2013-05-06, SELL CREATE, 18.70\n",
      "2013-05-07, SELL EXECUTED, Price: 22.69, Cost: 21.92, Comm 0.00\n",
      "2013-05-07, Close, 18.78\n",
      "2013-05-08, Close, 19.06\n",
      "2013-05-09, Close, 18.87\n",
      "2013-05-10, Close, 18.97\n",
      "2013-05-13, Close, 18.92\n"
     ]
    },
    {
     "name": "stderr",
     "output_type": "stream",
     "text": [
      "INFO:fbprophet.forecaster:Disabling daily seasonality. Run prophet with daily_seasonality=True to override this.\n"
     ]
    },
    {
     "name": "stdout",
     "output_type": "stream",
     "text": [
      "2013-05-13, SELL CREATE, 18.92\n",
      "2013-05-14, SELL EXECUTED, Price: 22.85, Cost: 21.92, Comm 0.00\n",
      "2013-05-14, OPERATION PROFIT, GROSS 1.70, NET 1.70\n",
      "2013-05-14, Close, 19.06\n",
      "2013-05-15, Close, 19.25\n",
      "2013-05-16, Close, 19.27\n",
      "2013-05-17, Close, 19.43\n",
      "2013-05-20, Close, 19.52\n"
     ]
    },
    {
     "name": "stderr",
     "output_type": "stream",
     "text": [
      "INFO:fbprophet.forecaster:Disabling daily seasonality. Run prophet with daily_seasonality=True to override this.\n"
     ]
    },
    {
     "name": "stdout",
     "output_type": "stream",
     "text": [
      "2013-05-21, Close, 19.60\n",
      "2013-05-22, Close, 19.76\n",
      "2013-05-23, Close, 19.60\n",
      "2013-05-24, Close, 19.49\n",
      "2013-05-28, Close, 19.55\n"
     ]
    },
    {
     "name": "stderr",
     "output_type": "stream",
     "text": [
      "INFO:fbprophet.forecaster:Disabling daily seasonality. Run prophet with daily_seasonality=True to override this.\n"
     ]
    },
    {
     "name": "stdout",
     "output_type": "stream",
     "text": [
      "2013-05-29, Close, 19.58\n",
      "2013-05-30, Close, 19.55\n",
      "2013-05-31, Close, 19.31\n",
      "2013-06-03, Close, 19.58\n",
      "2013-06-04, Close, 19.60\n"
     ]
    },
    {
     "name": "stderr",
     "output_type": "stream",
     "text": [
      "INFO:fbprophet.forecaster:Disabling daily seasonality. Run prophet with daily_seasonality=True to override this.\n"
     ]
    },
    {
     "name": "stdout",
     "output_type": "stream",
     "text": [
      "2013-06-05, Close, 19.31\n",
      "2013-06-06, Close, 19.36\n",
      "2013-06-07, Close, 19.76\n",
      "2013-06-10, Close, 19.69\n",
      "2013-06-11, Close, 19.53\n"
     ]
    },
    {
     "name": "stderr",
     "output_type": "stream",
     "text": [
      "INFO:fbprophet.forecaster:Disabling daily seasonality. Run prophet with daily_seasonality=True to override this.\n"
     ]
    },
    {
     "name": "stdout",
     "output_type": "stream",
     "text": [
      "2013-06-12, Close, 19.46\n",
      "2013-06-13, Close, 19.61\n",
      "2013-06-14, Close, 19.48\n",
      "2013-06-17, Close, 19.69\n",
      "2013-06-18, Close, 20.15\n"
     ]
    },
    {
     "name": "stderr",
     "output_type": "stream",
     "text": [
      "INFO:fbprophet.forecaster:Disabling daily seasonality. Run prophet with daily_seasonality=True to override this.\n"
     ]
    },
    {
     "name": "stdout",
     "output_type": "stream",
     "text": [
      "2013-06-19, Close, 19.86\n",
      "2013-06-20, Close, 19.41\n",
      "2013-06-21, Close, 19.50\n",
      "2013-06-24, Close, 19.14\n",
      "2013-06-25, Close, 19.29\n"
     ]
    },
    {
     "name": "stderr",
     "output_type": "stream",
     "text": [
      "INFO:fbprophet.forecaster:Disabling daily seasonality. Run prophet with daily_seasonality=True to override this.\n"
     ]
    },
    {
     "name": "stdout",
     "output_type": "stream",
     "text": [
      "2013-06-26, Close, 19.41\n",
      "2013-06-27, Close, 19.47\n",
      "2013-06-28, Close, 19.36\n",
      "2013-07-01, Close, 19.48\n",
      "2013-07-02, Close, 19.12\n"
     ]
    },
    {
     "name": "stderr",
     "output_type": "stream",
     "text": [
      "INFO:fbprophet.forecaster:Disabling daily seasonality. Run prophet with daily_seasonality=True to override this.\n"
     ]
    },
    {
     "name": "stdout",
     "output_type": "stream",
     "text": [
      "2013-07-03, Close, 19.13\n",
      "2013-07-05, Close, 19.40\n",
      "2013-07-08, Close, 19.47\n",
      "2013-07-09, Close, 19.72\n",
      "2013-07-10, Close, 19.65\n"
     ]
    },
    {
     "name": "stderr",
     "output_type": "stream",
     "text": [
      "INFO:fbprophet.forecaster:Disabling daily seasonality. Run prophet with daily_seasonality=True to override this.\n"
     ]
    },
    {
     "name": "stdout",
     "output_type": "stream",
     "text": [
      "2013-07-11, Close, 19.99\n",
      "2013-07-12, Close, 19.84\n",
      "2013-07-15, Close, 19.73\n",
      "2013-07-16, Close, 19.56\n",
      "2013-07-17, Close, 19.65\n"
     ]
    },
    {
     "name": "stderr",
     "output_type": "stream",
     "text": [
      "INFO:fbprophet.forecaster:Disabling daily seasonality. Run prophet with daily_seasonality=True to override this.\n"
     ]
    },
    {
     "name": "stdout",
     "output_type": "stream",
     "text": [
      "2013-07-18, Close, 19.73\n",
      "2013-07-19, Close, 20.64\n",
      "2013-07-22, Close, 20.75\n",
      "2013-07-23, Close, 20.63\n",
      "2013-07-24, Close, 20.55\n"
     ]
    },
    {
     "name": "stderr",
     "output_type": "stream",
     "text": [
      "INFO:fbprophet.forecaster:Disabling daily seasonality. Run prophet with daily_seasonality=True to override this.\n"
     ]
    },
    {
     "name": "stdout",
     "output_type": "stream",
     "text": [
      "2013-07-25, Close, 20.61\n",
      "2013-07-26, Close, 20.58\n",
      "2013-07-29, Close, 20.44\n",
      "2013-07-30, Close, 20.44\n",
      "2013-07-31, Close, 20.34\n"
     ]
    },
    {
     "name": "stderr",
     "output_type": "stream",
     "text": [
      "INFO:fbprophet.forecaster:Disabling daily seasonality. Run prophet with daily_seasonality=True to override this.\n"
     ]
    },
    {
     "name": "stdout",
     "output_type": "stream",
     "text": [
      "2013-08-01, Close, 20.55\n",
      "2013-08-02, Close, 20.62\n",
      "2013-08-05, Close, 20.47\n",
      "2013-08-06, Close, 20.29\n",
      "2013-08-07, Close, 20.32\n"
     ]
    },
    {
     "name": "stderr",
     "output_type": "stream",
     "text": [
      "INFO:fbprophet.forecaster:Disabling daily seasonality. Run prophet with daily_seasonality=True to override this.\n"
     ]
    },
    {
     "name": "stdout",
     "output_type": "stream",
     "text": [
      "2013-08-08, Close, 20.31\n",
      "2013-08-09, Close, 20.24\n",
      "2013-08-12, Close, 20.26\n",
      "2013-08-13, Close, 20.20\n",
      "2013-08-14, Close, 20.09\n"
     ]
    },
    {
     "name": "stderr",
     "output_type": "stream",
     "text": [
      "INFO:fbprophet.forecaster:Disabling daily seasonality. Run prophet with daily_seasonality=True to override this.\n"
     ]
    },
    {
     "name": "stdout",
     "output_type": "stream",
     "text": [
      "2013-08-15, Close, 20.04\n",
      "2013-08-16, Close, 19.99\n",
      "2013-08-19, Close, 19.91\n",
      "2013-08-20, Close, 19.80\n",
      "2013-08-21, Close, 19.71\n"
     ]
    },
    {
     "name": "stderr",
     "output_type": "stream",
     "text": [
      "INFO:fbprophet.forecaster:Disabling daily seasonality. Run prophet with daily_seasonality=True to override this.\n"
     ]
    },
    {
     "name": "stdout",
     "output_type": "stream",
     "text": [
      "2013-08-22, Close, 19.85\n",
      "2013-08-23, Close, 19.85\n",
      "2013-08-26, Close, 19.71\n",
      "2013-08-27, Close, 19.35\n",
      "2013-08-28, Close, 19.37\n"
     ]
    },
    {
     "name": "stderr",
     "output_type": "stream",
     "text": [
      "INFO:fbprophet.forecaster:Disabling daily seasonality. Run prophet with daily_seasonality=True to override this.\n"
     ]
    },
    {
     "name": "stdout",
     "output_type": "stream",
     "text": [
      "2013-08-28, BUY CREATE, 19.37\n",
      "2013-08-29, BUY EXECUTED, Price: 23.16, Cost: 23.16, Comm 0.00\n",
      "2013-08-29, Close, 19.29\n",
      "2013-08-30, Close, 19.32\n",
      "2013-09-03, Close, 19.25\n",
      "2013-09-04, Close, 19.34\n",
      "2013-09-05, Close, 19.33\n"
     ]
    },
    {
     "name": "stderr",
     "output_type": "stream",
     "text": [
      "INFO:fbprophet.forecaster:Disabling daily seasonality. Run prophet with daily_seasonality=True to override this.\n"
     ]
    },
    {
     "name": "stdout",
     "output_type": "stream",
     "text": [
      "2013-09-05, BUY CREATE, 19.33\n",
      "2013-09-06, BUY EXECUTED, Price: 23.15, Cost: 23.15, Comm 0.00\n",
      "2013-09-06, Close, 19.33\n",
      "2013-09-09, Close, 19.53\n",
      "2013-09-10, Close, 19.93\n",
      "2013-09-11, Close, 20.11\n",
      "2013-09-12, Close, 19.91\n"
     ]
    },
    {
     "name": "stderr",
     "output_type": "stream",
     "text": [
      "INFO:fbprophet.forecaster:Disabling daily seasonality. Run prophet with daily_seasonality=True to override this.\n"
     ]
    },
    {
     "name": "stdout",
     "output_type": "stream",
     "text": [
      "2013-09-12, SELL CREATE, 19.91\n",
      "2013-09-13, SELL EXECUTED, Price: 23.77, Cost: 23.16, Comm 0.00\n",
      "2013-09-13, Close, 19.85\n",
      "2013-09-16, Close, 20.15\n",
      "2013-09-17, Close, 20.41\n",
      "2013-09-18, Close, 20.75\n",
      "2013-09-19, Close, 20.58\n"
     ]
    },
    {
     "name": "stderr",
     "output_type": "stream",
     "text": [
      "INFO:fbprophet.forecaster:Disabling daily seasonality. Run prophet with daily_seasonality=True to override this.\n"
     ]
    },
    {
     "name": "stdout",
     "output_type": "stream",
     "text": [
      "2013-09-19, SELL CREATE, 20.58\n",
      "2013-09-20, SELL EXECUTED, Price: 24.55, Cost: 23.16, Comm 0.00\n",
      "2013-09-20, OPERATION PROFIT, GROSS 2.01, NET 2.01\n",
      "2013-09-20, Close, 20.20\n",
      "2013-09-23, Close, 20.43\n",
      "2013-09-24, Close, 20.46\n",
      "2013-09-25, Close, 20.38\n",
      "2013-09-26, Close, 20.40\n"
     ]
    },
    {
     "name": "stderr",
     "output_type": "stream",
     "text": [
      "INFO:fbprophet.forecaster:Disabling daily seasonality. Run prophet with daily_seasonality=True to override this.\n"
     ]
    },
    {
     "name": "stdout",
     "output_type": "stream",
     "text": [
      "2013-09-27, Close, 20.23\n",
      "2013-09-30, Close, 20.10\n",
      "2013-10-01, Close, 20.33\n",
      "2013-10-02, Close, 20.47\n",
      "2013-10-03, Close, 20.27\n"
     ]
    },
    {
     "name": "stderr",
     "output_type": "stream",
     "text": [
      "INFO:fbprophet.forecaster:Disabling daily seasonality. Run prophet with daily_seasonality=True to override this.\n"
     ]
    },
    {
     "name": "stdout",
     "output_type": "stream",
     "text": [
      "2013-10-04, Close, 20.23\n",
      "2013-10-07, Close, 20.14\n",
      "2013-10-08, Close, 19.91\n",
      "2013-10-09, Close, 19.83\n",
      "2013-10-10, Close, 20.40\n"
     ]
    },
    {
     "name": "stderr",
     "output_type": "stream",
     "text": [
      "INFO:fbprophet.forecaster:Disabling daily seasonality. Run prophet with daily_seasonality=True to override this.\n"
     ]
    },
    {
     "name": "stdout",
     "output_type": "stream",
     "text": [
      "2013-10-11, Close, 20.53\n",
      "2013-10-14, Close, 20.51\n",
      "2013-10-15, Close, 20.35\n",
      "2013-10-16, Close, 20.49\n",
      "2013-10-17, Close, 20.76\n"
     ]
    },
    {
     "name": "stderr",
     "output_type": "stream",
     "text": [
      "INFO:fbprophet.forecaster:Disabling daily seasonality. Run prophet with daily_seasonality=True to override this.\n"
     ]
    },
    {
     "name": "stdout",
     "output_type": "stream",
     "text": [
      "2013-10-18, Close, 21.49\n",
      "2013-10-21, Close, 21.99\n",
      "2013-10-22, Close, 21.89\n",
      "2013-10-23, Close, 21.62\n",
      "2013-10-24, Close, 21.82\n"
     ]
    },
    {
     "name": "stderr",
     "output_type": "stream",
     "text": [
      "INFO:fbprophet.forecaster:Disabling daily seasonality. Run prophet with daily_seasonality=True to override this.\n"
     ]
    },
    {
     "name": "stdout",
     "output_type": "stream",
     "text": [
      "2013-10-25, Close, 21.77\n",
      "2013-10-28, Close, 21.95\n",
      "2013-10-29, Close, 22.05\n",
      "2013-10-30, Close, 22.18\n",
      "2013-10-31, Close, 21.99\n"
     ]
    },
    {
     "name": "stderr",
     "output_type": "stream",
     "text": [
      "INFO:fbprophet.forecaster:Disabling daily seasonality. Run prophet with daily_seasonality=True to override this.\n"
     ]
    },
    {
     "name": "stdout",
     "output_type": "stream",
     "text": [
      "2013-11-01, Close, 22.33\n",
      "2013-11-04, Close, 22.23\n",
      "2013-11-05, Close, 22.23\n",
      "2013-11-06, Close, 22.63\n",
      "2013-11-07, Close, 22.38\n"
     ]
    },
    {
     "name": "stderr",
     "output_type": "stream",
     "text": [
      "INFO:fbprophet.forecaster:Disabling daily seasonality. Run prophet with daily_seasonality=True to override this.\n"
     ]
    },
    {
     "name": "stdout",
     "output_type": "stream",
     "text": [
      "2013-11-08, Close, 22.76\n",
      "2013-11-11, Close, 22.72\n",
      "2013-11-12, Close, 22.76\n",
      "2013-11-13, Close, 22.84\n",
      "2013-11-14, Close, 22.70\n"
     ]
    },
    {
     "name": "stderr",
     "output_type": "stream",
     "text": [
      "INFO:fbprophet.forecaster:Disabling daily seasonality. Run prophet with daily_seasonality=True to override this.\n"
     ]
    },
    {
     "name": "stdout",
     "output_type": "stream",
     "text": [
      "2013-11-15, Close, 22.88\n",
      "2013-11-18, Close, 22.90\n",
      "2013-11-19, Close, 22.74\n",
      "2013-11-20, Close, 22.68\n",
      "2013-11-21, Close, 22.64\n"
     ]
    },
    {
     "name": "stderr",
     "output_type": "stream",
     "text": [
      "INFO:fbprophet.forecaster:Disabling daily seasonality. Run prophet with daily_seasonality=True to override this.\n"
     ]
    },
    {
     "name": "stdout",
     "output_type": "stream",
     "text": [
      "2013-11-22, Close, 22.78\n",
      "2013-11-25, Close, 22.49\n",
      "2013-11-26, Close, 22.53\n",
      "2013-11-27, Close, 22.57\n",
      "2013-11-29, Close, 22.43\n"
     ]
    },
    {
     "name": "stderr",
     "output_type": "stream",
     "text": [
      "INFO:fbprophet.forecaster:Disabling daily seasonality. Run prophet with daily_seasonality=True to override this.\n"
     ]
    },
    {
     "name": "stdout",
     "output_type": "stream",
     "text": [
      "2013-12-02, Close, 22.43\n",
      "2013-12-03, Close, 22.34\n",
      "2013-12-04, Close, 22.41\n",
      "2013-12-05, Close, 22.25\n",
      "2013-12-06, Close, 22.66\n"
     ]
    },
    {
     "name": "stderr",
     "output_type": "stream",
     "text": [
      "INFO:fbprophet.forecaster:Disabling daily seasonality. Run prophet with daily_seasonality=True to override this.\n"
     ]
    },
    {
     "name": "stdout",
     "output_type": "stream",
     "text": [
      "2013-12-09, Close, 22.87\n",
      "2013-12-10, Close, 22.83\n",
      "2013-12-11, Close, 22.36\n",
      "2013-12-12, Close, 22.33\n",
      "2013-12-13, Close, 22.58\n"
     ]
    },
    {
     "name": "stderr",
     "output_type": "stream",
     "text": [
      "INFO:fbprophet.forecaster:Disabling daily seasonality. Run prophet with daily_seasonality=True to override this.\n"
     ]
    },
    {
     "name": "stdout",
     "output_type": "stream",
     "text": [
      "2013-12-16, Close, 22.70\n",
      "2013-12-17, Close, 22.74\n",
      "2013-12-18, Close, 23.06\n",
      "2013-12-19, Close, 23.17\n",
      "2013-12-20, Close, 23.20\n"
     ]
    },
    {
     "name": "stderr",
     "output_type": "stream",
     "text": [
      "INFO:fbprophet.forecaster:Disabling daily seasonality. Run prophet with daily_seasonality=True to override this.\n"
     ]
    },
    {
     "name": "stdout",
     "output_type": "stream",
     "text": [
      "2013-12-23, Close, 23.24\n",
      "2013-12-24, Close, 23.41\n",
      "2013-12-26, Close, 23.60\n",
      "2013-12-27, Close, 23.60\n",
      "2013-12-30, Close, 23.65\n"
     ]
    },
    {
     "name": "stderr",
     "output_type": "stream",
     "text": [
      "INFO:fbprophet.forecaster:Disabling daily seasonality. Run prophet with daily_seasonality=True to override this.\n"
     ]
    },
    {
     "name": "stdout",
     "output_type": "stream",
     "text": [
      "2013-12-31, Close, 23.77\n",
      "2014-01-02, Close, 23.32\n",
      "2014-01-03, Close, 23.30\n",
      "2014-01-06, Close, 23.12\n",
      "2014-01-07, Close, 23.14\n"
     ]
    },
    {
     "name": "stderr",
     "output_type": "stream",
     "text": [
      "INFO:fbprophet.forecaster:Disabling daily seasonality. Run prophet with daily_seasonality=True to override this.\n"
     ]
    },
    {
     "name": "stdout",
     "output_type": "stream",
     "text": [
      "2014-01-08, Close, 23.08\n",
      "2014-01-09, Close, 23.08\n",
      "2014-01-10, Close, 22.86\n",
      "2014-01-13, Close, 22.67\n",
      "2014-01-14, Close, 22.87\n"
     ]
    },
    {
     "name": "stderr",
     "output_type": "stream",
     "text": [
      "INFO:fbprophet.forecaster:Disabling daily seasonality. Run prophet with daily_seasonality=True to override this.\n"
     ]
    },
    {
     "name": "stdout",
     "output_type": "stream",
     "text": [
      "2014-01-15, Close, 23.19\n",
      "2014-01-16, Close, 23.07\n",
      "2014-01-17, Close, 22.54\n",
      "2014-01-21, Close, 22.30\n",
      "2014-01-22, Close, 22.04\n"
     ]
    },
    {
     "name": "stderr",
     "output_type": "stream",
     "text": [
      "INFO:fbprophet.forecaster:Disabling daily seasonality. Run prophet with daily_seasonality=True to override this.\n"
     ]
    },
    {
     "name": "stdout",
     "output_type": "stream",
     "text": [
      "2014-01-23, Close, 21.90\n",
      "2014-01-24, Close, 21.16\n",
      "2014-01-27, Close, 21.26\n",
      "2014-01-28, Close, 21.59\n",
      "2014-01-29, Close, 21.45\n"
     ]
    },
    {
     "name": "stderr",
     "output_type": "stream",
     "text": [
      "INFO:fbprophet.forecaster:Disabling daily seasonality. Run prophet with daily_seasonality=True to override this.\n"
     ]
    },
    {
     "name": "stdout",
     "output_type": "stream",
     "text": [
      "2014-01-30, Close, 21.63\n",
      "2014-01-31, Close, 21.31\n",
      "2014-02-03, Close, 20.65\n",
      "2014-02-04, Close, 20.84\n",
      "2014-02-05, Close, 20.79\n"
     ]
    },
    {
     "name": "stderr",
     "output_type": "stream",
     "text": [
      "INFO:fbprophet.forecaster:Disabling daily seasonality. Run prophet with daily_seasonality=True to override this.\n"
     ]
    },
    {
     "name": "stdout",
     "output_type": "stream",
     "text": [
      "2014-02-05, BUY CREATE, 20.79\n",
      "2014-02-06, BUY EXECUTED, Price: 24.80, Cost: 24.80, Comm 0.00\n",
      "2014-02-06, Close, 21.16\n",
      "2014-02-07, Close, 21.36\n",
      "2014-02-10, Close, 21.24\n",
      "2014-02-11, Close, 21.57\n",
      "2014-02-12, Close, 21.53\n"
     ]
    },
    {
     "name": "stderr",
     "output_type": "stream",
     "text": [
      "INFO:fbprophet.forecaster:Disabling daily seasonality. Run prophet with daily_seasonality=True to override this.\n"
     ]
    },
    {
     "name": "stdout",
     "output_type": "stream",
     "text": [
      "2014-02-12, SELL CREATE, 21.53\n",
      "2014-02-13, SELL EXECUTED, Price: 25.23, Cost: 24.80, Comm 0.00\n",
      "2014-02-13, OPERATION PROFIT, GROSS 0.43, NET 0.43\n",
      "2014-02-13, Close, 21.57\n",
      "2014-02-14, Close, 21.83\n",
      "2014-02-18, Close, 21.75\n",
      "2014-02-19, Close, 21.54\n",
      "2014-02-20, Close, 21.49\n"
     ]
    },
    {
     "name": "stderr",
     "output_type": "stream",
     "text": [
      "INFO:fbprophet.forecaster:Disabling daily seasonality. Run prophet with daily_seasonality=True to override this.\n"
     ]
    },
    {
     "name": "stdout",
     "output_type": "stream",
     "text": [
      "2014-02-21, Close, 21.34\n",
      "2014-02-24, Close, 21.63\n",
      "2014-02-25, Close, 21.62\n",
      "2014-02-26, Close, 21.64\n",
      "2014-02-27, Close, 21.81\n"
     ]
    },
    {
     "name": "stderr",
     "output_type": "stream",
     "text": [
      "INFO:fbprophet.forecaster:Disabling daily seasonality. Run prophet with daily_seasonality=True to override this.\n"
     ]
    },
    {
     "name": "stdout",
     "output_type": "stream",
     "text": [
      "2014-02-28, Close, 21.79\n",
      "2014-03-03, Close, 21.49\n",
      "2014-03-04, Close, 21.94\n",
      "2014-03-05, Close, 22.18\n",
      "2014-03-06, Close, 22.43\n"
     ]
    },
    {
     "name": "stderr",
     "output_type": "stream",
     "text": [
      "INFO:fbprophet.forecaster:Disabling daily seasonality. Run prophet with daily_seasonality=True to override this.\n"
     ]
    },
    {
     "name": "stdout",
     "output_type": "stream",
     "text": [
      "2014-03-07, Close, 22.35\n",
      "2014-03-10, Close, 22.28\n",
      "2014-03-11, Close, 22.16\n",
      "2014-03-12, Close, 22.04\n",
      "2014-03-13, Close, 21.68\n"
     ]
    },
    {
     "name": "stderr",
     "output_type": "stream",
     "text": [
      "INFO:fbprophet.forecaster:Disabling daily seasonality. Run prophet with daily_seasonality=True to override this.\n"
     ]
    },
    {
     "name": "stdout",
     "output_type": "stream",
     "text": [
      "2014-03-13, BUY CREATE, 21.68\n",
      "2014-03-14, BUY EXECUTED, Price: 25.25, Cost: 25.25, Comm 0.00\n",
      "2014-03-14, Close, 21.48\n",
      "2014-03-17, Close, 21.75\n",
      "2014-03-18, Close, 21.94\n",
      "2014-03-19, Close, 21.63\n",
      "2014-03-20, Close, 21.62\n"
     ]
    },
    {
     "name": "stderr",
     "output_type": "stream",
     "text": [
      "INFO:fbprophet.forecaster:Disabling daily seasonality. Run prophet with daily_seasonality=True to override this.\n"
     ]
    },
    {
     "name": "stdout",
     "output_type": "stream",
     "text": [
      "2014-03-20, BUY CREATE, 21.62\n",
      "2014-03-21, BUY EXECUTED, Price: 25.69, Cost: 25.69, Comm 0.00\n",
      "2014-03-21, Close, 21.73\n",
      "2014-03-24, Close, 21.74\n",
      "2014-03-25, Close, 21.99\n",
      "2014-03-26, Close, 21.92\n",
      "2014-03-27, Close, 22.08\n"
     ]
    },
    {
     "name": "stderr",
     "output_type": "stream",
     "text": [
      "INFO:fbprophet.forecaster:Disabling daily seasonality. Run prophet with daily_seasonality=True to override this.\n"
     ]
    },
    {
     "name": "stdout",
     "output_type": "stream",
     "text": [
      "2014-03-27, BUY CREATE, 22.08\n",
      "2014-03-28, BUY EXECUTED, Price: 25.90, Cost: 25.90, Comm 0.00\n",
      "2014-03-28, Close, 22.14\n",
      "2014-03-31, Close, 22.15\n",
      "2014-04-01, Close, 22.13\n",
      "2014-04-02, Close, 22.28\n",
      "2014-04-03, Close, 22.44\n"
     ]
    },
    {
     "name": "stderr",
     "output_type": "stream",
     "text": [
      "INFO:fbprophet.forecaster:Disabling daily seasonality. Run prophet with daily_seasonality=True to override this.\n"
     ]
    },
    {
     "name": "stdout",
     "output_type": "stream",
     "text": [
      "2014-04-03, BUY CREATE, 22.44\n",
      "2014-04-04, BUY EXECUTED, Price: 26.37, Cost: 26.37, Comm 0.00\n",
      "2014-04-04, Close, 22.26\n",
      "2014-04-07, Close, 22.11\n",
      "2014-04-08, Close, 22.03\n",
      "2014-04-09, Close, 22.20\n",
      "2014-04-10, Close, 21.88\n"
     ]
    },
    {
     "name": "stderr",
     "output_type": "stream",
     "text": [
      "INFO:fbprophet.forecaster:Disabling daily seasonality. Run prophet with daily_seasonality=True to override this.\n"
     ]
    },
    {
     "name": "stdout",
     "output_type": "stream",
     "text": [
      "2014-04-10, BUY CREATE, 21.88\n",
      "2014-04-11, BUY EXECUTED, Price: 25.51, Cost: 25.51, Comm 0.00\n",
      "2014-04-11, Close, 21.75\n",
      "2014-04-14, Close, 21.99\n",
      "2014-04-15, Close, 22.09\n",
      "2014-04-16, Close, 22.34\n",
      "2014-04-17, Close, 22.72\n"
     ]
    },
    {
     "name": "stderr",
     "output_type": "stream",
     "text": [
      "INFO:fbprophet.forecaster:Disabling daily seasonality. Run prophet with daily_seasonality=True to override this.\n"
     ]
    },
    {
     "name": "stdout",
     "output_type": "stream",
     "text": [
      "2014-04-17, SELL CREATE, 22.72\n",
      "2014-04-21, SELL EXECUTED, Price: 26.63, Cost: 25.74, Comm 0.00\n",
      "2014-04-21, Close, 22.75\n",
      "2014-04-22, Close, 22.74\n",
      "2014-04-23, Close, 22.60\n",
      "2014-04-24, Close, 22.64\n",
      "2014-04-25, Close, 22.76\n"
     ]
    },
    {
     "name": "stderr",
     "output_type": "stream",
     "text": [
      "INFO:fbprophet.forecaster:Disabling daily seasonality. Run prophet with daily_seasonality=True to override this.\n"
     ]
    },
    {
     "name": "stdout",
     "output_type": "stream",
     "text": [
      "2014-04-25, BUY CREATE, 22.76\n",
      "2014-04-28, BUY EXECUTED, Price: 26.72, Cost: 26.72, Comm 0.00\n",
      "2014-04-28, Close, 22.91\n",
      "2014-04-29, Close, 22.89\n",
      "2014-04-30, Close, 23.00\n",
      "2014-05-01, Close, 22.90\n",
      "2014-05-02, Close, 22.82\n"
     ]
    },
    {
     "name": "stderr",
     "output_type": "stream",
     "text": [
      "INFO:fbprophet.forecaster:Disabling daily seasonality. Run prophet with daily_seasonality=True to override this.\n"
     ]
    },
    {
     "name": "stdout",
     "output_type": "stream",
     "text": [
      "2014-05-02, BUY CREATE, 22.82\n",
      "2014-05-05, BUY EXECUTED, Price: 26.69, Cost: 26.69, Comm 0.00\n",
      "2014-05-05, Close, 22.74\n",
      "2014-05-06, Close, 22.40\n",
      "2014-05-07, Close, 22.70\n",
      "2014-05-08, Close, 22.62\n",
      "2014-05-09, Close, 22.60\n"
     ]
    },
    {
     "name": "stderr",
     "output_type": "stream",
     "text": [
      "INFO:fbprophet.forecaster:Disabling daily seasonality. Run prophet with daily_seasonality=True to override this.\n"
     ]
    },
    {
     "name": "stdout",
     "output_type": "stream",
     "text": [
      "2014-05-09, BUY CREATE, 22.60\n",
      "2014-05-12, BUY EXECUTED, Price: 26.58, Cost: 26.58, Comm 0.00\n",
      "2014-05-12, Close, 22.97\n",
      "2014-05-13, Close, 23.03\n",
      "2014-05-14, Close, 22.89\n",
      "2014-05-15, Close, 22.76\n",
      "2014-05-16, Close, 22.81\n"
     ]
    },
    {
     "name": "stderr",
     "output_type": "stream",
     "text": [
      "INFO:fbprophet.forecaster:Disabling daily seasonality. Run prophet with daily_seasonality=True to override this.\n"
     ]
    },
    {
     "name": "stdout",
     "output_type": "stream",
     "text": [
      "2014-05-16, BUY CREATE, 22.81\n",
      "2014-05-19, BUY EXECUTED, Price: 26.55, Cost: 26.55, Comm 0.00\n",
      "2014-05-19, Close, 22.76\n",
      "2014-05-20, Close, 22.50\n",
      "2014-05-21, Close, 22.66\n",
      "2014-05-22, Close, 22.68\n",
      "2014-05-23, Close, 22.68\n"
     ]
    },
    {
     "name": "stderr",
     "output_type": "stream",
     "text": [
      "INFO:fbprophet.forecaster:Disabling daily seasonality. Run prophet with daily_seasonality=True to override this.\n"
     ]
    },
    {
     "name": "stdout",
     "output_type": "stream",
     "text": [
      "2014-05-23, BUY CREATE, 22.68\n",
      "2014-05-27, BUY EXECUTED, Price: 26.55, Cost: 26.55, Comm 0.00\n",
      "2014-05-27, Close, 22.73\n",
      "2014-05-28, Close, 22.81\n",
      "2014-05-29, Close, 22.87\n",
      "2014-05-30, Close, 22.92\n",
      "2014-06-02, Close, 22.95\n"
     ]
    },
    {
     "name": "stderr",
     "output_type": "stream",
     "text": [
      "INFO:fbprophet.forecaster:Disabling daily seasonality. Run prophet with daily_seasonality=True to override this.\n"
     ]
    },
    {
     "name": "stdout",
     "output_type": "stream",
     "text": [
      "2014-06-02, BUY CREATE, 22.95\n",
      "2014-06-03, BUY EXECUTED, Price: 26.75, Cost: 26.75, Comm 0.00\n",
      "2014-06-03, Close, 22.92\n",
      "2014-06-04, Close, 22.71\n",
      "2014-06-05, Close, 22.90\n",
      "2014-06-06, Close, 23.25\n",
      "2014-06-09, Close, 23.47\n"
     ]
    },
    {
     "name": "stderr",
     "output_type": "stream",
     "text": [
      "INFO:fbprophet.forecaster:Disabling daily seasonality. Run prophet with daily_seasonality=True to override this.\n"
     ]
    },
    {
     "name": "stdout",
     "output_type": "stream",
     "text": [
      "2014-06-09, SELL CREATE, 23.47\n",
      "2014-06-10, SELL EXECUTED, Price: 27.31, Cost: 26.28, Comm 0.00\n",
      "2014-06-10, Close, 23.45\n",
      "2014-06-11, Close, 23.23\n",
      "2014-06-12, Close, 23.06\n",
      "2014-06-13, Close, 23.13\n",
      "2014-06-16, Close, 22.94\n"
     ]
    },
    {
     "name": "stderr",
     "output_type": "stream",
     "text": [
      "INFO:fbprophet.forecaster:Disabling daily seasonality. Run prophet with daily_seasonality=True to override this.\n"
     ]
    },
    {
     "name": "stdout",
     "output_type": "stream",
     "text": [
      "2014-06-16, BUY CREATE, 22.94\n",
      "2014-06-17, BUY EXECUTED, Price: 26.79, Cost: 26.79, Comm 0.00\n",
      "2014-06-17, Close, 22.99\n",
      "2014-06-18, Close, 23.00\n",
      "2014-06-19, Close, 23.23\n",
      "2014-06-20, Close, 23.26\n",
      "2014-06-23, Close, 23.01\n"
     ]
    },
    {
     "name": "stderr",
     "output_type": "stream",
     "text": [
      "INFO:fbprophet.forecaster:Disabling daily seasonality. Run prophet with daily_seasonality=True to override this.\n"
     ]
    },
    {
     "name": "stdout",
     "output_type": "stream",
     "text": [
      "2014-06-23, BUY CREATE, 23.01\n",
      "2014-06-24, BUY EXECUTED, Price: 26.66, Cost: 26.66, Comm 0.00\n",
      "2014-06-24, Close, 22.93\n",
      "2014-06-25, Close, 22.79\n",
      "2014-06-26, Close, 22.68\n",
      "2014-06-27, Close, 22.80\n",
      "2014-06-30, Close, 22.67\n"
     ]
    },
    {
     "name": "stderr",
     "output_type": "stream",
     "text": [
      "INFO:fbprophet.forecaster:Disabling daily seasonality. Run prophet with daily_seasonality=True to override this.\n"
     ]
    },
    {
     "name": "stdout",
     "output_type": "stream",
     "text": [
      "2014-06-30, BUY CREATE, 22.67\n",
      "2014-07-01, BUY EXECUTED, Price: 26.27, Cost: 26.27, Comm 0.00\n",
      "2014-07-01, Close, 22.77\n",
      "2014-07-02, Close, 22.95\n",
      "2014-07-03, Close, 23.17\n",
      "2014-07-07, Close, 23.07\n",
      "2014-07-08, Close, 22.74\n"
     ]
    },
    {
     "name": "stderr",
     "output_type": "stream",
     "text": [
      "INFO:fbprophet.forecaster:Disabling daily seasonality. Run prophet with daily_seasonality=True to override this.\n"
     ]
    },
    {
     "name": "stdout",
     "output_type": "stream",
     "text": [
      "2014-07-08, BUY CREATE, 22.74\n",
      "2014-07-09, BUY EXECUTED, Price: 26.43, Cost: 26.43, Comm 0.00\n",
      "2014-07-09, Close, 22.70\n",
      "2014-07-10, Close, 22.60\n",
      "2014-07-11, Close, 22.90\n",
      "2014-07-14, Close, 22.99\n",
      "2014-07-15, Close, 22.95\n"
     ]
    },
    {
     "name": "stderr",
     "output_type": "stream",
     "text": [
      "INFO:fbprophet.forecaster:Disabling daily seasonality. Run prophet with daily_seasonality=True to override this.\n"
     ]
    },
    {
     "name": "stdout",
     "output_type": "stream",
     "text": [
      "2014-07-15, BUY CREATE, 22.95\n",
      "2014-07-16, BUY EXECUTED, Price: 26.69, Cost: 26.69, Comm 0.00\n",
      "2014-07-16, Close, 23.31\n",
      "2014-07-17, Close, 22.95\n",
      "2014-07-18, Close, 22.82\n",
      "2014-07-21, Close, 22.41\n",
      "2014-07-22, Close, 22.44\n"
     ]
    },
    {
     "name": "stderr",
     "output_type": "stream",
     "text": [
      "INFO:fbprophet.forecaster:Disabling daily seasonality. Run prophet with daily_seasonality=True to override this.\n"
     ]
    },
    {
     "name": "stdout",
     "output_type": "stream",
     "text": [
      "2014-07-22, BUY CREATE, 22.44\n",
      "2014-07-23, BUY EXECUTED, Price: 26.07, Cost: 26.07, Comm 0.00\n",
      "2014-07-23, Close, 22.35\n",
      "2014-07-24, Close, 22.37\n",
      "2014-07-25, Close, 22.24\n",
      "2014-07-28, Close, 22.07\n",
      "2014-07-29, Close, 21.95\n"
     ]
    },
    {
     "name": "stderr",
     "output_type": "stream",
     "text": [
      "INFO:fbprophet.forecaster:Disabling daily seasonality. Run prophet with daily_seasonality=True to override this.\n"
     ]
    },
    {
     "name": "stdout",
     "output_type": "stream",
     "text": [
      "2014-07-29, BUY CREATE, 21.95\n",
      "2014-07-30, BUY EXECUTED, Price: 25.58, Cost: 25.58, Comm 0.00\n",
      "2014-07-30, Close, 22.11\n",
      "2014-07-31, Close, 21.69\n",
      "2014-08-01, Close, 21.86\n",
      "2014-08-04, Close, 21.80\n",
      "2014-08-05, Close, 21.58\n"
     ]
    },
    {
     "name": "stderr",
     "output_type": "stream",
     "text": [
      "INFO:fbprophet.forecaster:Disabling daily seasonality. Run prophet with daily_seasonality=True to override this.\n"
     ]
    },
    {
     "name": "stdout",
     "output_type": "stream",
     "text": [
      "2014-08-05, BUY CREATE, 21.58\n",
      "2014-08-06, BUY EXECUTED, Price: 25.13, Cost: 25.13, Comm 0.00\n",
      "2014-08-06, Close, 21.94\n",
      "2014-08-07, Close, 21.99\n",
      "2014-08-08, Close, 22.13\n",
      "2014-08-11, Close, 22.24\n",
      "2014-08-12, Close, 22.09\n"
     ]
    },
    {
     "name": "stderr",
     "output_type": "stream",
     "text": [
      "INFO:fbprophet.forecaster:Disabling daily seasonality. Run prophet with daily_seasonality=True to override this.\n"
     ]
    },
    {
     "name": "stdout",
     "output_type": "stream",
     "text": [
      "2014-08-12, BUY CREATE, 22.09\n",
      "2014-08-13, BUY EXECUTED, Price: 25.72, Cost: 25.72, Comm 0.00\n",
      "2014-08-13, Close, 22.28\n",
      "2014-08-14, Close, 22.32\n",
      "2014-08-15, Close, 22.11\n",
      "2014-08-18, Close, 22.49\n",
      "2014-08-19, Close, 22.47\n"
     ]
    },
    {
     "name": "stderr",
     "output_type": "stream",
     "text": [
      "INFO:fbprophet.forecaster:Disabling daily seasonality. Run prophet with daily_seasonality=True to override this.\n"
     ]
    },
    {
     "name": "stdout",
     "output_type": "stream",
     "text": [
      "2014-08-19, BUY CREATE, 22.47\n",
      "2014-08-20, BUY EXECUTED, Price: 26.08, Cost: 26.08, Comm 0.00\n",
      "2014-08-20, Close, 22.74\n",
      "2014-08-21, Close, 22.80\n",
      "2014-08-22, Close, 22.55\n",
      "2014-08-25, Close, 22.60\n",
      "2014-08-26, Close, 22.43\n"
     ]
    },
    {
     "name": "stderr",
     "output_type": "stream",
     "text": [
      "INFO:fbprophet.forecaster:Disabling daily seasonality. Run prophet with daily_seasonality=True to override this.\n"
     ]
    },
    {
     "name": "stdout",
     "output_type": "stream",
     "text": [
      "2014-08-26, BUY CREATE, 22.43\n",
      "2014-08-27, BUY EXECUTED, Price: 26.05, Cost: 26.05, Comm 0.00\n",
      "2014-08-27, Close, 22.54\n",
      "2014-08-28, Close, 22.43\n",
      "2014-08-29, Close, 22.41\n",
      "2014-09-02, Close, 22.30\n",
      "2014-09-03, Close, 22.38\n"
     ]
    },
    {
     "name": "stderr",
     "output_type": "stream",
     "text": [
      "INFO:fbprophet.forecaster:Disabling daily seasonality. Run prophet with daily_seasonality=True to override this.\n"
     ]
    },
    {
     "name": "stdout",
     "output_type": "stream",
     "text": [
      "2014-09-03, BUY CREATE, 22.38\n",
      "2014-09-04, BUY EXECUTED, Price: 25.99, Cost: 25.99, Comm 0.00\n",
      "2014-09-04, Close, 22.39\n",
      "2014-09-05, Close, 22.51\n",
      "2014-09-08, Close, 22.49\n",
      "2014-09-09, Close, 22.34\n",
      "2014-09-10, Close, 22.38\n"
     ]
    },
    {
     "name": "stderr",
     "output_type": "stream",
     "text": [
      "INFO:fbprophet.forecaster:Disabling daily seasonality. Run prophet with daily_seasonality=True to override this.\n"
     ]
    },
    {
     "name": "stdout",
     "output_type": "stream",
     "text": [
      "2014-09-10, BUY CREATE, 22.38\n",
      "2014-09-11, BUY EXECUTED, Price: 25.91, Cost: 25.91, Comm 0.00\n",
      "2014-09-11, Close, 22.44\n",
      "2014-09-12, Close, 22.31\n",
      "2014-09-15, Close, 22.36\n",
      "2014-09-16, Close, 22.61\n",
      "2014-09-17, Close, 22.66\n"
     ]
    },
    {
     "name": "stderr",
     "output_type": "stream",
     "text": [
      "INFO:fbprophet.forecaster:Disabling daily seasonality. Run prophet with daily_seasonality=True to override this.\n"
     ]
    },
    {
     "name": "stdout",
     "output_type": "stream",
     "text": [
      "2014-09-17, BUY CREATE, 22.66\n",
      "2014-09-18, BUY EXECUTED, Price: 26.19, Cost: 26.19, Comm 0.00\n",
      "2014-09-18, Close, 22.80\n",
      "2014-09-19, Close, 22.87\n",
      "2014-09-22, Close, 22.68\n",
      "2014-09-23, Close, 22.63\n",
      "2014-09-24, Close, 22.55\n"
     ]
    },
    {
     "name": "stderr",
     "output_type": "stream",
     "text": [
      "INFO:fbprophet.forecaster:Disabling daily seasonality. Run prophet with daily_seasonality=True to override this.\n"
     ]
    },
    {
     "name": "stdout",
     "output_type": "stream",
     "text": [
      "2014-09-24, BUY CREATE, 22.55\n",
      "2014-09-25, BUY EXECUTED, Price: 25.88, Cost: 25.88, Comm 0.00\n",
      "2014-09-25, Close, 22.22\n",
      "2014-09-26, Close, 22.29\n",
      "2014-09-29, Close, 22.11\n",
      "2014-09-30, Close, 22.28\n",
      "2014-10-01, Close, 21.88\n"
     ]
    },
    {
     "name": "stderr",
     "output_type": "stream",
     "text": [
      "INFO:fbprophet.forecaster:Disabling daily seasonality. Run prophet with daily_seasonality=True to override this.\n"
     ]
    },
    {
     "name": "stdout",
     "output_type": "stream",
     "text": [
      "2014-10-01, BUY CREATE, 21.88\n",
      "2014-10-02, BUY EXECUTED, Price: 25.19, Cost: 25.19, Comm 0.00\n",
      "2014-10-02, Close, 21.85\n",
      "2014-10-03, Close, 22.09\n",
      "2014-10-06, Close, 21.94\n",
      "2014-10-07, Close, 21.58\n",
      "2014-10-08, Close, 21.96\n"
     ]
    },
    {
     "name": "stderr",
     "output_type": "stream",
     "text": [
      "INFO:fbprophet.forecaster:Disabling daily seasonality. Run prophet with daily_seasonality=True to override this.\n"
     ]
    },
    {
     "name": "stdout",
     "output_type": "stream",
     "text": [
      "2014-10-08, BUY CREATE, 21.96\n",
      "2014-10-09, BUY EXECUTED, Price: 25.23, Cost: 25.23, Comm 0.00\n",
      "2014-10-09, Close, 21.55\n",
      "2014-10-10, Close, 21.11\n",
      "2014-10-13, Close, 20.83\n",
      "2014-10-14, Close, 20.96\n",
      "2014-10-15, Close, 21.12\n"
     ]
    },
    {
     "name": "stderr",
     "output_type": "stream",
     "text": [
      "INFO:fbprophet.forecaster:Disabling daily seasonality. Run prophet with daily_seasonality=True to override this.\n"
     ]
    },
    {
     "name": "stdout",
     "output_type": "stream",
     "text": [
      "2014-10-15, BUY CREATE, 21.12\n",
      "2014-10-16, BUY EXECUTED, Price: 23.99, Cost: 23.99, Comm 0.00\n",
      "2014-10-16, Close, 21.09\n",
      "2014-10-17, Close, 21.59\n",
      "2014-10-20, Close, 21.77\n",
      "2014-10-21, Close, 22.14\n",
      "2014-10-22, Close, 21.91\n"
     ]
    },
    {
     "name": "stderr",
     "output_type": "stream",
     "text": [
      "INFO:fbprophet.forecaster:Disabling daily seasonality. Run prophet with daily_seasonality=True to override this.\n"
     ]
    },
    {
     "name": "stdout",
     "output_type": "stream",
     "text": [
      "2014-10-22, BUY CREATE, 21.91\n",
      "2014-10-23, BUY EXECUTED, Price: 25.42, Cost: 25.42, Comm 0.00\n",
      "2014-10-23, Close, 22.13\n",
      "2014-10-24, Close, 22.30\n",
      "2014-10-27, Close, 22.20\n",
      "2014-10-28, Close, 22.51\n",
      "2014-10-29, Close, 22.32\n"
     ]
    },
    {
     "name": "stderr",
     "output_type": "stream",
     "text": [
      "INFO:fbprophet.forecaster:Disabling daily seasonality. Run prophet with daily_seasonality=True to override this.\n"
     ]
    },
    {
     "name": "stdout",
     "output_type": "stream",
     "text": [
      "2014-10-29, BUY CREATE, 22.32\n",
      "2014-10-30, BUY EXECUTED, Price: 25.42, Cost: 25.42, Comm 0.00\n",
      "2014-10-30, Close, 22.33\n",
      "2014-10-31, Close, 22.45\n",
      "2014-11-03, Close, 22.35\n",
      "2014-11-04, Close, 22.35\n",
      "2014-11-05, Close, 22.46\n"
     ]
    },
    {
     "name": "stderr",
     "output_type": "stream",
     "text": [
      "INFO:fbprophet.forecaster:Disabling daily seasonality. Run prophet with daily_seasonality=True to override this.\n"
     ]
    },
    {
     "name": "stdout",
     "output_type": "stream",
     "text": [
      "2014-11-05, BUY CREATE, 22.46\n",
      "2014-11-06, BUY EXECUTED, Price: 25.89, Cost: 25.89, Comm 0.00\n",
      "2014-11-06, Close, 22.93\n",
      "2014-11-07, Close, 22.97\n",
      "2014-11-10, Close, 23.02\n",
      "2014-11-11, Close, 22.95\n",
      "2014-11-12, Close, 23.07\n"
     ]
    },
    {
     "name": "stderr",
     "output_type": "stream",
     "text": [
      "INFO:fbprophet.forecaster:Disabling daily seasonality. Run prophet with daily_seasonality=True to override this.\n"
     ]
    },
    {
     "name": "stdout",
     "output_type": "stream",
     "text": [
      "2014-11-12, BUY CREATE, 23.07\n",
      "2014-11-13, BUY EXECUTED, Price: 26.47, Cost: 26.47, Comm 0.00\n",
      "2014-11-13, Close, 22.98\n",
      "2014-11-14, Close, 23.01\n",
      "2014-11-17, Close, 23.15\n",
      "2014-11-18, Close, 23.49\n",
      "2014-11-19, Close, 23.41\n"
     ]
    },
    {
     "name": "stderr",
     "output_type": "stream",
     "text": [
      "INFO:fbprophet.forecaster:Disabling daily seasonality. Run prophet with daily_seasonality=True to override this.\n"
     ]
    },
    {
     "name": "stdout",
     "output_type": "stream",
     "text": [
      "2014-11-19, BUY CREATE, 23.41\n",
      "2014-11-20, BUY EXECUTED, Price: 26.80, Cost: 26.80, Comm 0.00\n",
      "2014-11-20, Close, 23.35\n",
      "2014-11-21, Close, 23.48\n",
      "2014-11-24, Close, 23.48\n",
      "2014-11-25, Close, 23.36\n",
      "2014-11-26, Close, 23.37\n"
     ]
    },
    {
     "name": "stderr",
     "output_type": "stream",
     "text": [
      "INFO:fbprophet.forecaster:Disabling daily seasonality. Run prophet with daily_seasonality=True to override this.\n"
     ]
    },
    {
     "name": "stdout",
     "output_type": "stream",
     "text": [
      "2014-11-26, BUY CREATE, 23.37\n",
      "2014-11-28, BUY EXECUTED, Price: 26.80, Cost: 26.80, Comm 0.00\n",
      "2014-11-28, Close, 23.04\n",
      "2014-12-01, Close, 22.63\n",
      "2014-12-02, Close, 22.66\n",
      "2014-12-03, Close, 22.95\n",
      "2014-12-04, Close, 22.69\n"
     ]
    },
    {
     "name": "stderr",
     "output_type": "stream",
     "text": [
      "INFO:fbprophet.forecaster:Disabling daily seasonality. Run prophet with daily_seasonality=True to override this.\n"
     ]
    },
    {
     "name": "stdout",
     "output_type": "stream",
     "text": [
      "2014-12-04, BUY CREATE, 22.69\n",
      "2014-12-05, BUY EXECUTED, Price: 26.14, Cost: 26.14, Comm 0.00\n",
      "2014-12-05, Close, 22.62\n",
      "2014-12-08, Close, 22.35\n",
      "2014-12-09, Close, 22.25\n",
      "2014-12-10, Close, 21.98\n",
      "2014-12-11, Close, 22.10\n"
     ]
    },
    {
     "name": "stderr",
     "output_type": "stream",
     "text": [
      "INFO:fbprophet.forecaster:Disabling daily seasonality. Run prophet with daily_seasonality=True to override this.\n"
     ]
    },
    {
     "name": "stdout",
     "output_type": "stream",
     "text": [
      "2014-12-11, BUY CREATE, 22.10\n",
      "2014-12-12, BUY EXECUTED, Price: 25.35, Cost: 25.35, Comm 0.00\n",
      "2014-12-12, Close, 21.65\n",
      "2014-12-15, Close, 21.39\n",
      "2014-12-16, Close, 21.30\n",
      "2014-12-17, Close, 21.45\n",
      "2014-12-18, Close, 22.07\n"
     ]
    },
    {
     "name": "stderr",
     "output_type": "stream",
     "text": [
      "INFO:fbprophet.forecaster:Disabling daily seasonality. Run prophet with daily_seasonality=True to override this.\n"
     ]
    },
    {
     "name": "stdout",
     "output_type": "stream",
     "text": [
      "2014-12-18, BUY CREATE, 22.07\n",
      "2014-12-19, BUY EXECUTED, Price: 25.12, Cost: 25.12, Comm 0.00\n",
      "2014-12-19, Close, 22.49\n",
      "2014-12-22, Close, 22.57\n",
      "2014-12-23, Close, 22.72\n",
      "2014-12-24, Close, 22.68\n",
      "2014-12-26, Close, 22.63\n"
     ]
    },
    {
     "name": "stderr",
     "output_type": "stream",
     "text": [
      "INFO:fbprophet.forecaster:Disabling daily seasonality. Run prophet with daily_seasonality=True to override this.\n"
     ]
    },
    {
     "name": "stdout",
     "output_type": "stream",
     "text": [
      "2014-12-26, BUY CREATE, 22.63\n",
      "2014-12-29, BUY EXECUTED, Price: 25.70, Cost: 25.70, Comm 0.00\n",
      "2014-12-29, Close, 22.56\n",
      "2014-12-30, Close, 22.45\n",
      "2014-12-31, Close, 22.19\n",
      "2015-01-02, Close, 22.00\n",
      "2015-01-05, Close, 21.60\n"
     ]
    },
    {
     "name": "stderr",
     "output_type": "stream",
     "text": [
      "INFO:fbprophet.forecaster:Disabling daily seasonality. Run prophet with daily_seasonality=True to override this.\n"
     ]
    },
    {
     "name": "stdout",
     "output_type": "stream",
     "text": [
      "2015-01-05, BUY CREATE, 21.60\n",
      "2015-01-06, BUY EXECUTED, Price: 24.46, Cost: 24.46, Comm 0.00\n",
      "2015-01-06, Close, 21.13\n",
      "2015-01-07, Close, 21.14\n",
      "2015-01-08, Close, 21.40\n",
      "2015-01-09, Close, 21.10\n",
      "2015-01-12, Close, 21.05\n"
     ]
    },
    {
     "name": "stderr",
     "output_type": "stream",
     "text": [
      "INFO:fbprophet.forecaster:Disabling daily seasonality. Run prophet with daily_seasonality=True to override this.\n"
     ]
    },
    {
     "name": "stdout",
     "output_type": "stream",
     "text": [
      "2015-01-12, BUY CREATE, 21.05\n",
      "2015-01-13, BUY EXECUTED, Price: 24.26, Cost: 24.26, Comm 0.00\n",
      "2015-01-13, Close, 20.95\n",
      "2015-01-14, Close, 20.88\n",
      "2015-01-15, Close, 20.70\n",
      "2015-01-16, Close, 20.71\n",
      "2015-01-20, Close, 20.94\n"
     ]
    },
    {
     "name": "stderr",
     "output_type": "stream",
     "text": [
      "INFO:fbprophet.forecaster:Disabling daily seasonality. Run prophet with daily_seasonality=True to override this.\n"
     ]
    },
    {
     "name": "stdout",
     "output_type": "stream",
     "text": [
      "2015-01-20, BUY CREATE, 20.94\n",
      "2015-01-21, BUY EXECUTED, Price: 23.83, Cost: 23.83, Comm 0.00\n",
      "2015-01-21, Close, 21.11\n",
      "2015-01-22, Close, 21.32\n",
      "2015-01-23, Close, 21.49\n",
      "2015-01-26, Close, 21.59\n",
      "2015-01-27, Close, 21.41\n"
     ]
    },
    {
     "name": "stderr",
     "output_type": "stream",
     "text": [
      "INFO:fbprophet.forecaster:Disabling daily seasonality. Run prophet with daily_seasonality=True to override this.\n"
     ]
    },
    {
     "name": "stdout",
     "output_type": "stream",
     "text": [
      "2015-01-27, BUY CREATE, 21.41\n",
      "2015-01-28, BUY EXECUTED, Price: 24.47, Cost: 24.47, Comm 0.00\n",
      "2015-01-28, Close, 20.93\n",
      "2015-01-29, Close, 21.14\n",
      "2015-01-30, Close, 20.98\n",
      "2015-02-02, Close, 21.26\n",
      "2015-02-03, Close, 21.48\n"
     ]
    },
    {
     "name": "stderr",
     "output_type": "stream",
     "text": [
      "INFO:fbprophet.forecaster:Disabling daily seasonality. Run prophet with daily_seasonality=True to override this.\n"
     ]
    },
    {
     "name": "stdout",
     "output_type": "stream",
     "text": [
      "2015-02-03, BUY CREATE, 21.48\n",
      "2015-02-04, BUY EXECUTED, Price: 24.41, Cost: 24.41, Comm 0.00\n",
      "2015-02-04, Close, 21.21\n",
      "2015-02-05, Close, 21.51\n",
      "2015-02-06, Close, 21.53\n",
      "2015-02-09, Close, 21.63\n",
      "2015-02-10, Close, 21.70\n"
     ]
    },
    {
     "name": "stderr",
     "output_type": "stream",
     "text": [
      "INFO:fbprophet.forecaster:Disabling daily seasonality. Run prophet with daily_seasonality=True to override this.\n"
     ]
    },
    {
     "name": "stdout",
     "output_type": "stream",
     "text": [
      "2015-02-10, BUY CREATE, 21.70\n",
      "2015-02-11, BUY EXECUTED, Price: 24.71, Cost: 24.71, Comm 0.00\n",
      "2015-02-11, Close, 21.75\n",
      "2015-02-12, Close, 21.85\n",
      "2015-02-13, Close, 22.08\n",
      "2015-02-17, Close, 22.10\n",
      "2015-02-18, Close, 22.17\n"
     ]
    },
    {
     "name": "stderr",
     "output_type": "stream",
     "text": [
      "INFO:fbprophet.forecaster:Disabling daily seasonality. Run prophet with daily_seasonality=True to override this.\n"
     ]
    },
    {
     "name": "stdout",
     "output_type": "stream",
     "text": [
      "2015-02-18, BUY CREATE, 22.17\n",
      "2015-02-19, BUY EXECUTED, Price: 25.03, Cost: 25.03, Comm 0.00\n",
      "2015-02-19, Close, 22.16\n",
      "2015-02-20, Close, 22.34\n",
      "2015-02-23, Close, 22.30\n",
      "2015-02-24, Close, 22.50\n",
      "2015-02-25, Close, 22.96\n"
     ]
    },
    {
     "name": "stderr",
     "output_type": "stream",
     "text": [
      "INFO:fbprophet.forecaster:Disabling daily seasonality. Run prophet with daily_seasonality=True to override this.\n"
     ]
    },
    {
     "name": "stdout",
     "output_type": "stream",
     "text": [
      "2015-02-25, BUY CREATE, 22.96\n",
      "2015-02-26, BUY EXECUTED, Price: 25.94, Cost: 25.94, Comm 0.00\n",
      "2015-02-26, Close, 22.94\n",
      "2015-02-27, Close, 23.03\n",
      "2015-03-02, Close, 23.13\n",
      "2015-03-03, Close, 22.91\n",
      "2015-03-04, Close, 22.74\n"
     ]
    },
    {
     "name": "stderr",
     "output_type": "stream",
     "text": [
      "INFO:fbprophet.forecaster:Disabling daily seasonality. Run prophet with daily_seasonality=True to override this.\n"
     ]
    },
    {
     "name": "stdout",
     "output_type": "stream",
     "text": [
      "2015-03-04, BUY CREATE, 22.74\n",
      "2015-03-05, BUY EXECUTED, Price: 25.62, Cost: 25.62, Comm 0.00\n",
      "2015-03-05, Close, 22.88\n",
      "2015-03-06, Close, 22.52\n",
      "2015-03-09, Close, 22.72\n",
      "2015-03-10, Close, 22.30\n",
      "2015-03-11, Close, 22.32\n"
     ]
    },
    {
     "name": "stderr",
     "output_type": "stream",
     "text": [
      "INFO:fbprophet.forecaster:Disabling daily seasonality. Run prophet with daily_seasonality=True to override this.\n"
     ]
    },
    {
     "name": "stdout",
     "output_type": "stream",
     "text": [
      "2015-03-11, BUY CREATE, 22.32\n",
      "2015-03-12, BUY EXECUTED, Price: 25.27, Cost: 25.27, Comm 0.00\n",
      "2015-03-12, Close, 22.51\n",
      "2015-03-13, Close, 22.19\n",
      "2015-03-16, Close, 22.55\n",
      "2015-03-17, Close, 22.43\n",
      "2015-03-18, Close, 22.72\n"
     ]
    },
    {
     "name": "stderr",
     "output_type": "stream",
     "text": [
      "INFO:fbprophet.forecaster:Disabling daily seasonality. Run prophet with daily_seasonality=True to override this.\n"
     ]
    },
    {
     "name": "stdout",
     "output_type": "stream",
     "text": [
      "2015-03-18, BUY CREATE, 22.72\n",
      "2015-03-19, BUY EXECUTED, Price: 25.44, Cost: 25.44, Comm 0.00\n",
      "2015-03-19, Close, 22.44\n",
      "2015-03-20, Close, 22.51\n",
      "2015-03-23, Close, 22.57\n",
      "2015-03-24, Close, 22.39\n",
      "2015-03-25, Close, 22.07\n"
     ]
    },
    {
     "name": "stderr",
     "output_type": "stream",
     "text": [
      "INFO:fbprophet.forecaster:Disabling daily seasonality. Run prophet with daily_seasonality=True to override this.\n"
     ]
    },
    {
     "name": "stdout",
     "output_type": "stream",
     "text": [
      "2015-03-25, BUY CREATE, 22.07\n",
      "2015-03-26, BUY EXECUTED, Price: 24.80, Cost: 24.80, Comm 0.00\n",
      "2015-03-26, Close, 21.97\n",
      "2015-03-27, Close, 22.03\n",
      "2015-03-30, Close, 22.26\n",
      "2015-03-31, Close, 21.98\n",
      "2015-04-01, Close, 22.01\n"
     ]
    },
    {
     "name": "stderr",
     "output_type": "stream",
     "text": [
      "INFO:fbprophet.forecaster:Disabling daily seasonality. Run prophet with daily_seasonality=True to override this.\n"
     ]
    },
    {
     "name": "stdout",
     "output_type": "stream",
     "text": [
      "2015-04-01, BUY CREATE, 22.01\n",
      "2015-04-02, BUY EXECUTED, Price: 24.81, Cost: 24.81, Comm 0.00\n",
      "2015-04-02, Close, 22.10\n",
      "2015-04-06, Close, 22.31\n",
      "2015-04-07, Close, 22.17\n",
      "2015-04-08, Close, 22.16\n",
      "2015-04-09, Close, 22.80\n"
     ]
    },
    {
     "name": "stderr",
     "output_type": "stream",
     "text": [
      "INFO:fbprophet.forecaster:Disabling daily seasonality. Run prophet with daily_seasonality=True to override this.\n"
     ]
    },
    {
     "name": "stdout",
     "output_type": "stream",
     "text": [
      "2015-04-09, BUY CREATE, 22.80\n",
      "2015-04-10, BUY EXECUTED, Price: 27.13, Cost: 27.13, Comm 0.00\n",
      "2015-04-10, Close, 25.26\n",
      "2015-04-13, Close, 24.48\n",
      "2015-04-14, Close, 24.57\n",
      "2015-04-15, Close, 24.33\n",
      "2015-04-16, Close, 24.17\n"
     ]
    },
    {
     "name": "stderr",
     "output_type": "stream",
     "text": [
      "INFO:fbprophet.forecaster:Disabling daily seasonality. Run prophet with daily_seasonality=True to override this.\n"
     ]
    },
    {
     "name": "stdout",
     "output_type": "stream",
     "text": [
      "2015-04-16, BUY CREATE, 24.17\n",
      "2015-04-17, BUY EXECUTED, Price: 27.40, Cost: 27.40, Comm 0.00\n",
      "2015-04-17, Close, 24.14\n",
      "2015-04-20, Close, 23.94\n",
      "2015-04-21, Close, 23.59\n",
      "2015-04-22, Close, 23.84\n",
      "2015-04-23, Close, 23.79\n"
     ]
    },
    {
     "name": "stderr",
     "output_type": "stream",
     "text": [
      "INFO:fbprophet.forecaster:Disabling daily seasonality. Run prophet with daily_seasonality=True to override this.\n"
     ]
    },
    {
     "name": "stdout",
     "output_type": "stream",
     "text": [
      "2015-04-23, BUY CREATE, 23.79\n",
      "2015-04-24, BUY EXECUTED, Price: 26.88, Cost: 26.88, Comm 0.00\n",
      "2015-04-24, Close, 23.75\n",
      "2015-04-27, Close, 23.82\n",
      "2015-04-28, Close, 24.03\n",
      "2015-04-29, Close, 24.00\n",
      "2015-04-30, Close, 23.99\n"
     ]
    },
    {
     "name": "stderr",
     "output_type": "stream",
     "text": [
      "INFO:fbprophet.forecaster:Disabling daily seasonality. Run prophet with daily_seasonality=True to override this.\n"
     ]
    },
    {
     "name": "stdout",
     "output_type": "stream",
     "text": [
      "2015-04-30, BUY CREATE, 23.99\n",
      "2015-05-01, BUY EXECUTED, Price: 27.09, Cost: 27.09, Comm 0.00\n",
      "2015-05-01, Close, 24.20\n",
      "2015-05-04, Close, 24.16\n",
      "2015-05-05, Close, 23.85\n",
      "2015-05-06, Close, 23.76\n",
      "2015-05-07, Close, 23.96\n"
     ]
    },
    {
     "name": "stderr",
     "output_type": "stream",
     "text": [
      "INFO:fbprophet.forecaster:Disabling daily seasonality. Run prophet with daily_seasonality=True to override this.\n"
     ]
    },
    {
     "name": "stdout",
     "output_type": "stream",
     "text": [
      "2015-05-07, BUY CREATE, 23.96\n",
      "2015-05-08, BUY EXECUTED, Price: 27.25, Cost: 27.25, Comm 0.00\n",
      "2015-05-08, Close, 24.24\n",
      "2015-05-11, Close, 23.85\n",
      "2015-05-12, Close, 23.95\n",
      "2015-05-13, Close, 24.11\n",
      "2015-05-14, Close, 24.29\n"
     ]
    },
    {
     "name": "stderr",
     "output_type": "stream",
     "text": [
      "INFO:fbprophet.forecaster:Disabling daily seasonality. Run prophet with daily_seasonality=True to override this.\n"
     ]
    },
    {
     "name": "stdout",
     "output_type": "stream",
     "text": [
      "2015-05-14, BUY CREATE, 24.29\n",
      "2015-05-15, BUY EXECUTED, Price: 27.38, Cost: 27.38, Comm 0.00\n",
      "2015-05-15, Close, 24.16\n",
      "2015-05-18, Close, 24.20\n",
      "2015-05-19, Close, 24.23\n",
      "2015-05-20, Close, 24.49\n",
      "2015-05-21, Close, 24.56\n"
     ]
    },
    {
     "name": "stderr",
     "output_type": "stream",
     "text": [
      "INFO:fbprophet.forecaster:Disabling daily seasonality. Run prophet with daily_seasonality=True to override this.\n"
     ]
    },
    {
     "name": "stdout",
     "output_type": "stream",
     "text": [
      "2015-05-21, BUY CREATE, 24.56\n",
      "2015-05-22, BUY EXECUTED, Price: 27.69, Cost: 27.69, Comm 0.00\n",
      "2015-05-22, Close, 24.53\n",
      "2015-05-26, Close, 24.38\n",
      "2015-05-27, Close, 24.38\n",
      "2015-05-28, Close, 24.48\n",
      "2015-05-29, Close, 24.16\n"
     ]
    },
    {
     "name": "stderr",
     "output_type": "stream",
     "text": [
      "INFO:fbprophet.forecaster:Disabling daily seasonality. Run prophet with daily_seasonality=True to override this.\n"
     ]
    },
    {
     "name": "stdout",
     "output_type": "stream",
     "text": [
      "2015-05-29, BUY CREATE, 24.16\n",
      "2015-06-01, BUY EXECUTED, Price: 27.26, Cost: 27.26, Comm 0.00\n",
      "2015-06-01, Close, 24.17\n",
      "2015-06-02, Close, 24.22\n",
      "2015-06-03, Close, 24.39\n",
      "2015-06-04, Close, 24.15\n",
      "2015-06-05, Close, 24.18\n"
     ]
    },
    {
     "name": "stderr",
     "output_type": "stream",
     "text": [
      "INFO:fbprophet.forecaster:Disabling daily seasonality. Run prophet with daily_seasonality=True to override this.\n"
     ]
    },
    {
     "name": "stdout",
     "output_type": "stream",
     "text": [
      "2015-06-05, BUY CREATE, 24.18\n",
      "2015-06-08, BUY EXECUTED, Price: 27.32, Cost: 27.32, Comm 0.00\n",
      "2015-06-08, Close, 24.14\n",
      "2015-06-09, Close, 24.22\n",
      "2015-06-10, Close, 24.48\n",
      "2015-06-11, Close, 24.38\n",
      "2015-06-12, Close, 24.27\n"
     ]
    },
    {
     "name": "stderr",
     "output_type": "stream",
     "text": [
      "INFO:fbprophet.forecaster:Disabling daily seasonality. Run prophet with daily_seasonality=True to override this.\n"
     ]
    },
    {
     "name": "stdout",
     "output_type": "stream",
     "text": [
      "2015-06-12, BUY CREATE, 24.27\n",
      "2015-06-15, BUY EXECUTED, Price: 27.39, Cost: 27.39, Comm 0.00\n",
      "2015-06-15, Close, 24.11\n",
      "2015-06-16, Close, 24.12\n",
      "2015-06-17, Close, 24.16\n",
      "2015-06-18, Close, 24.46\n",
      "2015-06-19, Close, 24.34\n"
     ]
    },
    {
     "name": "stderr",
     "output_type": "stream",
     "text": [
      "INFO:fbprophet.forecaster:Disabling daily seasonality. Run prophet with daily_seasonality=True to override this.\n"
     ]
    },
    {
     "name": "stdout",
     "output_type": "stream",
     "text": [
      "2015-06-19, BUY CREATE, 24.34\n",
      "2015-06-22, BUY EXECUTED, Price: 27.30, Cost: 27.30, Comm 0.00\n",
      "2015-06-22, Close, 24.50\n",
      "2015-06-23, Close, 24.62\n",
      "2015-06-24, Close, 24.36\n",
      "2015-06-25, Close, 24.16\n",
      "2015-06-26, Close, 24.21\n"
     ]
    },
    {
     "name": "stderr",
     "output_type": "stream",
     "text": [
      "INFO:fbprophet.forecaster:Disabling daily seasonality. Run prophet with daily_seasonality=True to override this.\n"
     ]
    },
    {
     "name": "stdout",
     "output_type": "stream",
     "text": [
      "2015-06-26, BUY CREATE, 24.21\n",
      "2015-06-29, BUY EXECUTED, Price: 26.90, Cost: 26.90, Comm 0.00\n",
      "2015-06-29, Close, 23.81\n",
      "2015-06-30, Close, 23.74\n",
      "2015-07-01, Close, 23.82\n",
      "2015-07-02, Close, 23.93\n",
      "2015-07-06, Close, 23.51\n"
     ]
    },
    {
     "name": "stderr",
     "output_type": "stream",
     "text": [
      "INFO:fbprophet.forecaster:Disabling daily seasonality. Run prophet with daily_seasonality=True to override this.\n"
     ]
    },
    {
     "name": "stdout",
     "output_type": "stream",
     "text": [
      "2015-07-06, BUY CREATE, 23.51\n",
      "2015-07-07, BUY EXECUTED, Price: 26.38, Cost: 26.38, Comm 0.00\n",
      "2015-07-07, Close, 23.65\n",
      "2015-07-08, Close, 23.14\n",
      "2015-07-09, Close, 23.25\n",
      "2015-07-10, Close, 23.47\n",
      "2015-07-13, Close, 23.65\n"
     ]
    },
    {
     "name": "stderr",
     "output_type": "stream",
     "text": [
      "INFO:fbprophet.forecaster:Disabling daily seasonality. Run prophet with daily_seasonality=True to override this.\n"
     ]
    },
    {
     "name": "stdout",
     "output_type": "stream",
     "text": [
      "2015-07-13, BUY CREATE, 23.65\n",
      "2015-07-14, BUY EXECUTED, Price: 26.35, Cost: 26.35, Comm 0.00\n",
      "2015-07-14, Close, 23.82\n",
      "2015-07-15, Close, 23.92\n",
      "2015-07-16, Close, 24.16\n",
      "2015-07-17, Close, 24.34\n",
      "2015-07-20, Close, 24.25\n"
     ]
    },
    {
     "name": "stderr",
     "output_type": "stream",
     "text": [
      "INFO:fbprophet.forecaster:Disabling daily seasonality. Run prophet with daily_seasonality=True to override this.\n"
     ]
    },
    {
     "name": "stdout",
     "output_type": "stream",
     "text": [
      "2015-07-20, BUY CREATE, 24.25\n",
      "2015-07-21, BUY EXECUTED, Price: 27.01, Cost: 27.01, Comm 0.00\n",
      "2015-07-21, Close, 23.99\n",
      "2015-07-22, Close, 23.80\n",
      "2015-07-23, Close, 23.47\n",
      "2015-07-24, Close, 23.01\n",
      "2015-07-27, Close, 23.19\n"
     ]
    },
    {
     "name": "stderr",
     "output_type": "stream",
     "text": [
      "INFO:fbprophet.forecaster:Disabling daily seasonality. Run prophet with daily_seasonality=True to override this.\n"
     ]
    },
    {
     "name": "stdout",
     "output_type": "stream",
     "text": [
      "2015-07-27, BUY CREATE, 23.19\n",
      "2015-07-28, BUY EXECUTED, Price: 26.10, Cost: 26.10, Comm 0.00\n",
      "2015-07-28, Close, 23.32\n",
      "2015-07-29, Close, 23.47\n",
      "2015-07-30, Close, 23.34\n",
      "2015-07-31, Close, 23.32\n",
      "2015-08-03, Close, 23.12\n"
     ]
    },
    {
     "name": "stderr",
     "output_type": "stream",
     "text": [
      "INFO:fbprophet.forecaster:Disabling daily seasonality. Run prophet with daily_seasonality=True to override this.\n"
     ]
    },
    {
     "name": "stdout",
     "output_type": "stream",
     "text": [
      "2015-08-03, BUY CREATE, 23.12\n",
      "2015-08-04, BUY EXECUTED, Price: 25.89, Cost: 25.89, Comm 0.00\n",
      "2015-08-04, Close, 23.14\n",
      "2015-08-05, Close, 23.32\n",
      "2015-08-06, Close, 23.26\n",
      "2015-08-07, Close, 23.05\n",
      "2015-08-10, Close, 23.45\n"
     ]
    },
    {
     "name": "stderr",
     "output_type": "stream",
     "text": [
      "INFO:fbprophet.forecaster:Disabling daily seasonality. Run prophet with daily_seasonality=True to override this.\n"
     ]
    },
    {
     "name": "stdout",
     "output_type": "stream",
     "text": [
      "2015-08-10, BUY CREATE, 23.45\n",
      "2015-08-11, BUY EXECUTED, Price: 26.03, Cost: 26.03, Comm 0.00\n",
      "2015-08-11, Close, 22.97\n",
      "2015-08-12, Close, 23.11\n",
      "2015-08-13, Close, 23.05\n",
      "2015-08-14, Close, 23.30\n",
      "2015-08-17, Close, 23.42\n"
     ]
    },
    {
     "name": "stderr",
     "output_type": "stream",
     "text": [
      "INFO:fbprophet.forecaster:Disabling daily seasonality. Run prophet with daily_seasonality=True to override this.\n"
     ]
    },
    {
     "name": "stdout",
     "output_type": "stream",
     "text": [
      "2015-08-17, BUY CREATE, 23.42\n",
      "2015-08-18, BUY EXECUTED, Price: 26.17, Cost: 26.17, Comm 0.00\n",
      "2015-08-18, Close, 23.30\n",
      "2015-08-19, Close, 22.99\n",
      "2015-08-20, Close, 22.51\n",
      "2015-08-21, Close, 21.97\n",
      "2015-08-24, Close, 21.33\n"
     ]
    },
    {
     "name": "stderr",
     "output_type": "stream",
     "text": [
      "INFO:fbprophet.forecaster:Disabling daily seasonality. Run prophet with daily_seasonality=True to override this.\n"
     ]
    },
    {
     "name": "stdout",
     "output_type": "stream",
     "text": [
      "2015-08-24, BUY CREATE, 21.33\n",
      "2015-08-25, BUY EXECUTED, Price: 24.73, Cost: 24.73, Comm 0.00\n",
      "2015-08-25, Close, 20.79\n",
      "2015-08-26, Close, 21.46\n",
      "2015-08-27, Close, 22.35\n",
      "2015-08-28, Close, 22.48\n",
      "2015-08-31, Close, 22.18\n"
     ]
    },
    {
     "name": "stderr",
     "output_type": "stream",
     "text": [
      "INFO:fbprophet.forecaster:Disabling daily seasonality. Run prophet with daily_seasonality=True to override this.\n"
     ]
    },
    {
     "name": "stdout",
     "output_type": "stream",
     "text": [
      "2015-08-31, BUY CREATE, 22.18\n",
      "2015-09-01, BUY EXECUTED, Price: 24.24, Cost: 24.24, Comm 0.00\n",
      "2015-09-01, Close, 21.34\n",
      "2015-09-02, Close, 21.96\n",
      "2015-09-03, Close, 21.90\n",
      "2015-09-04, Close, 21.45\n",
      "2015-09-08, Close, 22.30\n"
     ]
    },
    {
     "name": "stderr",
     "output_type": "stream",
     "text": [
      "INFO:fbprophet.forecaster:Disabling daily seasonality. Run prophet with daily_seasonality=True to override this.\n"
     ]
    },
    {
     "name": "stdout",
     "output_type": "stream",
     "text": [
      "2015-09-08, BUY CREATE, 22.30\n",
      "2015-09-09, BUY EXECUTED, Price: 25.20, Cost: 25.20, Comm 0.00\n",
      "2015-09-09, Close, 21.94\n",
      "2015-09-10, Close, 22.05\n",
      "2015-09-11, Close, 22.30\n",
      "2015-09-14, Close, 22.13\n",
      "2015-09-15, Close, 22.61\n"
     ]
    },
    {
     "name": "stderr",
     "output_type": "stream",
     "text": [
      "INFO:fbprophet.forecaster:Disabling daily seasonality. Run prophet with daily_seasonality=True to override this.\n"
     ]
    },
    {
     "name": "stdout",
     "output_type": "stream",
     "text": [
      "2015-09-15, BUY CREATE, 22.61\n",
      "2015-09-16, BUY EXECUTED, Price: 25.53, Cost: 25.53, Comm 0.00\n",
      "2015-09-16, Close, 23.17\n",
      "2015-09-17, Close, 22.86\n",
      "2015-09-18, Close, 22.36\n",
      "2015-09-21, Close, 22.62\n",
      "2015-09-22, Close, 22.64\n"
     ]
    },
    {
     "name": "stderr",
     "output_type": "stream",
     "text": [
      "INFO:fbprophet.forecaster:Disabling daily seasonality. Run prophet with daily_seasonality=True to override this.\n"
     ]
    },
    {
     "name": "stdout",
     "output_type": "stream",
     "text": [
      "2015-09-22, BUY CREATE, 22.64\n",
      "2015-09-23, BUY EXECUTED, Price: 25.01, Cost: 25.01, Comm 0.00\n",
      "2015-09-23, Close, 22.67\n",
      "2015-09-24, Close, 22.46\n",
      "2015-09-25, Close, 22.47\n",
      "2015-09-28, Close, 21.92\n",
      "2015-09-29, Close, 22.15\n"
     ]
    },
    {
     "name": "stderr",
     "output_type": "stream",
     "text": [
      "INFO:fbprophet.forecaster:Disabling daily seasonality. Run prophet with daily_seasonality=True to override this.\n"
     ]
    },
    {
     "name": "stdout",
     "output_type": "stream",
     "text": [
      "2015-09-29, BUY CREATE, 22.15\n",
      "2015-09-30, BUY EXECUTED, Price: 24.73, Cost: 24.73, Comm 0.00\n",
      "2015-09-30, Close, 22.74\n",
      "2015-10-01, Close, 22.71\n",
      "2015-10-02, Close, 22.96\n",
      "2015-10-05, Close, 24.18\n",
      "2015-10-06, Close, 24.60\n"
     ]
    },
    {
     "name": "stderr",
     "output_type": "stream",
     "text": [
      "INFO:fbprophet.forecaster:Disabling daily seasonality. Run prophet with daily_seasonality=True to override this.\n"
     ]
    },
    {
     "name": "stdout",
     "output_type": "stream",
     "text": [
      "2015-10-06, SELL CREATE, 24.60\n",
      "2015-10-07, SELL EXECUTED, Price: 27.50, Cost: 25.93, Comm 0.00\n",
      "2015-10-07, Close, 25.04\n",
      "2015-10-08, Close, 25.27\n",
      "2015-10-09, Close, 25.31\n",
      "2015-10-12, Close, 25.33\n",
      "2015-10-13, Close, 25.13\n"
     ]
    },
    {
     "name": "stderr",
     "output_type": "stream",
     "text": [
      "INFO:fbprophet.forecaster:Disabling daily seasonality. Run prophet with daily_seasonality=True to override this.\n"
     ]
    },
    {
     "name": "stdout",
     "output_type": "stream",
     "text": [
      "2015-10-13, SELL CREATE, 25.13\n",
      "2015-10-14, SELL EXECUTED, Price: 27.74, Cost: 25.93, Comm 0.00\n",
      "2015-10-14, Close, 24.88\n",
      "2015-10-15, Close, 25.27\n",
      "2015-10-16, Close, 26.13\n",
      "2015-10-19, Close, 26.14\n",
      "2015-10-20, Close, 25.95\n"
     ]
    },
    {
     "name": "stderr",
     "output_type": "stream",
     "text": [
      "INFO:fbprophet.forecaster:Disabling daily seasonality. Run prophet with daily_seasonality=True to override this.\n"
     ]
    },
    {
     "name": "stdout",
     "output_type": "stream",
     "text": [
      "2015-10-20, SELL CREATE, 25.95\n",
      "2015-10-21, SELL EXECUTED, Price: 28.79, Cost: 25.93, Comm 0.00\n",
      "2015-10-21, Close, 26.01\n",
      "2015-10-22, Close, 26.67\n",
      "2015-10-23, Close, 26.61\n",
      "2015-10-26, Close, 26.64\n",
      "2015-10-27, Close, 26.56\n"
     ]
    },
    {
     "name": "stderr",
     "output_type": "stream",
     "text": [
      "INFO:fbprophet.forecaster:Disabling daily seasonality. Run prophet with daily_seasonality=True to override this.\n"
     ]
    },
    {
     "name": "stdout",
     "output_type": "stream",
     "text": [
      "2015-10-27, SELL CREATE, 26.56\n",
      "2015-10-28, SELL EXECUTED, Price: 29.33, Cost: 25.93, Comm 0.00\n",
      "2015-10-28, Close, 26.50\n",
      "2015-10-29, Close, 26.45\n",
      "2015-10-30, Close, 26.07\n",
      "2015-11-02, Close, 26.51\n",
      "2015-11-03, Close, 26.68\n"
     ]
    },
    {
     "name": "stderr",
     "output_type": "stream",
     "text": [
      "INFO:fbprophet.forecaster:Disabling daily seasonality. Run prophet with daily_seasonality=True to override this.\n"
     ]
    },
    {
     "name": "stdout",
     "output_type": "stream",
     "text": [
      "2015-11-03, SELL CREATE, 26.68\n",
      "2015-11-04, SELL EXECUTED, Price: 29.55, Cost: 25.93, Comm 0.00\n",
      "2015-11-04, Close, 26.63\n",
      "2015-11-05, Close, 26.72\n",
      "2015-11-06, Close, 26.98\n",
      "2015-11-09, Close, 26.82\n",
      "2015-11-10, Close, 27.16\n"
     ]
    },
    {
     "name": "stderr",
     "output_type": "stream",
     "text": [
      "INFO:fbprophet.forecaster:Disabling daily seasonality. Run prophet with daily_seasonality=True to override this.\n"
     ]
    },
    {
     "name": "stdout",
     "output_type": "stream",
     "text": [
      "2015-11-10, SELL CREATE, 27.16\n",
      "2015-11-11, SELL EXECUTED, Price: 30.20, Cost: 25.93, Comm 0.00\n",
      "2015-11-11, Close, 27.65\n",
      "2015-11-12, Close, 27.19\n",
      "2015-11-13, Close, 27.30\n",
      "2015-11-16, Close, 27.37\n",
      "2015-11-17, Close, 27.34\n"
     ]
    },
    {
     "name": "stderr",
     "output_type": "stream",
     "text": [
      "INFO:fbprophet.forecaster:Disabling daily seasonality. Run prophet with daily_seasonality=True to override this.\n"
     ]
    },
    {
     "name": "stdout",
     "output_type": "stream",
     "text": [
      "2015-11-17, SELL CREATE, 27.34\n",
      "2015-11-18, SELL EXECUTED, Price: 30.22, Cost: 25.93, Comm 0.00\n",
      "2015-11-18, Close, 27.52\n",
      "2015-11-19, Close, 27.29\n",
      "2015-11-20, Close, 27.64\n",
      "2015-11-23, Close, 27.58\n",
      "2015-11-24, Close, 27.64\n"
     ]
    },
    {
     "name": "stderr",
     "output_type": "stream",
     "text": [
      "INFO:fbprophet.forecaster:Disabling daily seasonality. Run prophet with daily_seasonality=True to override this.\n"
     ]
    },
    {
     "name": "stdout",
     "output_type": "stream",
     "text": [
      "2015-11-24, SELL CREATE, 27.64\n",
      "2015-11-25, SELL EXECUTED, Price: 30.64, Cost: 25.93, Comm 0.00\n",
      "2015-11-25, Close, 27.37\n",
      "2015-11-27, Close, 27.37\n",
      "2015-11-30, Close, 26.99\n",
      "2015-12-01, Close, 27.20\n",
      "2015-12-02, Close, 27.02\n"
     ]
    },
    {
     "name": "stderr",
     "output_type": "stream",
     "text": [
      "INFO:fbprophet.forecaster:Disabling daily seasonality. Run prophet with daily_seasonality=True to override this.\n"
     ]
    },
    {
     "name": "stdout",
     "output_type": "stream",
     "text": [
      "2015-12-02, SELL CREATE, 27.02\n",
      "2015-12-03, SELL EXECUTED, Price: 30.09, Cost: 25.93, Comm 0.00\n",
      "2015-12-03, Close, 27.07\n",
      "2015-12-04, Close, 27.49\n",
      "2015-12-07, Close, 27.38\n",
      "2015-12-08, Close, 27.22\n",
      "2015-12-09, Close, 27.47\n"
     ]
    },
    {
     "name": "stderr",
     "output_type": "stream",
     "text": [
      "INFO:fbprophet.forecaster:Disabling daily seasonality. Run prophet with daily_seasonality=True to override this.\n"
     ]
    },
    {
     "name": "stdout",
     "output_type": "stream",
     "text": [
      "2015-12-09, SELL CREATE, 27.47\n",
      "2015-12-10, SELL EXECUTED, Price: 30.44, Cost: 25.93, Comm 0.00\n",
      "2015-12-10, Close, 27.63\n",
      "2015-12-11, Close, 27.28\n",
      "2015-12-14, Close, 27.28\n",
      "2015-12-15, Close, 27.34\n",
      "2015-12-16, Close, 27.93\n"
     ]
    },
    {
     "name": "stderr",
     "output_type": "stream",
     "text": [
      "INFO:fbprophet.forecaster:Disabling daily seasonality. Run prophet with daily_seasonality=True to override this.\n"
     ]
    },
    {
     "name": "stdout",
     "output_type": "stream",
     "text": [
      "2015-12-16, SELL CREATE, 27.93\n",
      "2015-12-17, SELL EXECUTED, Price: 30.94, Cost: 25.93, Comm 0.00\n",
      "2015-12-17, Close, 27.75\n",
      "2015-12-18, Close, 27.50\n",
      "2015-12-21, Close, 27.61\n",
      "2015-12-22, Close, 27.70\n",
      "2015-12-23, Close, 28.11\n"
     ]
    },
    {
     "name": "stderr",
     "output_type": "stream",
     "text": [
      "INFO:fbprophet.forecaster:Disabling daily seasonality. Run prophet with daily_seasonality=True to override this.\n"
     ]
    },
    {
     "name": "stdout",
     "output_type": "stream",
     "text": [
      "2015-12-23, SELL CREATE, 28.11\n",
      "2015-12-24, SELL EXECUTED, Price: 30.90, Cost: 25.93, Comm 0.00\n",
      "2015-12-24, Close, 28.00\n",
      "2015-12-28, Close, 28.07\n",
      "2015-12-29, Close, 28.41\n",
      "2015-12-30, Close, 28.20\n",
      "2015-12-31, Close, 28.29\n"
     ]
    },
    {
     "name": "stderr",
     "output_type": "stream",
     "text": [
      "INFO:fbprophet.forecaster:Disabling daily seasonality. Run prophet with daily_seasonality=True to override this.\n"
     ]
    },
    {
     "name": "stdout",
     "output_type": "stream",
     "text": [
      "2015-12-31, SELL CREATE, 28.29\n",
      "2016-01-04, SELL EXECUTED, Price: 30.55, Cost: 25.93, Comm 0.00\n",
      "2016-01-04, Close, 27.89\n",
      "2016-01-05, Close, 27.92\n",
      "2016-01-06, Close, 27.48\n",
      "2016-01-07, Close, 26.31\n",
      "2016-01-08, Close, 25.84\n"
     ]
    },
    {
     "name": "stderr",
     "output_type": "stream",
     "text": [
      "INFO:fbprophet.forecaster:Disabling daily seasonality. Run prophet with daily_seasonality=True to override this.\n"
     ]
    },
    {
     "name": "stdout",
     "output_type": "stream",
     "text": [
      "2016-01-08, BUY CREATE, 25.84\n",
      "2016-01-11, BUY EXECUTED, Price: 28.54, Cost: 28.54, Comm 0.00\n",
      "2016-01-11, Close, 25.96\n",
      "2016-01-12, Close, 26.01\n",
      "2016-01-13, Close, 25.65\n",
      "2016-01-14, Close, 26.40\n",
      "2016-01-15, Close, 25.88\n"
     ]
    },
    {
     "name": "stderr",
     "output_type": "stream",
     "text": [
      "INFO:fbprophet.forecaster:Disabling daily seasonality. Run prophet with daily_seasonality=True to override this.\n"
     ]
    },
    {
     "name": "stdout",
     "output_type": "stream",
     "text": [
      "2016-01-15, BUY CREATE, 25.88\n",
      "2016-01-19, BUY EXECUTED, Price: 28.72, Cost: 28.72, Comm 0.00\n",
      "2016-01-19, Close, 25.88\n",
      "2016-01-20, Close, 25.43\n",
      "2016-01-21, Close, 25.97\n",
      "2016-01-22, Close, 25.65\n",
      "2016-01-25, Close, 25.47\n"
     ]
    },
    {
     "name": "stderr",
     "output_type": "stream",
     "text": [
      "INFO:fbprophet.forecaster:Disabling daily seasonality. Run prophet with daily_seasonality=True to override this.\n"
     ]
    },
    {
     "name": "stdout",
     "output_type": "stream",
     "text": [
      "2016-01-25, SELL CREATE, 25.47\n",
      "2016-01-26, SELL EXECUTED, Price: 28.07, Cost: 26.02, Comm 0.00\n",
      "2016-01-26, Close, 25.71\n",
      "2016-01-27, Close, 25.43\n",
      "2016-01-28, Close, 25.62\n",
      "2016-01-29, Close, 26.43\n",
      "2016-02-01, Close, 26.01\n"
     ]
    },
    {
     "name": "stderr",
     "output_type": "stream",
     "text": [
      "INFO:fbprophet.forecaster:Disabling daily seasonality. Run prophet with daily_seasonality=True to override this.\n"
     ]
    },
    {
     "name": "stdout",
     "output_type": "stream",
     "text": [
      "2016-02-01, SELL CREATE, 26.01\n",
      "2016-02-02, SELL EXECUTED, Price: 28.27, Cost: 26.02, Comm 0.00\n",
      "2016-02-02, Close, 25.65\n",
      "2016-02-03, Close, 26.04\n",
      "2016-02-04, Close, 26.51\n",
      "2016-02-05, Close, 25.92\n",
      "2016-02-08, Close, 25.59\n"
     ]
    },
    {
     "name": "stderr",
     "output_type": "stream",
     "text": [
      "INFO:fbprophet.forecaster:Disabling daily seasonality. Run prophet with daily_seasonality=True to override this.\n"
     ]
    },
    {
     "name": "stdout",
     "output_type": "stream",
     "text": [
      "2016-02-08, BUY CREATE, 25.59\n",
      "2016-02-09, BUY EXECUTED, Price: 27.75, Cost: 27.75, Comm 0.00\n",
      "2016-02-09, Close, 25.69\n",
      "2016-02-10, Close, 25.71\n",
      "2016-02-11, Close, 24.93\n",
      "2016-02-12, Close, 25.67\n",
      "2016-02-16, Close, 26.21\n"
     ]
    },
    {
     "name": "stderr",
     "output_type": "stream",
     "text": [
      "INFO:fbprophet.forecaster:Disabling daily seasonality. Run prophet with daily_seasonality=True to override this.\n"
     ]
    },
    {
     "name": "stdout",
     "output_type": "stream",
     "text": [
      "2016-02-16, SELL CREATE, 26.21\n",
      "2016-02-17, SELL EXECUTED, Price: 29.14, Cost: 26.04, Comm 0.00\n",
      "2016-02-17, Close, 26.65\n",
      "2016-02-18, Close, 26.41\n",
      "2016-02-19, Close, 26.36\n",
      "2016-02-22, Close, 26.71\n",
      "2016-02-23, Close, 26.54\n"
     ]
    },
    {
     "name": "stderr",
     "output_type": "stream",
     "text": [
      "INFO:fbprophet.forecaster:Disabling daily seasonality. Run prophet with daily_seasonality=True to override this.\n"
     ]
    },
    {
     "name": "stdout",
     "output_type": "stream",
     "text": [
      "2016-02-23, SELL CREATE, 26.54\n",
      "2016-02-24, SELL EXECUTED, Price: 28.90, Cost: 26.04, Comm 0.00\n",
      "2016-02-24, Close, 26.31\n",
      "2016-02-25, Close, 26.76\n",
      "2016-02-26, Close, 26.92\n",
      "2016-02-29, Close, 26.68\n",
      "2016-03-01, Close, 27.36\n"
     ]
    },
    {
     "name": "stderr",
     "output_type": "stream",
     "text": [
      "INFO:fbprophet.forecaster:Disabling daily seasonality. Run prophet with daily_seasonality=True to override this.\n"
     ]
    },
    {
     "name": "stdout",
     "output_type": "stream",
     "text": [
      "2016-03-01, SELL CREATE, 27.36\n",
      "2016-03-02, SELL EXECUTED, Price: 29.78, Cost: 26.04, Comm 0.00\n",
      "2016-03-02, Close, 27.63\n",
      "2016-03-03, Close, 27.67\n",
      "2016-03-04, Close, 27.89\n",
      "2016-03-07, Close, 27.73\n",
      "2016-03-08, Close, 27.52\n"
     ]
    },
    {
     "name": "stderr",
     "output_type": "stream",
     "text": [
      "INFO:fbprophet.forecaster:Disabling daily seasonality. Run prophet with daily_seasonality=True to override this.\n"
     ]
    },
    {
     "name": "stdout",
     "output_type": "stream",
     "text": [
      "2016-03-08, SELL CREATE, 27.52\n",
      "2016-03-09, SELL EXECUTED, Price: 30.16, Cost: 26.04, Comm 0.00\n",
      "2016-03-09, Close, 27.51\n",
      "2016-03-10, Close, 27.41\n",
      "2016-03-11, Close, 27.78\n",
      "2016-03-14, Close, 27.72\n",
      "2016-03-15, Close, 27.72\n"
     ]
    },
    {
     "name": "stderr",
     "output_type": "stream",
     "text": [
      "INFO:fbprophet.forecaster:Disabling daily seasonality. Run prophet with daily_seasonality=True to override this.\n"
     ]
    },
    {
     "name": "stdout",
     "output_type": "stream",
     "text": [
      "2016-03-15, SELL CREATE, 27.72\n",
      "2016-03-16, SELL EXECUTED, Price: 30.24, Cost: 26.04, Comm 0.00\n",
      "2016-03-16, Close, 27.62\n",
      "2016-03-17, Close, 28.35\n",
      "2016-03-18, Close, 28.31\n",
      "2016-03-21, Close, 28.47\n",
      "2016-03-22, Close, 28.44\n"
     ]
    },
    {
     "name": "stderr",
     "output_type": "stream",
     "text": [
      "INFO:fbprophet.forecaster:Disabling daily seasonality. Run prophet with daily_seasonality=True to override this.\n"
     ]
    },
    {
     "name": "stdout",
     "output_type": "stream",
     "text": [
      "2016-03-22, SELL CREATE, 28.44\n",
      "2016-03-23, SELL EXECUTED, Price: 31.04, Cost: 26.04, Comm 0.00\n",
      "2016-03-23, Close, 28.45\n",
      "2016-03-24, Close, 28.48\n",
      "2016-03-28, Close, 28.83\n",
      "2016-03-29, Close, 28.82\n",
      "2016-03-30, Close, 29.14\n"
     ]
    },
    {
     "name": "stderr",
     "output_type": "stream",
     "text": [
      "INFO:fbprophet.forecaster:Disabling daily seasonality. Run prophet with daily_seasonality=True to override this.\n"
     ]
    },
    {
     "name": "stdout",
     "output_type": "stream",
     "text": [
      "2016-03-30, SELL CREATE, 29.14\n",
      "2016-03-31, SELL EXECUTED, Price: 31.89, Cost: 26.04, Comm 0.00\n",
      "2016-03-31, Close, 29.11\n",
      "2016-04-01, Close, 29.24\n",
      "2016-04-04, Close, 28.59\n",
      "2016-04-05, Close, 28.37\n",
      "2016-04-06, Close, 28.29\n"
     ]
    },
    {
     "name": "stderr",
     "output_type": "stream",
     "text": [
      "INFO:fbprophet.forecaster:Disabling daily seasonality. Run prophet with daily_seasonality=True to override this.\n"
     ]
    },
    {
     "name": "stdout",
     "output_type": "stream",
     "text": [
      "2016-04-06, SELL CREATE, 28.29\n",
      "2016-04-07, SELL EXECUTED, Price: 30.72, Cost: 26.04, Comm 0.00\n",
      "2016-04-07, Close, 28.04\n",
      "2016-04-08, Close, 28.19\n",
      "2016-04-11, Close, 28.12\n",
      "2016-04-12, Close, 28.21\n",
      "2016-04-13, Close, 28.37\n"
     ]
    },
    {
     "name": "stderr",
     "output_type": "stream",
     "text": [
      "INFO:fbprophet.forecaster:Disabling daily seasonality. Run prophet with daily_seasonality=True to override this.\n"
     ]
    },
    {
     "name": "stdout",
     "output_type": "stream",
     "text": [
      "2016-04-13, SELL CREATE, 28.37\n",
      "2016-04-14, SELL EXECUTED, Price: 30.99, Cost: 26.04, Comm 0.00\n",
      "2016-04-14, Close, 28.40\n",
      "2016-04-15, Close, 28.41\n",
      "2016-04-18, Close, 28.44\n",
      "2016-04-19, Close, 28.52\n",
      "2016-04-20, Close, 28.52\n"
     ]
    },
    {
     "name": "stderr",
     "output_type": "stream",
     "text": [
      "INFO:fbprophet.forecaster:Disabling daily seasonality. Run prophet with daily_seasonality=True to override this.\n"
     ]
    },
    {
     "name": "stdout",
     "output_type": "stream",
     "text": [
      "2016-04-20, SELL CREATE, 28.52\n",
      "2016-04-21, SELL EXECUTED, Price: 31.12, Cost: 26.04, Comm 0.00\n",
      "2016-04-21, Close, 28.37\n",
      "2016-04-22, Close, 28.16\n",
      "2016-04-25, Close, 28.09\n",
      "2016-04-26, Close, 28.29\n",
      "2016-04-27, Close, 28.32\n"
     ]
    },
    {
     "name": "stderr",
     "output_type": "stream",
     "text": [
      "INFO:fbprophet.forecaster:Disabling daily seasonality. Run prophet with daily_seasonality=True to override this.\n"
     ]
    },
    {
     "name": "stdout",
     "output_type": "stream",
     "text": [
      "2016-04-27, SELL CREATE, 28.32\n",
      "2016-04-28, SELL EXECUTED, Price: 30.74, Cost: 26.04, Comm 0.00\n",
      "2016-04-28, Close, 28.29\n",
      "2016-04-29, Close, 28.15\n",
      "2016-05-02, Close, 28.28\n",
      "2016-05-03, Close, 28.04\n",
      "2016-05-04, Close, 27.53\n"
     ]
    },
    {
     "name": "stderr",
     "output_type": "stream",
     "text": [
      "INFO:fbprophet.forecaster:Disabling daily seasonality. Run prophet with daily_seasonality=True to override this.\n"
     ]
    },
    {
     "name": "stdout",
     "output_type": "stream",
     "text": [
      "2016-05-04, SELL CREATE, 27.53\n",
      "2016-05-05, SELL EXECUTED, Price: 30.14, Cost: 26.04, Comm 0.00\n",
      "2016-05-05, Close, 27.37\n",
      "2016-05-06, Close, 27.58\n",
      "2016-05-09, Close, 27.35\n",
      "2016-05-10, Close, 27.91\n",
      "2016-05-11, Close, 27.78\n"
     ]
    },
    {
     "name": "stderr",
     "output_type": "stream",
     "text": [
      "INFO:fbprophet.forecaster:Disabling daily seasonality. Run prophet with daily_seasonality=True to override this.\n"
     ]
    },
    {
     "name": "stdout",
     "output_type": "stream",
     "text": [
      "2016-05-11, SELL CREATE, 27.78\n",
      "2016-05-12, SELL EXECUTED, Price: 29.84, Cost: 26.04, Comm 0.00\n",
      "2016-05-12, Close, 27.55\n",
      "2016-05-13, Close, 27.14\n",
      "2016-05-16, Close, 27.43\n",
      "2016-05-17, Close, 27.20\n",
      "2016-05-18, Close, 27.11\n"
     ]
    },
    {
     "name": "stderr",
     "output_type": "stream",
     "text": [
      "INFO:fbprophet.forecaster:Disabling daily seasonality. Run prophet with daily_seasonality=True to override this.\n"
     ]
    },
    {
     "name": "stdout",
     "output_type": "stream",
     "text": [
      "2016-05-18, BUY CREATE, 27.11\n",
      "2016-05-19, BUY EXECUTED, Price: 29.33, Cost: 29.33, Comm 0.00\n",
      "2016-05-19, Close, 26.88\n",
      "2016-05-20, Close, 27.07\n",
      "2016-05-23, Close, 27.00\n",
      "2016-05-24, Close, 27.33\n",
      "2016-05-25, Close, 27.55\n"
     ]
    },
    {
     "name": "stderr",
     "output_type": "stream",
     "text": [
      "INFO:fbprophet.forecaster:Disabling daily seasonality. Run prophet with daily_seasonality=True to override this.\n"
     ]
    },
    {
     "name": "stdout",
     "output_type": "stream",
     "text": [
      "2016-05-25, SELL CREATE, 27.55\n",
      "2016-05-26, SELL EXECUTED, Price: 30.07, Cost: 26.11, Comm 0.00\n",
      "2016-05-26, Close, 27.49\n",
      "2016-05-27, Close, 27.58\n",
      "2016-05-31, Close, 27.68\n",
      "2016-06-01, Close, 27.57\n",
      "2016-06-02, Close, 27.51\n"
     ]
    },
    {
     "name": "stderr",
     "output_type": "stream",
     "text": [
      "INFO:fbprophet.forecaster:Disabling daily seasonality. Run prophet with daily_seasonality=True to override this.\n"
     ]
    },
    {
     "name": "stdout",
     "output_type": "stream",
     "text": [
      "2016-06-02, SELL CREATE, 27.51\n",
      "2016-06-03, SELL EXECUTED, Price: 30.02, Cost: 26.11, Comm 0.00\n",
      "2016-06-03, Close, 27.41\n",
      "2016-06-06, Close, 27.58\n",
      "2016-06-07, Close, 27.60\n",
      "2016-06-08, Close, 27.75\n",
      "2016-06-09, Close, 27.69\n"
     ]
    },
    {
     "name": "stderr",
     "output_type": "stream",
     "text": [
      "INFO:fbprophet.forecaster:Disabling daily seasonality. Run prophet with daily_seasonality=True to override this.\n"
     ]
    },
    {
     "name": "stdout",
     "output_type": "stream",
     "text": [
      "2016-06-09, SELL CREATE, 27.69\n",
      "2016-06-10, SELL EXECUTED, Price: 30.02, Cost: 26.11, Comm 0.00\n",
      "2016-06-10, Close, 27.50\n",
      "2016-06-13, Close, 27.31\n",
      "2016-06-14, Close, 27.87\n",
      "2016-06-15, Close, 28.01\n",
      "2016-06-16, Close, 28.27\n"
     ]
    },
    {
     "name": "stderr",
     "output_type": "stream",
     "text": [
      "INFO:fbprophet.forecaster:Disabling daily seasonality. Run prophet with daily_seasonality=True to override this.\n"
     ]
    },
    {
     "name": "stdout",
     "output_type": "stream",
     "text": [
      "2016-06-16, SELL CREATE, 28.27\n",
      "2016-06-17, SELL EXECUTED, Price: 30.65, Cost: 26.11, Comm 0.00\n",
      "2016-06-17, Close, 28.23\n",
      "2016-06-20, Close, 28.44\n",
      "2016-06-21, Close, 28.54\n",
      "2016-06-22, Close, 28.40\n",
      "2016-06-23, Close, 28.77\n"
     ]
    },
    {
     "name": "stderr",
     "output_type": "stream",
     "text": [
      "INFO:fbprophet.forecaster:Disabling daily seasonality. Run prophet with daily_seasonality=True to override this.\n"
     ]
    },
    {
     "name": "stdout",
     "output_type": "stream",
     "text": [
      "2016-06-23, SELL CREATE, 28.77\n",
      "2016-06-24, SELL EXECUTED, Price: 30.11, Cost: 26.11, Comm 0.00\n",
      "2016-06-24, Close, 27.51\n",
      "2016-06-27, Close, 27.05\n",
      "2016-06-28, Close, 27.62\n",
      "2016-06-29, Close, 28.18\n",
      "2016-06-30, Close, 29.04\n"
     ]
    },
    {
     "name": "stderr",
     "output_type": "stream",
     "text": [
      "INFO:fbprophet.forecaster:Disabling daily seasonality. Run prophet with daily_seasonality=True to override this.\n"
     ]
    },
    {
     "name": "stdout",
     "output_type": "stream",
     "text": [
      "2016-06-30, SELL CREATE, 29.04\n",
      "2016-07-01, SELL EXECUTED, Price: 31.48, Cost: 26.11, Comm 0.00\n",
      "2016-07-01, Close, 29.05\n",
      "2016-07-05, Close, 29.01\n",
      "2016-07-06, Close, 29.28\n",
      "2016-07-07, Close, 29.36\n",
      "2016-07-08, Close, 29.71\n"
     ]
    },
    {
     "name": "stderr",
     "output_type": "stream",
     "text": [
      "INFO:fbprophet.forecaster:Disabling daily seasonality. Run prophet with daily_seasonality=True to override this.\n"
     ]
    },
    {
     "name": "stdout",
     "output_type": "stream",
     "text": [
      "2016-07-08, SELL CREATE, 29.71\n",
      "2016-07-11, SELL EXECUTED, Price: 32.26, Cost: 26.11, Comm 0.00\n",
      "2016-07-11, Close, 29.71\n",
      "2016-07-12, Close, 29.76\n",
      "2016-07-13, Close, 29.85\n",
      "2016-07-14, Close, 30.10\n",
      "2016-07-15, Close, 30.33\n"
     ]
    },
    {
     "name": "stderr",
     "output_type": "stream",
     "text": [
      "INFO:fbprophet.forecaster:Disabling daily seasonality. Run prophet with daily_seasonality=True to override this.\n"
     ]
    },
    {
     "name": "stdout",
     "output_type": "stream",
     "text": [
      "2016-07-15, SELL CREATE, 30.33\n",
      "2016-07-18, SELL EXECUTED, Price: 32.89, Cost: 26.11, Comm 0.00\n",
      "2016-07-18, Close, 30.36\n",
      "2016-07-19, Close, 30.38\n",
      "2016-07-20, Close, 30.24\n",
      "2016-07-21, Close, 30.07\n",
      "2016-07-22, Close, 29.58\n"
     ]
    },
    {
     "name": "stderr",
     "output_type": "stream",
     "text": [
      "INFO:fbprophet.forecaster:Disabling daily seasonality. Run prophet with daily_seasonality=True to override this.\n"
     ]
    },
    {
     "name": "stdout",
     "output_type": "stream",
     "text": [
      "2016-07-22, SELL CREATE, 29.58\n",
      "2016-07-25, SELL EXECUTED, Price: 32.07, Cost: 26.11, Comm 0.00\n",
      "2016-07-25, Close, 29.19\n",
      "2016-07-26, Close, 29.03\n",
      "2016-07-27, Close, 28.86\n",
      "2016-07-28, Close, 28.83\n",
      "2016-07-29, Close, 28.73\n"
     ]
    },
    {
     "name": "stderr",
     "output_type": "stream",
     "text": [
      "INFO:fbprophet.forecaster:Disabling daily seasonality. Run prophet with daily_seasonality=True to override this.\n"
     ]
    },
    {
     "name": "stdout",
     "output_type": "stream",
     "text": [
      "2016-07-29, SELL CREATE, 28.73\n",
      "2016-08-01, SELL EXECUTED, Price: 31.12, Cost: 26.11, Comm 0.00\n",
      "2016-08-01, Close, 28.74\n",
      "2016-08-02, Close, 28.64\n",
      "2016-08-03, Close, 28.72\n",
      "2016-08-04, Close, 28.76\n",
      "2016-08-05, Close, 28.86\n"
     ]
    },
    {
     "name": "stderr",
     "output_type": "stream",
     "text": [
      "INFO:fbprophet.forecaster:Disabling daily seasonality. Run prophet with daily_seasonality=True to override this.\n"
     ]
    },
    {
     "name": "stdout",
     "output_type": "stream",
     "text": [
      "2016-08-05, SELL CREATE, 28.86\n",
      "2016-08-08, SELL EXECUTED, Price: 31.30, Cost: 26.11, Comm 0.00\n",
      "2016-08-08, Close, 28.85\n",
      "2016-08-09, Close, 28.88\n",
      "2016-08-10, Close, 28.85\n",
      "2016-08-11, Close, 28.87\n",
      "2016-08-12, Close, 28.82\n"
     ]
    },
    {
     "name": "stderr",
     "output_type": "stream",
     "text": [
      "INFO:fbprophet.forecaster:Disabling daily seasonality. Run prophet with daily_seasonality=True to override this.\n"
     ]
    },
    {
     "name": "stdout",
     "output_type": "stream",
     "text": [
      "2016-08-12, SELL CREATE, 28.82\n",
      "2016-08-15, SELL EXECUTED, Price: 31.30, Cost: 26.11, Comm 0.00\n",
      "2016-08-15, Close, 28.82\n",
      "2016-08-16, Close, 28.77\n",
      "2016-08-17, Close, 28.87\n",
      "2016-08-18, Close, 29.00\n",
      "2016-08-19, Close, 28.83\n"
     ]
    },
    {
     "name": "stderr",
     "output_type": "stream",
     "text": [
      "INFO:fbprophet.forecaster:Disabling daily seasonality. Run prophet with daily_seasonality=True to override this.\n"
     ]
    },
    {
     "name": "stdout",
     "output_type": "stream",
     "text": [
      "2016-08-19, SELL CREATE, 28.83\n",
      "2016-08-22, SELL EXECUTED, Price: 31.17, Cost: 26.11, Comm 0.00\n",
      "2016-08-22, Close, 28.89\n",
      "2016-08-23, Close, 28.81\n",
      "2016-08-24, Close, 28.80\n",
      "2016-08-25, Close, 28.79\n",
      "2016-08-26, Close, 28.81\n"
     ]
    },
    {
     "name": "stderr",
     "output_type": "stream",
     "text": [
      "INFO:fbprophet.forecaster:Disabling daily seasonality. Run prophet with daily_seasonality=True to override this.\n"
     ]
    },
    {
     "name": "stdout",
     "output_type": "stream",
     "text": [
      "2016-08-26, SELL CREATE, 28.81\n",
      "2016-08-29, SELL EXECUTED, Price: 31.18, Cost: 26.11, Comm 0.00\n",
      "2016-08-29, Close, 28.93\n",
      "2016-08-30, Close, 28.94\n",
      "2016-08-31, Close, 28.82\n",
      "2016-09-01, Close, 28.78\n",
      "2016-09-02, Close, 28.87\n"
     ]
    },
    {
     "name": "stderr",
     "output_type": "stream",
     "text": [
      "INFO:fbprophet.forecaster:Disabling daily seasonality. Run prophet with daily_seasonality=True to override this.\n"
     ]
    },
    {
     "name": "stdout",
     "output_type": "stream",
     "text": [
      "2016-09-02, SELL CREATE, 28.87\n",
      "2016-09-06, SELL EXECUTED, Price: 31.31, Cost: 26.11, Comm 0.00\n",
      "2016-09-06, Close, 28.64\n",
      "2016-09-07, Close, 28.65\n",
      "2016-09-08, Close, 28.64\n",
      "2016-09-09, Close, 27.78\n",
      "2016-09-12, Close, 28.13\n"
     ]
    },
    {
     "name": "stderr",
     "output_type": "stream",
     "text": [
      "INFO:fbprophet.forecaster:Disabling daily seasonality. Run prophet with daily_seasonality=True to override this.\n"
     ]
    },
    {
     "name": "stdout",
     "output_type": "stream",
     "text": [
      "2016-09-12, SELL CREATE, 28.13\n",
      "2016-09-13, SELL EXECUTED, Price: 30.22, Cost: 26.11, Comm 0.00\n",
      "2016-09-13, Close, 27.54\n",
      "2016-09-14, Close, 27.40\n",
      "2016-09-15, Close, 27.66\n",
      "2016-09-16, Close, 27.59\n",
      "2016-09-19, Close, 27.36\n"
     ]
    },
    {
     "name": "stderr",
     "output_type": "stream",
     "text": [
      "INFO:fbprophet.forecaster:Disabling daily seasonality. Run prophet with daily_seasonality=True to override this.\n"
     ]
    },
    {
     "name": "stdout",
     "output_type": "stream",
     "text": [
      "2016-09-19, BUY CREATE, 27.36\n",
      "2016-09-20, BUY EXECUTED, Price: 29.67, Cost: 29.67, Comm 0.00\n",
      "2016-09-20, Close, 27.59\n",
      "2016-09-21, Close, 27.75\n",
      "2016-09-22, Close, 27.93\n",
      "2016-09-23, Close, 27.79\n",
      "2016-09-26, Close, 27.46\n"
     ]
    },
    {
     "name": "stderr",
     "output_type": "stream",
     "text": [
      "INFO:fbprophet.forecaster:Disabling daily seasonality. Run prophet with daily_seasonality=True to override this.\n"
     ]
    },
    {
     "name": "stdout",
     "output_type": "stream",
     "text": [
      "2016-09-26, BUY CREATE, 27.46\n",
      "2016-09-27, BUY EXECUTED, Price: 29.60, Cost: 29.60, Comm 0.00\n",
      "2016-09-27, Close, 27.78\n",
      "2016-09-28, Close, 27.80\n",
      "2016-09-29, Close, 27.46\n",
      "2016-09-30, Close, 27.54\n",
      "2016-10-03, Close, 27.56\n"
     ]
    },
    {
     "name": "stderr",
     "output_type": "stream",
     "text": [
      "INFO:fbprophet.forecaster:Disabling daily seasonality. Run prophet with daily_seasonality=True to override this.\n"
     ]
    },
    {
     "name": "stdout",
     "output_type": "stream",
     "text": [
      "2016-10-03, BUY CREATE, 27.56\n",
      "2016-10-04, BUY EXECUTED, Price: 29.71, Cost: 29.71, Comm 0.00\n",
      "2016-10-04, Close, 27.43\n",
      "2016-10-05, Close, 27.43\n",
      "2016-10-06, Close, 27.21\n",
      "2016-10-07, Close, 27.04\n",
      "2016-10-10, Close, 26.83\n"
     ]
    },
    {
     "name": "stderr",
     "output_type": "stream",
     "text": [
      "INFO:fbprophet.forecaster:Disabling daily seasonality. Run prophet with daily_seasonality=True to override this.\n"
     ]
    },
    {
     "name": "stdout",
     "output_type": "stream",
     "text": [
      "2016-10-10, BUY CREATE, 26.83\n",
      "2016-10-11, BUY EXECUTED, Price: 28.75, Cost: 28.75, Comm 0.00\n",
      "2016-10-11, Close, 26.89\n",
      "2016-10-12, Close, 26.87\n",
      "2016-10-13, Close, 26.75\n",
      "2016-10-14, Close, 26.86\n",
      "2016-10-17, Close, 26.82\n"
     ]
    },
    {
     "name": "stderr",
     "output_type": "stream",
     "text": [
      "INFO:fbprophet.forecaster:Disabling daily seasonality. Run prophet with daily_seasonality=True to override this.\n"
     ]
    },
    {
     "name": "stdout",
     "output_type": "stream",
     "text": [
      "2016-10-17, BUY CREATE, 26.82\n",
      "2016-10-18, BUY EXECUTED, Price: 29.03, Cost: 29.03, Comm 0.00\n",
      "2016-10-18, Close, 26.94\n",
      "2016-10-19, Close, 27.02\n",
      "2016-10-20, Close, 27.03\n",
      "2016-10-21, Close, 26.94\n",
      "2016-10-24, Close, 26.89\n"
     ]
    },
    {
     "name": "stderr",
     "output_type": "stream",
     "text": [
      "INFO:fbprophet.forecaster:Disabling daily seasonality. Run prophet with daily_seasonality=True to override this.\n"
     ]
    },
    {
     "name": "stdout",
     "output_type": "stream",
     "text": [
      "2016-10-24, BUY CREATE, 26.89\n",
      "2016-10-25, BUY EXECUTED, Price: 28.94, Cost: 28.94, Comm 0.00\n",
      "2016-10-25, Close, 26.64\n",
      "2016-10-26, Close, 26.84\n",
      "2016-10-27, Close, 26.62\n",
      "2016-10-28, Close, 27.17\n",
      "2016-10-31, Close, 27.06\n"
     ]
    },
    {
     "name": "stderr",
     "output_type": "stream",
     "text": [
      "INFO:fbprophet.forecaster:Disabling daily seasonality. Run prophet with daily_seasonality=True to override this.\n"
     ]
    },
    {
     "name": "stdout",
     "output_type": "stream",
     "text": [
      "2016-10-31, BUY CREATE, 27.06\n",
      "2016-11-01, BUY EXECUTED, Price: 29.00, Cost: 29.00, Comm 0.00\n",
      "2016-11-01, Close, 26.85\n",
      "2016-11-02, Close, 26.49\n",
      "2016-11-03, Close, 26.29\n",
      "2016-11-04, Close, 26.44\n",
      "2016-11-07, Close, 27.25\n"
     ]
    },
    {
     "name": "stderr",
     "output_type": "stream",
     "text": [
      "INFO:fbprophet.forecaster:Disabling daily seasonality. Run prophet with daily_seasonality=True to override this.\n"
     ]
    },
    {
     "name": "stdout",
     "output_type": "stream",
     "text": [
      "2016-11-07, BUY CREATE, 27.25\n",
      "2016-11-08, BUY EXECUTED, Price: 29.37, Cost: 29.37, Comm 0.00\n",
      "2016-11-08, Close, 27.35\n",
      "2016-11-09, Close, 27.55\n",
      "2016-11-10, Close, 28.27\n",
      "2016-11-11, Close, 28.55\n",
      "2016-11-14, Close, 28.37\n"
     ]
    },
    {
     "name": "stderr",
     "output_type": "stream",
     "text": [
      "INFO:fbprophet.forecaster:Disabling daily seasonality. Run prophet with daily_seasonality=True to override this.\n"
     ]
    },
    {
     "name": "stdout",
     "output_type": "stream",
     "text": [
      "2016-11-14, SELL CREATE, 28.37\n",
      "2016-11-15, SELL EXECUTED, Price: 30.48, Cost: 26.69, Comm 0.00\n",
      "2016-11-15, Close, 28.59\n",
      "2016-11-16, Close, 28.58\n",
      "2016-11-17, Close, 28.63\n",
      "2016-11-18, Close, 28.52\n",
      "2016-11-21, Close, 28.70\n"
     ]
    },
    {
     "name": "stderr",
     "output_type": "stream",
     "text": [
      "INFO:fbprophet.forecaster:Disabling daily seasonality. Run prophet with daily_seasonality=True to override this.\n"
     ]
    },
    {
     "name": "stdout",
     "output_type": "stream",
     "text": [
      "2016-11-21, SELL CREATE, 28.70\n",
      "2016-11-22, SELL EXECUTED, Price: 30.93, Cost: 26.69, Comm 0.00\n",
      "2016-11-22, Close, 28.99\n",
      "2016-11-23, Close, 29.14\n",
      "2016-11-25, Close, 29.23\n",
      "2016-11-28, Close, 29.05\n",
      "2016-11-29, Close, 28.87\n"
     ]
    },
    {
     "name": "stderr",
     "output_type": "stream",
     "text": [
      "INFO:fbprophet.forecaster:Disabling daily seasonality. Run prophet with daily_seasonality=True to override this.\n"
     ]
    },
    {
     "name": "stdout",
     "output_type": "stream",
     "text": [
      "2016-11-29, SELL CREATE, 28.87\n",
      "2016-11-30, SELL EXECUTED, Price: 31.18, Cost: 26.69, Comm 0.00\n",
      "2016-11-30, Close, 28.60\n",
      "2016-12-01, Close, 29.18\n",
      "2016-12-02, Close, 29.14\n",
      "2016-12-05, Close, 28.92\n",
      "2016-12-06, Close, 28.98\n"
     ]
    },
    {
     "name": "stderr",
     "output_type": "stream",
     "text": [
      "INFO:fbprophet.forecaster:Disabling daily seasonality. Run prophet with daily_seasonality=True to override this.\n"
     ]
    },
    {
     "name": "stdout",
     "output_type": "stream",
     "text": [
      "2016-12-06, SELL CREATE, 28.98\n",
      "2016-12-07, SELL EXECUTED, Price: 31.01, Cost: 26.69, Comm 0.00\n",
      "2016-12-07, Close, 29.38\n",
      "2016-12-08, Close, 29.31\n",
      "2016-12-09, Close, 29.55\n",
      "2016-12-12, Close, 29.62\n",
      "2016-12-13, Close, 29.51\n"
     ]
    },
    {
     "name": "stderr",
     "output_type": "stream",
     "text": [
      "INFO:fbprophet.forecaster:Disabling daily seasonality. Run prophet with daily_seasonality=True to override this.\n"
     ]
    },
    {
     "name": "stdout",
     "output_type": "stream",
     "text": [
      "2016-12-13, SELL CREATE, 29.51\n",
      "2016-12-14, SELL EXECUTED, Price: 31.61, Cost: 26.69, Comm 0.00\n",
      "2016-12-14, Close, 29.29\n",
      "2016-12-15, Close, 29.06\n",
      "2016-12-16, Close, 29.52\n",
      "2016-12-19, Close, 29.68\n",
      "2016-12-20, Close, 29.98\n"
     ]
    },
    {
     "name": "stderr",
     "output_type": "stream",
     "text": [
      "INFO:fbprophet.forecaster:Disabling daily seasonality. Run prophet with daily_seasonality=True to override this.\n"
     ]
    },
    {
     "name": "stdout",
     "output_type": "stream",
     "text": [
      "2016-12-20, SELL CREATE, 29.98\n",
      "2016-12-21, SELL EXECUTED, Price: 32.20, Cost: 26.69, Comm 0.00\n",
      "2016-12-21, Close, 29.87\n",
      "2016-12-22, Close, 29.81\n",
      "2016-12-23, Close, 29.86\n",
      "2016-12-27, Close, 29.88\n",
      "2016-12-28, Close, 29.69\n"
     ]
    },
    {
     "name": "stderr",
     "output_type": "stream",
     "text": [
      "INFO:fbprophet.forecaster:Disabling daily seasonality. Run prophet with daily_seasonality=True to override this.\n"
     ]
    },
    {
     "name": "stdout",
     "output_type": "stream",
     "text": [
      "2016-12-28, SELL CREATE, 29.69\n",
      "2016-12-29, SELL EXECUTED, Price: 31.74, Cost: 26.69, Comm 0.00\n",
      "2016-12-29, Close, 29.70\n",
      "2016-12-30, Close, 29.60\n",
      "2017-01-03, Close, 29.69\n",
      "2017-01-04, Close, 29.69\n",
      "2017-01-05, Close, 29.53\n"
     ]
    },
    {
     "name": "stderr",
     "output_type": "stream",
     "text": [
      "INFO:fbprophet.forecaster:Disabling daily seasonality. Run prophet with daily_seasonality=True to override this.\n"
     ]
    },
    {
     "name": "stdout",
     "output_type": "stream",
     "text": [
      "2017-01-05, SELL CREATE, 29.53\n",
      "2017-01-06, SELL EXECUTED, Price: 31.58, Cost: 26.69, Comm 0.00\n",
      "2017-01-06, Close, 29.61\n",
      "2017-01-09, Close, 29.47\n",
      "2017-01-10, Close, 29.39\n",
      "2017-01-11, Close, 29.48\n",
      "2017-01-12, Close, 29.40\n"
     ]
    },
    {
     "name": "stderr",
     "output_type": "stream",
     "text": [
      "INFO:fbprophet.forecaster:Disabling daily seasonality. Run prophet with daily_seasonality=True to override this.\n"
     ]
    },
    {
     "name": "stdout",
     "output_type": "stream",
     "text": [
      "2017-01-12, SELL CREATE, 29.40\n",
      "2017-01-13, SELL EXECUTED, Price: 31.36, Cost: 26.69, Comm 0.00\n",
      "2017-01-13, Close, 29.38\n",
      "2017-01-17, Close, 29.29\n",
      "2017-01-18, Close, 29.25\n",
      "2017-01-19, Close, 29.24\n",
      "2017-01-20, Close, 28.60\n"
     ]
    },
    {
     "name": "stderr",
     "output_type": "stream",
     "text": [
      "INFO:fbprophet.forecaster:Disabling daily seasonality. Run prophet with daily_seasonality=True to override this.\n"
     ]
    },
    {
     "name": "stdout",
     "output_type": "stream",
     "text": [
      "2017-01-20, BUY CREATE, 28.60\n",
      "2017-01-23, BUY EXECUTED, Price: 30.50, Cost: 30.50, Comm 0.00\n",
      "2017-01-23, Close, 27.87\n",
      "2017-01-24, Close, 28.10\n",
      "2017-01-25, Close, 28.45\n",
      "2017-01-26, Close, 28.40\n",
      "2017-01-27, Close, 28.11\n"
     ]
    },
    {
     "name": "stderr",
     "output_type": "stream",
     "text": [
      "INFO:fbprophet.forecaster:Disabling daily seasonality. Run prophet with daily_seasonality=True to override this.\n"
     ]
    },
    {
     "name": "stdout",
     "output_type": "stream",
     "text": [
      "2017-01-27, BUY CREATE, 28.11\n",
      "2017-01-30, BUY EXECUTED, Price: 29.96, Cost: 29.96, Comm 0.00\n",
      "2017-01-30, Close, 28.06\n",
      "2017-01-31, Close, 27.82\n",
      "2017-02-01, Close, 27.81\n",
      "2017-02-02, Close, 27.80\n",
      "2017-02-03, Close, 27.82\n"
     ]
    },
    {
     "name": "stderr",
     "output_type": "stream",
     "text": [
      "INFO:fbprophet.forecaster:Disabling daily seasonality. Run prophet with daily_seasonality=True to override this.\n"
     ]
    },
    {
     "name": "stdout",
     "output_type": "stream",
     "text": [
      "2017-02-03, BUY CREATE, 27.82\n",
      "2017-02-06, BUY EXECUTED, Price: 29.68, Cost: 29.68, Comm 0.00\n",
      "2017-02-06, Close, 27.78\n",
      "2017-02-07, Close, 27.69\n",
      "2017-02-08, Close, 27.57\n",
      "2017-02-09, Close, 27.72\n",
      "2017-02-10, Close, 27.84\n"
     ]
    },
    {
     "name": "stderr",
     "output_type": "stream",
     "text": [
      "INFO:fbprophet.forecaster:Disabling daily seasonality. Run prophet with daily_seasonality=True to override this.\n"
     ]
    },
    {
     "name": "stdout",
     "output_type": "stream",
     "text": [
      "2017-02-10, BUY CREATE, 27.84\n",
      "2017-02-13, BUY EXECUTED, Price: 29.88, Cost: 29.88, Comm 0.00\n",
      "2017-02-13, Close, 28.14\n",
      "2017-02-14, Close, 28.36\n",
      "2017-02-15, Close, 28.43\n",
      "2017-02-16, Close, 28.52\n",
      "2017-02-17, Close, 28.45\n"
     ]
    },
    {
     "name": "stderr",
     "output_type": "stream",
     "text": [
      "INFO:fbprophet.forecaster:Disabling daily seasonality. Run prophet with daily_seasonality=True to override this.\n"
     ]
    },
    {
     "name": "stdout",
     "output_type": "stream",
     "text": [
      "2017-02-17, BUY CREATE, 28.45\n",
      "2017-02-21, BUY EXECUTED, Price: 30.41, Cost: 30.41, Comm 0.00\n",
      "2017-02-21, Close, 28.59\n",
      "2017-02-22, Close, 28.41\n",
      "2017-02-23, Close, 28.35\n",
      "2017-02-24, Close, 28.51\n",
      "2017-02-27, Close, 28.27\n"
     ]
    },
    {
     "name": "stderr",
     "output_type": "stream",
     "text": [
      "INFO:fbprophet.forecaster:Disabling daily seasonality. Run prophet with daily_seasonality=True to override this.\n"
     ]
    },
    {
     "name": "stdout",
     "output_type": "stream",
     "text": [
      "2017-02-27, BUY CREATE, 28.27\n",
      "2017-02-28, BUY EXECUTED, Price: 29.99, Cost: 29.99, Comm 0.00\n",
      "2017-02-28, Close, 28.15\n",
      "2017-03-01, Close, 28.51\n",
      "2017-03-02, Close, 28.51\n",
      "2017-03-03, Close, 28.44\n",
      "2017-03-06, Close, 28.33\n"
     ]
    },
    {
     "name": "stderr",
     "output_type": "stream",
     "text": [
      "INFO:fbprophet.forecaster:Disabling daily seasonality. Run prophet with daily_seasonality=True to override this.\n"
     ]
    },
    {
     "name": "stdout",
     "output_type": "stream",
     "text": [
      "2017-03-06, BUY CREATE, 28.33\n",
      "2017-03-07, BUY EXECUTED, Price: 29.93, Cost: 29.93, Comm 0.00\n",
      "2017-03-07, Close, 28.19\n",
      "2017-03-08, Close, 28.14\n",
      "2017-03-09, Close, 28.01\n",
      "2017-03-10, Close, 28.59\n",
      "2017-03-13, Close, 28.19\n"
     ]
    },
    {
     "name": "stderr",
     "output_type": "stream",
     "text": [
      "INFO:fbprophet.forecaster:Disabling daily seasonality. Run prophet with daily_seasonality=True to override this.\n"
     ]
    },
    {
     "name": "stdout",
     "output_type": "stream",
     "text": [
      "2017-03-13, BUY CREATE, 28.19\n",
      "2017-03-14, BUY EXECUTED, Price: 29.76, Cost: 29.76, Comm 0.00\n",
      "2017-03-14, Close, 27.89\n",
      "2017-03-15, Close, 28.10\n",
      "2017-03-16, Close, 28.09\n",
      "2017-03-17, Close, 28.21\n",
      "2017-03-20, Close, 28.08\n"
     ]
    },
    {
     "name": "stderr",
     "output_type": "stream",
     "text": [
      "INFO:fbprophet.forecaster:Disabling daily seasonality. Run prophet with daily_seasonality=True to override this.\n"
     ]
    },
    {
     "name": "stdout",
     "output_type": "stream",
     "text": [
      "2017-03-20, BUY CREATE, 28.08\n",
      "2017-03-21, BUY EXECUTED, Price: 29.86, Cost: 29.86, Comm 0.00\n",
      "2017-03-21, Close, 27.75\n",
      "2017-03-22, Close, 27.88\n",
      "2017-03-23, Close, 27.97\n",
      "2017-03-24, Close, 28.06\n",
      "2017-03-27, Close, 27.80\n"
     ]
    },
    {
     "name": "stderr",
     "output_type": "stream",
     "text": [
      "INFO:fbprophet.forecaster:Disabling daily seasonality. Run prophet with daily_seasonality=True to override this.\n"
     ]
    },
    {
     "name": "stdout",
     "output_type": "stream",
     "text": [
      "2017-03-27, BUY CREATE, 27.80\n",
      "2017-03-28, BUY EXECUTED, Price: 29.31, Cost: 29.31, Comm 0.00\n",
      "2017-03-28, Close, 27.97\n",
      "2017-03-29, Close, 28.02\n",
      "2017-03-30, Close, 28.20\n",
      "2017-03-31, Close, 28.14\n",
      "2017-04-03, Close, 28.21\n"
     ]
    },
    {
     "name": "stderr",
     "output_type": "stream",
     "text": [
      "INFO:fbprophet.forecaster:Disabling daily seasonality. Run prophet with daily_seasonality=True to override this.\n"
     ]
    },
    {
     "name": "stdout",
     "output_type": "stream",
     "text": [
      "2017-04-03, BUY CREATE, 28.21\n",
      "2017-04-04, BUY EXECUTED, Price: 29.90, Cost: 29.90, Comm 0.00\n",
      "2017-04-04, Close, 28.35\n",
      "2017-04-05, Close, 28.30\n",
      "2017-04-06, Close, 28.26\n",
      "2017-04-07, Close, 28.32\n",
      "2017-04-10, Close, 28.34\n"
     ]
    },
    {
     "name": "stderr",
     "output_type": "stream",
     "text": [
      "INFO:fbprophet.forecaster:Disabling daily seasonality. Run prophet with daily_seasonality=True to override this.\n"
     ]
    },
    {
     "name": "stdout",
     "output_type": "stream",
     "text": [
      "2017-04-10, BUY CREATE, 28.34\n",
      "2017-04-11, BUY EXECUTED, Price: 30.00, Cost: 30.00, Comm 0.00\n",
      "2017-04-11, Close, 28.36\n",
      "2017-04-12, Close, 28.11\n",
      "2017-04-13, Close, 27.91\n",
      "2017-04-17, Close, 27.99\n",
      "2017-04-18, Close, 28.18\n"
     ]
    },
    {
     "name": "stderr",
     "output_type": "stream",
     "text": [
      "INFO:fbprophet.forecaster:Disabling daily seasonality. Run prophet with daily_seasonality=True to override this.\n"
     ]
    },
    {
     "name": "stdout",
     "output_type": "stream",
     "text": [
      "2017-04-18, BUY CREATE, 28.18\n",
      "2017-04-19, BUY EXECUTED, Price: 29.89, Cost: 29.89, Comm 0.00\n",
      "2017-04-19, Close, 28.33\n",
      "2017-04-20, Close, 28.58\n",
      "2017-04-21, Close, 27.90\n",
      "2017-04-24, Close, 27.90\n",
      "2017-04-25, Close, 27.81\n"
     ]
    },
    {
     "name": "stderr",
     "output_type": "stream",
     "text": [
      "INFO:fbprophet.forecaster:Disabling daily seasonality. Run prophet with daily_seasonality=True to override this.\n"
     ]
    },
    {
     "name": "stdout",
     "output_type": "stream",
     "text": [
      "2017-04-25, BUY CREATE, 27.81\n",
      "2017-04-26, BUY EXECUTED, Price: 29.52, Cost: 29.52, Comm 0.00\n",
      "2017-04-26, Close, 27.63\n",
      "2017-04-27, Close, 27.46\n",
      "2017-04-28, Close, 27.37\n",
      "2017-05-01, Close, 27.33\n",
      "2017-05-02, Close, 27.37\n"
     ]
    },
    {
     "name": "stderr",
     "output_type": "stream",
     "text": [
      "INFO:fbprophet.forecaster:Disabling daily seasonality. Run prophet with daily_seasonality=True to override this.\n"
     ]
    },
    {
     "name": "stdout",
     "output_type": "stream",
     "text": [
      "2017-05-02, BUY CREATE, 27.37\n",
      "2017-05-03, BUY EXECUTED, Price: 28.92, Cost: 28.92, Comm 0.00\n",
      "2017-05-03, Close, 27.60\n",
      "2017-05-04, Close, 27.57\n",
      "2017-05-05, Close, 27.59\n",
      "2017-05-08, Close, 27.45\n",
      "2017-05-09, Close, 27.32\n"
     ]
    },
    {
     "name": "stderr",
     "output_type": "stream",
     "text": [
      "INFO:fbprophet.forecaster:Disabling daily seasonality. Run prophet with daily_seasonality=True to override this.\n"
     ]
    },
    {
     "name": "stdout",
     "output_type": "stream",
     "text": [
      "2017-05-09, BUY CREATE, 27.32\n",
      "2017-05-10, BUY EXECUTED, Price: 28.92, Cost: 28.92, Comm 0.00\n",
      "2017-05-10, Close, 27.10\n",
      "2017-05-11, Close, 27.26\n",
      "2017-05-12, Close, 26.69\n",
      "2017-05-15, Close, 26.61\n",
      "2017-05-16, Close, 26.48\n"
     ]
    },
    {
     "name": "stderr",
     "output_type": "stream",
     "text": [
      "INFO:fbprophet.forecaster:Disabling daily seasonality. Run prophet with daily_seasonality=True to override this.\n"
     ]
    },
    {
     "name": "stdout",
     "output_type": "stream",
     "text": [
      "2017-05-16, BUY CREATE, 26.48\n",
      "2017-05-17, BUY EXECUTED, Price: 27.82, Cost: 27.82, Comm 0.00\n",
      "2017-05-17, Close, 25.88\n",
      "2017-05-18, Close, 25.95\n",
      "2017-05-19, Close, 26.49\n",
      "2017-05-22, Close, 26.61\n",
      "2017-05-23, Close, 26.70\n"
     ]
    },
    {
     "name": "stderr",
     "output_type": "stream",
     "text": [
      "INFO:fbprophet.forecaster:Disabling daily seasonality. Run prophet with daily_seasonality=True to override this.\n"
     ]
    },
    {
     "name": "stdout",
     "output_type": "stream",
     "text": [
      "2017-05-23, BUY CREATE, 26.70\n",
      "2017-05-24, BUY EXECUTED, Price: 28.32, Cost: 28.32, Comm 0.00\n",
      "2017-05-24, Close, 26.28\n",
      "2017-05-25, Close, 25.96\n",
      "2017-05-26, Close, 25.92\n",
      "2017-05-30, Close, 25.83\n",
      "2017-05-31, Close, 25.85\n"
     ]
    },
    {
     "name": "stderr",
     "output_type": "stream",
     "text": [
      "INFO:fbprophet.forecaster:Disabling daily seasonality. Run prophet with daily_seasonality=True to override this.\n"
     ]
    },
    {
     "name": "stdout",
     "output_type": "stream",
     "text": [
      "2017-05-31, BUY CREATE, 25.85\n",
      "2017-06-01, BUY EXECUTED, Price: 27.51, Cost: 27.51, Comm 0.00\n",
      "2017-06-01, Close, 26.17\n",
      "2017-06-02, Close, 26.32\n",
      "2017-06-05, Close, 26.42\n",
      "2017-06-06, Close, 26.37\n",
      "2017-06-07, Close, 26.14\n"
     ]
    },
    {
     "name": "stderr",
     "output_type": "stream",
     "text": [
      "INFO:fbprophet.forecaster:Disabling daily seasonality. Run prophet with daily_seasonality=True to override this.\n"
     ]
    },
    {
     "name": "stdout",
     "output_type": "stream",
     "text": [
      "2017-06-07, BUY CREATE, 26.14\n",
      "2017-06-08, BUY EXECUTED, Price: 27.68, Cost: 27.68, Comm 0.00\n",
      "2017-06-08, Close, 26.05\n",
      "2017-06-09, Close, 26.38\n",
      "2017-06-12, Close, 27.33\n",
      "2017-06-13, Close, 26.86\n",
      "2017-06-14, Close, 27.09\n"
     ]
    },
    {
     "name": "stderr",
     "output_type": "stream",
     "text": [
      "INFO:fbprophet.forecaster:Disabling daily seasonality. Run prophet with daily_seasonality=True to override this.\n"
     ]
    },
    {
     "name": "stdout",
     "output_type": "stream",
     "text": [
      "2017-06-14, BUY CREATE, 27.09\n",
      "2017-06-15, BUY EXECUTED, Price: 28.48, Cost: 28.48, Comm 0.00\n",
      "2017-06-15, Close, 27.56\n",
      "2017-06-16, Close, 27.84\n",
      "2017-06-19, Close, 27.65\n",
      "2017-06-20, Close, 27.01\n",
      "2017-06-21, Close, 26.67\n"
     ]
    },
    {
     "name": "stderr",
     "output_type": "stream",
     "text": [
      "INFO:fbprophet.forecaster:Disabling daily seasonality. Run prophet with daily_seasonality=True to override this.\n"
     ]
    },
    {
     "name": "stdout",
     "output_type": "stream",
     "text": [
      "2017-06-21, BUY CREATE, 26.67\n",
      "2017-06-22, BUY EXECUTED, Price: 27.77, Cost: 27.77, Comm 0.00\n",
      "2017-06-22, Close, 26.45\n",
      "2017-06-23, Close, 26.47\n",
      "2017-06-26, Close, 26.51\n",
      "2017-06-27, Close, 26.13\n",
      "2017-06-28, Close, 26.00\n"
     ]
    },
    {
     "name": "stderr",
     "output_type": "stream",
     "text": [
      "INFO:fbprophet.forecaster:Disabling daily seasonality. Run prophet with daily_seasonality=True to override this.\n"
     ]
    },
    {
     "name": "stdout",
     "output_type": "stream",
     "text": [
      "2017-06-28, BUY CREATE, 26.00\n",
      "2017-06-29, BUY EXECUTED, Price: 27.16, Cost: 27.16, Comm 0.00\n",
      "2017-06-29, Close, 25.94\n",
      "2017-06-30, Close, 25.93\n",
      "2017-07-03, Close, 26.36\n",
      "2017-07-05, Close, 26.26\n",
      "2017-07-06, Close, 25.26\n"
     ]
    },
    {
     "name": "stderr",
     "output_type": "stream",
     "text": [
      "INFO:fbprophet.forecaster:Disabling daily seasonality. Run prophet with daily_seasonality=True to override this.\n"
     ]
    },
    {
     "name": "stdout",
     "output_type": "stream",
     "text": [
      "2017-07-06, BUY CREATE, 25.26\n",
      "2017-07-07, BUY EXECUTED, Price: 26.25, Cost: 26.25, Comm 0.00\n",
      "2017-07-07, Close, 25.11\n",
      "2017-07-10, Close, 25.00\n",
      "2017-07-11, Close, 25.33\n",
      "2017-07-12, Close, 25.52\n",
      "2017-07-13, Close, 25.72\n"
     ]
    },
    {
     "name": "stderr",
     "output_type": "stream",
     "text": [
      "INFO:fbprophet.forecaster:Disabling daily seasonality. Run prophet with daily_seasonality=True to override this.\n"
     ]
    },
    {
     "name": "stdout",
     "output_type": "stream",
     "text": [
      "2017-07-13, BUY CREATE, 25.72\n",
      "2017-07-14, BUY EXECUTED, Price: 26.74, Cost: 26.74, Comm 0.00\n",
      "2017-07-14, Close, 25.71\n",
      "2017-07-17, Close, 25.75\n",
      "2017-07-18, Close, 25.82\n",
      "2017-07-19, Close, 25.87\n",
      "2017-07-20, Close, 25.63\n"
     ]
    },
    {
     "name": "stderr",
     "output_type": "stream",
     "text": [
      "INFO:fbprophet.forecaster:Disabling daily seasonality. Run prophet with daily_seasonality=True to override this.\n"
     ]
    },
    {
     "name": "stdout",
     "output_type": "stream",
     "text": [
      "2017-07-20, BUY CREATE, 25.63\n",
      "2017-07-21, BUY EXECUTED, Price: 25.38, Cost: 25.38, Comm 0.00\n",
      "2017-07-21, Close, 24.88\n",
      "2017-07-24, Close, 24.42\n",
      "2017-07-25, Close, 24.43\n",
      "2017-07-26, Close, 24.57\n",
      "2017-07-27, Close, 24.76\n"
     ]
    },
    {
     "name": "stderr",
     "output_type": "stream",
     "text": [
      "INFO:fbprophet.forecaster:Disabling daily seasonality. Run prophet with daily_seasonality=True to override this.\n"
     ]
    },
    {
     "name": "stdout",
     "output_type": "stream",
     "text": [
      "2017-07-27, BUY CREATE, 24.76\n",
      "2017-07-28, BUY EXECUTED, Price: 25.86, Cost: 25.86, Comm 0.00\n",
      "2017-07-28, Close, 24.51\n",
      "2017-07-31, Close, 24.59\n",
      "2017-08-01, Close, 24.43\n",
      "2017-08-02, Close, 24.50\n",
      "2017-08-03, Close, 24.73\n"
     ]
    },
    {
     "name": "stderr",
     "output_type": "stream",
     "text": [
      "INFO:fbprophet.forecaster:Disabling daily seasonality. Run prophet with daily_seasonality=True to override this.\n"
     ]
    },
    {
     "name": "stdout",
     "output_type": "stream",
     "text": [
      "2017-08-03, BUY CREATE, 24.73\n",
      "2017-08-04, BUY EXECUTED, Price: 25.75, Cost: 25.75, Comm 0.00\n",
      "2017-08-04, Close, 24.75\n",
      "2017-08-07, Close, 24.61\n",
      "2017-08-08, Close, 24.54\n",
      "2017-08-09, Close, 24.69\n",
      "2017-08-10, Close, 24.29\n"
     ]
    },
    {
     "name": "stderr",
     "output_type": "stream",
     "text": [
      "INFO:fbprophet.forecaster:Disabling daily seasonality. Run prophet with daily_seasonality=True to override this.\n"
     ]
    },
    {
     "name": "stdout",
     "output_type": "stream",
     "text": [
      "2017-08-10, BUY CREATE, 24.29\n",
      "2017-08-11, BUY EXECUTED, Price: 25.40, Cost: 25.40, Comm 0.00\n",
      "2017-08-11, Close, 24.20\n",
      "2017-08-14, Close, 24.35\n",
      "2017-08-15, Close, 24.14\n",
      "2017-08-16, Close, 24.10\n",
      "2017-08-17, Close, 23.76\n"
     ]
    },
    {
     "name": "stderr",
     "output_type": "stream",
     "text": [
      "INFO:fbprophet.forecaster:Disabling daily seasonality. Run prophet with daily_seasonality=True to override this.\n"
     ]
    },
    {
     "name": "stdout",
     "output_type": "stream",
     "text": [
      "2017-08-17, BUY CREATE, 23.76\n",
      "2017-08-18, BUY EXECUTED, Price: 24.63, Cost: 24.63, Comm 0.00\n",
      "2017-08-18, Close, 23.57\n",
      "2017-08-21, Close, 23.51\n",
      "2017-08-22, Close, 23.62\n",
      "2017-08-23, Close, 23.42\n",
      "2017-08-24, Close, 23.33\n"
     ]
    },
    {
     "name": "stderr",
     "output_type": "stream",
     "text": [
      "INFO:fbprophet.forecaster:Disabling daily seasonality. Run prophet with daily_seasonality=True to override this.\n"
     ]
    },
    {
     "name": "stdout",
     "output_type": "stream",
     "text": [
      "2017-08-24, BUY CREATE, 23.33\n",
      "2017-08-25, BUY EXECUTED, Price: 24.39, Cost: 24.39, Comm 0.00\n",
      "2017-08-25, Close, 23.51\n",
      "2017-08-28, Close, 23.49\n",
      "2017-08-29, Close, 23.47\n",
      "2017-08-30, Close, 23.31\n",
      "2017-08-31, Close, 23.57\n"
     ]
    },
    {
     "name": "stderr",
     "output_type": "stream",
     "text": [
      "INFO:fbprophet.forecaster:Disabling daily seasonality. Run prophet with daily_seasonality=True to override this.\n"
     ]
    },
    {
     "name": "stdout",
     "output_type": "stream",
     "text": [
      "2017-08-31, BUY CREATE, 23.57\n",
      "2017-09-01, BUY EXECUTED, Price: 24.60, Cost: 24.60, Comm 0.00\n",
      "2017-09-01, Close, 24.14\n",
      "2017-09-05, Close, 23.76\n",
      "2017-09-06, Close, 23.93\n",
      "2017-09-07, Close, 23.06\n",
      "2017-09-08, Close, 22.87\n"
     ]
    },
    {
     "name": "stderr",
     "output_type": "stream",
     "text": [
      "INFO:fbprophet.forecaster:Disabling daily seasonality. Run prophet with daily_seasonality=True to override this.\n"
     ]
    },
    {
     "name": "stdout",
     "output_type": "stream",
     "text": [
      "2017-09-08, BUY CREATE, 22.87\n",
      "2017-09-11, BUY EXECUTED, Price: 23.80, Cost: 23.80, Comm 0.00\n",
      "2017-09-11, Close, 22.77\n",
      "2017-09-12, Close, 22.96\n",
      "2017-09-13, Close, 23.15\n",
      "2017-09-14, Close, 23.29\n",
      "2017-09-15, Close, 23.21\n"
     ]
    },
    {
     "name": "stderr",
     "output_type": "stream",
     "text": [
      "INFO:fbprophet.forecaster:Disabling daily seasonality. Run prophet with daily_seasonality=True to override this.\n"
     ]
    },
    {
     "name": "stdout",
     "output_type": "stream",
     "text": [
      "2017-09-15, BUY CREATE, 23.21\n",
      "2017-09-18, BUY EXECUTED, Price: 23.96, Cost: 23.96, Comm 0.00\n",
      "2017-09-18, Close, 23.72\n",
      "2017-09-19, Close, 23.47\n",
      "2017-09-20, Close, 23.58\n",
      "2017-09-21, Close, 24.00\n",
      "2017-09-22, Close, 24.12\n"
     ]
    },
    {
     "name": "stderr",
     "output_type": "stream",
     "text": [
      "INFO:fbprophet.forecaster:Disabling daily seasonality. Run prophet with daily_seasonality=True to override this.\n"
     ]
    },
    {
     "name": "stdout",
     "output_type": "stream",
     "text": [
      "2017-09-22, BUY CREATE, 24.12\n",
      "2017-09-25, BUY EXECUTED, Price: 24.92, Cost: 24.92, Comm 0.00\n",
      "2017-09-25, Close, 24.35\n",
      "2017-09-26, Close, 24.18\n",
      "2017-09-27, Close, 23.63\n",
      "2017-09-28, Close, 23.51\n",
      "2017-09-29, Close, 23.45\n"
     ]
    },
    {
     "name": "stderr",
     "output_type": "stream",
     "text": [
      "INFO:fbprophet.forecaster:Disabling daily seasonality. Run prophet with daily_seasonality=True to override this.\n"
     ]
    },
    {
     "name": "stdout",
     "output_type": "stream",
     "text": [
      "2017-09-29, BUY CREATE, 23.45\n",
      "2017-10-02, BUY EXECUTED, Price: 24.22, Cost: 24.22, Comm 0.00\n",
      "2017-10-02, Close, 23.83\n",
      "2017-10-03, Close, 24.05\n",
      "2017-10-04, Close, 23.74\n",
      "2017-10-05, Close, 23.80\n",
      "2017-10-06, Close, 23.65\n"
     ]
    },
    {
     "name": "stderr",
     "output_type": "stream",
     "text": [
      "INFO:fbprophet.forecaster:Disabling daily seasonality. Run prophet with daily_seasonality=True to override this.\n"
     ]
    },
    {
     "name": "stdout",
     "output_type": "stream",
     "text": [
      "2017-10-06, BUY CREATE, 23.65\n",
      "2017-10-09, BUY EXECUTED, Price: 24.10, Cost: 24.10, Comm 0.00\n",
      "2017-10-09, Close, 22.72\n",
      "2017-10-10, Close, 22.65\n",
      "2017-10-11, Close, 22.37\n",
      "2017-10-12, Close, 22.35\n",
      "2017-10-13, Close, 22.28\n"
     ]
    },
    {
     "name": "stderr",
     "output_type": "stream",
     "text": [
      "INFO:fbprophet.forecaster:Disabling daily seasonality. Run prophet with daily_seasonality=True to override this.\n"
     ]
    },
    {
     "name": "stdout",
     "output_type": "stream",
     "text": [
      "2017-10-13, BUY CREATE, 22.28\n",
      "2017-10-16, BUY EXECUTED, Price: 22.99, Cost: 22.99, Comm 0.00\n",
      "2017-10-16, Close, 22.65\n",
      "2017-10-17, Close, 22.49\n",
      "2017-10-18, Close, 22.42\n",
      "2017-10-19, Close, 22.87\n",
      "2017-10-20, Close, 23.11\n"
     ]
    },
    {
     "name": "stderr",
     "output_type": "stream",
     "text": [
      "INFO:fbprophet.forecaster:Disabling daily seasonality. Run prophet with daily_seasonality=True to override this.\n"
     ]
    },
    {
     "name": "stdout",
     "output_type": "stream",
     "text": [
      "2017-10-20, BUY CREATE, 23.11\n",
      "2017-10-23, BUY EXECUTED, Price: 23.44, Cost: 23.44, Comm 0.00\n",
      "2017-10-23, Close, 21.64\n",
      "2017-10-24, Close, 21.23\n",
      "2017-10-25, Close, 20.85\n",
      "2017-10-26, Close, 20.67\n",
      "2017-10-27, Close, 20.16\n"
     ]
    },
    {
     "name": "stderr",
     "output_type": "stream",
     "text": [
      "INFO:fbprophet.forecaster:Disabling daily seasonality. Run prophet with daily_seasonality=True to override this.\n"
     ]
    },
    {
     "name": "stdout",
     "output_type": "stream",
     "text": [
      "2017-10-27, BUY CREATE, 20.16\n",
      "2017-10-30, BUY EXECUTED, Price: 20.62, Cost: 20.62, Comm 0.00\n",
      "2017-10-30, Close, 19.79\n",
      "2017-10-31, Close, 19.55\n",
      "2017-11-01, Close, 19.41\n",
      "2017-11-02, Close, 19.34\n",
      "2017-11-03, Close, 19.53\n"
     ]
    },
    {
     "name": "stderr",
     "output_type": "stream",
     "text": [
      "INFO:fbprophet.forecaster:Disabling daily seasonality. Run prophet with daily_seasonality=True to override this.\n"
     ]
    },
    {
     "name": "stdout",
     "output_type": "stream",
     "text": [
      "2017-11-03, BUY CREATE, 19.53\n",
      "2017-11-06, BUY EXECUTED, Price: 20.52, Cost: 20.52, Comm 0.00\n",
      "2017-11-06, Close, 19.52\n",
      "2017-11-07, Close, 19.60\n",
      "2017-11-08, Close, 19.51\n",
      "2017-11-09, Close, 19.38\n",
      "2017-11-10, Close, 19.87\n"
     ]
    },
    {
     "name": "stderr",
     "output_type": "stream",
     "text": [
      "INFO:fbprophet.forecaster:Disabling daily seasonality. Run prophet with daily_seasonality=True to override this.\n"
     ]
    },
    {
     "name": "stdout",
     "output_type": "stream",
     "text": [
      "2017-11-10, BUY CREATE, 19.87\n",
      "2017-11-13, BUY EXECUTED, Price: 20.26, Cost: 20.26, Comm 0.00\n",
      "2017-11-13, Close, 18.44\n",
      "2017-11-14, Close, 17.36\n",
      "2017-11-15, Close, 17.71\n",
      "2017-11-16, Close, 17.70\n",
      "2017-11-17, Close, 17.66\n"
     ]
    },
    {
     "name": "stderr",
     "output_type": "stream",
     "text": [
      "INFO:fbprophet.forecaster:Disabling daily seasonality. Run prophet with daily_seasonality=True to override this.\n"
     ]
    },
    {
     "name": "stdout",
     "output_type": "stream",
     "text": [
      "2017-11-17, BUY CREATE, 17.66\n",
      "2017-11-20, BUY EXECUTED, Price: 17.95, Cost: 17.95, Comm 0.00\n",
      "2017-11-20, Close, 17.44\n",
      "2017-11-21, Close, 17.29\n",
      "2017-11-22, Close, 17.60\n",
      "2017-11-24, Close, 17.64\n",
      "2017-11-27, Close, 17.57\n"
     ]
    },
    {
     "name": "stderr",
     "output_type": "stream",
     "text": [
      "INFO:fbprophet.forecaster:Disabling daily seasonality. Run prophet with daily_seasonality=True to override this.\n"
     ]
    },
    {
     "name": "stdout",
     "output_type": "stream",
     "text": [
      "2017-11-27, BUY CREATE, 17.57\n",
      "2017-11-28, BUY EXECUTED, Price: 18.17, Cost: 18.17, Comm 0.00\n",
      "2017-11-28, Close, 17.85\n",
      "2017-11-29, Close, 17.92\n",
      "2017-11-30, Close, 17.74\n",
      "2017-12-01, Close, 17.34\n",
      "2017-12-04, Close, 17.41\n"
     ]
    },
    {
     "name": "stderr",
     "output_type": "stream",
     "text": [
      "INFO:fbprophet.forecaster:Disabling daily seasonality. Run prophet with daily_seasonality=True to override this.\n"
     ]
    },
    {
     "name": "stdout",
     "output_type": "stream",
     "text": [
      "2017-12-04, BUY CREATE, 17.41\n",
      "2017-12-05, BUY EXECUTED, Price: 17.78, Cost: 17.78, Comm 0.00\n",
      "2017-12-05, Close, 17.22\n",
      "2017-12-06, Close, 17.24\n",
      "2017-12-07, Close, 17.29\n",
      "2017-12-08, Close, 17.29\n",
      "2017-12-11, Close, 17.23\n"
     ]
    },
    {
     "name": "stderr",
     "output_type": "stream",
     "text": [
      "INFO:fbprophet.forecaster:Disabling daily seasonality. Run prophet with daily_seasonality=True to override this.\n"
     ]
    },
    {
     "name": "stdout",
     "output_type": "stream",
     "text": [
      "2017-12-11, BUY CREATE, 17.23\n",
      "2017-12-12, BUY EXECUTED, Price: 17.95, Cost: 17.95, Comm 0.00\n",
      "2017-12-12, Close, 17.49\n",
      "2017-12-13, Close, 17.34\n",
      "2017-12-14, Close, 17.22\n",
      "2017-12-15, Close, 17.40\n",
      "2017-12-18, Close, 17.34\n"
     ]
    },
    {
     "name": "stderr",
     "output_type": "stream",
     "text": [
      "INFO:fbprophet.forecaster:Disabling daily seasonality. Run prophet with daily_seasonality=True to override this.\n"
     ]
    },
    {
     "name": "stdout",
     "output_type": "stream",
     "text": [
      "2017-12-18, BUY CREATE, 17.34\n",
      "2017-12-19, BUY EXECUTED, Price: 17.77, Cost: 17.77, Comm 0.00\n",
      "2017-12-19, Close, 17.17\n",
      "2017-12-20, Close, 17.04\n",
      "2017-12-21, Close, 17.06\n",
      "2017-12-22, Close, 17.09\n",
      "2017-12-26, Close, 17.13\n",
      "2017-12-26, BUY CREATE, 17.13\n",
      "2017-12-27, BUY EXECUTED, Price: 17.46, Cost: 17.46, Comm 0.00\n",
      "2017-12-27, Close, 17.09\n",
      "2017-12-28, Close, 17.07\n",
      "2017-12-29, Close, 17.15\n",
      "Final Portfolio Value: 8578.94\n"
     ]
    }
   ],
   "source": [
    "# Create a cerebro entity\n",
    "cerebro = bt.Cerebro()\n",
    "\n",
    "# Add a strategy\n",
    "cerebro.addstrategy(TestStrategy)\n",
    "\n",
    "# Create a Data Feed\n",
    "data = bt.feeds.YahooFinanceData(\n",
    "    dataname='GE',\n",
    "    fromdate=dt.datetime(2000, 1, 1),\n",
    "    todate=dt.datetime(2017, 12, 31),\n",
    "    reverse=False)\n",
    "\n",
    "cerebro.adddata(data)\n",
    "\n",
    "# Set our desired cash start\n",
    "cerebro.broker.setcash(10000.0)# Add the Data Feed to Cerebro\n",
    "\n",
    "# Add a FixedSize sizer according to the stake\n",
    "cerebro.addsizer(bt.sizers.FixedSize, stake=1)\n",
    "\n",
    "# Set the commission\n",
    "cerebro.broker.setcommission(commission=0.0)\n",
    "\n",
    "# Print out the starting conditions\n",
    "print('Starting Portfolio Value: %.2f' % cerebro.broker.getvalue())\n",
    "\n",
    "# Run over everything\n",
    "cerebro.run()\n",
    "\n",
    "# Print out the final result\n",
    "print('Final Portfolio Value: %.2f' % cerebro.broker.getvalue())"
   ]
  },
  {
   "cell_type": "code",
   "execution_count": null,
   "metadata": {},
   "outputs": [],
   "source": []
  }
 ],
 "metadata": {
  "kernelspec": {
   "display_name": "Python 3",
   "language": "python",
   "name": "python3"
  },
  "language_info": {
   "codemirror_mode": {
    "name": "ipython",
    "version": 3
   },
   "file_extension": ".py",
   "mimetype": "text/x-python",
   "name": "python",
   "nbconvert_exporter": "python",
   "pygments_lexer": "ipython3",
   "version": "3.6.5"
  }
 },
 "nbformat": 4,
 "nbformat_minor": 2
}
