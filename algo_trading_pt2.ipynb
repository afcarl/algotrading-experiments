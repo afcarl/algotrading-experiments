{
 "cells": [
  {
   "cell_type": "code",
   "execution_count": 1,
   "metadata": {},
   "outputs": [],
   "source": [
    "companies = ['GE', 'F', 'AMD', 'FIT', 'GPRO', 'SNAP', 'CRON', 'CHK', 'SIRI', 'XXII', 'ZNGA', 'S', 'GRPN', 'RAD',\n",
    "             'PLUG', 'HMNY', 'NVAX', 'INSY', 'UAA', 'APRN', 'GLUU', 'TRXC', 'AUY', 'BOTZ', 'GERN', 'BILI', 'JCP',\n",
    "            'CARA', 'VSLR', 'P', 'TEVA', 'RUN', 'UA', 'NOK', 'SPWR', 'CY']"
   ]
  },
  {
   "cell_type": "code",
   "execution_count": null,
   "metadata": {},
   "outputs": [],
   "source": [
    "actions = []\n",
    "for ticker in companies:\n",
    "    current = data.DataReader(ticker, 'iex', dt.datetime.now() - dt.timedelta(days=3), dt.datetime.now())\n",
    "    \n",
    "    try:\n",
    "        last_close = current['close'].values[0]\n",
    "    except:\n",
    "        continue\n",
    "        \n",
    "    # make predictions\n",
    "    try:\n",
    "        max_move, expected_move, min_move = make_predictions(ticker, 30, False)\n",
    "    except ValueError as e:\n",
    "        continue\n",
    "\n",
    "    # calculate partition for gain and loss\n",
    "    spread = abs(max_move - min_move)\n",
    "    if max_move < 0:\n",
    "        gain_partition = 0\n",
    "        loss_partition = 1\n",
    "    elif min_move > 0:\n",
    "        gain_partition = 1\n",
    "        loss_partition = 0\n",
    "    else:\n",
    "        gain_partition = max_move / spread\n",
    "        loss_partition = abs(min_move) / spread\n",
    "        \n",
    "    # view pie chart comparing gain and loss\n",
    "#     fig2, ax2 = plt.subplots()\n",
    "#     ax2.pie([gain_partition, loss_partition], labels=['gain', 'loss'])\n",
    "#     ax2.set_title(ticker + \" Gain vs Loss\")\n",
    "    \n",
    "    # determine potential trades\n",
    "    if expected_move > 5 and gain_partition > 67:\n",
    "        actions.append({ \"ticker\": ticker, \"action\": \"STRONG CALL\" })\n",
    "        \n",
    "    elif expected_move > 0 and gain_partition > 50:\n",
    "        actions.append({ \"ticker\": ticker, \"action\": \"WEAK CALL\" })\n",
    "        \n",
    "    elif expected_move < 0 and loss_partition > 50:\n",
    "        actions.append({ \"ticker\": ticker, \"action\": \"WEAK PUT\" })\n",
    "    \n",
    "    elif expected_move < -5 and loss_partition > 67:\n",
    "        actions.append({ \"ticker\": ticker, \"action\": \"STRONG PUT\" })\n",
    "    \n",
    "pd.DataFrame(actions).to_csv(\"trades.csv\", index=False)"
   ]
  }
 ],
 "metadata": {
  "kernelspec": {
   "display_name": "Python 3",
   "language": "python",
   "name": "python3"
  },
  "language_info": {
   "codemirror_mode": {
    "name": "ipython",
    "version": 3
   },
   "file_extension": ".py",
   "mimetype": "text/x-python",
   "name": "python",
   "nbconvert_exporter": "python",
   "pygments_lexer": "ipython3",
   "version": "3.6.5"
  }
 },
 "nbformat": 4,
 "nbformat_minor": 2
}
